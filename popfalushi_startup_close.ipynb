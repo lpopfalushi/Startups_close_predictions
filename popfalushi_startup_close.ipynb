{
 "cells": [
  {
   "cell_type": "markdown",
   "metadata": {
    "id": "H6cQIZr3ElW1"
   },
   "source": [
    "____    \n",
    "@laraball07 telegram\n",
    "\n",
    "lpopfalushi@yandex.ru\n",
    "\n",
    "+79859667491 Лариса Попфалуши \n",
    "\n",
    "# Startups operations/close predictions\n",
    "_____\n",
    "## Описание исследования\n",
    "\n",
    "Разработать модель для предсказания успешности стартапа (закроется или нет)\n",
    "_____\n",
    "## Цель исследования\n",
    "    \n",
    "Разработать решение, которое позволит проанализировать данные по стратапам за 1970-2018 гг, спрогнозировать закрытие и причины, для разработки рекомендаций по критериям, влияющим на успешность стартапов. \n",
    "    \n",
    "_____\n",
    "## Задачи исследования\n",
    "Построить модель, которая сможет предсказать закроется стартап или нет  на основе данных заказчика.\n",
    "_____\n",
    "### Исходные данные.\n",
    "    \n",
    "Датасет состоит из двух файлов: тренировочный набор (около 53к записей) и тестовый набор (около 13к записей). Тренировочный набор содержит целевой признак status, указывающий на то, закрылся стартап или продолжает действовать. Временной период - '1970-01-01' по '2018-01-01'. Дата формирования выгрузки - '2018-01-01'\n",
    "\n",
    "kaggle_startups_train_01.csv - информация (53 000) стартапах, которые будут использоваться в качестве обучающих данных.\n",
    "kaggle_startups_test_01.csv - информация (13 000) стартапах, которые будут использоваться в качестве тестовых данных. Ваша задача - предсказать значение 'status' для каждого стартапа из этого датасета.\n",
    "kaggle_startups_sample_submit_01.csv - файл с примером предсказаний в правильном формате.\n",
    "name - идентификатор (название) стартапа в тестовом наборе.\n",
    "status - целевой признак. Для каждого стартапа предскажите категориальное значение соответствующее прогнозу ['operating', 'closed'].\n",
    "Описание полей данных\n",
    "name - Название стартапа\n",
    "category_list - Список категорий, к которым относится стартап\n",
    "funding_total_usd - Общая сумма финансирования в USD\n",
    "status - Статус стартапа (закрыт или действующий)\n",
    "country_code - Код страны\n",
    "state_code - Код штата\n",
    "region - Регион\n",
    "city - Город\n",
    "funding_rounds - Количество раундов финансирования\n",
    "founded_at - Дата основания\n",
    "first_funding_at - Дата первого раунда финансирования\n",
    "last_funding_at - Дата последнего раунда финансирования\n",
    "closed_at - Дата закрытия стартапа (если применимо)\n",
    "lifetime - Время существования стартапа в днях\n",
    "\n",
    "______\n",
    "\n",
    "## Предсказание закроется стартап или нет\n",
    "\n",
    "### Шаг 1. Загрузка данных: (#1_1-bullet)\n",
    "* [1. Загрузим данные.]\n",
    "* [2. Проверим, что данные в таблицах соответствуют описанию.](#1_2-bullet)\n",
    "* [3. Вывод.](#1_3-bullet)\n",
    "\n",
    "### Шаг 2. Предобработка данных: (#2_1-bullet)\n",
    "* [1. Предообработка выборки train.]\n",
    "* [2. Предообработка выборки test.](#2_2-bullet)\n",
    "* [3. Вывод.](#2_3-bullet)\n",
    "\n",
    "### Шаг 3. Исследовательский анализ данных (#3_1-bullet)\n",
    "* [1. Проведение статистического анализа всех признаков и таблиц.]\n",
    "* [2. Вывод.](#3_2-bullet)\n",
    "\n",
    "### Шаг 4. Подготовка данных (#4_1-bullet)\n",
    "* [1. Пайплайн с шагом предобработки данных.]\n",
    "\n",
    "### Шаг 5. Обучение моделей (#5_1-bullet)\n",
    "* [1. Поиск гиперпараметров моделей с помощью GridSearchCV]\n",
    "* [2. Pipelines+Optuna+GBDT.](#5_2-bullet)\n",
    "* [3. Вывод.](#5_3-bullet)\n",
    "\n",
    "### Шаг 6. Оформление выводов\n",
    "* [1. Выводы о том, какая модель справилась лучше и почему.](#6_1-bullet)\n",
    "\n",
    "## Составление портета успешного стартапа\n",
    "### Анализ признаков:\n",
    "* [1. Загрузим данные.](#1_1-bullet)\n",
    "* [2. Проверим, что данные в таблицах соответствуют описанию.](#1_2-bullet)\n",
    "* [3. Вывод.](#1_3-bullet)\n",
    "\n",
    "### Шаг 7. Выводы\n",
    "* [1. Промежуточный выводы о том, какая модель справилась лучше и почему.](#7_1-bullet)\n",
    "\n",
    "### Шаг 9. Общий вывод\n",
    "* [1. опишем задачу; опишем исходные данные и проведённую предобработку; напишем, что сделали для поиска лучшей модели; укажем лучшую модель; добавим выводы и дополнительные предложения для бизнеса.](#9_1-bullet)"
   ]
  },
  {
   "cell_type": "markdown",
   "metadata": {},
   "source": [
    "## Исследование"
   ]
  },
  {
   "cell_type": "markdown",
   "metadata": {},
   "source": [
    "## Предсказание закрытия стартапа"
   ]
  },
  {
   "cell_type": "markdown",
   "metadata": {},
   "source": [
    "### Шаг 1. Загрузка данных:<a id='#1_1-bullet'></a>"
   ]
  },
  {
   "cell_type": "code",
   "execution_count": 25,
   "metadata": {
    "scrolled": true
   },
   "outputs": [
    {
     "name": "stdout",
     "output_type": "stream",
     "text": [
      "sklearn 1.4.1.post1\n",
      "mpl 3.6.0\n",
      "sns 0.13.2\n",
      "shap 0.45.0\n",
      "phik 0.12.4\n",
      "optuna 3.6.1\n"
     ]
    }
   ],
   "source": [
    "# Датасеты\n",
    "import pandas as pd\n",
    "from scipy import stats\n",
    "\n",
    "from scipy import stats as st\n",
    "#from scipy.stats import ttest_ind\n",
    "\n",
    "from collections import Counter\n",
    "\n",
    "\n",
    "# для создания двойного пути к базе данных\n",
    "import os\n",
    "\n",
    "# Математика\n",
    "import numpy as np\n",
    "# from math import sqrt\n",
    "# import datetime as dt\n",
    "# import math as mth\n",
    "\n",
    "# Графики\n",
    "import matplotlib as mpl\n",
    "import matplotlib.pyplot as plt\n",
    "import seaborn as sns\n",
    "\n",
    "#pd.set_option('display.max_columns', 100)\n",
    "# оставим всего три знака после запятой у чисел с плавающей точкой\n",
    "pd.set_option('display.float_format', '{:.3f}'.format)\n",
    "import warnings; warnings.filterwarnings(action='once')\n",
    "large = 22; med = 16; small = 12\n",
    "params = {'axes.titlesize': large,\n",
    "          'legend.fontsize': med,\n",
    "          'figure.figsize': (16, 16),\n",
    "          'axes.labelsize': med,\n",
    "          'axes.titlesize': med,\n",
    "          'xtick.labelsize': med,\n",
    "          'ytick.labelsize': med,\n",
    "          'figure.titlesize': large}\n",
    "plt.rcParams.update(params)\n",
    "sns.set_style('darkgrid')\n",
    "sns.set_palette('Accent') \n",
    "sns.set_context('notebook', rc={'legend.fontsize': 10.0})\n",
    "%matplotlib inline\n",
    "%config InlineBackend.figure_format = 'svg'\n",
    "\n",
    "# библиотеки для работы с дашбордами\n",
    "# import sys\n",
    "\n",
    "# доустанавливаем необходимые библиотеки\n",
    "# !pip install scikit-learn==1.1.3 -q\n",
    "# !pip install shap -q\n",
    "# !pip install phik -q\n",
    "# !pip install matplotlib==3.6.0\n",
    "# !pip install seaborn -q\n",
    "# !pip install pandas_profiling  -q\n",
    "# !pip install optuna -q\n",
    "# !pip install optuna-integration -q\n",
    "\n",
    "#Библиотека sklearn\n",
    "\n",
    "import sklearn \n",
    "\n",
    "\n",
    "\n",
    "from sklearn.model_selection import (\n",
    "    # train_test_split,\n",
    "    # RandomizedSearchCV,\n",
    "    GridSearchCV,\n",
    "    cross_val_score\n",
    ")\n",
    "\n",
    "from sklearn.metrics import (\n",
    "    f1_score,\n",
    "    #roc_auc_score,\n",
    "    #make_scorer\n",
    ")\n",
    "\n",
    "from sklearn.pipeline import Pipeline\n",
    "from sklearn.preprocessing import (\n",
    "    OneHotEncoder,\n",
    "    OrdinalEncoder,\n",
    "    StandardScaler, \n",
    "    MinMaxScaler,\n",
    "    LabelEncoder,\n",
    "    PolynomialFeatures\n",
    ")\n",
    "from sklearn.compose import ColumnTransformer\n",
    "from sklearn.neighbors import KNeighborsClassifier\n",
    "from sklearn.tree import DecisionTreeClassifier\n",
    "from sklearn.impute import SimpleImputer\n",
    "from sklearn.dummy import DummyRegressor\n",
    "from sklearn.tree import plot_tree\n",
    "from sklearn.feature_selection import SelectKBest\n",
    "from sklearn.feature_selection import mutual_info_classif\n",
    "\n",
    "import shap\n",
    "\n",
    "import phik\n",
    "from phik import resources, report\n",
    "from phik.report import plot_correlation_matrix\n",
    "\n",
    "from catboost import CatBoostClassifier, Pool\n",
    "\n",
    "import optuna\n",
    "from optuna import distributions\n",
    "from optuna.integration import OptunaSearchCV\n",
    "from optuna import visualization \n",
    "\n",
    "from catboost import CatBoostClassifier, Pool\n",
    "from xgboost import XGBClassifier\n",
    "\n",
    "# импорт класса дамми-модели \n",
    "from sklearn.dummy import DummyClassifier\n",
    "from sklearn.ensemble import RandomForestClassifier\n",
    "\n",
    "warnings.filterwarnings('ignore')\n",
    "\n",
    "# Version\n",
    "print('sklearn', sklearn.__version__)  #> 0.9.0\n",
    "print('mpl', mpl.__version__)  #> 3.6.0\n",
    "print('sns', sns.__version__)  #> 0.9.0\n",
    "print('shap', shap.__version__)  #> 0.9.0\n",
    "print('phik', phik.__version__)  #> 3.6.0\n",
    "print('optuna', optuna.__version__) "
   ]
  },
  {
   "cell_type": "code",
   "execution_count": 26,
   "metadata": {},
   "outputs": [],
   "source": [
    "# Задаем параметры для разделения данных\n",
    "RANDOM_STATE = 100\n",
    "TEST_SIZE = 0.20"
   ]
  },
  {
   "cell_type": "code",
   "execution_count": 27,
   "metadata": {},
   "outputs": [],
   "source": [
    "pth1 = './datasets/kaggle_startups_train_27042024.csv'\n",
    "pth1_1 = '/datasets/kaggle_startups_train_27042024.csv'\n",
    "pth2 = './datasets/kaggle_startups_test_27042024.csv'\n",
    "pth2_1 = '/datasets/kaggle_startups_test_27042024.csv'\n",
    "\n",
    "def loadFile(path1, path2):\n",
    "    if os.path.exists(path1):\n",
    "        return pd.read_csv(path1)\n",
    "    elif os.path.exists(path2):\n",
    "        return pd.read_csv(path2)\n",
    "    else:\n",
    "        print(\"No file exists:\" ,path1, path2)\n",
    "\n",
    "startup_train = loadFile(pth1, pth1_1)\n",
    "startup_test = loadFile(pth2, pth2_1)"
   ]
  },
  {
   "cell_type": "markdown",
   "metadata": {},
   "source": [
    "Проверка данных:<a id='#1_2-bullet'></a>"
   ]
  },
  {
   "cell_type": "code",
   "execution_count": 28,
   "metadata": {
    "scrolled": true
   },
   "outputs": [
    {
     "name": "stdout",
     "output_type": "stream",
     "text": [
      "<class 'pandas.core.frame.DataFrame'>\n",
      "RangeIndex: 52514 entries, 0 to 52513\n",
      "Data columns (total 13 columns):\n",
      " #   Column             Non-Null Count  Dtype  \n",
      "---  ------             --------------  -----  \n",
      " 0   name               52513 non-null  object \n",
      " 1   category_list      50049 non-null  object \n",
      " 2   funding_total_usd  42445 non-null  float64\n",
      " 3   status             52514 non-null  object \n",
      " 4   country_code       47013 non-null  object \n",
      " 5   state_code         45752 non-null  object \n",
      " 6   region             46156 non-null  object \n",
      " 7   city               46156 non-null  object \n",
      " 8   funding_rounds     52514 non-null  int64  \n",
      " 9   founded_at         52514 non-null  object \n",
      " 10  first_funding_at   52514 non-null  object \n",
      " 11  last_funding_at    52514 non-null  object \n",
      " 12  closed_at          4915 non-null   object \n",
      "dtypes: float64(1), int64(1), object(11)\n",
      "memory usage: 5.2+ MB\n"
     ]
    },
    {
     "data": {
      "text/html": [
       "<div>\n",
       "<style scoped>\n",
       "    .dataframe tbody tr th:only-of-type {\n",
       "        vertical-align: middle;\n",
       "    }\n",
       "\n",
       "    .dataframe tbody tr th {\n",
       "        vertical-align: top;\n",
       "    }\n",
       "\n",
       "    .dataframe thead th {\n",
       "        text-align: right;\n",
       "    }\n",
       "</style>\n",
       "<table border=\"1\" class=\"dataframe\">\n",
       "  <thead>\n",
       "    <tr style=\"text-align: right;\">\n",
       "      <th></th>\n",
       "      <th>name</th>\n",
       "      <th>category_list</th>\n",
       "      <th>funding_total_usd</th>\n",
       "      <th>status</th>\n",
       "      <th>country_code</th>\n",
       "      <th>state_code</th>\n",
       "      <th>region</th>\n",
       "      <th>city</th>\n",
       "      <th>funding_rounds</th>\n",
       "      <th>founded_at</th>\n",
       "      <th>first_funding_at</th>\n",
       "      <th>last_funding_at</th>\n",
       "      <th>closed_at</th>\n",
       "    </tr>\n",
       "  </thead>\n",
       "  <tbody>\n",
       "    <tr>\n",
       "      <th>0</th>\n",
       "      <td>Lunchgate</td>\n",
       "      <td>Online Reservations|Restaurants</td>\n",
       "      <td>828626.000</td>\n",
       "      <td>operating</td>\n",
       "      <td>CHE</td>\n",
       "      <td>25</td>\n",
       "      <td>Zurich</td>\n",
       "      <td>Zürich</td>\n",
       "      <td>2</td>\n",
       "      <td>2009-12-31</td>\n",
       "      <td>2011-05-01</td>\n",
       "      <td>2014-12-01</td>\n",
       "      <td>NaN</td>\n",
       "    </tr>\n",
       "    <tr>\n",
       "      <th>1</th>\n",
       "      <td>EarLens</td>\n",
       "      <td>Manufacturing|Medical|Medical Devices</td>\n",
       "      <td>42935019.000</td>\n",
       "      <td>operating</td>\n",
       "      <td>USA</td>\n",
       "      <td>CA</td>\n",
       "      <td>SF Bay Area</td>\n",
       "      <td>Redwood City</td>\n",
       "      <td>4</td>\n",
       "      <td>2005-01-01</td>\n",
       "      <td>2010-05-04</td>\n",
       "      <td>2014-02-25</td>\n",
       "      <td>NaN</td>\n",
       "    </tr>\n",
       "    <tr>\n",
       "      <th>2</th>\n",
       "      <td>Reviva Pharmaceuticals</td>\n",
       "      <td>Biotechnology</td>\n",
       "      <td>35456381.000</td>\n",
       "      <td>operating</td>\n",
       "      <td>USA</td>\n",
       "      <td>CA</td>\n",
       "      <td>SF Bay Area</td>\n",
       "      <td>San Jose</td>\n",
       "      <td>3</td>\n",
       "      <td>2006-01-01</td>\n",
       "      <td>2012-08-20</td>\n",
       "      <td>2014-07-02</td>\n",
       "      <td>NaN</td>\n",
       "    </tr>\n",
       "    <tr>\n",
       "      <th>3</th>\n",
       "      <td>Sancilio and Company</td>\n",
       "      <td>Health Care</td>\n",
       "      <td>22250000.000</td>\n",
       "      <td>operating</td>\n",
       "      <td>NaN</td>\n",
       "      <td>NaN</td>\n",
       "      <td>NaN</td>\n",
       "      <td>NaN</td>\n",
       "      <td>3</td>\n",
       "      <td>2004-01-01</td>\n",
       "      <td>2011-09-01</td>\n",
       "      <td>2014-07-18</td>\n",
       "      <td>NaN</td>\n",
       "    </tr>\n",
       "    <tr>\n",
       "      <th>4</th>\n",
       "      <td>WireTough Cylinders</td>\n",
       "      <td>Manufacturing</td>\n",
       "      <td>NaN</td>\n",
       "      <td>operating</td>\n",
       "      <td>USA</td>\n",
       "      <td>VA</td>\n",
       "      <td>VA - Other</td>\n",
       "      <td>Bristol</td>\n",
       "      <td>1</td>\n",
       "      <td>2010-09-30</td>\n",
       "      <td>2012-02-01</td>\n",
       "      <td>2012-02-01</td>\n",
       "      <td>NaN</td>\n",
       "    </tr>\n",
       "  </tbody>\n",
       "</table>\n",
       "</div>"
      ],
      "text/plain": [
       "                     name                          category_list  \\\n",
       "0               Lunchgate        Online Reservations|Restaurants   \n",
       "1                 EarLens  Manufacturing|Medical|Medical Devices   \n",
       "2  Reviva Pharmaceuticals                          Biotechnology   \n",
       "3    Sancilio and Company                            Health Care   \n",
       "4     WireTough Cylinders                          Manufacturing   \n",
       "\n",
       "   funding_total_usd     status country_code state_code       region  \\\n",
       "0         828626.000  operating          CHE         25       Zurich   \n",
       "1       42935019.000  operating          USA         CA  SF Bay Area   \n",
       "2       35456381.000  operating          USA         CA  SF Bay Area   \n",
       "3       22250000.000  operating          NaN        NaN          NaN   \n",
       "4                NaN  operating          USA         VA   VA - Other   \n",
       "\n",
       "           city  funding_rounds  founded_at first_funding_at last_funding_at  \\\n",
       "0        Zürich               2  2009-12-31       2011-05-01      2014-12-01   \n",
       "1  Redwood City               4  2005-01-01       2010-05-04      2014-02-25   \n",
       "2      San Jose               3  2006-01-01       2012-08-20      2014-07-02   \n",
       "3           NaN               3  2004-01-01       2011-09-01      2014-07-18   \n",
       "4       Bristol               1  2010-09-30       2012-02-01      2012-02-01   \n",
       "\n",
       "  closed_at  \n",
       "0       NaN  \n",
       "1       NaN  \n",
       "2       NaN  \n",
       "3       NaN  \n",
       "4       NaN  "
      ]
     },
     "execution_count": 28,
     "metadata": {},
     "output_type": "execute_result"
    }
   ],
   "source": [
    "# Изучение датафрейма 'startup_train' \n",
    "def inspectDataframe(df):\n",
    "    df.info()\n",
    "    return df.head()\n",
    "inspectDataframe(startup_train)"
   ]
  },
  {
   "cell_type": "code",
   "execution_count": 29,
   "metadata": {
    "scrolled": true
   },
   "outputs": [
    {
     "name": "stdout",
     "output_type": "stream",
     "text": [
      "<class 'pandas.core.frame.DataFrame'>\n",
      "RangeIndex: 13125 entries, 0 to 13124\n",
      "Data columns (total 12 columns):\n",
      " #   Column             Non-Null Count  Dtype  \n",
      "---  ------             --------------  -----  \n",
      " 0   name               13125 non-null  object \n",
      " 1   category_list      12534 non-null  object \n",
      " 2   funding_total_usd  10547 non-null  float64\n",
      " 3   country_code       11743 non-null  object \n",
      " 4   state_code         11430 non-null  object \n",
      " 5   region             11536 non-null  object \n",
      " 6   city               11538 non-null  object \n",
      " 7   funding_rounds     13125 non-null  int64  \n",
      " 8   founded_at         13125 non-null  object \n",
      " 9   first_funding_at   13125 non-null  object \n",
      " 10  last_funding_at    13125 non-null  object \n",
      " 11  lifetime           13125 non-null  int64  \n",
      "dtypes: float64(1), int64(2), object(9)\n",
      "memory usage: 1.2+ MB\n"
     ]
    },
    {
     "data": {
      "text/html": [
       "<div>\n",
       "<style scoped>\n",
       "    .dataframe tbody tr th:only-of-type {\n",
       "        vertical-align: middle;\n",
       "    }\n",
       "\n",
       "    .dataframe tbody tr th {\n",
       "        vertical-align: top;\n",
       "    }\n",
       "\n",
       "    .dataframe thead th {\n",
       "        text-align: right;\n",
       "    }\n",
       "</style>\n",
       "<table border=\"1\" class=\"dataframe\">\n",
       "  <thead>\n",
       "    <tr style=\"text-align: right;\">\n",
       "      <th></th>\n",
       "      <th>name</th>\n",
       "      <th>category_list</th>\n",
       "      <th>funding_total_usd</th>\n",
       "      <th>country_code</th>\n",
       "      <th>state_code</th>\n",
       "      <th>region</th>\n",
       "      <th>city</th>\n",
       "      <th>funding_rounds</th>\n",
       "      <th>founded_at</th>\n",
       "      <th>first_funding_at</th>\n",
       "      <th>last_funding_at</th>\n",
       "      <th>lifetime</th>\n",
       "    </tr>\n",
       "  </thead>\n",
       "  <tbody>\n",
       "    <tr>\n",
       "      <th>0</th>\n",
       "      <td>Crystalsol</td>\n",
       "      <td>Clean Technology</td>\n",
       "      <td>2819200.000</td>\n",
       "      <td>NIC</td>\n",
       "      <td>17</td>\n",
       "      <td>NaN</td>\n",
       "      <td>NaN</td>\n",
       "      <td>1</td>\n",
       "      <td>2008-06-01</td>\n",
       "      <td>2009-07-01</td>\n",
       "      <td>2009-07-01</td>\n",
       "      <td>3501</td>\n",
       "    </tr>\n",
       "    <tr>\n",
       "      <th>1</th>\n",
       "      <td>JBI Fish &amp; Wings</td>\n",
       "      <td>Hospitality</td>\n",
       "      <td>NaN</td>\n",
       "      <td>USA</td>\n",
       "      <td>TN</td>\n",
       "      <td>TN - Other</td>\n",
       "      <td>Humboldt</td>\n",
       "      <td>1</td>\n",
       "      <td>2010-07-25</td>\n",
       "      <td>2010-07-28</td>\n",
       "      <td>2010-07-28</td>\n",
       "      <td>2717</td>\n",
       "    </tr>\n",
       "    <tr>\n",
       "      <th>2</th>\n",
       "      <td>COINPLUS</td>\n",
       "      <td>Finance</td>\n",
       "      <td>428257.000</td>\n",
       "      <td>LUX</td>\n",
       "      <td>3</td>\n",
       "      <td>Esch-sur-alzette</td>\n",
       "      <td>Esch-sur-alzette</td>\n",
       "      <td>2</td>\n",
       "      <td>2014-06-16</td>\n",
       "      <td>2014-05-15</td>\n",
       "      <td>2014-09-18</td>\n",
       "      <td>1295</td>\n",
       "    </tr>\n",
       "    <tr>\n",
       "      <th>3</th>\n",
       "      <td>Imagine Communications</td>\n",
       "      <td>Software|Video|Video Streaming</td>\n",
       "      <td>34700000.000</td>\n",
       "      <td>USA</td>\n",
       "      <td>CA</td>\n",
       "      <td>San Diego</td>\n",
       "      <td>San Diego</td>\n",
       "      <td>4</td>\n",
       "      <td>2005-01-01</td>\n",
       "      <td>2005-01-01</td>\n",
       "      <td>2010-04-20</td>\n",
       "      <td>4748</td>\n",
       "    </tr>\n",
       "    <tr>\n",
       "      <th>4</th>\n",
       "      <td>DNA13</td>\n",
       "      <td>Software</td>\n",
       "      <td>4530000.000</td>\n",
       "      <td>CAN</td>\n",
       "      <td>ON</td>\n",
       "      <td>Ottawa</td>\n",
       "      <td>Ottawa</td>\n",
       "      <td>1</td>\n",
       "      <td>2001-01-01</td>\n",
       "      <td>2007-05-08</td>\n",
       "      <td>2007-05-08</td>\n",
       "      <td>6209</td>\n",
       "    </tr>\n",
       "  </tbody>\n",
       "</table>\n",
       "</div>"
      ],
      "text/plain": [
       "                     name                   category_list  funding_total_usd  \\\n",
       "0              Crystalsol                Clean Technology        2819200.000   \n",
       "1        JBI Fish & Wings                     Hospitality                NaN   \n",
       "2                COINPLUS                         Finance         428257.000   \n",
       "3  Imagine Communications  Software|Video|Video Streaming       34700000.000   \n",
       "4                   DNA13                        Software        4530000.000   \n",
       "\n",
       "  country_code state_code            region              city  funding_rounds  \\\n",
       "0          NIC         17               NaN               NaN               1   \n",
       "1          USA         TN        TN - Other          Humboldt               1   \n",
       "2          LUX          3  Esch-sur-alzette  Esch-sur-alzette               2   \n",
       "3          USA         CA         San Diego         San Diego               4   \n",
       "4          CAN         ON            Ottawa            Ottawa               1   \n",
       "\n",
       "   founded_at first_funding_at last_funding_at  lifetime  \n",
       "0  2008-06-01       2009-07-01      2009-07-01      3501  \n",
       "1  2010-07-25       2010-07-28      2010-07-28      2717  \n",
       "2  2014-06-16       2014-05-15      2014-09-18      1295  \n",
       "3  2005-01-01       2005-01-01      2010-04-20      4748  \n",
       "4  2001-01-01       2007-05-08      2007-05-08      6209  "
      ]
     },
     "execution_count": 29,
     "metadata": {},
     "output_type": "execute_result"
    }
   ],
   "source": [
    "inspectDataframe(startup_test)"
   ]
  },
  {
   "cell_type": "markdown",
   "metadata": {},
   "source": [
    "**Вывод по загрузке данных**<a id='#1_3-bullet'></a>\n",
    "\n",
    "Данные состоят из одного набора данных, разделенных на тренировочну и тестовую выборки:\n",
    "\n",
    "1. startup_train: содержит 52514 записей с 13 столбцами. Данные успешно загружены\n",
    "2. startup_test: содержит 13125 записей с 12 столбцами. Данные успешно загружены\n",
    "\n",
    "Все данные в таблицах соответствуют описанию и готовы к дальнейшему анализу.\n"
   ]
  },
  {
   "cell_type": "markdown",
   "metadata": {},
   "source": [
    "### Шаг 2. Предобработка данных: <a id='#2_1-bullet'></a>"
   ]
  },
  {
   "cell_type": "code",
   "execution_count": 30,
   "metadata": {},
   "outputs": [],
   "source": [
    " def df_review(df):\n",
    "    display(df.head())\n",
    "    print('---------------------------------------------------------------------------------------------------------')\n",
    "    print('Информация общая: ')\n",
    "    df.info()\n",
    "    print('---------------------------------------------------------------------------------------------------------')\n",
    "    print('Статистики: ')\n",
    "    display(df.describe())\n",
    "    print('---------------------------------------------------------------------------------------------------------')\n",
    "    print('Пропущенные значения: ')\n",
    "    print(df.isna().sum())\n",
    "    print('---------------------------------------------------------------------------------------------------------')\n",
    "    print('Дублированные данные: ')\n",
    "    print(df.duplicated().sum())"
   ]
  },
  {
   "cell_type": "markdown",
   "metadata": {},
   "source": [
    "**Предообработка выборки train**: <a id='#2_1-bullet'></a>"
   ]
  },
  {
   "cell_type": "code",
   "execution_count": 31,
   "metadata": {},
   "outputs": [
    {
     "data": {
      "text/html": [
       "<div>\n",
       "<style scoped>\n",
       "    .dataframe tbody tr th:only-of-type {\n",
       "        vertical-align: middle;\n",
       "    }\n",
       "\n",
       "    .dataframe tbody tr th {\n",
       "        vertical-align: top;\n",
       "    }\n",
       "\n",
       "    .dataframe thead th {\n",
       "        text-align: right;\n",
       "    }\n",
       "</style>\n",
       "<table border=\"1\" class=\"dataframe\">\n",
       "  <thead>\n",
       "    <tr style=\"text-align: right;\">\n",
       "      <th></th>\n",
       "      <th>name</th>\n",
       "      <th>category_list</th>\n",
       "      <th>funding_total_usd</th>\n",
       "      <th>status</th>\n",
       "      <th>country_code</th>\n",
       "      <th>state_code</th>\n",
       "      <th>region</th>\n",
       "      <th>city</th>\n",
       "      <th>funding_rounds</th>\n",
       "      <th>founded_at</th>\n",
       "      <th>first_funding_at</th>\n",
       "      <th>last_funding_at</th>\n",
       "      <th>closed_at</th>\n",
       "    </tr>\n",
       "  </thead>\n",
       "  <tbody>\n",
       "    <tr>\n",
       "      <th>0</th>\n",
       "      <td>Lunchgate</td>\n",
       "      <td>Online Reservations|Restaurants</td>\n",
       "      <td>828626.000</td>\n",
       "      <td>operating</td>\n",
       "      <td>CHE</td>\n",
       "      <td>25</td>\n",
       "      <td>Zurich</td>\n",
       "      <td>Zürich</td>\n",
       "      <td>2</td>\n",
       "      <td>2009-12-31</td>\n",
       "      <td>2011-05-01</td>\n",
       "      <td>2014-12-01</td>\n",
       "      <td>NaN</td>\n",
       "    </tr>\n",
       "    <tr>\n",
       "      <th>1</th>\n",
       "      <td>EarLens</td>\n",
       "      <td>Manufacturing|Medical|Medical Devices</td>\n",
       "      <td>42935019.000</td>\n",
       "      <td>operating</td>\n",
       "      <td>USA</td>\n",
       "      <td>CA</td>\n",
       "      <td>SF Bay Area</td>\n",
       "      <td>Redwood City</td>\n",
       "      <td>4</td>\n",
       "      <td>2005-01-01</td>\n",
       "      <td>2010-05-04</td>\n",
       "      <td>2014-02-25</td>\n",
       "      <td>NaN</td>\n",
       "    </tr>\n",
       "    <tr>\n",
       "      <th>2</th>\n",
       "      <td>Reviva Pharmaceuticals</td>\n",
       "      <td>Biotechnology</td>\n",
       "      <td>35456381.000</td>\n",
       "      <td>operating</td>\n",
       "      <td>USA</td>\n",
       "      <td>CA</td>\n",
       "      <td>SF Bay Area</td>\n",
       "      <td>San Jose</td>\n",
       "      <td>3</td>\n",
       "      <td>2006-01-01</td>\n",
       "      <td>2012-08-20</td>\n",
       "      <td>2014-07-02</td>\n",
       "      <td>NaN</td>\n",
       "    </tr>\n",
       "    <tr>\n",
       "      <th>3</th>\n",
       "      <td>Sancilio and Company</td>\n",
       "      <td>Health Care</td>\n",
       "      <td>22250000.000</td>\n",
       "      <td>operating</td>\n",
       "      <td>NaN</td>\n",
       "      <td>NaN</td>\n",
       "      <td>NaN</td>\n",
       "      <td>NaN</td>\n",
       "      <td>3</td>\n",
       "      <td>2004-01-01</td>\n",
       "      <td>2011-09-01</td>\n",
       "      <td>2014-07-18</td>\n",
       "      <td>NaN</td>\n",
       "    </tr>\n",
       "    <tr>\n",
       "      <th>4</th>\n",
       "      <td>WireTough Cylinders</td>\n",
       "      <td>Manufacturing</td>\n",
       "      <td>NaN</td>\n",
       "      <td>operating</td>\n",
       "      <td>USA</td>\n",
       "      <td>VA</td>\n",
       "      <td>VA - Other</td>\n",
       "      <td>Bristol</td>\n",
       "      <td>1</td>\n",
       "      <td>2010-09-30</td>\n",
       "      <td>2012-02-01</td>\n",
       "      <td>2012-02-01</td>\n",
       "      <td>NaN</td>\n",
       "    </tr>\n",
       "  </tbody>\n",
       "</table>\n",
       "</div>"
      ],
      "text/plain": [
       "                     name                          category_list  \\\n",
       "0               Lunchgate        Online Reservations|Restaurants   \n",
       "1                 EarLens  Manufacturing|Medical|Medical Devices   \n",
       "2  Reviva Pharmaceuticals                          Biotechnology   \n",
       "3    Sancilio and Company                            Health Care   \n",
       "4     WireTough Cylinders                          Manufacturing   \n",
       "\n",
       "   funding_total_usd     status country_code state_code       region  \\\n",
       "0         828626.000  operating          CHE         25       Zurich   \n",
       "1       42935019.000  operating          USA         CA  SF Bay Area   \n",
       "2       35456381.000  operating          USA         CA  SF Bay Area   \n",
       "3       22250000.000  operating          NaN        NaN          NaN   \n",
       "4                NaN  operating          USA         VA   VA - Other   \n",
       "\n",
       "           city  funding_rounds  founded_at first_funding_at last_funding_at  \\\n",
       "0        Zürich               2  2009-12-31       2011-05-01      2014-12-01   \n",
       "1  Redwood City               4  2005-01-01       2010-05-04      2014-02-25   \n",
       "2      San Jose               3  2006-01-01       2012-08-20      2014-07-02   \n",
       "3           NaN               3  2004-01-01       2011-09-01      2014-07-18   \n",
       "4       Bristol               1  2010-09-30       2012-02-01      2012-02-01   \n",
       "\n",
       "  closed_at  \n",
       "0       NaN  \n",
       "1       NaN  \n",
       "2       NaN  \n",
       "3       NaN  \n",
       "4       NaN  "
      ]
     },
     "metadata": {},
     "output_type": "display_data"
    },
    {
     "name": "stdout",
     "output_type": "stream",
     "text": [
      "---------------------------------------------------------------------------------------------------------\n",
      "Информация общая: \n",
      "<class 'pandas.core.frame.DataFrame'>\n",
      "RangeIndex: 52514 entries, 0 to 52513\n",
      "Data columns (total 13 columns):\n",
      " #   Column             Non-Null Count  Dtype  \n",
      "---  ------             --------------  -----  \n",
      " 0   name               52513 non-null  object \n",
      " 1   category_list      50049 non-null  object \n",
      " 2   funding_total_usd  42445 non-null  float64\n",
      " 3   status             52514 non-null  object \n",
      " 4   country_code       47013 non-null  object \n",
      " 5   state_code         45752 non-null  object \n",
      " 6   region             46156 non-null  object \n",
      " 7   city               46156 non-null  object \n",
      " 8   funding_rounds     52514 non-null  int64  \n",
      " 9   founded_at         52514 non-null  object \n",
      " 10  first_funding_at   52514 non-null  object \n",
      " 11  last_funding_at    52514 non-null  object \n",
      " 12  closed_at          4915 non-null   object \n",
      "dtypes: float64(1), int64(1), object(11)\n",
      "memory usage: 5.2+ MB\n",
      "---------------------------------------------------------------------------------------------------------\n",
      "Статистики: \n"
     ]
    },
    {
     "data": {
      "text/html": [
       "<div>\n",
       "<style scoped>\n",
       "    .dataframe tbody tr th:only-of-type {\n",
       "        vertical-align: middle;\n",
       "    }\n",
       "\n",
       "    .dataframe tbody tr th {\n",
       "        vertical-align: top;\n",
       "    }\n",
       "\n",
       "    .dataframe thead th {\n",
       "        text-align: right;\n",
       "    }\n",
       "</style>\n",
       "<table border=\"1\" class=\"dataframe\">\n",
       "  <thead>\n",
       "    <tr style=\"text-align: right;\">\n",
       "      <th></th>\n",
       "      <th>funding_total_usd</th>\n",
       "      <th>funding_rounds</th>\n",
       "    </tr>\n",
       "  </thead>\n",
       "  <tbody>\n",
       "    <tr>\n",
       "      <th>count</th>\n",
       "      <td>42445.000</td>\n",
       "      <td>52514.000</td>\n",
       "    </tr>\n",
       "    <tr>\n",
       "      <th>mean</th>\n",
       "      <td>18248255.980</td>\n",
       "      <td>1.741</td>\n",
       "    </tr>\n",
       "    <tr>\n",
       "      <th>std</th>\n",
       "      <td>187121675.710</td>\n",
       "      <td>1.375</td>\n",
       "    </tr>\n",
       "    <tr>\n",
       "      <th>min</th>\n",
       "      <td>1.000</td>\n",
       "      <td>1.000</td>\n",
       "    </tr>\n",
       "    <tr>\n",
       "      <th>25%</th>\n",
       "      <td>336000.000</td>\n",
       "      <td>1.000</td>\n",
       "    </tr>\n",
       "    <tr>\n",
       "      <th>50%</th>\n",
       "      <td>2000000.000</td>\n",
       "      <td>1.000</td>\n",
       "    </tr>\n",
       "    <tr>\n",
       "      <th>75%</th>\n",
       "      <td>10000000.000</td>\n",
       "      <td>2.000</td>\n",
       "    </tr>\n",
       "    <tr>\n",
       "      <th>max</th>\n",
       "      <td>30079503000.000</td>\n",
       "      <td>19.000</td>\n",
       "    </tr>\n",
       "  </tbody>\n",
       "</table>\n",
       "</div>"
      ],
      "text/plain": [
       "       funding_total_usd  funding_rounds\n",
       "count          42445.000       52514.000\n",
       "mean        18248255.980           1.741\n",
       "std        187121675.710           1.375\n",
       "min                1.000           1.000\n",
       "25%           336000.000           1.000\n",
       "50%          2000000.000           1.000\n",
       "75%         10000000.000           2.000\n",
       "max      30079503000.000          19.000"
      ]
     },
     "metadata": {},
     "output_type": "display_data"
    },
    {
     "name": "stdout",
     "output_type": "stream",
     "text": [
      "---------------------------------------------------------------------------------------------------------\n",
      "Пропущенные значения: \n",
      "name                     1\n",
      "category_list         2465\n",
      "funding_total_usd    10069\n",
      "status                   0\n",
      "country_code          5501\n",
      "state_code            6762\n",
      "region                6358\n",
      "city                  6358\n",
      "funding_rounds           0\n",
      "founded_at               0\n",
      "first_funding_at         0\n",
      "last_funding_at          0\n",
      "closed_at            47599\n",
      "dtype: int64\n",
      "---------------------------------------------------------------------------------------------------------\n",
      "Дублированные данные: \n",
      "0\n"
     ]
    }
   ],
   "source": [
    "# Изучение датафрейма 'train_job_satisfaction_rate'\n",
    "df_review(startup_train)"
   ]
  },
  {
   "cell_type": "code",
   "execution_count": 32,
   "metadata": {},
   "outputs": [],
   "source": [
    "# изменим тип данных с 'object' на 'date'\n",
    "startup_train['founded_at'] = pd.to_datetime(startup_train['founded_at'], format='%Y-%m-%d')\n",
    "startup_train['first_funding_at'] = pd.to_datetime(startup_train['first_funding_at'], format='%Y-%m-%d')\n",
    "startup_train['last_funding_at'] = pd.to_datetime(startup_train['last_funding_at'], format='%Y-%m-%d')\n",
    "startup_train['closed_at'] = pd.to_datetime(startup_train['closed_at'], format='%Y-%m-%d')\n"
   ]
  },
  {
   "cell_type": "code",
   "execution_count": 33,
   "metadata": {},
   "outputs": [
    {
     "name": "stdout",
     "output_type": "stream",
     "text": [
      "<class 'pandas.core.frame.DataFrame'>\n",
      "RangeIndex: 52514 entries, 0 to 52513\n",
      "Data columns (total 13 columns):\n",
      " #   Column             Non-Null Count  Dtype         \n",
      "---  ------             --------------  -----         \n",
      " 0   name               52513 non-null  object        \n",
      " 1   category_list      50049 non-null  object        \n",
      " 2   funding_total_usd  42445 non-null  float64       \n",
      " 3   status             52514 non-null  object        \n",
      " 4   country_code       47013 non-null  object        \n",
      " 5   state_code         45752 non-null  object        \n",
      " 6   region             46156 non-null  object        \n",
      " 7   city               46156 non-null  object        \n",
      " 8   funding_rounds     52514 non-null  int64         \n",
      " 9   founded_at         52514 non-null  datetime64[ns]\n",
      " 10  first_funding_at   52514 non-null  datetime64[ns]\n",
      " 11  last_funding_at    52514 non-null  datetime64[ns]\n",
      " 12  closed_at          52514 non-null  datetime64[ns]\n",
      "dtypes: datetime64[ns](4), float64(1), int64(1), object(7)\n",
      "memory usage: 5.2+ MB\n"
     ]
    }
   ],
   "source": [
    "# Обработка пропуска в столбце \"closed_at\"\n",
    "startup_train['closed_at'] = startup_train['closed_at'].fillna('2018-01-01')\n",
    "# Проверка \n",
    "startup_train.info()"
   ]
  },
  {
   "cell_type": "code",
   "execution_count": 34,
   "metadata": {},
   "outputs": [
    {
     "name": "stdout",
     "output_type": "stream",
     "text": [
      "<class 'pandas.core.frame.DataFrame'>\n",
      "RangeIndex: 52514 entries, 0 to 52513\n",
      "Data columns (total 14 columns):\n",
      " #   Column             Non-Null Count  Dtype         \n",
      "---  ------             --------------  -----         \n",
      " 0   name               52513 non-null  object        \n",
      " 1   category_list      50049 non-null  object        \n",
      " 2   funding_total_usd  42445 non-null  float64       \n",
      " 3   status             52514 non-null  object        \n",
      " 4   country_code       47013 non-null  object        \n",
      " 5   state_code         45752 non-null  object        \n",
      " 6   region             46156 non-null  object        \n",
      " 7   city               46156 non-null  object        \n",
      " 8   funding_rounds     52514 non-null  int64         \n",
      " 9   founded_at         52514 non-null  datetime64[ns]\n",
      " 10  first_funding_at   52514 non-null  datetime64[ns]\n",
      " 11  last_funding_at    52514 non-null  datetime64[ns]\n",
      " 12  closed_at          52514 non-null  datetime64[ns]\n",
      " 13  lifetime           52514 non-null  int64         \n",
      "dtypes: datetime64[ns](4), float64(1), int64(2), object(7)\n",
      "memory usage: 5.6+ MB\n"
     ]
    },
    {
     "data": {
      "text/plain": [
       "0    2923\n",
       "1    4748\n",
       "2    4383\n",
       "3    5114\n",
       "4    2650\n",
       "Name: lifetime, dtype: int64"
      ]
     },
     "execution_count": 34,
     "metadata": {},
     "output_type": "execute_result"
    }
   ],
   "source": [
    "# Добавим столбец lifetime\n",
    "startup_train['lifetime'] = startup_train.apply(lambda x: x['closed_at'] - x['founded_at'], axis=1).dt.days.astype('int64')\n",
    "\n",
    "startup_train.info()\n",
    "startup_train['lifetime'].head()\n"
   ]
  },
  {
   "cell_type": "code",
   "execution_count": 35,
   "metadata": {},
   "outputs": [
    {
     "name": "stdout",
     "output_type": "stream",
     "text": [
      "<class 'pandas.core.frame.DataFrame'>\n",
      "RangeIndex: 52514 entries, 0 to 52513\n",
      "Data columns (total 15 columns):\n",
      " #   Column                  Non-Null Count  Dtype         \n",
      "---  ------                  --------------  -----         \n",
      " 0   name                    52513 non-null  object        \n",
      " 1   category_list           50049 non-null  object        \n",
      " 2   funding_total_usd       42445 non-null  float64       \n",
      " 3   status                  52514 non-null  object        \n",
      " 4   country_code            47013 non-null  object        \n",
      " 5   state_code              45752 non-null  object        \n",
      " 6   region                  46156 non-null  object        \n",
      " 7   city                    46156 non-null  object        \n",
      " 8   funding_rounds          52514 non-null  int64         \n",
      " 9   founded_at              52514 non-null  datetime64[ns]\n",
      " 10  first_funding_at        52514 non-null  datetime64[ns]\n",
      " 11  last_funding_at         52514 non-null  datetime64[ns]\n",
      " 12  closed_at               52514 non-null  datetime64[ns]\n",
      " 13  lifetime                52514 non-null  int64         \n",
      " 14  delta_invest&open_time  52514 non-null  int64         \n",
      "dtypes: datetime64[ns](4), float64(1), int64(3), object(7)\n",
      "memory usage: 6.0+ MB\n"
     ]
    },
    {
     "data": {
      "text/plain": [
       "0    -486\n",
       "1   -1949\n",
       "2   -2423\n",
       "3   -2800\n",
       "4    -489\n",
       "Name: delta_invest&open_time, dtype: int64"
      ]
     },
     "execution_count": 35,
     "metadata": {},
     "output_type": "execute_result"
    }
   ],
   "source": [
    "# Добавим столбец delta_invest&open_time\n",
    "startup_train['delta_invest&open_time'] = startup_train.apply(lambda x: x['founded_at'] - x['first_funding_at'], axis=1).dt.days.astype('int64')\n",
    "\n",
    "startup_train.info()\n",
    "startup_train['delta_invest&open_time'].head()\n"
   ]
  },
  {
   "cell_type": "code",
   "execution_count": 36,
   "metadata": {},
   "outputs": [
    {
     "name": "stdout",
     "output_type": "stream",
     "text": [
      "<class 'pandas.core.frame.DataFrame'>\n",
      "RangeIndex: 52514 entries, 0 to 52513\n",
      "Data columns (total 16 columns):\n",
      " #   Column                  Non-Null Count  Dtype         \n",
      "---  ------                  --------------  -----         \n",
      " 0   name                    52513 non-null  object        \n",
      " 1   category_list           50049 non-null  object        \n",
      " 2   funding_total_usd       42445 non-null  float64       \n",
      " 3   status                  52514 non-null  object        \n",
      " 4   country_code            47013 non-null  object        \n",
      " 5   state_code              45752 non-null  object        \n",
      " 6   region                  46156 non-null  object        \n",
      " 7   city                    46156 non-null  object        \n",
      " 8   funding_rounds          52514 non-null  int64         \n",
      " 9   founded_at              52514 non-null  datetime64[ns]\n",
      " 10  first_funding_at        52514 non-null  datetime64[ns]\n",
      " 11  last_funding_at         52514 non-null  datetime64[ns]\n",
      " 12  closed_at               52514 non-null  datetime64[ns]\n",
      " 13  lifetime                52514 non-null  int64         \n",
      " 14  delta_invest&open_time  52514 non-null  int64         \n",
      " 15  delta_funding_time      52514 non-null  int64         \n",
      "dtypes: datetime64[ns](4), float64(1), int64(4), object(7)\n",
      "memory usage: 6.4+ MB\n"
     ]
    },
    {
     "data": {
      "text/plain": [
       "0    1310\n",
       "1    1393\n",
       "2     681\n",
       "3    1051\n",
       "4       0\n",
       "Name: delta_funding_time, dtype: int64"
      ]
     },
     "execution_count": 36,
     "metadata": {},
     "output_type": "execute_result"
    }
   ],
   "source": [
    "# Добавим столбец delta_invest_time\n",
    "startup_train['delta_funding_time'] = startup_train.apply(lambda x: x['last_funding_at'] - x['first_funding_at'], axis=1).dt.days.astype('int64')\n",
    "\n",
    "startup_train.info()\n",
    "startup_train['delta_funding_time'].head()\n"
   ]
  },
  {
   "cell_type": "code",
   "execution_count": 37,
   "metadata": {},
   "outputs": [
    {
     "data": {
      "text/plain": [
       "0    2009\n",
       "1    2005\n",
       "2    2006\n",
       "3    2004\n",
       "4    2010\n",
       "Name: founded_year, dtype: int32"
      ]
     },
     "execution_count": 37,
     "metadata": {},
     "output_type": "execute_result"
    }
   ],
   "source": [
    "startup_train['founded_year'] = startup_train['founded_at'].dt.year\n",
    "\n",
    "startup_train['founded_year'].head()"
   ]
  },
  {
   "cell_type": "code",
   "execution_count": 38,
   "metadata": {},
   "outputs": [
    {
     "name": "stdout",
     "output_type": "stream",
     "text": [
      "Уникальные значения для name:\n",
      "['Lunchgate' 'EarLens' 'Reviva Pharmaceuticals' ... 'Taskforce'\n",
      " 'NetScaler' 'Apparcando']\n",
      "Уникальные значения для category_list:\n",
      "['Online Reservations|Restaurants' 'Manufacturing|Medical|Medical Devices'\n",
      " 'Biotechnology' ... 'Gambling|Games|Online Gaming|Sports'\n",
      " 'Aerospace|Mobile|Transportation|Travel'\n",
      " 'Online Rental|Parking|Price Comparison']\n",
      "Уникальные значения для status:\n",
      "['operating' 'closed']\n",
      "Уникальные значения для country_code:\n",
      "['CHE' 'USA' nan 'GBR' 'RUS' 'ESP' 'FRA' 'SWE' 'IND' 'KOR' 'AUS' 'TWN'\n",
      " 'CHN' 'HUN' 'CAN' 'FIN' 'BRA' 'EGY' 'PRT' 'ISR' 'CHL' 'SVK' 'NLD' 'ARG'\n",
      " 'ARE' 'JPN' 'IRL' 'DEU' 'LBN' 'EST' 'IDN' 'BEL' 'MEX' 'DNK' 'ITA' 'GRC'\n",
      " 'ROM' 'TUR' 'SGP' 'SAU' 'MYS' 'NGA' 'QAT' 'VNM' 'BGR' 'GHA' 'UGA' 'JOR'\n",
      " 'AUT' 'PAK' 'NZL' 'HKG' 'ZAF' 'LVA' 'NOR' 'HRV' 'VEN' 'PER' 'LUX' 'SVN'\n",
      " 'POL' 'PHL' 'NIC' 'CZE' 'ISL' 'PAN' 'URY' 'BGD' 'MCO' 'GTM' 'THA' 'TTO'\n",
      " 'UKR' 'KEN' 'CRI' 'DZA' 'LTU' 'CYM' 'MUS' 'BLR' 'SLV' 'COL' 'MLT' 'PSE'\n",
      " 'BLZ' 'CYP' 'MMR' 'MKD' 'KHM' 'GIB' 'SRB' 'DOM' 'BWA' 'BLM' 'PRY' 'BMU'\n",
      " 'TAN' 'LIE' 'GRD' 'UZB' 'GEO' 'SEN' 'ALB' 'ECU' 'MOZ' 'LKA' 'LAO' 'TUN'\n",
      " 'HND' 'ZWE' 'BAH' 'MDA' 'MAF' 'BHR' 'AZE' 'MAR' 'KWT' 'IRN' 'GGY' 'KNA'\n",
      " 'PRI' 'OMN' 'KAZ' 'JAM' 'NPL' 'ARM' 'TGO' 'RWA' 'BRN' 'JEY' 'SOM' 'CMR'\n",
      " 'MNE' 'SYC' 'ZMB']\n",
      "Уникальные значения для state_code:\n",
      "['25' 'CA' nan 'VA' 'NJ' 'TX' 'OR' 'FL' 'WA' 'NY' 'C7' 'AZ' '91' 'GA' 'MA'\n",
      " 'PA' 'MI' '56' 'MN' 'A8' 'DE' '26' 'Q5' '7' 'RI' '11' 'C5' 'CO' '3' '23'\n",
      " '1' 'ON' 'IL' 'OH' 'K2' '2' '14' '30' 'H9' 'AL' '29' '6' 'NC' '5' '12'\n",
      " '22' 'MD' '48' 'ND' '40' 'K4' 'VT' '16' '4' 'UT' 'IN' '8' '9' '18' 'CT'\n",
      " '13' 'NV' '10' 'B8' '27' '17' 'IA' 'WI' 'L9' 'NM' 'B7' 'MO' 'BC' '21'\n",
      " 'F7' 'ME' 'NH' '35' 'NS' 'C1' 'C3' 'SC' '20' 'TN' 'A6' '51' 'I7' 'LA'\n",
      " 'KS' '42' 'N7' 'U8' 'I2' 'AR' '19' 'NE' '41' 'QC' 'AB' '37' '15' '97'\n",
      " 'V2' 'D2' 'DC' 'A7' 'C9' 'F8' 'Y2' 'B9' 'J7' 'M9' 'G2' 'H3' 'ID' 'NB'\n",
      " '28' 'V8' '34' 'B5' 'F2' 'A9' 'Z7' '53' 'H8' 'MT' 'MB' 'KY' '61' '60'\n",
      " 'B4' 'H7' '82' 'A2' 'C8' 'L3' 'B3' 'D9' 'M3' 'MS' '31' '33' '52' 'HI'\n",
      " 'AK' '78' '72' 'Q4' 'Y4' 'WY' '32' 'E6' 'Q3' 'F9' '24' 'OK' 'X4' '81'\n",
      " 'A1' '86' 'P4' 'E7' 'P9' '73' 'W5' 'D4' 'E9' 'A4' 'I5' 'B2' 'R3' 'N5'\n",
      " '59' 'K7' 'H5' 'H2' 'N3' 'A5' 'T5' 'G5' 'E8' 'SD' '77' '65' '36' 'WV'\n",
      " '68' 'P3' 'X5' '66' 'D8' 'C6' 'M4' '87' '71' 'J2' '83' 'E4' 'P8' '43'\n",
      " 'J6' 'L1' 'E2' 'O2' 'E5' 'F1' 'N2' 'J8' 'B6' 'A3' '46' 'H4' 'G7' 'Y5'\n",
      " 'P6' '55' 'NL' 'X7' 'P5' '54' '58' 'Y7' 'R6' '47' 'U3' 'K3' '88' 'D3'\n",
      " '45' '49' 'F5' 'Y9' 'Y6' 'P1' 'I6' 'VI' 'Z1' 'I4' 'W6' 'SK' 'W1' '50'\n",
      " 'B1' 'W2' 'W9' 'N4' 'V3' 'O1' 'E1' 'T6' 'I9' 'T7' '99' 'N1' '39' 'P2'\n",
      " '57' 'V7' 'Q2' 'K8' 'F4' 'G1' '98' 'D5' 'V1' '38' '44' 'X1' 'J1' 'J9'\n",
      " 'PE' 'Q1' 'Y1' 'L6' 'G8' '89' 'X3' 'T8' 'J4' '62' 'GU' 'W4' 'G3' 'L7'\n",
      " 'U1' 'Z8' 'E3' 'X2' 'M5' '90' 'M2' 'L8' 'V6' 'Q6' 'D6' 'D7' 'M8' 'J3'\n",
      " 'NU' 'V5' 'U6']\n",
      "Уникальные значения для region:\n",
      "['Zurich' 'SF Bay Area' nan ... 'Haywards Heath' 'Herzogenaurach'\n",
      " 'Doncaster']\n",
      "Уникальные значения для city:\n",
      "['Zürich' 'Redwood City' 'San Jose' ... 'Circleville' 'Doncaster'\n",
      " 'Centreville']\n"
     ]
    }
   ],
   "source": [
    "# Выявление уникальных значений категориальных столбцов\n",
    "for column in startup_train.select_dtypes(include=['object']).columns:\n",
    "    print(f'Уникальные значения для {column}:')\n",
    "    print(startup_train[column].unique())"
   ]
  },
  {
   "cell_type": "code",
   "execution_count": 39,
   "metadata": {},
   "outputs": [],
   "source": [
    "# # Считать количество выбросов в столбце 'column_name'\n",
    "# outliers = startup_train['funding_total_usd'].apply(lambda x: abs(x - startup_train['funding_total_usd'].mean()) > 3 * startup_train['funding_total_usd'].std())\n",
    "\n",
    "# # Вывести количество выбросов\n",
    "# outliers.sum()/len(startup_train['funding_total_usd'])*100\n"
   ]
  },
  {
   "cell_type": "code",
   "execution_count": 40,
   "metadata": {},
   "outputs": [],
   "source": [
    "# # Считать количество выбросов в столбце 'column_name'\n",
    "# outliers = startup_train['funding_rounds'].apply(lambda x: abs(x - startup_train['funding_rounds'].mean()) > 3 * startup_train['funding_rounds'].std())\n",
    "\n",
    "# # Вывести количество выбросов\n",
    "# outliers.sum()/len(startup_train['funding_rounds'])*100\n"
   ]
  },
  {
   "cell_type": "code",
   "execution_count": 41,
   "metadata": {},
   "outputs": [],
   "source": [
    "# # Считать количество выбросов в столбце 'column_name'\n",
    "# outliers = startup_train['lifetime'].apply(lambda x: abs(x - startup_train['lifetime'].mean()) > 3 * startup_train['lifetime'].std())\n",
    "\n",
    "# # Вывести количество выбросов\n",
    "# outliers.sum()/len(startup_train['lifetime'])*100\n"
   ]
  },
  {
   "cell_type": "code",
   "execution_count": 42,
   "metadata": {},
   "outputs": [],
   "source": [
    "# # Проверка на выбросы с помощью boxplot\n",
    "# for column in startup_train.select_dtypes(include=[np.number]).columns:\n",
    "#     if column != 'id':\n",
    "#         # Вычисление размаха данных\n",
    "#         data_range = startup_train[column].max() - startup_train[column].min()\n",
    "#         # data_range / train_job_satisfaction_rate[column].std())\n",
    "#         # Настройка размера графика в зависимости от размаха данных\n",
    "#         plt.figure(figsize=(5, data_range / startup_train[column].std()))\n",
    "#         startup_train.boxplot([column])\n",
    "#         plt.title(f'Boxplot для {column}')\n",
    "#         plt.show()"
   ]
  },
  {
   "cell_type": "code",
   "execution_count": 43,
   "metadata": {},
   "outputs": [
    {
     "name": "stdout",
     "output_type": "stream",
     "text": [
      "                         name                           category_list  \\\n",
      "0                   Lunchgate         Online Reservations|Restaurants   \n",
      "1                     EarLens   Manufacturing|Medical|Medical Devices   \n",
      "2      Reviva Pharmaceuticals                           Biotechnology   \n",
      "3        Sancilio and Company                             Health Care   \n",
      "4         WireTough Cylinders                           Manufacturing   \n",
      "...                       ...                                     ...   \n",
      "52509             Videostream                           Entertainment   \n",
      "52510             Hello Curry                             Hospitality   \n",
      "52511               Taskforce   Email|Messaging|Productivity Software   \n",
      "52512               NetScaler                                Security   \n",
      "52513              Apparcando  Online Rental|Parking|Price Comparison   \n",
      "\n",
      "       funding_total_usd     status country_code state_code       region  \\\n",
      "0             828626.000  operating          CHE         25       Zurich   \n",
      "1           42935019.000  operating          USA         CA  SF Bay Area   \n",
      "2           35456381.000  operating          USA         CA  SF Bay Area   \n",
      "3           22250000.000  operating          NaN        NaN          NaN   \n",
      "4                    NaN  operating          USA         VA   VA - Other   \n",
      "...                  ...        ...          ...        ...          ...   \n",
      "52509                NaN  operating          CAN         ON      Toronto   \n",
      "52510         500000.000  operating          IND          2    Hyderabad   \n",
      "52511          50000.000  operating          USA         CA  SF Bay Area   \n",
      "52512       13000000.000  operating          USA         CA  SF Bay Area   \n",
      "52513         270820.000  operating          ESP         60     Valencia   \n",
      "\n",
      "                city  funding_rounds founded_at first_funding_at  \\\n",
      "0             Zürich               2 2009-12-31       2011-05-01   \n",
      "1       Redwood City               4 2005-01-01       2010-05-04   \n",
      "2           San Jose               3 2006-01-01       2012-08-20   \n",
      "3                NaN               3 2004-01-01       2011-09-01   \n",
      "4            Bristol               1 2010-09-30       2012-02-01   \n",
      "...              ...             ...        ...              ...   \n",
      "52509      Kitchener               1 2012-01-01       2014-03-01   \n",
      "52510      Hyderabad               1 2012-11-28       2014-03-07   \n",
      "52511  San Francisco               3 2010-07-01       2009-06-14   \n",
      "52512       San Jose               6 1997-12-01       1998-11-30   \n",
      "52513       Valencia               1 2013-11-03       2014-06-13   \n",
      "\n",
      "      last_funding_at  closed_at  lifetime  delta_invest&open_time  \\\n",
      "0          2014-12-01 2018-01-01      2923                    -486   \n",
      "1          2014-02-25 2018-01-01      4748                   -1949   \n",
      "2          2014-07-02 2018-01-01      4383                   -2423   \n",
      "3          2014-07-18 2018-01-01      5114                   -2800   \n",
      "4          2012-02-01 2018-01-01      2650                    -489   \n",
      "...               ...        ...       ...                     ...   \n",
      "52509      2014-03-01 2018-01-01      2192                    -790   \n",
      "52510      2014-03-07 2018-01-01      1860                    -464   \n",
      "52511      2011-01-01 2018-01-01      2741                     382   \n",
      "52512      2004-03-01 2018-01-01      7336                    -364   \n",
      "52513      2014-06-13 2018-01-01      1520                    -222   \n",
      "\n",
      "       delta_funding_time  founded_year         new_category  \n",
      "0                    1310          2009  Online Reservations  \n",
      "1                    1393          2005        Manufacturing  \n",
      "2                     681          2006        Biotechnology  \n",
      "3                    1051          2004          Health Care  \n",
      "4                       0          2010        Manufacturing  \n",
      "...                   ...           ...                  ...  \n",
      "52509                   0          2012        Entertainment  \n",
      "52510                   0          2012          Hospitality  \n",
      "52511                 566          2010                Email  \n",
      "52512                1918          1997             Security  \n",
      "52513                   0          2013        Online Rental  \n",
      "\n",
      "[52514 rows x 18 columns]\n"
     ]
    }
   ],
   "source": [
    "\n",
    "\n",
    "\n",
    "startup_train['new_category'] = ''\n",
    "\n",
    "def most_common_category(category_list):\n",
    "    categories = category_list.split('|')\n",
    "    return Counter(categories).most_common(1)[0][0]\n",
    "\n",
    "startup_train['new_category'] = (startup_train['category_list'].astype(str)\n",
    "                                 .apply(lambda x: x if '|' not in x else most_common_category(x)))\n",
    "\n",
    "print(startup_train)"
   ]
  },
  {
   "cell_type": "code",
   "execution_count": 44,
   "metadata": {},
   "outputs": [
    {
     "data": {
      "text/plain": [
       "category_list\n",
       "Software               3207\n",
       "Biotechnology          2905\n",
       "E-Commerce             1063\n",
       "Mobile                  920\n",
       "Clean Technology        892\n",
       "Curated Web             851\n",
       "Health Care             744\n",
       "Hardware + Software     733\n",
       "Games                   681\n",
       "Enterprise Software     671\n",
       "Health and Wellness     613\n",
       "Manufacturing           604\n",
       "Advertising             554\n",
       "Education               422\n",
       "Semiconductors          400\n",
       "Finance                 338\n",
       "Real Estate             338\n",
       "Consulting              330\n",
       "Social Media            326\n",
       "Security                317\n",
       "Hospitality             278\n",
       "Name: count, dtype: int64"
      ]
     },
     "execution_count": 44,
     "metadata": {},
     "output_type": "execute_result"
    }
   ],
   "source": [
    "startup_train['category_list'].value_counts().sort_values(ascending = False).head(21)"
   ]
  },
  {
   "cell_type": "code",
   "execution_count": 45,
   "metadata": {},
   "outputs": [
    {
     "data": {
      "text/plain": [
       "new_category\n",
       "Biotechnology          3592\n",
       "Software               3322\n",
       "nan                    2465\n",
       "E-Commerce             2172\n",
       "Advertising            1925\n",
       "Curated Web            1746\n",
       "Mobile                 1396\n",
       "Analytics              1314\n",
       "Apps                   1184\n",
       "Health Care            1134\n",
       "Enterprise Software    1110\n",
       "Clean Technology       1106\n",
       "Games                  1014\n",
       "Health and Wellness     956\n",
       "Hardware + Software     876\n",
       "Finance                 873\n",
       "Education               800\n",
       "Manufacturing           688\n",
       "Consulting              566\n",
       "Internet                505\n",
       "Cloud Computing         495\n",
       "Name: count, dtype: int64"
      ]
     },
     "execution_count": 45,
     "metadata": {},
     "output_type": "execute_result"
    }
   ],
   "source": [
    "startup_train['new_category'].value_counts().sort_values(ascending = False).head(21)"
   ]
  },
  {
   "cell_type": "code",
   "execution_count": 46,
   "metadata": {},
   "outputs": [],
   "source": [
    "startup_train['country_code'] = startup_train['country_code'].fillna('unknown')\n"
   ]
  },
  {
   "cell_type": "code",
   "execution_count": 47,
   "metadata": {},
   "outputs": [],
   "source": [
    "# # for t in df[by_column].unique():\n",
    "# #     df.loc[(df[by_column] == t) & (df[column].isna()), column] = \\\n",
    "# #     df.loc[(df[by_column] == t), column].median()\n",
    "\n",
    "# # Функция для замены пропущенных значений\n",
    "# def fill_missing_values(dataframe, column, by_column, reference_dict):\n",
    "#     # Заменяем пропущенные значения на наиболее часто встречающееся значение\n",
    "#     for key, value in reference_dict.items():\n",
    "#         dataframe.loc[dataframe[by_column].isna() & (dataframe[by_column].notnull()), column] = value\n",
    "\n",
    "\n",
    "# # Создаем словари для хранения наиболее часто встречающихся значений\n",
    "# most_frequent_cities = {}\n",
    "# most_frequent_regions = {}\n",
    "# most_frequent_state_codes = {}\n",
    "\n",
    "# # Считаем количество уникальных country_code\n",
    "# unique_countries = startup_train['country_code'].unique()\n",
    "# for country in unique_countries:\n",
    "#     # Фильтруем датафрейм по country_code\n",
    "#     filtered_data = startup_train[startup_train['country_code'] == country]\n",
    "#         # Считаем наиболее часто встречающиеся значения для каждого столбца\n",
    "#     if filtered_data['city'].size > 0:  # Проверяем, что в столбце 'city' есть значения\n",
    "#         most_frequent_city = filtered_data['city'].mode()[0]\n",
    "#     else:\n",
    "#         most_frequent_city = 'unknown'  # Если нет, используем 'unknown'\n",
    "    \n",
    "#     if filtered_data['region'].size > 0:  # Проверяем, что в столбце 'region' есть значения\n",
    "#         most_frequent_region = filtered_data['region'].mode()[0]\n",
    "#     else:\n",
    "#         most_frequent_region = 'unknown'  # Если нет, используем 'unknown'\n",
    "    \n",
    "#     if filtered_data['state_code'].size > 0:  # Проверяем, что в столбце 'state_code' есть значения\n",
    "#         most_frequent_state_code = filtered_data['state_code'].mode()[0]\n",
    "#     else:\n",
    "#         most_frequent_state_code = 'unknown' \n",
    "    \n",
    "#     # Добавляем значения в соответствующие словари\n",
    "#     most_frequent_cities[country] = most_frequent_city\n",
    "#     most_frequent_regions[country] = most_frequent_region\n",
    "#     most_frequent_state_codes[country] = most_frequent_state_code\n",
    "#     # Добавляем 'unknown' в справочники\n",
    "#     most_frequent_cities['unknown'] = 'unknown'\n",
    "#     most_frequent_regions['unknown'] = 'unknown'\n",
    "#     most_frequent_state_codes['unknown'] = 'unknown'\n",
    "\n",
    "\n",
    "# # Заменяем пропущенные значения в столбце state_code\n",
    "# fill_missing_values(startup_train, 'state_code', 'country_code', most_frequent_state_codes)\n",
    "\n",
    "# # Заменяем пропущенные значения в столбце region\n",
    "# fill_missing_values(startup_train, 'region', 'country_code', most_frequent_regions)\n",
    "\n",
    "# # Заменяем пропущенные значения в столбце city\n",
    "# fill_missing_values(startup_train, 'city', 'country_code', most_frequent_cities)\n",
    "\n",
    "# # Выводим количество замененных строк\n",
    "# print(startup_train.shape[0])"
   ]
  },
  {
   "cell_type": "code",
   "execution_count": 48,
   "metadata": {},
   "outputs": [],
   "source": [
    "# from collections import Counter\n",
    "\n",
    "\n",
    "# # Функция для замены пропущенных значений\n",
    "# def replace_missing_values(df):\n",
    "#     # Создаем словарь для хранения частоты встречаемости значений в столбце 'country_code'\n",
    "#     frequency_dict = Counter(df['country_code'])\n",
    "    \n",
    "#     # Заменяем пропущенные значения в столбце 'city'\n",
    "#     df['city'] = df['city'].fillna(df['country_code'].map(frequency_dict).fillna(value=''))\n",
    "    \n",
    "#     # Проверяем наличие пропущенных значений в столбцах 'region' и 'state_code'\n",
    "#     if df['region'].isna().any() and df['state_code'].isna().any():\n",
    "#         # Если в столбце 'country_code' есть пропущенные значения, пропускаем их\n",
    "#         df = df[~df['country_code'].isna()]\n",
    "    \n",
    "#     return df\n",
    "\n",
    "# # Применяем функцию к DataFrame\n",
    "# result_df = replace_missing_values(startup_train)\n",
    "\n",
    "# # Выводим количество замененных значений\n",
    "# print(result_df['city'].isna().sum())"
   ]
  },
  {
   "cell_type": "code",
   "execution_count": 49,
   "metadata": {},
   "outputs": [],
   "source": [
    "#category_10 = startup_train['category_list'].value_counts().head(16)\n",
    "\n",
    "# category_200 = startup_train['category_list'].value_counts()[startup_train['category_list'].value_counts() > 10].sort_values(ascending = False).index.values\n",
    "# #len(category_200)\n",
    "\n",
    "# for column in category_200:\n",
    "#     if startup_train['category_list'] == column:\n",
    "#         startup_train['short_category'] = startup_train.apply(column)\n",
    "#     else:\n",
    "#         startup_train['short_category'] = startup_train.apply('generic')\n",
    "\n",
    "# startup_train['short_category'].head()\n",
    "# # category_10_pivot = startup_train.query('category_list in @category_10.index').pivot_table(index='category_list', values='price_one_square_meter').sort_values(by='price_one_square_meter', ascending=False)\n",
    "# # loc_10_pivot\n",
    "\n",
    "# def short_category(row):\n",
    "#     category = row['age']\n",
    "#     unemployed = row['unemployed']\n",
    "\n",
    "#     if age <= 18:\n",
    "#         return 'дети'\n",
    "\n",
    "#     if age <= 64:\n",
    "#         if unemployed == 1:\n",
    "#             return 'безработные'\n",
    "\n",
    "#         return 'занятые'\n",
    "\n",
    "#     return 'пенсионеры'\n",
    "\n",
    "# clients['age_group'] = clients.apply(age_group_unemployed, axis=1)\n",
    "# print(clients.head(10)) "
   ]
  },
  {
   "cell_type": "markdown",
   "metadata": {},
   "source": [
    "**Вывод по таблице startup_train:**\n",
    "- привели стобцы с датой к типу Дата\n",
    "- добавили 2 столбца: lifetime и delta_funding_time\n",
    "- заполним пропуски в двух столбцах: name, category_list, funding_total_usd, state_code, country_code, region, city - модой/медианой,  в пайплайне\n",
    "- анализ на выбросы показывает что данные ненормализованы, наблюдаются явные выбросы, кол-во выбросов некритич < 2,6%"
   ]
  },
  {
   "cell_type": "markdown",
   "metadata": {},
   "source": [
    "**Предообработка выборки test:**<a id='#2_2-bullet'></a>"
   ]
  },
  {
   "cell_type": "code",
   "execution_count": 50,
   "metadata": {
    "scrolled": true
   },
   "outputs": [
    {
     "data": {
      "text/html": [
       "<div>\n",
       "<style scoped>\n",
       "    .dataframe tbody tr th:only-of-type {\n",
       "        vertical-align: middle;\n",
       "    }\n",
       "\n",
       "    .dataframe tbody tr th {\n",
       "        vertical-align: top;\n",
       "    }\n",
       "\n",
       "    .dataframe thead th {\n",
       "        text-align: right;\n",
       "    }\n",
       "</style>\n",
       "<table border=\"1\" class=\"dataframe\">\n",
       "  <thead>\n",
       "    <tr style=\"text-align: right;\">\n",
       "      <th></th>\n",
       "      <th>name</th>\n",
       "      <th>category_list</th>\n",
       "      <th>funding_total_usd</th>\n",
       "      <th>country_code</th>\n",
       "      <th>state_code</th>\n",
       "      <th>region</th>\n",
       "      <th>city</th>\n",
       "      <th>funding_rounds</th>\n",
       "      <th>founded_at</th>\n",
       "      <th>first_funding_at</th>\n",
       "      <th>last_funding_at</th>\n",
       "      <th>lifetime</th>\n",
       "    </tr>\n",
       "  </thead>\n",
       "  <tbody>\n",
       "    <tr>\n",
       "      <th>0</th>\n",
       "      <td>Crystalsol</td>\n",
       "      <td>Clean Technology</td>\n",
       "      <td>2819200.000</td>\n",
       "      <td>NIC</td>\n",
       "      <td>17</td>\n",
       "      <td>NaN</td>\n",
       "      <td>NaN</td>\n",
       "      <td>1</td>\n",
       "      <td>2008-06-01</td>\n",
       "      <td>2009-07-01</td>\n",
       "      <td>2009-07-01</td>\n",
       "      <td>3501</td>\n",
       "    </tr>\n",
       "    <tr>\n",
       "      <th>1</th>\n",
       "      <td>JBI Fish &amp; Wings</td>\n",
       "      <td>Hospitality</td>\n",
       "      <td>NaN</td>\n",
       "      <td>USA</td>\n",
       "      <td>TN</td>\n",
       "      <td>TN - Other</td>\n",
       "      <td>Humboldt</td>\n",
       "      <td>1</td>\n",
       "      <td>2010-07-25</td>\n",
       "      <td>2010-07-28</td>\n",
       "      <td>2010-07-28</td>\n",
       "      <td>2717</td>\n",
       "    </tr>\n",
       "    <tr>\n",
       "      <th>2</th>\n",
       "      <td>COINPLUS</td>\n",
       "      <td>Finance</td>\n",
       "      <td>428257.000</td>\n",
       "      <td>LUX</td>\n",
       "      <td>3</td>\n",
       "      <td>Esch-sur-alzette</td>\n",
       "      <td>Esch-sur-alzette</td>\n",
       "      <td>2</td>\n",
       "      <td>2014-06-16</td>\n",
       "      <td>2014-05-15</td>\n",
       "      <td>2014-09-18</td>\n",
       "      <td>1295</td>\n",
       "    </tr>\n",
       "    <tr>\n",
       "      <th>3</th>\n",
       "      <td>Imagine Communications</td>\n",
       "      <td>Software|Video|Video Streaming</td>\n",
       "      <td>34700000.000</td>\n",
       "      <td>USA</td>\n",
       "      <td>CA</td>\n",
       "      <td>San Diego</td>\n",
       "      <td>San Diego</td>\n",
       "      <td>4</td>\n",
       "      <td>2005-01-01</td>\n",
       "      <td>2005-01-01</td>\n",
       "      <td>2010-04-20</td>\n",
       "      <td>4748</td>\n",
       "    </tr>\n",
       "    <tr>\n",
       "      <th>4</th>\n",
       "      <td>DNA13</td>\n",
       "      <td>Software</td>\n",
       "      <td>4530000.000</td>\n",
       "      <td>CAN</td>\n",
       "      <td>ON</td>\n",
       "      <td>Ottawa</td>\n",
       "      <td>Ottawa</td>\n",
       "      <td>1</td>\n",
       "      <td>2001-01-01</td>\n",
       "      <td>2007-05-08</td>\n",
       "      <td>2007-05-08</td>\n",
       "      <td>6209</td>\n",
       "    </tr>\n",
       "  </tbody>\n",
       "</table>\n",
       "</div>"
      ],
      "text/plain": [
       "                     name                   category_list  funding_total_usd  \\\n",
       "0              Crystalsol                Clean Technology        2819200.000   \n",
       "1        JBI Fish & Wings                     Hospitality                NaN   \n",
       "2                COINPLUS                         Finance         428257.000   \n",
       "3  Imagine Communications  Software|Video|Video Streaming       34700000.000   \n",
       "4                   DNA13                        Software        4530000.000   \n",
       "\n",
       "  country_code state_code            region              city  funding_rounds  \\\n",
       "0          NIC         17               NaN               NaN               1   \n",
       "1          USA         TN        TN - Other          Humboldt               1   \n",
       "2          LUX          3  Esch-sur-alzette  Esch-sur-alzette               2   \n",
       "3          USA         CA         San Diego         San Diego               4   \n",
       "4          CAN         ON            Ottawa            Ottawa               1   \n",
       "\n",
       "   founded_at first_funding_at last_funding_at  lifetime  \n",
       "0  2008-06-01       2009-07-01      2009-07-01      3501  \n",
       "1  2010-07-25       2010-07-28      2010-07-28      2717  \n",
       "2  2014-06-16       2014-05-15      2014-09-18      1295  \n",
       "3  2005-01-01       2005-01-01      2010-04-20      4748  \n",
       "4  2001-01-01       2007-05-08      2007-05-08      6209  "
      ]
     },
     "metadata": {},
     "output_type": "display_data"
    },
    {
     "name": "stdout",
     "output_type": "stream",
     "text": [
      "---------------------------------------------------------------------------------------------------------\n",
      "Информация общая: \n",
      "<class 'pandas.core.frame.DataFrame'>\n",
      "RangeIndex: 13125 entries, 0 to 13124\n",
      "Data columns (total 12 columns):\n",
      " #   Column             Non-Null Count  Dtype  \n",
      "---  ------             --------------  -----  \n",
      " 0   name               13125 non-null  object \n",
      " 1   category_list      12534 non-null  object \n",
      " 2   funding_total_usd  10547 non-null  float64\n",
      " 3   country_code       11743 non-null  object \n",
      " 4   state_code         11430 non-null  object \n",
      " 5   region             11536 non-null  object \n",
      " 6   city               11538 non-null  object \n",
      " 7   funding_rounds     13125 non-null  int64  \n",
      " 8   founded_at         13125 non-null  object \n",
      " 9   first_funding_at   13125 non-null  object \n",
      " 10  last_funding_at    13125 non-null  object \n",
      " 11  lifetime           13125 non-null  int64  \n",
      "dtypes: float64(1), int64(2), object(9)\n",
      "memory usage: 1.2+ MB\n",
      "---------------------------------------------------------------------------------------------------------\n",
      "Статистики: \n"
     ]
    },
    {
     "data": {
      "text/html": [
       "<div>\n",
       "<style scoped>\n",
       "    .dataframe tbody tr th:only-of-type {\n",
       "        vertical-align: middle;\n",
       "    }\n",
       "\n",
       "    .dataframe tbody tr th {\n",
       "        vertical-align: top;\n",
       "    }\n",
       "\n",
       "    .dataframe thead th {\n",
       "        text-align: right;\n",
       "    }\n",
       "</style>\n",
       "<table border=\"1\" class=\"dataframe\">\n",
       "  <thead>\n",
       "    <tr style=\"text-align: right;\">\n",
       "      <th></th>\n",
       "      <th>funding_total_usd</th>\n",
       "      <th>funding_rounds</th>\n",
       "      <th>lifetime</th>\n",
       "    </tr>\n",
       "  </thead>\n",
       "  <tbody>\n",
       "    <tr>\n",
       "      <th>count</th>\n",
       "      <td>10547.000</td>\n",
       "      <td>13125.000</td>\n",
       "      <td>13125.000</td>\n",
       "    </tr>\n",
       "    <tr>\n",
       "      <th>mean</th>\n",
       "      <td>16549102.695</td>\n",
       "      <td>1.714</td>\n",
       "      <td>3098.206</td>\n",
       "    </tr>\n",
       "    <tr>\n",
       "      <th>std</th>\n",
       "      <td>92172825.632</td>\n",
       "      <td>1.319</td>\n",
       "      <td>2128.489</td>\n",
       "    </tr>\n",
       "    <tr>\n",
       "      <th>min</th>\n",
       "      <td>1.000</td>\n",
       "      <td>1.000</td>\n",
       "      <td>79.000</td>\n",
       "    </tr>\n",
       "    <tr>\n",
       "      <th>25%</th>\n",
       "      <td>320000.000</td>\n",
       "      <td>1.000</td>\n",
       "      <td>1729.000</td>\n",
       "    </tr>\n",
       "    <tr>\n",
       "      <th>50%</th>\n",
       "      <td>2000000.000</td>\n",
       "      <td>1.000</td>\n",
       "      <td>2526.000</td>\n",
       "    </tr>\n",
       "    <tr>\n",
       "      <th>75%</th>\n",
       "      <td>10000000.000</td>\n",
       "      <td>2.000</td>\n",
       "      <td>3871.000</td>\n",
       "    </tr>\n",
       "    <tr>\n",
       "      <th>max</th>\n",
       "      <td>4715000000.000</td>\n",
       "      <td>15.000</td>\n",
       "      <td>17167.000</td>\n",
       "    </tr>\n",
       "  </tbody>\n",
       "</table>\n",
       "</div>"
      ],
      "text/plain": [
       "       funding_total_usd  funding_rounds  lifetime\n",
       "count          10547.000       13125.000 13125.000\n",
       "mean        16549102.695           1.714  3098.206\n",
       "std         92172825.632           1.319  2128.489\n",
       "min                1.000           1.000    79.000\n",
       "25%           320000.000           1.000  1729.000\n",
       "50%          2000000.000           1.000  2526.000\n",
       "75%         10000000.000           2.000  3871.000\n",
       "max       4715000000.000          15.000 17167.000"
      ]
     },
     "metadata": {},
     "output_type": "display_data"
    },
    {
     "name": "stdout",
     "output_type": "stream",
     "text": [
      "---------------------------------------------------------------------------------------------------------\n",
      "Пропущенные значения: \n",
      "name                    0\n",
      "category_list         591\n",
      "funding_total_usd    2578\n",
      "country_code         1382\n",
      "state_code           1695\n",
      "region               1589\n",
      "city                 1587\n",
      "funding_rounds          0\n",
      "founded_at              0\n",
      "first_funding_at        0\n",
      "last_funding_at         0\n",
      "lifetime                0\n",
      "dtype: int64\n",
      "---------------------------------------------------------------------------------------------------------\n",
      "Дублированные данные: \n",
      "0\n"
     ]
    }
   ],
   "source": [
    "# Изучение датафрейма 'startup_test'\n",
    "df_review(startup_test)"
   ]
  },
  {
   "cell_type": "code",
   "execution_count": 51,
   "metadata": {},
   "outputs": [],
   "source": [
    "# изменим тип данных с 'object' на 'date'\n",
    "startup_test['founded_at'] = pd.to_datetime(startup_test['founded_at'], format='%Y-%m-%d')\n",
    "startup_test['first_funding_at'] = pd.to_datetime(startup_test['first_funding_at'], format='%Y-%m-%d')\n",
    "startup_test['last_funding_at'] = pd.to_datetime(startup_test['last_funding_at'], format='%Y-%m-%d')"
   ]
  },
  {
   "cell_type": "code",
   "execution_count": 52,
   "metadata": {},
   "outputs": [
    {
     "name": "stdout",
     "output_type": "stream",
     "text": [
      "<class 'pandas.core.frame.DataFrame'>\n",
      "RangeIndex: 13125 entries, 0 to 13124\n",
      "Data columns (total 13 columns):\n",
      " #   Column                  Non-Null Count  Dtype         \n",
      "---  ------                  --------------  -----         \n",
      " 0   name                    13125 non-null  object        \n",
      " 1   category_list           12534 non-null  object        \n",
      " 2   funding_total_usd       10547 non-null  float64       \n",
      " 3   country_code            11743 non-null  object        \n",
      " 4   state_code              11430 non-null  object        \n",
      " 5   region                  11536 non-null  object        \n",
      " 6   city                    11538 non-null  object        \n",
      " 7   funding_rounds          13125 non-null  int64         \n",
      " 8   founded_at              13125 non-null  datetime64[ns]\n",
      " 9   first_funding_at        13125 non-null  datetime64[ns]\n",
      " 10  last_funding_at         13125 non-null  datetime64[ns]\n",
      " 11  lifetime                13125 non-null  int64         \n",
      " 12  delta_invest&open_time  13125 non-null  int64         \n",
      "dtypes: datetime64[ns](3), float64(1), int64(3), object(6)\n",
      "memory usage: 1.3+ MB\n"
     ]
    },
    {
     "data": {
      "text/plain": [
       "0    -395\n",
       "1      -3\n",
       "2      32\n",
       "3       0\n",
       "4   -2318\n",
       "Name: delta_invest&open_time, dtype: int64"
      ]
     },
     "execution_count": 52,
     "metadata": {},
     "output_type": "execute_result"
    }
   ],
   "source": [
    "# Добавим столбец delta_invest&open_time\n",
    "startup_test['delta_invest&open_time'] = startup_test.apply(lambda x: x['founded_at'] - x['first_funding_at'], axis=1).dt.days.astype('int64')\n",
    "\n",
    "startup_test.info()\n",
    "startup_test['delta_invest&open_time'].head()\n"
   ]
  },
  {
   "cell_type": "code",
   "execution_count": 53,
   "metadata": {},
   "outputs": [
    {
     "name": "stdout",
     "output_type": "stream",
     "text": [
      "<class 'pandas.core.frame.DataFrame'>\n",
      "RangeIndex: 13125 entries, 0 to 13124\n",
      "Data columns (total 14 columns):\n",
      " #   Column                  Non-Null Count  Dtype         \n",
      "---  ------                  --------------  -----         \n",
      " 0   name                    13125 non-null  object        \n",
      " 1   category_list           12534 non-null  object        \n",
      " 2   funding_total_usd       10547 non-null  float64       \n",
      " 3   country_code            11743 non-null  object        \n",
      " 4   state_code              11430 non-null  object        \n",
      " 5   region                  11536 non-null  object        \n",
      " 6   city                    11538 non-null  object        \n",
      " 7   funding_rounds          13125 non-null  int64         \n",
      " 8   founded_at              13125 non-null  datetime64[ns]\n",
      " 9   first_funding_at        13125 non-null  datetime64[ns]\n",
      " 10  last_funding_at         13125 non-null  datetime64[ns]\n",
      " 11  lifetime                13125 non-null  int64         \n",
      " 12  delta_invest&open_time  13125 non-null  int64         \n",
      " 13  delta_funding_time      13125 non-null  int64         \n",
      "dtypes: datetime64[ns](3), float64(1), int64(4), object(6)\n",
      "memory usage: 1.4+ MB\n"
     ]
    },
    {
     "data": {
      "text/plain": [
       "0       0\n",
       "1       0\n",
       "2     126\n",
       "3    1935\n",
       "4       0\n",
       "Name: delta_funding_time, dtype: int64"
      ]
     },
     "execution_count": 53,
     "metadata": {},
     "output_type": "execute_result"
    }
   ],
   "source": [
    "# Добавим столбец delta_invest_time\n",
    "startup_test['delta_funding_time'] = startup_test.apply(lambda x: x['last_funding_at'] - x['first_funding_at'], axis=1).dt.days.astype('int64')\n",
    "\n",
    "startup_test.info()\n",
    "startup_test['delta_funding_time'].head()\n"
   ]
  },
  {
   "cell_type": "code",
   "execution_count": 54,
   "metadata": {},
   "outputs": [
    {
     "data": {
      "text/plain": [
       "0    2008\n",
       "1    2010\n",
       "2    2014\n",
       "3    2005\n",
       "4    2001\n",
       "Name: founded_year, dtype: int32"
      ]
     },
     "execution_count": 54,
     "metadata": {},
     "output_type": "execute_result"
    }
   ],
   "source": [
    "startup_test['founded_year'] = startup_test['founded_at'].dt.year\n",
    "\n",
    "startup_test['founded_year'].head()"
   ]
  },
  {
   "cell_type": "code",
   "execution_count": 55,
   "metadata": {},
   "outputs": [
    {
     "name": "stdout",
     "output_type": "stream",
     "text": [
      "                         name  \\\n",
      "0                  Crystalsol   \n",
      "1            JBI Fish & Wings   \n",
      "2                    COINPLUS   \n",
      "3      Imagine Communications   \n",
      "4                       DNA13   \n",
      "...                       ...   \n",
      "13120                   Jymob   \n",
      "13121               GlobaTrek   \n",
      "13122                Inkd.com   \n",
      "13123                  AdWill   \n",
      "13124             RingCentral   \n",
      "\n",
      "                                           category_list  funding_total_usd  \\\n",
      "0                                       Clean Technology        2819200.000   \n",
      "1                                            Hospitality                NaN   \n",
      "2                                                Finance         428257.000   \n",
      "3                         Software|Video|Video Streaming       34700000.000   \n",
      "4                                               Software        4530000.000   \n",
      "...                                                  ...                ...   \n",
      "13120                                         Recruiting          28000.000   \n",
      "13121                                           Software                NaN   \n",
      "13122            Design|E-Commerce|Marketplaces|Printing        5600000.000   \n",
      "13123    Advertising Exchanges|Mobile|Mobile Advertising         150000.000   \n",
      "13124  Communications Hardware|Messaging|Mobile|Offic...       50250000.000   \n",
      "\n",
      "      country_code state_code            region              city  \\\n",
      "0              NIC         17               NaN               NaN   \n",
      "1              USA         TN        TN - Other          Humboldt   \n",
      "2              LUX          3  Esch-sur-alzette  Esch-sur-alzette   \n",
      "3              USA         CA         San Diego         San Diego   \n",
      "4              CAN         ON            Ottawa            Ottawa   \n",
      "...            ...        ...               ...               ...   \n",
      "13120          USA         CA       SF Bay Area         Sunnyvale   \n",
      "13121          USA         CA       SF Bay Area     Mountain View   \n",
      "13122          USA         WA           Seattle           Seattle   \n",
      "13123          USA         NY     New York City          New York   \n",
      "13124          USA         CA       SF Bay Area         San Mateo   \n",
      "\n",
      "       funding_rounds founded_at first_funding_at last_funding_at  lifetime  \\\n",
      "0                   1 2008-06-01       2009-07-01      2009-07-01      3501   \n",
      "1                   1 2010-07-25       2010-07-28      2010-07-28      2717   \n",
      "2                   2 2014-06-16       2014-05-15      2014-09-18      1295   \n",
      "3                   4 2005-01-01       2005-01-01      2010-04-20      4748   \n",
      "4                   1 2001-01-01       2007-05-08      2007-05-08      6209   \n",
      "...               ...        ...              ...             ...       ...   \n",
      "13120               1 2011-09-14       2012-07-01      2012-07-01      2301   \n",
      "13121               1 2012-01-01       2013-10-01      2013-10-01      2192   \n",
      "13122               3 2010-01-01       2008-09-01      2011-06-28      2922   \n",
      "13123               2 2013-03-07       2014-09-27      2014-11-04      1761   \n",
      "13124               6 2003-01-01       2007-01-16      2012-11-21      5479   \n",
      "\n",
      "       delta_invest&open_time  delta_funding_time  founded_year  \\\n",
      "0                        -395                   0          2008   \n",
      "1                          -3                   0          2010   \n",
      "2                          32                 126          2014   \n",
      "3                           0                1935          2005   \n",
      "4                       -2318                   0          2001   \n",
      "...                       ...                 ...           ...   \n",
      "13120                    -291                   0          2011   \n",
      "13121                    -639                   0          2012   \n",
      "13122                     487                1030          2010   \n",
      "13123                    -569                  38          2013   \n",
      "13124                   -1476                2136          2003   \n",
      "\n",
      "                  new_category  \n",
      "0             Clean Technology  \n",
      "1                  Hospitality  \n",
      "2                      Finance  \n",
      "3                     Software  \n",
      "4                     Software  \n",
      "...                        ...  \n",
      "13120               Recruiting  \n",
      "13121                 Software  \n",
      "13122                   Design  \n",
      "13123    Advertising Exchanges  \n",
      "13124  Communications Hardware  \n",
      "\n",
      "[13125 rows x 16 columns]\n"
     ]
    }
   ],
   "source": [
    "\n",
    "\n",
    "\n",
    "startup_test['new_category'] = ''\n",
    "\n",
    "def most_common_category(category_list):\n",
    "    categories = category_list.split('|')\n",
    "    return Counter(categories).most_common(1)[0][0]\n",
    "\n",
    "startup_test['new_category'] = (startup_test['category_list'].astype(str)\n",
    "                                 .apply(lambda x: x if '|' not in x else most_common_category(x)))\n",
    "\n",
    "print(startup_test)"
   ]
  },
  {
   "cell_type": "code",
   "execution_count": 56,
   "metadata": {},
   "outputs": [
    {
     "data": {
      "text/plain": [
       "category_list\n",
       "Software               775\n",
       "Biotechnology          693\n",
       "E-Commerce             263\n",
       "Mobile                 255\n",
       "Clean Technology       234\n",
       "Curated Web            191\n",
       "Hardware + Software    181\n",
       "Games                  180\n",
       "Health Care            176\n",
       "Enterprise Software    169\n",
       "Manufacturing          157\n",
       "Health and Wellness    148\n",
       "Advertising            141\n",
       "Finance                106\n",
       "Education              101\n",
       "Semiconductors          96\n",
       "Security                87\n",
       "Consulting              87\n",
       "Real Estate             83\n",
       "Web Hosting             80\n",
       "Social Media            79\n",
       "Name: count, dtype: int64"
      ]
     },
     "execution_count": 56,
     "metadata": {},
     "output_type": "execute_result"
    }
   ],
   "source": [
    "startup_test['category_list'].value_counts().sort_values(ascending = False).head(21)"
   ]
  },
  {
   "cell_type": "code",
   "execution_count": 57,
   "metadata": {},
   "outputs": [
    {
     "data": {
      "text/plain": [
       "new_category\n",
       "Biotechnology          855\n",
       "Software               809\n",
       "nan                    591\n",
       "E-Commerce             566\n",
       "Advertising            456\n",
       "Curated Web            436\n",
       "Mobile                 374\n",
       "Analytics              317\n",
       "Clean Technology       299\n",
       "Apps                   290\n",
       "Health Care            282\n",
       "Games                  265\n",
       "Enterprise Software    248\n",
       "Health and Wellness    244\n",
       "Finance                234\n",
       "Hardware + Software    219\n",
       "Education              190\n",
       "Manufacturing          183\n",
       "Consulting             145\n",
       "Android                138\n",
       "Internet               125\n",
       "Name: count, dtype: int64"
      ]
     },
     "execution_count": 57,
     "metadata": {},
     "output_type": "execute_result"
    }
   ],
   "source": [
    "startup_test['new_category'].value_counts().sort_values(ascending = False).head(21)"
   ]
  },
  {
   "cell_type": "code",
   "execution_count": 58,
   "metadata": {
    "scrolled": true
   },
   "outputs": [
    {
     "name": "stdout",
     "output_type": "stream",
     "text": [
      "Уникальные значения для name:\n",
      "['Crystalsol' 'JBI Fish & Wings' 'COINPLUS' ... 'Inkd.com' 'AdWill'\n",
      " 'RingCentral']\n",
      "Уникальные значения для category_list:\n",
      "['Clean Technology' 'Hospitality' 'Finance' ...\n",
      " 'Design|E-Commerce|Marketplaces|Printing'\n",
      " 'Advertising Exchanges|Mobile|Mobile Advertising'\n",
      " 'Communications Hardware|Messaging|Mobile|Office Space|Technology|VoIP']\n",
      "Уникальные значения для country_code:\n",
      "['NIC' 'USA' 'LUX' 'CAN' nan 'MYS' 'DEU' 'GBR' 'FRA' 'ITA' 'CHN' 'ARG'\n",
      " 'NLD' 'IRL' 'AUS' 'CHE' 'CHL' 'ESP' 'IND' 'ISR' 'DNK' 'KOR' 'RUS' 'PHL'\n",
      " 'URY' 'SGP' 'BRA' 'EGY' 'MEX' 'POL' 'VNM' 'AUT' 'EST' 'BEL' 'DMA' 'PRT'\n",
      " 'SWE' 'JOR' 'HUN' 'HKG' 'JPN' 'ZAF' 'COL' 'BGR' 'CZE' 'GRC' 'LTU' 'TWN'\n",
      " 'ISL' 'IDN' 'FIN' 'NOR' 'ARE' 'UKR' 'KEN' 'NGA' 'TUR' 'CRI' 'THA' 'CYP'\n",
      " 'ROM' 'MMR' 'VEN' 'BHR' 'NZL' 'SVK' 'CYM' 'LVA' 'MKD' 'PER' 'AZE' 'BWA'\n",
      " 'BGD' 'ZWE' 'CIV' 'LKA' 'SVN' 'SRB' 'BLR' 'TAN' 'SAU' 'GHA' 'CMR' 'TTO'\n",
      " 'PAK' 'BMU' 'PSE' 'UGA' 'MUS' 'JAM' 'LBN' 'ECU' 'PAN' 'GTM' 'HRV' 'BRB'\n",
      " 'ZMB']\n",
      "Уникальные значения для state_code:\n",
      "['17' 'TN' '3' 'CA' 'ON' nan 'VA' 'PA' 'AZ' '14' '7' 'AL' 'MA' 'NY' '16'\n",
      " 'H9' 'GA' 'I9' 'QC' 'FL' 'WA' 'OH' 'CO' 'A8' 'MS' '18' '22' 'DC' 'NC'\n",
      " 'C7' '15' '4' '2' 'TX' '24' '12' '51' '36' 'MO' '5' 'H3' '19' '23' 'NJ'\n",
      " 'MD' 'K2' 'MI' '11' '9' '48' 'D9' 'B3' 'IN' 'KS' '10' 'A6' 'SC' 'UT' 'OR'\n",
      " 'IL' '28' 'BC' '56' '78' 'LA' '1' 'A9' '29' '13' 'RI' 'B6' 'MN' 'U8' 'V2'\n",
      " 'CT' 'KY' 'WI' '26' 'P6' 'NM' '72' 'IA' '8' 'NV' 'E2' 'I2' 'ME' '86' '25'\n",
      " '30' 'B7' 'AB' '40' '60' 'Z3' 'NE' '34' 'Z7' 'A3' '59' 'VT' '52' '35'\n",
      " 'B4' '65' 'Q4' '6' 'NH' 'AR' 'M3' 'I6' 'A7' 'DE' 'NL' 'P4' 'F8' '27' 'C9'\n",
      " '42' 'MB' 'B9' 'I7' '79' 'J8' 'L3' 'J1' 'C3' 'WV' '31' 'MT' '58' 'N7'\n",
      " 'P8' 'F4' '32' 'I5' 'OK' 'W1' '53' 'G8' 'K7' 'T5' 'H2' '20' 'NS' 'E9'\n",
      " 'HI' 'F7' 'F2' '82' 'ND' 'N4' 'B8' '77' 'ID' '21' 'N2' 'X5' 'G2' 'P3'\n",
      " 'E6' '66' 'R3' 'P2' 'N5' 'T6' 'B5' 'A2' '99' 'E4' '41' 'C5' 'T9' 'E7'\n",
      " 'Y6' '81' 'Q5' '61' 'H8' 'D6' '46' 'M4' 'J7' '68' 'Y4' '97' 'X4' 'C2'\n",
      " 'A5' 'G5' 'WY' 'D8' 'G1' '73' 'G4' 'AK' 'L9' 'Y2' '87' 'A4' 'WE' '37'\n",
      " '71' 'F9' 'NB' 'D2' '89' 'J5' 'C6' 'H4' 'D4' 'M9' 'SD' 'L1' 'E5' 'Y9'\n",
      " 'H7' '38' 'V9' '39' 'C8' 'J9' 'O3' 'T7' 'W9' 'VI' '83' 'G7' 'V8' 'B1'\n",
      " 'SK' '75' 'U3' '90' 'W5' 'W3']\n",
      "Уникальные значения для region:\n",
      "[nan 'TN - Other' 'Esch-sur-alzette' 'San Diego' 'Ottawa'\n",
      " 'Washington, D.C.' 'Allentown' 'Phoenix' 'Kuala Lumpur' 'Cologne'\n",
      " 'Huntsville' 'Boston' 'New York City' 'SF Bay Area' 'Dusseldrof'\n",
      " 'Anaheim' 'Berlin' 'London' 'Ontario - Inland Empire' 'Philadelphia'\n",
      " 'Atlanta' 'Montreal' 'Nashville' 'Palm Beaches' 'Seattle' 'Cleveland'\n",
      " 'Denver' 'Toronto' 'Paris' 'Meridian' 'Miami' 'Terni' 'Beijing'\n",
      " 'Buenos Aires' 'Asheville' 'Los Angeles' 'Coventry' 'NLD - Other' 'Cork'\n",
      " 'Sydney' 'CA - Other' 'Dallas' 'Sarasota - Bradenton' 'Zurich' 'Hangzhou'\n",
      " 'NY - Other' 'Santiago' 'Bormujos' 'New Delhi' 'MO - Other' 'Tel Aviv'\n",
      " 'Ft. Lauderdale' 'Leeds' 'Charlotte' 'Worcester' 'Austin' 'Bangalore'\n",
      " 'Pittsburgh' 'Shanghai' 'Melbourne' 'Newark' 'MD - Other' 'Thame'\n",
      " 'MI - Other' 'Seoul' 'Utrecht' 'Moscow' 'Manila' 'Montevideo' 'Singapore'\n",
      " 'FRA - Other' 'IN - Other' 'Kansas City' 'BRA - Other'\n",
      " 'Palma De Mallorca' 'Cairo' 'SC - Other' 'Salt Lake City'\n",
      " 'Portland, Oregon' 'Santa Barbara' 'AL - Other' 'Chicago' 'Detroit'\n",
      " 'MEX - Other' 'Fort Wayne' 'Kelowna' 'Vancouver' 'Raleigh' 'Indianapolis'\n",
      " 'Barcelona' 'Warsaw' 'FL - Other' 'Sao Paulo' 'Ho Chi Minh' 'Vienna'\n",
      " 'Baton Rouge' 'Baltimore' 'Tallinn' 'Brussels' 'Montpellier' 'Copenhagen'\n",
      " 'Madrid' 'DEU - Other' 'Hilton Head Island' 'Providence' 'MN - Other'\n",
      " 'Mumbai' 'Edinburgh' 'IND - Other' 'DMA - Other'\n",
      " 'Columbia, South Carolina' 'Peoria' 'Glasgow' 'Lisbon' 'Hartford'\n",
      " 'Jacksonville' 'Nanjing' 'Lexington' 'Harrisburg' 'Lansing' 'Madison'\n",
      " 'Stockholm' 'Rochester, New York' 'Tampa' 'Amman' 'Budapest' 'NM - Other'\n",
      " 'Pune' 'RUS - Other' 'Leipzig' 'Springfield, Illinois' 'Des Moines'\n",
      " 'Frankfurt' 'Las Vegas' 'Elmira' 'Amsterdam' 'Burnaby' 'Brisbane'\n",
      " 'St. Louis' 'Lake Tahoe' 'HKG - Other' 'Rome' 'Manchester' 'CHN - Other'\n",
      " 'ME - Other' 'Poznan' 'Naples, Florida' 'Chennai' 'ITA - Other'\n",
      " 'Shenzhen' 'Delhi' 'Columbus, Ohio' 'Calgary' 'DNK - Other' 'Tokyo'\n",
      " 'Haifa' 'Tucson' 'Valencia' 'Dublin' 'Milwaukee' 'AUT - Other'\n",
      " 'GBR - Other' 'Omaha' 'Houston' 'Cape Town' 'Hamburg' 'Bogota' 'Netanya'\n",
      " 'Macclesfield' 'Busan' 'Malaga' 'Chattanooga' 'Rio de Janeiro'\n",
      " 'Sacramento' 'Bristol' 'Knoxville' 'Saint-denis-sur-loire' 'Bilbao'\n",
      " 'Nagpur' 'Florence' 'VT - Other' 'Prague' 'Athens' 'Boulogne'\n",
      " 'Mexico City' 'ARG - Other' 'Vilnius' 'Richmond' 'Minneapolis'\n",
      " 'Bromsgrove' 'Hyderabad' 'Orlando' 'Munich' 'Manchester, New Hampshire'\n",
      " 'Ballerup' 'Hagerstown' 'The Hague' 'Taiwan' 'CHE - Other' 'Fayetteville'\n",
      " 'Reyjavik' 'KY - Other' 'Jakarta' 'Bradford' 'IRL - Other'\n",
      " 'Atlantic City' 'Birmingham' 'Wilmington, Delaware' 'Pensacola' 'Jackson'\n",
      " 'Gothenburg' 'Perth' 'Colorado Springs' 'IL - Other' 'WA - Other'\n",
      " 'Helsinki' 'ON - Other' \"St. John's\" 'NJ - Other' 'Springfield'\n",
      " 'State College' 'Athens, Georgia' 'TX - Other' 'ISR - Other'\n",
      " 'New Orleans' 'Ghaziabad' 'Newbury' 'KS - Other'\n",
      " 'Orange County, California' 'Memphis' 'Hong Kong' 'Watford' 'Malmo'\n",
      " 'Turin' 'Sofia' 'Milan' 'Saskatoon' 'Lyon' 'Cedar Rapids' 'Newcastle'\n",
      " 'POL - Other' 'Oulu' \"Florida's Space Coast\" 'Dubai' 'Nottingham'\n",
      " 'Yucatan' 'Pozuelo De Alarcon' 'NC - Other' 'Odessa' 'Cincinnati'\n",
      " 'Albuquerque' 'WV - Other' 'Greenville - Spartanburg' 'Freiburg'\n",
      " 'DÃºn Laoghaire' 'Oberhaching' 'Hainan' 'Saarbrucken' 'Portsmouth'\n",
      " 'Bozeman' 'Nairobi' 'A Coruna' 'CO - Other' 'AZ - Other' 'Alton Barnes'\n",
      " 'ESP - Other' 'Fresno' 'OH - Other' 'Grand Rapids' 'Chengdu' 'Lagos'\n",
      " 'Middlesbrough' 'AR - Other' 'CZE - Other' 'LabÃ¨ge' 'Halmstad'\n",
      " 'Oklahoma City' 'Modena' 'Rotterdam' 'Cape Cod' 'Cagliari' 'Tulsa'\n",
      " 'Huddersfield' 'Bonn' 'CT - Other' 'Northampton' 'Greensboro' 'Istanbul'\n",
      " 'San Antonio' 'Maple Ridge' 'Brescia' 'Lausanne' 'Long Island' 'Aberdeen'\n",
      " 'Turku' 'Mobile' 'Antwerp' 'Costa Rica' 'Bangkok' 'Lugano' 'Bakersfield'\n",
      " 'Wan Chai' 'Albany, Georgia' 'Dnepropetrovsk' 'Osaka' 'Stavanger'\n",
      " 'MA - Other' 'Surrey' 'Cordoba, ARG' 'Halifax' 'Montpelier' 'Herisau'\n",
      " 'Grand Junction' 'Daresbury' 'Geneva' 'NOR - Other' 'Puteaux' 'Syracuse'\n",
      " 'Quebec City' 'Iasi' 'Honolulu' 'Kolkata' 'CHL - Other' 'Abbotsford'\n",
      " 'Napa Valley' 'Salisbury' 'Fargo' 'Stoke-on-trent' 'VA - Other' 'Venice'\n",
      " 'Yangon' 'Tampere' 'Akron - Canton' 'Louisville' 'Lubbock' 'Villeurbanne'\n",
      " 'PA - Other' 'Cluj-Napoca' 'Krakow' 'Curitiba' 'Boise' 'Zaragoza'\n",
      " 'Buffalo' 'Bahrain' 'Stockport' 'Guangzhou' 'ID - Other'\n",
      " \"Florida's Treasure Coast\" 'St. Cloud' 'Portland, Maine' 'Kalamazoo'\n",
      " 'Cardiff' 'AUS - Other' 'Wroclaw' 'CYP - Other'\n",
      " 'Wilmington - Cape Fear, North Carolina' 'Wellington' 'Leamington Spa'\n",
      " 'Fukuoka' 'Little Rock' 'Cirencester' 'Bratislava' 'JPN - Other'\n",
      " 'Idaho Falls' 'Branson' 'Belfast' 'Ã‡an' 'Cadiz' 'IDN - Other'\n",
      " 'Albany, New York' 'ItÃ¡' 'Warrington' 'Odense' 'Edmonton' 'Dayton'\n",
      " 'Nice' 'Lafayette, Louisiana' 'Nantes' 'Toledo' 'Myrtle Beach' 'Tianjin'\n",
      " 'Gainesville' 'Oslo' 'Linkoping' 'Regensburg' 'PRT - Other'\n",
      " 'Cayman Islands' 'Palm Springs' 'IA - Other' 'Fortaleza' 'MYS - Other'\n",
      " 'Riga' 'Rennes' 'Linz' 'WI - Other' 'Henley On Thames' 'Guangdong'\n",
      " 'Norfolk - Virginia Beach' 'Skopje' 'Kiev' 'Davao' 'Gdynia' 'Roncade'\n",
      " 'Cheltenham' 'Lima' 'Baku' 'Monterrey' 'Bern' 'Lysaker' 'Porto Alegre'\n",
      " 'Auckland' 'Newport' 'Dhaka' 'Harare' 'CIV - Other' 'Bhubaneswar'\n",
      " 'Surabaya' 'Trondheim' 'Biloxi - Gulfport' 'Nuremberg' 'Kochi'\n",
      " 'LA - Other' 'ROM - Other' 'Montreuil' 'Jaipur' 'York' 'Marseille'\n",
      " 'NE - Other' 'KOR - Other' 'Toulouse' 'Sri Lanka' 'Ljubljana' 'Eugene'\n",
      " 'Chiasso' 'Dornbirn' 'FIN - Other' 'SRB - Other' 'Sligo' 'SWE - Other'\n",
      " 'Luxemburg' 'Spokane' 'Tupelo' 'Christchurch' 'Brasilia' 'Liverpool'\n",
      " 'Reno - Sparks' 'Augusta, Maine' 'Blackrock' 'San Luis Obispo'\n",
      " 'CRI - Other' 'THA - Other' 'LUX - Other' 'Harrogate' 'NGA - Other'\n",
      " 'Ankara' 'Chemnitz' 'Palma Del RÃ\\xado' 'Hanoi' 'Rochester, Minnesota'\n",
      " 'Minsk' 'Sandnes' 'MaroÃºli' 'Belgrade' 'Kuopio' 'NS - Other' 'Porto'\n",
      " 'Baar' 'Aix-en-provence' 'AB - Other' 'Caerphilly' 'Ecublens' 'Canberra'\n",
      " 'TZA - Other' 'Magdeburg' 'Abuja' 'Dresden' 'Snodland' 'WY - Other'\n",
      " 'Lancaster' 'Basel' 'Eindhoven' 'Picardie' 'Umea' 'EST - Other'\n",
      " 'Vadodara' 'COL - Other' 'JyvÃ¤skylÃ¤' 'Charleston, South Carolina'\n",
      " 'Napoli' 'El Paso' 'Jeddah' 'Accra' 'Brentford' 'Zhengzhou' 'Martinsried'\n",
      " 'Swindon' 'Bolton Upon Dearne' 'Sundsvall' 'Kolding' 'Vantaa' 'Winnipeg'\n",
      " 'Aarhus' 'Oxton' 'Scranton' 'JOR - Other' 'Reinach' 'Sheung Wan' 'Orsay'\n",
      " 'CMR - Other' 'TTO - Other' 'Castelldefels' 'AK - Other' 'South Grafton'\n",
      " 'Dover' 'Sheffield' 'Campinas' 'GA - Other' 'Jena' 'Kent' 'NV - Other'\n",
      " 'Salerno' 'Youngstown' 'Amersham' 'Kunshan' 'PAK - Other' 'Herlev'\n",
      " 'Bermuda' 'Jerusalem' 'Recife' 'Szczecin' 'Bath' 'UT - Other'\n",
      " 'Fort Saskatchewan' 'ND - Other' 'Binton' 'Fort Collins' 'Bologna'\n",
      " 'Kampala' 'Sacramento Valley' 'Roubaix' 'Yokohama' 'Karachi'\n",
      " 'Moline - Davenport' 'Perm' 'Heathrow' 'Tunbridge Wells' 'Tallahassee'\n",
      " 'HÃ¸rsholm' 'NB - Other' 'GRC - Other' 'Leudelange' 'Roanoke' 'Cheyenne'\n",
      " 'Derby' 'Stratford-upon-avon' 'BC - Other' 'Mauritius' 'Daejeon' 'Annecy'\n",
      " 'Johannesburg' 'Shenyang' 'Verona' 'Penang' 'Sunderland Bridge' 'Ancona'\n",
      " 'Camberley' 'Fuzhou Shi' 'Shreveport' 'Camborne' 'BEL - Other'\n",
      " 'St. Petersburg' 'Delta' 'Ahmedabad' 'Leicester' 'Aurangabad'\n",
      " 'Alexandria' 'Westmount' 'Cannock' 'NL - Other' 'Braunschweig'\n",
      " 'Sioux Falls' 'NH - Other' 'South Bend' 'Gateshead' 'SVK - Other'\n",
      " 'Stuttgart' 'Warwick' 'Bundangdong' 'Valby' 'Essen' 'Monterey'\n",
      " 'Anchorage' 'Frensham' 'Kristiansand' 'Tralee' 'Skien' 'Windsor'\n",
      " 'Spruce Grove' 'JAM - Other' 'Firenze' 'Lahore' 'Beirut' 'MS - Other'\n",
      " 'Ulm' 'Seville' 'Winston-Salem' 'Duluth' 'NZL - Other' 'Seongnam'\n",
      " 'New Bedford' 'Montgomery' 'Vellore' 'San Sebastian ' 'Mohali' 'Missoula'\n",
      " 'Farum' 'Bucharest' 'PHL - Other' 'Traverse City' 'ECU - Other' 'Oviedo'\n",
      " 'Starnberg' 'UKR - Other' 'Hellerup' 'Stafford' 'Bordeaux' 'Cyprus'\n",
      " 'Aalborg' 'Logrono' 'Linlithgow' 'Boston Spa' 'DE - Other' 'EGY - Other'\n",
      " 'Aachen' 'Haryana' 'Daytona Beach' 'Adelaide' 'Newcastle Under Lyme'\n",
      " 'Burleigh Heads' 'Wuhan' 'Panama City' 'Alicante' 'Grenoble' 'QC - Other'\n",
      " 'Guatemala City' 'Green Bay' 'Reggio Nell Emilia' 'Chester' 'Poole'\n",
      " 'Katowice' 'Fort Myers' 'Livingston' 'Crook Of Devon' 'Vail' 'Surbiton'\n",
      " 'PER - Other' 'San SebastiÃ¡n De Los Reyes' 'Rockford' 'Zagreb'\n",
      " 'Leonberg' 'Graz' 'SK - Other' 'Dorval' 'Macon' 'Rimini' 'Novosibirsk'\n",
      " 'Kauai' 'Dundee' 'Osnabruck' 'Knutsford' 'BRB - Other' 'Trento'\n",
      " 'Secunderabad' 'Foshan' 'Abu Dhabi' 'Groningen' 'Durban'\n",
      " 'Nizhniy Novgorod' 'ZMB - Other' 'Holmes Chapel' 'Vejle' 'SVN - Other'\n",
      " 'Bochum' 'NoÃ¡in' 'Douglas' 'Medellin' 'Hubli' 'SÃ¨te'\n",
      " \"Champagne-au-mont-d'or\"]\n",
      "Уникальные значения для city:\n",
      "[nan 'Humboldt' 'Esch-sur-alzette' ... \"Champagne-au-mont-d'or\"\n",
      " \"Be'er Sheva\" 'Taichung']\n",
      "Уникальные значения для new_category:\n",
      "['Clean Technology' 'Hospitality' 'Finance' 'Software' 'Design'\n",
      " 'Biotechnology' 'Health Care' 'Consulting' 'Mobile' 'Big Data'\n",
      " 'Call Center Automation' 'EdTech' 'Advertising' 'Location Based Services'\n",
      " 'Medical' 'Artificial Intelligence' 'Curated Web' 'Fitness' 'Analytics'\n",
      " 'Application Platforms' 'Communications Infrastructure'\n",
      " 'Health and Wellness' 'Networking' 'Brokers' 'Fashion'\n",
      " 'Hardware + Software' 'Dental' 'Telecommunications' 'Colleges'\n",
      " 'Development Platforms' 'Education' 'Semiconductors' '3D'\n",
      " 'Financial Services' 'Social News' 'Information Technology' 'E-Commerce'\n",
      " 'Data Mining' 'Creative' 'Nanotechnology' 'Games' 'Bitcoin' 'nan' 'News'\n",
      " 'Travel' 'Nonprofits' 'Internet' 'Cloud Computing' 'Enterprise Software'\n",
      " 'Healthcare Services' 'Business Services' 'Computers' 'Social Media'\n",
      " 'Real Estate' 'Entertainment' 'Photography' 'Restaurants' 'Automotive'\n",
      " 'Coupons' 'Technology' 'Apps' 'Security' 'Aerospace' 'Architecture'\n",
      " 'Mobile Commerce' 'Leisure' 'Crowdsourcing' 'Transportation'\n",
      " 'Creative Industries' 'Shopping' 'Content Delivery' 'Internet Marketing'\n",
      " 'Sports' 'Carbon' 'Advice' 'Consumer Electronics' 'Search'\n",
      " 'Advertising Platforms' 'Manufacturing' 'Consumer Goods' 'Events'\n",
      " 'Property Management' 'Specialty Foods' 'Energy' 'Enterprises'\n",
      " 'Environmental Innovation' 'Digital Entertainment' 'Chat'\n",
      " 'Browser Extensions' 'Cloud Data Services' 'Food Processing'\n",
      " 'Broadcasting' 'Art' 'Android' 'Craft Beer' 'Big Data Analytics' 'Cars'\n",
      " 'B2B' 'Artists Globally' 'Hardware' 'Cyber Security' 'CAD' 'Bio-Pharm'\n",
      " 'Consumer Behavior' 'Small and Medium Businesses' 'Media'\n",
      " 'Consumer Internet' 'All Students' 'Delivery' 'Customer Service'\n",
      " 'Developer Tools' 'Pharmaceuticals' 'Brand Marketing' 'Energy Management'\n",
      " 'File Sharing' 'Content' 'Cosmetics' 'Music Services' 'CRM'\n",
      " 'Enterprise Application' 'Video Games' 'Pets' 'Fmcg' 'Finance Technology'\n",
      " 'Web Hosting' 'SaaS' 'Collaboration' 'Mobile Games' 'Politics'\n",
      " 'Career Management' 'Communications Hardware' 'Mobility' 'Banking'\n",
      " 'Mobile Social' 'Natural Resources' 'Charity' '3D Printing'\n",
      " 'Business Development' 'Sporting Goods' 'Human Resources' 'Accounting'\n",
      " 'Home & Garden' 'Crowdfunding' 'Algorithms' 'Game Mechanics' 'Angels'\n",
      " 'Digital Media' 'Oil' 'Retail Technology' 'Hotels' 'Employment' 'Beauty'\n",
      " 'Sales and Marketing' 'Payments' 'Logistics' 'Content Creators'\n",
      " 'Messaging' 'DOD/Military' 'Usability' 'Public Relations' 'Doctors'\n",
      " 'Renewable Energies' 'Gamification' 'Marketplaces' 'Local' 'Retail'\n",
      " 'Social Games' 'Archiving' 'Publishing' 'Health Diagnostics' 'Services'\n",
      " 'Clean Energy' 'Shared Services' 'Adventure Travel' 'Local Businesses'\n",
      " 'Business Intelligence' 'Flash Sales' 'Construction' 'Content Discovery'\n",
      " 'Emerging Markets' 'Consumers' 'Legal' 'Corporate Wellness' 'Music'\n",
      " 'Mobile Advertising' 'Databases' 'Cloud Security' 'Organic Food'\n",
      " 'Startups' 'Defense' 'Medical Devices' 'Portals' 'Automated Kiosk' 'SNS'\n",
      " 'Insurance' 'Jewelry' 'Navigation' 'Social Bookmarking'\n",
      " 'Social Network Media' 'Recruiting' 'Consumer Lending' 'Discounts'\n",
      " 'iPhone' 'Online Rental' 'Fantasy Sports' '3D Technology' 'Distribution'\n",
      " 'Machine Learning' 'Guides' 'Audio' 'Exercise' 'Material Science'\n",
      " 'Investment Management' 'Heavy Industry' 'Outsourcing'\n",
      " 'Information Services' 'Credit' 'Bridging Online and Offline'\n",
      " 'Cloud Management' 'Communities' 'Robotics' 'Ad Targeting'\n",
      " 'Interface Design' 'Innovation Management' 'Reviews and Recommendations'\n",
      " 'Social Buying' 'Document Management' 'Contact Management'\n",
      " 'Advertising Exchanges' 'Brewing' 'Governments' 'Life Sciences'\n",
      " 'Credit Cards' 'Data Centers' 'iOS' 'Public Transportation'\n",
      " 'Distributors' 'Incentives' 'Groceries' 'Elder Care' 'Governance' 'Auto'\n",
      " 'Baby Accessories' 'Impact Investing' 'Search Marketing'\n",
      " 'Blogging Platforms' 'Film Production'\n",
      " 'Health Care Information Technology' 'Drones' 'Entertainment Industry'\n",
      " 'Loyalty Programs' 'Service Providers' 'Clinical Trials' 'Wireless'\n",
      " 'Market Research' 'Innovation Engineering' 'Mobile Software Tools' 'Gas'\n",
      " 'Cannabis' 'Diagnostics' 'Internet of Things'\n",
      " 'Employer Benefits Programs' 'Concerts' 'Interest Graph'\n",
      " 'Local Advertising' 'App Discovery' 'Application Performance Monitoring'\n",
      " 'Electronics' 'Business Analytics' 'Contact Centers'\n",
      " 'Mechanical Solutions' 'Online Travel' 'IT Management' 'App Marketing'\n",
      " 'Video' 'Auctions' 'Classifieds' 'Email' 'Eyewear' 'Bicycles'\n",
      " 'Content Syndication' 'Agriculture' 'Personal Finance'\n",
      " 'Collaborative Consumption' 'iPad' 'Intellectual Asset Management'\n",
      " 'Ediscovery' 'Electronic Health Records' 'Information Security'\n",
      " 'Open Source' 'Printing' 'Financial Exchanges' 'Sensors'\n",
      " 'Advanced Materials' 'Digital Signage' 'Procurement' 'Casual Games'\n",
      " 'Charter Schools' 'Online Dating' 'Facebook Applications'\n",
      " 'Home Automation' 'Network Security' 'High Schools' 'Console Gaming'\n",
      " 'Data Security' 'Maps' 'Film' 'Public Safety' 'Augmented Reality'\n",
      " 'Data Integration' 'E-Books' 'Babies' 'Online Shopping' 'Venture Capital'\n",
      " 'App Stores' 'Engineering Firms' 'Local Search' 'Electrical Distribution'\n",
      " 'Natural Gas Uses' 'Computer Vision' 'Linux' 'Gps' 'Knowledge Management'\n",
      " 'Energy Efficiency' 'College Recruiting' 'Commercial Real Estate'\n",
      " 'Educational Games' 'High School Students' 'RFID' 'Oil & Gas'\n",
      " 'Interior Design' 'Mobile Shopping' 'E-Commerce Platforms' 'Non Profit'\n",
      " 'M2M' 'Enterprise Security' 'Real Time' 'Data Visualization'\n",
      " 'Career Planning' 'Batteries' 'Meeting Software' 'China Internet'\n",
      " 'Utilities' 'Rental Housing' 'Therapeutics' 'Mobile Security' 'Training'\n",
      " 'Experience Design' 'Optical Communications' 'Textiles'\n",
      " 'Assisitive Technology' 'Private Social Networking' 'Industrial'\n",
      " 'All Markets' 'Ticketing' 'Game' 'Comparison Shopping'\n",
      " 'Health and Insurance' 'Farming' 'Event Management' 'Domains'\n",
      " 'Lead Generation' 'Child Care' 'Government Innovation'\n",
      " 'Cloud-Based Music' 'Intellectual Property' 'Genetic Testing'\n",
      " 'Cosmetic Surgery' 'Biofuels' 'Corporate Training' 'Billing'\n",
      " 'Travel & Tourism' 'Freemium' 'Subscription Businesses'\n",
      " 'IT and Cybersecurity' 'Predictive Analytics' 'Cooking'\n",
      " 'Health Services Industry' 'New Technologies' 'Business Productivity'\n",
      " 'Kids' 'Postal and Courier Services' 'Identity' 'Industrial Automation'\n",
      " 'Green' 'Embedded Hardware and Software' 'Coffee' 'Lasers'\n",
      " 'Vacation Rentals' 'Local Based Services' 'Online Reservations'\n",
      " 'Hospitals' 'Direct Advertising' 'Marketing Automation' 'DIY' 'Families'\n",
      " 'Identity Management' 'Infrastructure' 'Developer APIs'\n",
      " 'Wine And Spirits' 'BPO Services' 'Incubators' 'Performance Marketing'\n",
      " 'FreetoPlay Gaming' 'Anything Capital Intensive' 'Lifestyle' 'Musicians'\n",
      " 'Commercial Solar' 'Medical Professionals' 'Concentrated Solar Power'\n",
      " 'Privacy' 'Active Lifestyle' 'Cloud Infrastructure' 'Boating Industry'\n",
      " 'Law Enforcement' 'Mobile Devices' 'Television' 'Homeless Shelter'\n",
      " 'Gambling' 'Gift Card' 'Collectibles' 'Diabetes' 'Direct Sales'\n",
      " 'GreenTech' 'Photo Sharing' 'Productivity Software' 'Baby Boomers'\n",
      " 'Enterprise 2.0' 'K-12 Education' 'Biometrics' 'Data Center Automation'\n",
      " 'PaaS' 'Forums' 'Bioinformatics' 'Skill Assessment' 'Home Renovation'\n",
      " 'Fraud Detection' 'Web Design' 'Cable' 'Social Commerce'\n",
      " 'Advertising Networks' 'Price Comparison' 'Surveys' 'Tourism'\n",
      " 'Animal Feed' 'Trading' 'Group Email' 'Green Consumer Goods'\n",
      " 'Professional Services' 'Logistics Company' 'Corporate IT' 'Water'\n",
      " 'Senior Health' 'Email Marketing' 'Geospatial' 'Web Tools' 'Celebrity'\n",
      " 'Language Learning' 'Minerals' 'Entrepreneur' 'Journalism'\n",
      " 'General Public Worldwide' 'College Campuses' 'Comics' 'Reputation'\n",
      " 'Fleet Management' 'Gadget' 'VoIP' 'Mobile Analytics' 'Music Education'\n",
      " 'Building Owners' 'Local Commerce' 'Chemicals' 'Internet Radio Market'\n",
      " 'Landscaping' 'Assisted Living' 'Toys' 'Tracking'\n",
      " 'Field Support Services' 'Intelligent Systems' 'Adaptive Equipment'\n",
      " 'Shipping' 'Gay & Lesbian' 'Building Products' 'Contests'\n",
      " 'Direct Marketing' 'Baby Safety' 'Specialty Chemicals' 'Personalization'\n",
      " 'Customer Support Tools' 'Civil Engineers' 'Indoor Positioning'\n",
      " 'Project Management' 'Displays' 'Flash Storage' 'Online Education'\n",
      " 'Mobile Health' 'Charities' 'EDA Tools' 'Furniture' 'Lifestyle Products'\n",
      " 'Darknet' 'Enterprise Resource Planning' 'Service Industries'\n",
      " 'Social CRM' 'Peer-to-Peer' 'Biomass Power Generation' 'Home Decor'\n",
      " 'Oil and Gas' 'Sales Automation' 'Private School' 'Designers' 'Parking'\n",
      " 'Real Estate Investors' 'Match-Making' 'Social Travel'\n",
      " 'Certification Test' 'Alternative Medicine'\n",
      " 'Business Information Systems' 'Realtors' 'Presentations' 'FinTech'\n",
      " 'Humanitarian' 'Enterprise Purchasing' 'Social Fundraising' 'Fuels'\n",
      " 'Gold' 'Human Computer Interaction' 'Online Gaming' 'Nutrition'\n",
      " 'Video Streaming' 'Mobile Payments' 'Independent Pharmacies'\n",
      " 'Online Video Advertising' 'Freelancers' 'Mens Specific' 'Graphics'\n",
      " 'Clean Technology IT' 'Photo Editing' 'Golf Equipment' 'Point of Sale'\n",
      " 'Non-Tech' 'Soccer' 'Internet TV' 'Digital Rights Management' 'Alumni'\n",
      " 'Testing' 'Gift Registries' 'Watch' 'Product Design'\n",
      " 'Dietary Supplements' 'Staffing Firms' 'Social + Mobile + Local'\n",
      " 'Online Scheduling' 'Data Privacy' 'Farmers Market'\n",
      " 'Internet Infrastructure' 'Electric Vehicles' 'Coworking' 'Outdoors']\n"
     ]
    }
   ],
   "source": [
    "# Выявление уникальных значений категориальных столбцов\n",
    "for column in startup_test.select_dtypes(include=['object']).columns:\n",
    "    print(f'Уникальные значения для {column}:')\n",
    "    print(startup_test[column].unique())"
   ]
  },
  {
   "cell_type": "code",
   "execution_count": 59,
   "metadata": {},
   "outputs": [],
   "source": [
    "# # Считать количество выбросов в столбце 'column_name'\n",
    "# outliers = startup_test['funding_total_usd'].apply(lambda x: abs(x - startup_test['funding_total_usd'].mean()) > 3 * startup_test['funding_total_usd'].std())\n",
    "\n",
    "# # Вывести количество выбросов\n",
    "# outliers.sum()/len(startup_test['funding_total_usd'])*100\n"
   ]
  },
  {
   "cell_type": "code",
   "execution_count": 60,
   "metadata": {},
   "outputs": [],
   "source": [
    "# # Считать количество выбросов в столбце 'column_name'\n",
    "# outliers = startup_test['funding_rounds'].apply(lambda x: abs(x - startup_test['funding_rounds'].mean()) > 3 * startup_test['funding_rounds'].std())\n",
    "\n",
    "# # Вывести количество выбросов\n",
    "# outliers.sum()/len(startup_test['funding_rounds'])*100\n"
   ]
  },
  {
   "cell_type": "code",
   "execution_count": 61,
   "metadata": {},
   "outputs": [],
   "source": [
    "# # Считать количество выбросов в столбце 'column_name'\n",
    "# outliers = startup_test['lifetime'].apply(lambda x: abs(x - startup_test['lifetime'].mean()) > 3 * startup_test['lifetime'].std())\n",
    "\n",
    "# # Вывести количество выбросов\n",
    "# outliers.sum()/len(startup_test['lifetime'])*100\n"
   ]
  },
  {
   "cell_type": "code",
   "execution_count": 62,
   "metadata": {},
   "outputs": [],
   "source": [
    "# # Проверка на выбросы с помощью boxplot\n",
    "# for column in startup_test.select_dtypes(include=[np.number]).columns:\n",
    "#     if column != 'id':\n",
    "#         # Вычисление размаха данных\n",
    "#         data_range = startup_test[column].max() - startup_test[column].min()\n",
    "        \n",
    "#         # Настройка размера графика в зависимости от размаха данных\n",
    "#         plt.figure(figsize=(5, data_range / startup_test[column].std()))\n",
    "#         startup_test.boxplot([column])\n",
    "#         plt.title(f'Boxplot для {column}')\n",
    "#         plt.show()"
   ]
  },
  {
   "cell_type": "code",
   "execution_count": 63,
   "metadata": {},
   "outputs": [
    {
     "data": {
      "text/html": [
       "<div>\n",
       "<style scoped>\n",
       "    .dataframe tbody tr th:only-of-type {\n",
       "        vertical-align: middle;\n",
       "    }\n",
       "\n",
       "    .dataframe tbody tr th {\n",
       "        vertical-align: top;\n",
       "    }\n",
       "\n",
       "    .dataframe thead th {\n",
       "        text-align: right;\n",
       "    }\n",
       "</style>\n",
       "<table border=\"1\" class=\"dataframe\">\n",
       "  <thead>\n",
       "    <tr style=\"text-align: right;\">\n",
       "      <th></th>\n",
       "      <th>name</th>\n",
       "      <th>category_list</th>\n",
       "      <th>funding_total_usd</th>\n",
       "      <th>country_code</th>\n",
       "      <th>state_code</th>\n",
       "      <th>region</th>\n",
       "      <th>city</th>\n",
       "      <th>funding_rounds</th>\n",
       "      <th>founded_at</th>\n",
       "      <th>first_funding_at</th>\n",
       "      <th>last_funding_at</th>\n",
       "      <th>lifetime</th>\n",
       "      <th>delta_invest&amp;open_time</th>\n",
       "      <th>delta_funding_time</th>\n",
       "      <th>founded_year</th>\n",
       "      <th>new_category</th>\n",
       "    </tr>\n",
       "  </thead>\n",
       "  <tbody>\n",
       "    <tr>\n",
       "      <th>0</th>\n",
       "      <td>Crystalsol</td>\n",
       "      <td>Clean Technology</td>\n",
       "      <td>2819200.000</td>\n",
       "      <td>NIC</td>\n",
       "      <td>17</td>\n",
       "      <td>NaN</td>\n",
       "      <td>NaN</td>\n",
       "      <td>1</td>\n",
       "      <td>2008-06-01</td>\n",
       "      <td>2009-07-01</td>\n",
       "      <td>2009-07-01</td>\n",
       "      <td>3501</td>\n",
       "      <td>-395</td>\n",
       "      <td>0</td>\n",
       "      <td>2008</td>\n",
       "      <td>Clean Technology</td>\n",
       "    </tr>\n",
       "    <tr>\n",
       "      <th>1</th>\n",
       "      <td>JBI Fish &amp; Wings</td>\n",
       "      <td>Hospitality</td>\n",
       "      <td>NaN</td>\n",
       "      <td>USA</td>\n",
       "      <td>TN</td>\n",
       "      <td>TN - Other</td>\n",
       "      <td>Humboldt</td>\n",
       "      <td>1</td>\n",
       "      <td>2010-07-25</td>\n",
       "      <td>2010-07-28</td>\n",
       "      <td>2010-07-28</td>\n",
       "      <td>2717</td>\n",
       "      <td>-3</td>\n",
       "      <td>0</td>\n",
       "      <td>2010</td>\n",
       "      <td>Hospitality</td>\n",
       "    </tr>\n",
       "    <tr>\n",
       "      <th>2</th>\n",
       "      <td>COINPLUS</td>\n",
       "      <td>Finance</td>\n",
       "      <td>428257.000</td>\n",
       "      <td>LUX</td>\n",
       "      <td>3</td>\n",
       "      <td>Esch-sur-alzette</td>\n",
       "      <td>Esch-sur-alzette</td>\n",
       "      <td>2</td>\n",
       "      <td>2014-06-16</td>\n",
       "      <td>2014-05-15</td>\n",
       "      <td>2014-09-18</td>\n",
       "      <td>1295</td>\n",
       "      <td>32</td>\n",
       "      <td>126</td>\n",
       "      <td>2014</td>\n",
       "      <td>Finance</td>\n",
       "    </tr>\n",
       "    <tr>\n",
       "      <th>3</th>\n",
       "      <td>Imagine Communications</td>\n",
       "      <td>Software|Video|Video Streaming</td>\n",
       "      <td>34700000.000</td>\n",
       "      <td>USA</td>\n",
       "      <td>CA</td>\n",
       "      <td>San Diego</td>\n",
       "      <td>San Diego</td>\n",
       "      <td>4</td>\n",
       "      <td>2005-01-01</td>\n",
       "      <td>2005-01-01</td>\n",
       "      <td>2010-04-20</td>\n",
       "      <td>4748</td>\n",
       "      <td>0</td>\n",
       "      <td>1935</td>\n",
       "      <td>2005</td>\n",
       "      <td>Software</td>\n",
       "    </tr>\n",
       "    <tr>\n",
       "      <th>4</th>\n",
       "      <td>DNA13</td>\n",
       "      <td>Software</td>\n",
       "      <td>4530000.000</td>\n",
       "      <td>CAN</td>\n",
       "      <td>ON</td>\n",
       "      <td>Ottawa</td>\n",
       "      <td>Ottawa</td>\n",
       "      <td>1</td>\n",
       "      <td>2001-01-01</td>\n",
       "      <td>2007-05-08</td>\n",
       "      <td>2007-05-08</td>\n",
       "      <td>6209</td>\n",
       "      <td>-2318</td>\n",
       "      <td>0</td>\n",
       "      <td>2001</td>\n",
       "      <td>Software</td>\n",
       "    </tr>\n",
       "  </tbody>\n",
       "</table>\n",
       "</div>"
      ],
      "text/plain": [
       "                     name                   category_list  funding_total_usd  \\\n",
       "0              Crystalsol                Clean Technology        2819200.000   \n",
       "1        JBI Fish & Wings                     Hospitality                NaN   \n",
       "2                COINPLUS                         Finance         428257.000   \n",
       "3  Imagine Communications  Software|Video|Video Streaming       34700000.000   \n",
       "4                   DNA13                        Software        4530000.000   \n",
       "\n",
       "  country_code state_code            region              city  funding_rounds  \\\n",
       "0          NIC         17               NaN               NaN               1   \n",
       "1          USA         TN        TN - Other          Humboldt               1   \n",
       "2          LUX          3  Esch-sur-alzette  Esch-sur-alzette               2   \n",
       "3          USA         CA         San Diego         San Diego               4   \n",
       "4          CAN         ON            Ottawa            Ottawa               1   \n",
       "\n",
       "  founded_at first_funding_at last_funding_at  lifetime  \\\n",
       "0 2008-06-01       2009-07-01      2009-07-01      3501   \n",
       "1 2010-07-25       2010-07-28      2010-07-28      2717   \n",
       "2 2014-06-16       2014-05-15      2014-09-18      1295   \n",
       "3 2005-01-01       2005-01-01      2010-04-20      4748   \n",
       "4 2001-01-01       2007-05-08      2007-05-08      6209   \n",
       "\n",
       "   delta_invest&open_time  delta_funding_time  founded_year      new_category  \n",
       "0                    -395                   0          2008  Clean Technology  \n",
       "1                      -3                   0          2010       Hospitality  \n",
       "2                      32                 126          2014           Finance  \n",
       "3                       0                1935          2005          Software  \n",
       "4                   -2318                   0          2001          Software  "
      ]
     },
     "metadata": {},
     "output_type": "display_data"
    },
    {
     "name": "stdout",
     "output_type": "stream",
     "text": [
      "---------------------------------------------------------------------------------------------------------\n",
      "Информация общая: \n",
      "<class 'pandas.core.frame.DataFrame'>\n",
      "RangeIndex: 13125 entries, 0 to 13124\n",
      "Data columns (total 16 columns):\n",
      " #   Column                  Non-Null Count  Dtype         \n",
      "---  ------                  --------------  -----         \n",
      " 0   name                    13125 non-null  object        \n",
      " 1   category_list           12534 non-null  object        \n",
      " 2   funding_total_usd       10547 non-null  float64       \n",
      " 3   country_code            11743 non-null  object        \n",
      " 4   state_code              11430 non-null  object        \n",
      " 5   region                  11536 non-null  object        \n",
      " 6   city                    11538 non-null  object        \n",
      " 7   funding_rounds          13125 non-null  int64         \n",
      " 8   founded_at              13125 non-null  datetime64[ns]\n",
      " 9   first_funding_at        13125 non-null  datetime64[ns]\n",
      " 10  last_funding_at         13125 non-null  datetime64[ns]\n",
      " 11  lifetime                13125 non-null  int64         \n",
      " 12  delta_invest&open_time  13125 non-null  int64         \n",
      " 13  delta_funding_time      13125 non-null  int64         \n",
      " 14  founded_year            13125 non-null  int32         \n",
      " 15  new_category            13125 non-null  object        \n",
      "dtypes: datetime64[ns](3), float64(1), int32(1), int64(4), object(7)\n",
      "memory usage: 1.6+ MB\n",
      "---------------------------------------------------------------------------------------------------------\n",
      "Статистики: \n"
     ]
    },
    {
     "data": {
      "text/html": [
       "<div>\n",
       "<style scoped>\n",
       "    .dataframe tbody tr th:only-of-type {\n",
       "        vertical-align: middle;\n",
       "    }\n",
       "\n",
       "    .dataframe tbody tr th {\n",
       "        vertical-align: top;\n",
       "    }\n",
       "\n",
       "    .dataframe thead th {\n",
       "        text-align: right;\n",
       "    }\n",
       "</style>\n",
       "<table border=\"1\" class=\"dataframe\">\n",
       "  <thead>\n",
       "    <tr style=\"text-align: right;\">\n",
       "      <th></th>\n",
       "      <th>funding_total_usd</th>\n",
       "      <th>funding_rounds</th>\n",
       "      <th>founded_at</th>\n",
       "      <th>first_funding_at</th>\n",
       "      <th>last_funding_at</th>\n",
       "      <th>lifetime</th>\n",
       "      <th>delta_invest&amp;open_time</th>\n",
       "      <th>delta_funding_time</th>\n",
       "      <th>founded_year</th>\n",
       "    </tr>\n",
       "  </thead>\n",
       "  <tbody>\n",
       "    <tr>\n",
       "      <th>count</th>\n",
       "      <td>10547.000</td>\n",
       "      <td>13125.000</td>\n",
       "      <td>13125</td>\n",
       "      <td>13125</td>\n",
       "      <td>13125</td>\n",
       "      <td>13125.000</td>\n",
       "      <td>13125.000</td>\n",
       "      <td>13125.000</td>\n",
       "      <td>13125.000</td>\n",
       "    </tr>\n",
       "    <tr>\n",
       "      <th>mean</th>\n",
       "      <td>16549102.695</td>\n",
       "      <td>1.714</td>\n",
       "      <td>2008-12-10 20:55:47.382856960</td>\n",
       "      <td>2011-07-23 20:54:08.640000</td>\n",
       "      <td>2012-06-16 05:03:41.348571392</td>\n",
       "      <td>3098.206</td>\n",
       "      <td>-954.999</td>\n",
       "      <td>328.340</td>\n",
       "      <td>2008.660</td>\n",
       "    </tr>\n",
       "    <tr>\n",
       "      <th>min</th>\n",
       "      <td>1.000</td>\n",
       "      <td>1.000</td>\n",
       "      <td>1971-01-01 00:00:00</td>\n",
       "      <td>1973-04-15 00:00:00</td>\n",
       "      <td>1973-04-15 00:00:00</td>\n",
       "      <td>79.000</td>\n",
       "      <td>-15889.000</td>\n",
       "      <td>0.000</td>\n",
       "      <td>1971.000</td>\n",
       "    </tr>\n",
       "    <tr>\n",
       "      <th>25%</th>\n",
       "      <td>320000.000</td>\n",
       "      <td>1.000</td>\n",
       "      <td>2007-01-01 00:00:00</td>\n",
       "      <td>2009-11-16 00:00:00</td>\n",
       "      <td>2011-01-10 00:00:00</td>\n",
       "      <td>1729.000</td>\n",
       "      <td>-943.000</td>\n",
       "      <td>0.000</td>\n",
       "      <td>2007.000</td>\n",
       "    </tr>\n",
       "    <tr>\n",
       "      <th>50%</th>\n",
       "      <td>2000000.000</td>\n",
       "      <td>1.000</td>\n",
       "      <td>2010-10-21 00:00:00</td>\n",
       "      <td>2012-08-01 00:00:00</td>\n",
       "      <td>2013-08-21 00:00:00</td>\n",
       "      <td>2526.000</td>\n",
       "      <td>-470.000</td>\n",
       "      <td>0.000</td>\n",
       "      <td>2010.000</td>\n",
       "    </tr>\n",
       "    <tr>\n",
       "      <th>75%</th>\n",
       "      <td>10000000.000</td>\n",
       "      <td>2.000</td>\n",
       "      <td>2013-01-01 00:00:00</td>\n",
       "      <td>2014-04-01 00:00:00</td>\n",
       "      <td>2014-11-11 00:00:00</td>\n",
       "      <td>3871.000</td>\n",
       "      <td>-211.000</td>\n",
       "      <td>391.000</td>\n",
       "      <td>2013.000</td>\n",
       "    </tr>\n",
       "    <tr>\n",
       "      <th>max</th>\n",
       "      <td>4715000000.000</td>\n",
       "      <td>15.000</td>\n",
       "      <td>2015-11-17 00:00:00</td>\n",
       "      <td>2015-12-03 00:00:00</td>\n",
       "      <td>2015-12-12 00:00:00</td>\n",
       "      <td>17167.000</td>\n",
       "      <td>3661.000</td>\n",
       "      <td>7038.000</td>\n",
       "      <td>2015.000</td>\n",
       "    </tr>\n",
       "    <tr>\n",
       "      <th>std</th>\n",
       "      <td>92172825.632</td>\n",
       "      <td>1.319</td>\n",
       "      <td>NaN</td>\n",
       "      <td>NaN</td>\n",
       "      <td>NaN</td>\n",
       "      <td>2128.489</td>\n",
       "      <td>1617.791</td>\n",
       "      <td>658.073</td>\n",
       "      <td>5.715</td>\n",
       "    </tr>\n",
       "  </tbody>\n",
       "</table>\n",
       "</div>"
      ],
      "text/plain": [
       "       funding_total_usd  funding_rounds                     founded_at  \\\n",
       "count          10547.000       13125.000                          13125   \n",
       "mean        16549102.695           1.714  2008-12-10 20:55:47.382856960   \n",
       "min                1.000           1.000            1971-01-01 00:00:00   \n",
       "25%           320000.000           1.000            2007-01-01 00:00:00   \n",
       "50%          2000000.000           1.000            2010-10-21 00:00:00   \n",
       "75%         10000000.000           2.000            2013-01-01 00:00:00   \n",
       "max       4715000000.000          15.000            2015-11-17 00:00:00   \n",
       "std         92172825.632           1.319                            NaN   \n",
       "\n",
       "                 first_funding_at                last_funding_at  lifetime  \\\n",
       "count                       13125                          13125 13125.000   \n",
       "mean   2011-07-23 20:54:08.640000  2012-06-16 05:03:41.348571392  3098.206   \n",
       "min           1973-04-15 00:00:00            1973-04-15 00:00:00    79.000   \n",
       "25%           2009-11-16 00:00:00            2011-01-10 00:00:00  1729.000   \n",
       "50%           2012-08-01 00:00:00            2013-08-21 00:00:00  2526.000   \n",
       "75%           2014-04-01 00:00:00            2014-11-11 00:00:00  3871.000   \n",
       "max           2015-12-03 00:00:00            2015-12-12 00:00:00 17167.000   \n",
       "std                           NaN                            NaN  2128.489   \n",
       "\n",
       "       delta_invest&open_time  delta_funding_time  founded_year  \n",
       "count               13125.000           13125.000     13125.000  \n",
       "mean                 -954.999             328.340      2008.660  \n",
       "min                -15889.000               0.000      1971.000  \n",
       "25%                  -943.000               0.000      2007.000  \n",
       "50%                  -470.000               0.000      2010.000  \n",
       "75%                  -211.000             391.000      2013.000  \n",
       "max                  3661.000            7038.000      2015.000  \n",
       "std                  1617.791             658.073         5.715  "
      ]
     },
     "metadata": {},
     "output_type": "display_data"
    },
    {
     "name": "stdout",
     "output_type": "stream",
     "text": [
      "---------------------------------------------------------------------------------------------------------\n",
      "Пропущенные значения: \n",
      "name                         0\n",
      "category_list              591\n",
      "funding_total_usd         2578\n",
      "country_code              1382\n",
      "state_code                1695\n",
      "region                    1589\n",
      "city                      1587\n",
      "funding_rounds               0\n",
      "founded_at                   0\n",
      "first_funding_at             0\n",
      "last_funding_at              0\n",
      "lifetime                     0\n",
      "delta_invest&open_time       0\n",
      "delta_funding_time           0\n",
      "founded_year                 0\n",
      "new_category                 0\n",
      "dtype: int64\n",
      "---------------------------------------------------------------------------------------------------------\n",
      "Дублированные данные: \n",
      "0\n"
     ]
    }
   ],
   "source": [
    "df_review(startup_test)"
   ]
  },
  {
   "cell_type": "markdown",
   "metadata": {},
   "source": [
    "**Вывод по таблице startup_test:**\n",
    "- привели стобцы с датой к типу Дата\n",
    "- добавили 2 столбца: lifetime и delta_funding_time\n",
    "- заполним пропуски в двух столбцах: name, category_list, funding_total_usd, state_code, country_code, region, city - модой/медианой,  в пайплайне\n",
    "- анализ на выбросы показывает что данные ненормализованы, наблюдаются явные выбросы, кол-во выбросов некритич < 2,6%"
   ]
  },
  {
   "cell_type": "markdown",
   "metadata": {},
   "source": [
    "**Вывод по предобработке данных** <a id='#2_3-bullet'></a>\n",
    "\n",
    "Данные состоят из одного набора данных, разделенных на тренировочну и тестовую, тестовая не содержит целевого признака status\n",
    "\n",
    "1. startup_train: содержит 52514 записей с 14 столбцами. Пропущенные значения имеются, в ходе обработки в пайплайне будут заменены на медианные значения. Добавили новый столбец lifetime, пропущенные значения в поле closed_at заменили на дату выгрузки для дальнейшего формирования столбца lifetime\n",
    "2. startup_train: содержит 13125 записей с 13 столбцами. Пропущенные значения имеются, в ходе обработки в пайплайне будут заменены на медианные значения. \n",
    "\n",
    "Все наборы данных имеют столбец 'name', который будет являться идентификатором\n",
    "\n",
    "- привели стобцы с датой к типу Дата\n",
    "- добавили 2 столбца: lifetime и delta_funding_time\n",
    "- заполним пропуски в двух столбцах: name, category_list, funding_total_usd, state_code, country_code, region, city - модой/медианой,  в пайплайне в дальнейшем\n",
    "- анализ на выбросы показывает что данные ненормализованы, наблюдаются явные выбросы, кол-во выбросов некритич < 2,6%\n"
   ]
  },
  {
   "cell_type": "markdown",
   "metadata": {},
   "source": [
    "### Шаг 3. Исследовательский анализ данных  <a id='#3_1-bullet'></a>"
   ]
  },
  {
   "cell_type": "markdown",
   "metadata": {},
   "source": [
    "**Целью проекта является построение модели, которая сможет предсказать закроется стратап или нет. Построим графики зависимостей по критериям, которые могут выявить закономерности по оставшимся признакам**"
   ]
  },
  {
   "cell_type": "markdown",
   "metadata": {},
   "source": [
    "<div class=\"alert alert-block alert-danger\">\n",
    "<h2> Комментарий ревьюера <a class=\"tocSkip\"></h2>\n",
    "\n",
    "    \n",
    "<b>На доработку❌:</b>  Анализ категориальных/дискретных признаков нужно сделать с помощью относительных величин - оперировать абсолютными величинами не всегда удобно, так как в зависимости от масштаба исследования (компания на 100 человек и компания на 100 000 человек, например) результаты могут быть более или менее интерпретируемыми. Для категориальных/дискретных признаков мы можем использовать `value_counts(normalize=True)`, для непрерывных можно посчитать и сравнить средние."
   ]
  },
  {
   "cell_type": "code",
   "execution_count": 64,
   "metadata": {},
   "outputs": [],
   "source": [
    "# num_columns = startup_train.select_dtypes(include=['int64', 'float64']).columns.tolist()\n",
    "# columns = [col for col in num_columns]\n",
    "# sns_plot = sns.pairplot(startup_train[columns])"
   ]
  },
  {
   "cell_type": "code",
   "execution_count": 65,
   "metadata": {},
   "outputs": [],
   "source": [
    "# # Удаление столбца 'id'\n",
    "# data_without_name = startup_train.drop('name', axis=1)\n",
    "\n",
    "# # создаём список с наименованиями непрерывных признаков\n",
    "# interval_cols = ['funding_total_usd', 'lifetime', 'delta_funding_time']\n",
    "\n",
    "# # Вычисление матрицы корреляции Phi_K для данных без 'id'\n",
    "# phik_matrix = startup_train.phik_matrix(interval_cols=interval_cols)\n",
    "\n",
    "# # Визуализация матрицы корреляции Phi_K\n",
    "# plt.figure(figsize=(15, 10))\n",
    "# sns.heatmap(phik_matrix, annot=True, fmt=\".2f\", cmap='coolwarm')\n",
    "# plt.title(\"Матрица корреляции Phi_K\")\n",
    "# plt.show()"
   ]
  },
  {
   "cell_type": "code",
   "execution_count": 66,
   "metadata": {},
   "outputs": [],
   "source": [
    "# # Определение столбца и категорий для анализа\n",
    "# column = 'status'\n",
    "# categories = ['operating', 'closed']\n",
    "# num_columns = startup_train.select_dtypes(include=['int64', 'float64']).columns.tolist()\n",
    "\n",
    "# # Получение списка всех столбцов в датафрейме\n",
    "# columns = [col for col in num_columns]\n",
    "\n",
    "# # Цикл по каждому столбцу для создания гистограммы и таблицы\n",
    "# for col in columns:\n",
    "#     plt.figure(figsize=(10, 6))\n",
    "#     # Цикл по каждой категории для создания гистограммы\n",
    "#     for category in categories:\n",
    "#         # Фильтрация данных по текущей категории\n",
    "#         data = startup_train[startup_train[column] == category]\n",
    "#         # Создание гистограммы для текущей категории\n",
    "#         sns.kdeplot(x=col, hue='status', data=startup_train, shade=True)\n",
    "    \n",
    "#     # Настройка и отображение гистограммы\n",
    "#     plt.title(f'Гистограмма для {col}')\n",
    "#     plt.xlabel(col)\n",
    "#     plt.ylabel('Частота')\n",
    "#     plt.legend(loc='upper right')\n",
    "#     plt.show()\n",
    "    \n",
    "#     # Вывод таблицы для каждого столбца\n",
    "#     print(f'Таблица для {col}:')\n",
    "#     for category in categories:\n",
    "#         # Фильтрация данных по текущей категории\n",
    "#         data = startup_train[startup_train[column] == category]\n",
    "#         print(f'\\nКатегория: {category}')\n",
    "#         # Создание и вывод таблицы с описательной статистикой для текущей категории\n",
    "#         display(data[col].describe().to_frame().T)"
   ]
  },
  {
   "cell_type": "code",
   "execution_count": 67,
   "metadata": {},
   "outputs": [],
   "source": [
    "# column = 'status'\n",
    "# categories = ['operating', 'closed']\n",
    "\n",
    "# ohe_columns = startup_train.select_dtypes(include=['object']).columns.tolist()\n",
    "\n",
    "# # Получение списка всех столбцов в датафрейме, исключая 'id'\n",
    "# columns = [col for col in ohe_columns if col != 'name' and col != 'status']\n",
    "\n",
    "# # Цикл по каждому столбцу для создания гистограммы и таблицы\n",
    "\n",
    "# for col in columns:\n",
    "#     plt.figure(figsize=(10, 6))\n",
    "#     sns.histplot(x=col, hue=column, data=startup_train, stat='density', common_norm=False)\n",
    "    \n",
    "#     # Настройка и отображение гистограммы\n",
    "#     plt.title(f'Гистограмма для {col}')\n",
    "#     plt.xlabel(col)\n",
    "#     plt.ylabel('Частота')\n",
    "#     plt.legend(loc='upper right')\n",
    "#     plt.show()\n",
    "    \n",
    "#     # Вывод таблицы для каждого столбца\n",
    "#     print(f'Таблица для {col}:')\n",
    "#     for category in categories:\n",
    "#         # Фильтрация данных по текущей категории\n",
    "#         data = startup_train[startup_train[column] == category]\n",
    "#         print(f'\\nКатегория: {category}')\n",
    "#         # Создание и вывод таблицы с описательной статистикой для текущей категории\n",
    "#         display(data[col].describe().to_frame().T)"
   ]
  },
  {
   "cell_type": "code",
   "execution_count": 68,
   "metadata": {},
   "outputs": [],
   "source": [
    "# _, axes = plt.subplots(1, 2, sharey=True, figsize=(16,6))\n",
    "\n",
    "# sns.boxplot(x='funding_rounds', y='status', data=startup_train, ax=axes[0]); \n",
    "# sns.violinplot(x='funding_total_usd', y='status', data=startup_train, ax=axes[1]);\n",
    "# sns.violinplot(x='lifetime', y='status', data=startup_train, ax=axes[1]);\n",
    "# sns.violinplot(x='delta_funding_time', y='status', data=startup_train, ax=axes[1]);\n"
   ]
  },
  {
   "cell_type": "code",
   "execution_count": 69,
   "metadata": {},
   "outputs": [],
   "source": [
    "# plt.figure(figsize=(12, 7))\n",
    "# plt.title('Распределение компаний по числу раундов инвестиций')\n",
    "# sns.kdeplot(data=startup_train, x='funding_rounds', hue=\"status\", shade=True);"
   ]
  },
  {
   "cell_type": "code",
   "execution_count": 70,
   "metadata": {},
   "outputs": [],
   "source": [
    "# plt.figure(figsize=(12, 7))\n",
    "# plt.title('Распределение компаний по объему инвестиций')\n",
    "# sns.kdeplot(data=startup_train, x='funding_total_usd', hue=\"status\", shade=True);"
   ]
  },
  {
   "cell_type": "code",
   "execution_count": 71,
   "metadata": {},
   "outputs": [],
   "source": [
    "# plt.figure(figsize=(12, 7))\n",
    "# plt.title('Распределение компаний по времени жизни')\n",
    "# sns.kdeplot(data=startup_train, x='lifetime', hue=\"status\", shade=True);"
   ]
  },
  {
   "cell_type": "code",
   "execution_count": 72,
   "metadata": {},
   "outputs": [],
   "source": [
    "# plt.figure(figsize=(12, 7))\n",
    "# plt.title('Распределение компаний по времени жизни')\n",
    "# sns.kdeplot(data=startup_train, x='delta_funding_time', hue=\"status\", shade=True);"
   ]
  },
  {
   "cell_type": "code",
   "execution_count": 73,
   "metadata": {},
   "outputs": [],
   "source": [
    "# plt.figure(figsize=(12, 7))\n",
    "# plt.title('Распределение компаний')\n",
    "# sns.countplot(data=startup_train, x='category_list', hue=\"status\");"
   ]
  },
  {
   "cell_type": "code",
   "execution_count": 74,
   "metadata": {},
   "outputs": [],
   "source": [
    "# plt.figure(figsize=(12, 7))\n",
    "# plt.title('Распределение компаний')\n",
    "# sns.countplot(data=startup_train, x='category_list', hue=\"status\");"
   ]
  },
  {
   "cell_type": "code",
   "execution_count": 75,
   "metadata": {},
   "outputs": [],
   "source": [
    "# plt.figure(figsize=(12, 7))\n",
    "# plt.title('Распределение компаний по странам')\n",
    "# sns.countplot(data=startup_train, x='country_code', hue=\"status\");"
   ]
  },
  {
   "cell_type": "code",
   "execution_count": 76,
   "metadata": {},
   "outputs": [],
   "source": [
    "# plt.figure(figsize=(12, 7))\n",
    "# plt.title('Распределение компаний по странам')\n",
    "# sns.countplot(data=startup_train, x='state_code', hue=\"status\");"
   ]
  },
  {
   "cell_type": "code",
   "execution_count": 77,
   "metadata": {},
   "outputs": [],
   "source": [
    "# plt.figure(figsize=(12, 7))\n",
    "# plt.title('Распределение компаний по странам')\n",
    "# sns.countplot(data=startup_train, x='region', hue=\"status\");"
   ]
  },
  {
   "cell_type": "code",
   "execution_count": 78,
   "metadata": {},
   "outputs": [],
   "source": [
    "# plt.figure(figsize=(12, 7))\n",
    "# plt.title('Распределение компаний по странам')\n",
    "# sns.countplot(data=startup_train, x='city', hue=\"status\");"
   ]
  },
  {
   "cell_type": "markdown",
   "metadata": {},
   "source": [
    "**Вывод:** <a id='#3_1-bullet'></a>\n",
    "\n",
    "startup_train: Этот набор данных содержит 4000 записей.\n",
    "Статистики: \n",
    "- 'employment_years' медиана составляет примерно 3,7; стандартное отклонение большое, что говорит о большой дисперсии, минимальное значение - 1, максимальное - 10\n",
    "- 'supervisor_evaluation' медиана составляет примерно 3,5; стандартное отклонение - 1, минимальное значение - 1, максимальное - 5\n",
    "- 'salary'  медиана составляет примерно 34000; стандартное отклонение - 14900, минимальное значение - 12000, максимальное - 98400\n",
    "- 'job_satisfaction_rate'  медиана составляет примерно 0,53; стандартное отклонение - 0,22, минимальное значение - 0,03, максимальное - 1\n",
    "\n",
    "Признаки с высокой корреляцией на целевой job_satisfaction_rate:\n",
    "- supervisor_evaluation\n",
    "- last_year_violations\n",
    "\n",
    "Средняя корреляция:\n",
    "- employment_years\n",
    "\n",
    "На границе 0,5 признака 'job_satisfaction_rate' можно выделить категорию сотрудников не сильно перформящих по мнению руководителей и имеющих негативное отношение к компании:\n",
    "\n",
    "- dept диаграмма показывает равное соотношение лояльных и нелояльных по департаментам\n",
    "- level больше нелояльных на позиции сеньоров Заказчику стоит задуматься, возможно, по причине усталости от проекта или слишком много знают о компании\n",
    "- workload инсайтов не обнаружено\n",
    "- last_year_promo стоит указать что в целом сотрудников, которых повышали в прошлом году не так много, можно подумать о пересмотре зарплат или мотивации бонусами, но и среди тех кого повышали есть сотрудники, которые не довольны работой, возможно, это ключевые сотрудники, которые долго проработали в компании\n",
    "- last_year_violations много нелояльных из тех кто нарушал дисциплину, что логично, ведь они \"обижены на компанию\". хорошо бы с ними провести глубинные интервью для выявления причин такого поведения и отношения\n",
    "- доля нелояльных примерно 45%, что много. Заказчику необходимо серьезно задуматься о поднятии морального духа сотрудников и поработать с причинами таких показателей.\n",
    "\n",
    "Самые низкие зарплаты в департаменте продаж  на позиции джуны. Необходимо подумать об удержании таких сотрудников и составлении для них программы развития как по уровню hard/soft-skills так и зарплаты.\n"
   ]
  },
  {
   "cell_type": "markdown",
   "metadata": {},
   "source": [
    "**Вывод**\n",
    "\n",
    "Мы рассмотрели взаимосвязь признака уволился или нет в разрезе входных признаков и можем составить портрет \"уволившегося сотрудника\":\n",
    "- стаж работы 1-3 лет\n",
    "- ценка качества работы сотрудника, которую дал руководитель пик 3, и интересно что с 4 больше чем с 2, что может говорить о том, что сотрудник уходит не потому что он не компетентен, а возможно потому что его перекупают другие компании\n",
    "- зарплата до 40 тыс с пиком в 15 тыс и в 20 тыс, что говорит об утечке джунов, возможно, которых не повысили до мидлов\n",
    "- больше всего уволившихся в департаменте продаж, судя по пред исследовательскому анализу данных, у них же медиана зп ниже, на втором мисте идет ИТ-департамент\n",
    "- по должности это уровень джун, на втором месте миддл\n",
    "- больше всего с загрузкой низвкой и средней, говорит о том что чаще всего кандидаты уходят из-за невозможности вырасти по hard-skills и как следствие не вырасти по деньгам\n",
    "- специалиста за последний год не повышали\n",
    "- специалист чаще всего не нарушал внутренние распорядки, есть доля в ушедших кто нарушал, но это и закономерно, я бы исключила данный факт из гипотез"
   ]
  },
  {
   "cell_type": "markdown",
   "metadata": {},
   "source": [
    "**Проведем исследовательский анализ для тестовой выборки**"
   ]
  },
  {
   "cell_type": "code",
   "execution_count": 79,
   "metadata": {},
   "outputs": [],
   "source": [
    "# num_columns = startup_train.select_dtypes(include=['int64', 'float64']).columns.tolist()\n",
    "# columns = [col for col in num_columns]\n",
    "# sns_plot = sns.pairplot(startup_train[columns])"
   ]
  },
  {
   "cell_type": "code",
   "execution_count": 80,
   "metadata": {},
   "outputs": [],
   "source": [
    "# # создаём список с наименованиями непрерывных признаков\n",
    "# interval_cols = interval_cols\n",
    "\n",
    "# # Вычисление матрицы корреляции Phi_K для данных без 'id'\n",
    "# phik_matrix = startup_test[startup_test.columns[startup_test.columns != 'id']].phik_matrix(interval_cols=interval_cols)\n",
    "\n",
    "# # Визуализация матрицы корреляции Phi_K\n",
    "# plt.figure(figsize=(15, 10))\n",
    "# sns.heatmap(phik_matrix, annot=True, fmt=\".2f\", cmap='coolwarm')\n",
    "# plt.title(\"Матрица корреляции Phi_K\")\n",
    "# plt.show()"
   ]
  },
  {
   "cell_type": "code",
   "execution_count": 81,
   "metadata": {},
   "outputs": [],
   "source": [
    "# # Определение столбца и категорий для анализа\n",
    "# num_columns = startup_test.select_dtypes(include=['int64', 'float64']).columns.tolist()\n",
    "\n",
    "# # Получение списка всех столбцов в датафрейме\n",
    "# columns = [col for col in num_columns]\n",
    "\n",
    "# # Цикл по каждому столбцу для создания гистограммы и таблицы\n",
    "# for col in columns:\n",
    "#     plt.figure(figsize=(10, 6))\n",
    "#     sns.kdeplot(x=col, data=startup_test, shade=True)\n",
    "    \n",
    "#     # Настройка и отображение гистограммы\n",
    "#     plt.title(f'Гистограмма для {col}')\n",
    "#     plt.xlabel(col)\n",
    "#     plt.ylabel('Частота')\n",
    "#     plt.show()"
   ]
  },
  {
   "cell_type": "code",
   "execution_count": 82,
   "metadata": {},
   "outputs": [],
   "source": [
    "# # Определение столбца и категорий для анализа\n",
    "# ohe_columns = startup_test.select_dtypes(include=['object']).columns.tolist()\n",
    "\n",
    "# # Получение списка всех столбцов в датафрейме\n",
    "# columns = [col for col in ohe_columns if col != 'name']\n",
    "\n",
    "# # Цикл по каждому столбцу для создания гистограммы и таблицы\n",
    "# for col in columns:\n",
    "#     plt.figure(figsize=(10, 6))\n",
    "#     sns.countplot(x=col, data=startup_test, shade=True)\n",
    "#     #sns.histplot(x=col, hue=column, data=startup_test, stat='density', common_norm=False)\n",
    "    \n",
    "#     # Настройка и отображение гистограммы\n",
    "#     plt.title(f'Гистограмма для {col}')\n",
    "#     plt.xlabel(col)\n",
    "#     plt.ylabel('Частота')\n",
    "#     plt.show()"
   ]
  },
  {
   "cell_type": "code",
   "execution_count": 83,
   "metadata": {},
   "outputs": [],
   "source": [
    "# _, axes = plt.subplots(1, 2, sharey=True, figsize=(16,6))\n",
    "\n",
    "# sns.boxplot(x='status', y='funding_rounds', data=startup_test, ax=axes[0]); \n",
    "# sns.violinplot(x='status', y='funding_total_usd', data=startup_test, ax=axes[1]);"
   ]
  },
  {
   "cell_type": "code",
   "execution_count": 84,
   "metadata": {},
   "outputs": [],
   "source": [
    "# plt.figure(figsize=(12, 7))\n",
    "# plt.title('Распределение компаний по числу раундов инвестиций')\n",
    "# sns.kdeplot(data=startup_train, x='funding_rounds', hue=\"status\", shade=True);"
   ]
  },
  {
   "cell_type": "code",
   "execution_count": 85,
   "metadata": {},
   "outputs": [],
   "source": [
    "# plt.figure(figsize=(12, 7))\n",
    "# plt.title('Распределение компаний по объему инвестиций')\n",
    "# sns.kdeplot(data=startup_train, x='funding_total_usd', hue=\"status\", shade=True);"
   ]
  },
  {
   "cell_type": "code",
   "execution_count": 86,
   "metadata": {},
   "outputs": [],
   "source": [
    "# plt.figure(figsize=(12, 7))\n",
    "# plt.title('Распределение компаний по времени жизни')\n",
    "# sns.kdeplot(data=startup_train, x='lifetime', hue=\"status\", shade=True);"
   ]
  },
  {
   "cell_type": "code",
   "execution_count": 87,
   "metadata": {},
   "outputs": [],
   "source": [
    "# plt.figure(figsize=(12, 7))\n",
    "# plt.title('Распределение компаний по времени жизни')\n",
    "# sns.kdeplot(data=startup_train, x='delta_funding_time', hue=\"status\", shade=True);"
   ]
  },
  {
   "cell_type": "code",
   "execution_count": 88,
   "metadata": {},
   "outputs": [],
   "source": [
    "# plt.figure(figsize=(12, 7))\n",
    "# plt.title('Распределение компаний')\n",
    "# sns.countplot(data=startup_train, x='category_list', hue=\"status\");"
   ]
  },
  {
   "cell_type": "code",
   "execution_count": 89,
   "metadata": {},
   "outputs": [],
   "source": [
    "# plt.figure(figsize=(12, 7))\n",
    "# plt.title('Распределение компаний')\n",
    "# sns.countplot(data=startup_train, x='category_list', hue=\"status\");"
   ]
  },
  {
   "cell_type": "code",
   "execution_count": 90,
   "metadata": {},
   "outputs": [],
   "source": [
    "# plt.figure(figsize=(12, 7))\n",
    "# plt.title('Распределение компаний по странам')\n",
    "# sns.countplot(data=startup_train, x='country_code', hue=\"status\");"
   ]
  },
  {
   "cell_type": "code",
   "execution_count": 91,
   "metadata": {},
   "outputs": [],
   "source": [
    "# plt.figure(figsize=(12, 7))\n",
    "# plt.title('Распределение компаний по странам')\n",
    "# sns.countplot(data=startup_train, x='state_code', hue=\"status\");"
   ]
  },
  {
   "cell_type": "code",
   "execution_count": 92,
   "metadata": {},
   "outputs": [],
   "source": [
    "# plt.figure(figsize=(12, 7))\n",
    "# plt.title('Распределение компаний по странам')\n",
    "# sns.countplot(data=startup_train, x='region', hue=\"status\");"
   ]
  },
  {
   "cell_type": "code",
   "execution_count": 93,
   "metadata": {},
   "outputs": [],
   "source": [
    "# plt.figure(figsize=(12, 7))\n",
    "# plt.title('Распределение компаний по странам')\n",
    "# sns.countplot(data=startup_train, x='city', hue=\"status\");"
   ]
  },
  {
   "cell_type": "markdown",
   "metadata": {},
   "source": [
    "**Вывод**\n",
    "\n",
    "Данные распределены нормально, выбросов не имеют. Инсайтов помимо тренировочной выборки не выявлено. "
   ]
  },
  {
   "cell_type": "markdown",
   "metadata": {},
   "source": [
    " ### Шаг 4. Подготовка данных<a id='#4_1-bullet'></a>"
   ]
  },
  {
   "cell_type": "code",
   "execution_count": 94,
   "metadata": {},
   "outputs": [
    {
     "name": "stdout",
     "output_type": "stream",
     "text": [
      "<class 'pandas.core.frame.DataFrame'>\n",
      "RangeIndex: 52514 entries, 0 to 52513\n",
      "Data columns (total 13 columns):\n",
      " #   Column                  Non-Null Count  Dtype  \n",
      "---  ------                  --------------  -----  \n",
      " 0   name                    52513 non-null  object \n",
      " 1   funding_total_usd       42445 non-null  float64\n",
      " 2   status                  52514 non-null  object \n",
      " 3   country_code            52514 non-null  object \n",
      " 4   state_code              45752 non-null  object \n",
      " 5   region                  46156 non-null  object \n",
      " 6   city                    46156 non-null  object \n",
      " 7   funding_rounds          52514 non-null  int64  \n",
      " 8   lifetime                52514 non-null  int64  \n",
      " 9   delta_invest&open_time  52514 non-null  int64  \n",
      " 10  delta_funding_time      52514 non-null  int64  \n",
      " 11  founded_year            52514 non-null  int32  \n",
      " 12  new_category            52514 non-null  object \n",
      "dtypes: float64(1), int32(1), int64(4), object(7)\n",
      "memory usage: 5.0+ MB\n",
      "<class 'pandas.core.frame.DataFrame'>\n",
      "RangeIndex: 13125 entries, 0 to 13124\n",
      "Data columns (total 12 columns):\n",
      " #   Column                  Non-Null Count  Dtype  \n",
      "---  ------                  --------------  -----  \n",
      " 0   name                    13125 non-null  object \n",
      " 1   funding_total_usd       10547 non-null  float64\n",
      " 2   country_code            11743 non-null  object \n",
      " 3   state_code              11430 non-null  object \n",
      " 4   region                  11536 non-null  object \n",
      " 5   city                    11538 non-null  object \n",
      " 6   funding_rounds          13125 non-null  int64  \n",
      " 7   lifetime                13125 non-null  int64  \n",
      " 8   delta_invest&open_time  13125 non-null  int64  \n",
      " 9   delta_funding_time      13125 non-null  int64  \n",
      " 10  founded_year            13125 non-null  int32  \n",
      " 11  new_category            13125 non-null  object \n",
      "dtypes: float64(1), int32(1), int64(4), object(6)\n",
      "memory usage: 1.2+ MB\n"
     ]
    }
   ],
   "source": [
    "train = startup_train.drop(['closed_at', 'founded_at', 'first_funding_at', 'last_funding_at', 'category_list'], axis=1)\n",
    "test = startup_test.drop(['first_funding_at', 'last_funding_at', 'founded_at', 'category_list'], axis=1)\n",
    "train.drop_duplicates(inplace=True)\n",
    "train.info()\n",
    "test.info()"
   ]
  },
  {
   "cell_type": "code",
   "execution_count": 95,
   "metadata": {},
   "outputs": [],
   "source": [
    "# загружаем данные\n",
    "X_train = train.drop('status', axis=1)\n",
    "X_test = test\n",
    "y_train = train['status']"
   ]
  },
  {
   "cell_type": "code",
   "execution_count": 96,
   "metadata": {},
   "outputs": [],
   "source": [
    "# создадим экземпляр класса LabelEncoder для кодирования целевого признака\n",
    "label_encoder = LabelEncoder()\n",
    "\n",
    "# обучим модель и трансформируем тренировочную выборку \n",
    "y_train = label_encoder.fit_transform(y_train)\n"
   ]
  },
  {
   "cell_type": "code",
   "execution_count": 97,
   "metadata": {},
   "outputs": [],
   "source": [
    "# num_col_names = ['funding_total_usd',\n",
    "#                  'funding_rounds',\n",
    "#                  'lifetime', 'delta_funding_time']\n",
    "# fig, axes = plt.subplots(nrows=1, ncols=2, figsize=(10,5))\n",
    "\n",
    "# X_train[num_col_names].plot(kind='hist', bins=10, ax=axes[0])\n",
    "# axes[0].set_title('Гистограмма распределения')\n",
    "# X_train[num_col_names].plot(kind='box',   ax=axes[1], rot=45)\n",
    "# axes[1].set_title('Разброс значений признаков')\n",
    "# plt.show()"
   ]
  },
  {
   "cell_type": "code",
   "execution_count": 98,
   "metadata": {},
   "outputs": [],
   "source": [
    "# # создаём списки с названиями признаков\n",
    "# ohe_col = ['name', 'category_list', 'country_code', 'state_code', 'region', 'city']\n",
    "# ord_col = ['funding_rounds']\n",
    "# num_col = ['delta_funding_time', 'funding_total_usd', 'lifetime']\n",
    "\n",
    "# # создаём пайплайн для подготовки признаков из списка ohe_columns: заполнение пропусков и OHE-кодирование\n",
    "# # SimpleImputer + OHE\n",
    "# ohe_pipe = Pipeline(\n",
    "#     [\n",
    "#         (\n",
    "#             'simpleImputer_ohe', \n",
    "#             SimpleImputer(missing_values=np.nan, strategy='most_frequent')\n",
    "#         ),\n",
    "#         (\n",
    "#             'ohe', \n",
    "#             OneHotEncoder(drop='first', handle_unknown='infrequent_if_exist', min_frequency=10, sparse_output=False)\n",
    "#         )\n",
    "#     ]\n",
    "# ) \n",
    "\n",
    "# ord_pipe = Pipeline(\n",
    "#     [('simpleImputer_before_ord', SimpleImputer(missing_values=np.nan, strategy='most_frequent')),\n",
    "#      ('ord',  OrdinalEncoder(\n",
    "#                 categories=[\n",
    "#                     ['1', '2', '3', '4',  '5', '6', '7', '8', '9','10', '11', '12', '13', '14', '15', '16', '17', '18', '19']\n",
    "#                 ], \n",
    "#                 handle_unknown='use_encoded_value', unknown_value=np.nan\n",
    "#             )\n",
    "#         ),\n",
    "#      ('simpleImputer_after_ord', SimpleImputer(missing_values=np.nan, strategy='median'))\n",
    "#     ]\n",
    "# )\n",
    "\n",
    "# num_pipe = Pipeline(steps=[\n",
    "#     ('impute', SimpleImputer(strategy='median')),\n",
    "#     ('scale',StandardScaler())\n",
    "# ])\n",
    "\n",
    "# # создайте общий пайплайн для подготовки данных\n",
    "# data_preprocessor = ColumnTransformer(\n",
    "#     [\n",
    "#         ('ohe', ohe_pipe, ohe_col),\n",
    "#         ('ord', ord_pipe, ord_col),\n",
    "#         ('num', num_pipe, num_col)\n",
    "#     ], \n",
    "#     remainder='passthrough'\n",
    "# ) "
   ]
  },
  {
   "cell_type": "markdown",
   "metadata": {},
   "source": [
    "### Шаг 5.  Обучение моделей  <a id='#5_1-bullet'></a>"
   ]
  },
  {
   "cell_type": "markdown",
   "metadata": {},
   "source": [
    "#### Поиск гиперпараметров моделей с помощью GridSearchCV"
   ]
  },
  {
   "cell_type": "code",
   "execution_count": 99,
   "metadata": {},
   "outputs": [],
   "source": [
    "# pipe_final = Pipeline([\n",
    "#     ('preprocessor', data_preprocessor),\n",
    "#     ('models', DecisionTreeClassifier(random_state=RANDOM_STATE))\n",
    "# ])\n",
    " \n",
    "# param_grid = [\n",
    "#     {\n",
    "#         'models': [RandomForestClassifier(random_state=RANDOM_STATE)],\n",
    "#         'preprocessor__num': [StandardScaler(), MinMaxScaler(), 'passthrough']   \n",
    "#     },\n",
    "\n",
    "#     {\n",
    "#         'models': [DecisionTreeClassifier(random_state=RANDOM_STATE)],\n",
    "#         'models__max_depth': range(1, 25),\n",
    "#         'models__max_features': range(1, 25),\n",
    "#         'preprocessor__num': [StandardScaler(), MinMaxScaler(), 'passthrough']  \n",
    "#     },\n",
    "#     {\n",
    "#         'models': [KNeighborsClassifier()],\n",
    "#         'models__n_neighbors': range(10, 20),\n",
    "#         'preprocessor__num': [StandardScaler(), MinMaxScaler(), 'passthrough']   \n",
    "#     }\n",
    "# ]\n",
    "\n",
    "# grid = GridSearchCV(\n",
    "#     pipe_final,\n",
    "#     param_grid,\n",
    "#     #n_jobs=-1,\n",
    "#     cv=5,\n",
    "#     scoring='f1'\n",
    "# )\n",
    "# grid.fit(X_train, y_train)\n"
   ]
  },
  {
   "cell_type": "code",
   "execution_count": 100,
   "metadata": {},
   "outputs": [],
   "source": [
    "# best_model = grid.best_estimator_\n",
    "# print('Лучшая модель и её параметры:\\n\\n', grid.best_estimator_)\n",
    "# print(f'Метрика F1 лучшей модели по кросс-валидации на обучающих данных: {round(grid.best_score_,4)}')"
   ]
  },
  {
   "cell_type": "code",
   "execution_count": 101,
   "metadata": {},
   "outputs": [],
   "source": [
    "# test_final = test.drop(['category_list', 'funding_total_usd', 'country_code', 'state_code', 'region', 'city', 'funding_rounds', 'lifetime', 'delta_funding_time'], axis=1)\n",
    "# prediction_final = best_model.predict(X_test)\n",
    "# y_test_df = pd.DataFrame(label_encoder.inverse_transform(prediction_final), columns = ['status'])\n",
    "# test_final = pd.concat([test_final,y_test_df],axis=1).\n",
    "# print(test_final.head())\n",
    "# test_final.to_csv('startup_predict.csv', index=False)"
   ]
  },
  {
   "cell_type": "markdown",
   "metadata": {},
   "source": [
    "**Вывод по обучению первой модели**\n",
    "- Обучили методом DecisionTreeRegressor\n",
    "- параметры лучшей модели 'max_depth': 11, 'min_samples_leaf': 3, 'min_samples_split': 8\n",
    "- метрика лучшей модели на кроссвалидационной выборке - Best score: 15.252342948908971. Цель была меньше 15"
   ]
  },
  {
   "cell_type": "markdown",
   "metadata": {},
   "source": [
    "#### Pipelines+Optuna+GBDT <a id='#5_2-bullet'></a>"
   ]
  },
  {
   "cell_type": "code",
   "execution_count": 102,
   "metadata": {},
   "outputs": [
    {
     "name": "stdout",
     "output_type": "stream",
     "text": [
      "<class 'pandas.core.frame.DataFrame'>\n",
      "RangeIndex: 52514 entries, 0 to 52513\n",
      "Data columns (total 18 columns):\n",
      " #   Column                  Non-Null Count  Dtype         \n",
      "---  ------                  --------------  -----         \n",
      " 0   name                    52513 non-null  object        \n",
      " 1   category_list           50049 non-null  object        \n",
      " 2   funding_total_usd       42445 non-null  float64       \n",
      " 3   status                  52514 non-null  object        \n",
      " 4   country_code            52514 non-null  object        \n",
      " 5   state_code              45752 non-null  object        \n",
      " 6   region                  46156 non-null  object        \n",
      " 7   city                    46156 non-null  object        \n",
      " 8   funding_rounds          52514 non-null  int64         \n",
      " 9   founded_at              52514 non-null  datetime64[ns]\n",
      " 10  first_funding_at        52514 non-null  datetime64[ns]\n",
      " 11  last_funding_at         52514 non-null  datetime64[ns]\n",
      " 12  closed_at               52514 non-null  datetime64[ns]\n",
      " 13  lifetime                52514 non-null  int64         \n",
      " 14  delta_invest&open_time  52514 non-null  int64         \n",
      " 15  delta_funding_time      52514 non-null  int64         \n",
      " 16  founded_year            52514 non-null  int32         \n",
      " 17  new_category            52514 non-null  object        \n",
      "dtypes: datetime64[ns](4), float64(1), int32(1), int64(4), object(8)\n",
      "memory usage: 7.0+ MB\n"
     ]
    }
   ],
   "source": [
    "startup_train.info()"
   ]
  },
  {
   "cell_type": "code",
   "execution_count": 103,
   "metadata": {},
   "outputs": [],
   "source": [
    "# создаём списки с названиями признаков\n",
    "ohe_col = ['name', 'new_category', 'country_code', 'state_code', 'region', 'city']\n",
    "ord_col = ['funding_rounds']\n",
    "num_col = ['delta_funding_time', 'funding_total_usd', 'lifetime', 'founded_year', 'delta_invest&open_time']"
   ]
  },
  {
   "cell_type": "code",
   "execution_count": 121,
   "metadata": {},
   "outputs": [],
   "source": [
    "num_pipeline = Pipeline(steps=[\n",
    "    ('impute', SimpleImputer(strategy='median')),\n",
    "    ('scale',StandardScaler())\n",
    "])\n",
    "ohe_pipeline = Pipeline(steps=[\n",
    "    ('impute', SimpleImputer(missing_values=np.nan, strategy='most_frequent')),\n",
    "    ('one-hot',OneHotEncoder(drop='first', handle_unknown='infrequent_if_exist', min_frequency=500, sparse_output=False))\n",
    "])\n",
    "\n",
    "ord_pipeline = Pipeline(\n",
    "    [('simpleImputer_before_ord', SimpleImputer(missing_values=np.nan, strategy='most_frequent')),\n",
    "     ('ord',  OrdinalEncoder(\n",
    "                categories=[\n",
    "                    ['1', '2', '3', '4',  '5', '6', '7', '8', '9','10', '11', '12', '13', '14', '15', '16', '17', '18', '19']\n",
    "                ], \n",
    "                handle_unknown='use_encoded_value', unknown_value=np.nan\n",
    "            )\n",
    "        ),\n",
    "     ('simpleImputer_after_ord', SimpleImputer(missing_values=np.nan, strategy='median'))\n",
    "    ]\n",
    ")"
   ]
  },
  {
   "cell_type": "code",
   "execution_count": 122,
   "metadata": {},
   "outputs": [],
   "source": [
    "col_trans = ColumnTransformer(transformers=[\n",
    "    ('num_pipeline',num_pipeline,num_col),\n",
    "    ('ord', ord_pipeline, ord_col),\n",
    "    ('ohe_pipeline',ohe_pipeline, ohe_col)\n",
    "    ],\n",
    "    remainder='drop',\n",
    "    n_jobs=-1)"
   ]
  },
  {
   "cell_type": "code",
   "execution_count": 117,
   "metadata": {},
   "outputs": [
    {
     "name": "stdout",
     "output_type": "stream",
     "text": [
      "[2, 3, 4, 5, 11]\n"
     ]
    }
   ],
   "source": [
    "cat_features = list([2, 3, 4, 5, 11])\n",
    "print(cat_features)\n"
   ]
  },
  {
   "cell_type": "code",
   "execution_count": 112,
   "metadata": {},
   "outputs": [
    {
     "name": "stdout",
     "output_type": "stream",
     "text": [
      "<class 'pandas.core.frame.DataFrame'>\n",
      "RangeIndex: 52514 entries, 0 to 52513\n",
      "Data columns (total 12 columns):\n",
      " #   Column                  Non-Null Count  Dtype  \n",
      "---  ------                  --------------  -----  \n",
      " 0   name                    52513 non-null  object \n",
      " 1   funding_total_usd       42445 non-null  float64\n",
      " 2   country_code            52514 non-null  object \n",
      " 3   state_code              45752 non-null  object \n",
      " 4   region                  46156 non-null  object \n",
      " 5   city                    46156 non-null  object \n",
      " 6   funding_rounds          52514 non-null  int64  \n",
      " 7   lifetime                52514 non-null  int64  \n",
      " 8   delta_invest&open_time  52514 non-null  int64  \n",
      " 9   delta_funding_time      52514 non-null  int64  \n",
      " 10  founded_year            52514 non-null  int32  \n",
      " 11  new_category            52514 non-null  object \n",
      "dtypes: float64(1), int32(1), int64(4), object(6)\n",
      "memory usage: 4.6+ MB\n"
     ]
    }
   ],
   "source": [
    "X_train.info()"
   ]
  },
  {
   "cell_type": "code",
   "execution_count": 120,
   "metadata": {},
   "outputs": [
    {
     "data": {
      "text/plain": [
       "new_category\n",
       "Biotechnology          3592\n",
       "Software               3322\n",
       "nan                    2465\n",
       "E-Commerce             2172\n",
       "Advertising            1925\n",
       "Curated Web            1746\n",
       "Mobile                 1396\n",
       "Analytics              1314\n",
       "Apps                   1184\n",
       "Health Care            1134\n",
       "Enterprise Software    1110\n",
       "Clean Technology       1106\n",
       "Games                  1014\n",
       "Health and Wellness     956\n",
       "Hardware + Software     876\n",
       "Finance                 873\n",
       "Education               800\n",
       "Manufacturing           688\n",
       "Consulting              566\n",
       "Internet                505\n",
       "Name: count, dtype: int64"
      ]
     },
     "execution_count": 120,
     "metadata": {},
     "output_type": "execute_result"
    }
   ],
   "source": [
    "X_train['new_category'].value_counts().head(20)"
   ]
  },
  {
   "cell_type": "code",
   "execution_count": 113,
   "metadata": {},
   "outputs": [
    {
     "name": "stdout",
     "output_type": "stream",
     "text": [
      "<class 'pandas.core.frame.DataFrame'>\n",
      "RangeIndex: 13125 entries, 0 to 13124\n",
      "Data columns (total 12 columns):\n",
      " #   Column                  Non-Null Count  Dtype  \n",
      "---  ------                  --------------  -----  \n",
      " 0   name                    13125 non-null  object \n",
      " 1   funding_total_usd       10547 non-null  float64\n",
      " 2   country_code            11743 non-null  object \n",
      " 3   state_code              11430 non-null  object \n",
      " 4   region                  11536 non-null  object \n",
      " 5   city                    11538 non-null  object \n",
      " 6   funding_rounds          13125 non-null  int64  \n",
      " 7   lifetime                13125 non-null  int64  \n",
      " 8   delta_invest&open_time  13125 non-null  int64  \n",
      " 9   delta_funding_time      13125 non-null  int64  \n",
      " 10  founded_year            13125 non-null  int32  \n",
      " 11  new_category            13125 non-null  object \n",
      "dtypes: float64(1), int32(1), int64(4), object(6)\n",
      "memory usage: 1.2+ MB\n"
     ]
    }
   ],
   "source": [
    "X_test.info()"
   ]
  },
  {
   "cell_type": "code",
   "execution_count": 124,
   "metadata": {},
   "outputs": [
    {
     "name": "stderr",
     "output_type": "stream",
     "text": [
      "[I 2024-06-11 13:14:31,342] A new study created in memory with name: lpopf\n",
      "/opt/anaconda3/envs/practicum/lib/python3.11/site-packages/sklearn/preprocessing/_encoders.py:241: UserWarning: Found unknown categories in columns [0, 1, 2, 3, 4, 5] during transform. These unknown categories will be encoded as all zeros\n",
      "  warnings.warn(\n",
      "/opt/anaconda3/envs/practicum/lib/python3.11/site-packages/sklearn/preprocessing/_encoders.py:241: UserWarning: Found unknown categories in columns [0, 1, 2, 3, 4, 5] during transform. These unknown categories will be encoded as all zeros\n",
      "  warnings.warn(\n",
      "/opt/anaconda3/envs/practicum/lib/python3.11/site-packages/sklearn/preprocessing/_encoders.py:241: UserWarning: Found unknown categories in columns [0, 1, 2, 3, 4, 5] during transform. These unknown categories will be encoded as all zeros\n",
      "  warnings.warn(\n",
      "[I 2024-06-11 13:14:51,856] Trial 0 finished with value: 0.9947223361616357 and parameters: {'objective': 'CrossEntropy', 'colsample_bylevel': 0.0819498406634685, 'depth': 6, 'boosting_type': 'Plain', 'bootstrap_type': 'Bernoulli', 'subsample': 0.8811355385104257}. Best is trial 0 with value: 0.9947223361616357.\n",
      "/opt/anaconda3/envs/practicum/lib/python3.11/site-packages/sklearn/preprocessing/_encoders.py:241: UserWarning: Found unknown categories in columns [0, 1, 2, 3, 4, 5] during transform. These unknown categories will be encoded as all zeros\n",
      "  warnings.warn(\n",
      "/opt/anaconda3/envs/practicum/lib/python3.11/site-packages/sklearn/preprocessing/_encoders.py:241: UserWarning: Found unknown categories in columns [0, 1, 2, 3, 4, 5] during transform. These unknown categories will be encoded as all zeros\n",
      "  warnings.warn(\n",
      "/opt/anaconda3/envs/practicum/lib/python3.11/site-packages/sklearn/preprocessing/_encoders.py:241: UserWarning: Found unknown categories in columns [0, 1, 2, 3, 4, 5] during transform. These unknown categories will be encoded as all zeros\n",
      "  warnings.warn(\n",
      "[I 2024-06-11 13:16:15,735] Trial 1 finished with value: 0.9966077914144007 and parameters: {'objective': 'CrossEntropy', 'colsample_bylevel': 0.096574789578651, 'depth': 9, 'boosting_type': 'Ordered', 'bootstrap_type': 'MVS'}. Best is trial 1 with value: 0.9966077914144007.\n",
      "/opt/anaconda3/envs/practicum/lib/python3.11/site-packages/sklearn/preprocessing/_encoders.py:241: UserWarning: Found unknown categories in columns [0, 1, 2, 3, 4, 5] during transform. These unknown categories will be encoded as all zeros\n",
      "  warnings.warn(\n",
      "/opt/anaconda3/envs/practicum/lib/python3.11/site-packages/sklearn/preprocessing/_encoders.py:241: UserWarning: Found unknown categories in columns [0, 1, 2, 3, 4, 5] during transform. These unknown categories will be encoded as all zeros\n",
      "  warnings.warn(\n",
      "/opt/anaconda3/envs/practicum/lib/python3.11/site-packages/sklearn/preprocessing/_encoders.py:241: UserWarning: Found unknown categories in columns [0, 1, 2, 3, 4, 5] during transform. These unknown categories will be encoded as all zeros\n",
      "  warnings.warn(\n",
      "[I 2024-06-11 13:16:38,216] Trial 2 finished with value: 0.9936209981296237 and parameters: {'objective': 'Logloss', 'colsample_bylevel': 0.04651835680657452, 'depth': 9, 'boosting_type': 'Plain', 'bootstrap_type': 'MVS'}. Best is trial 1 with value: 0.9966077914144007.\n"
     ]
    }
   ],
   "source": [
    "#X_train['category_list'].astype(str)\n",
    "# cat_features = ['new_category']\n",
    "def objective_cbc(trial):    \n",
    "    # Список гиперпараметров для перебора (для CatBoostClassifier)\n",
    "    param = {\n",
    "        \"objective\": trial.suggest_categorical(\"objective\", [\"Logloss\", \"CrossEntropy\"]),\n",
    "        \"colsample_bylevel\": trial.suggest_float(\"colsample_bylevel\", 0.01, 0.1),\n",
    "        \"depth\": trial.suggest_int(\"depth\", 1, 12),\n",
    "        \"boosting_type\": trial.suggest_categorical(\"boosting_type\", [\"Ordered\", \"Plain\"]),\n",
    "        \"bootstrap_type\": trial.suggest_categorical(\n",
    "            \"bootstrap_type\", [\"Bayesian\", \"Bernoulli\", \"MVS\"]\n",
    "        ),\n",
    "        \"used_ram_limit\": \"3gb\",\n",
    "    }\n",
    "    \n",
    "\n",
    "    if param[\"bootstrap_type\"] == \"Bayesian\":\n",
    "        param[\"bagging_temperature\"] = trial.suggest_float(\"bagging_temperature\", 0, 10)\n",
    "    elif param[\"bootstrap_type\"] == \"Bernoulli\":\n",
    "        param[\"subsample\"] = trial.suggest_float(\"subsample\", 0.1, 1)\n",
    "    \n",
    "    # Определяю модель машинного обучения, которой передаются гиперпараметры , cat_features = cat_features\n",
    "    estimator = CatBoostClassifier(**param, verbose = False)\n",
    "\n",
    "    # Прикручиваю пайплайны\n",
    "    clf_pipeline_cbc = Pipeline(steps=[\n",
    "            ('col_trans', col_trans),\n",
    "            ('model', estimator)\n",
    "        ])\n",
    "        \n",
    "    f1_cbc = cross_val_score(clf_pipeline_cbc, X_train, y_train, cv=3, scoring= 'f1').mean()\n",
    "    return f1_cbc\n",
    "\n",
    "# Инициализирую подбора гиперпараметров.\n",
    "# Можно сохранять все промежуточные результаты в БД SQLLite (этот код я закомментировал)\n",
    "#study = optuna.create_study(direction=\"maximize\", study_name=\"CBC-2023-01-14-14-30\", storage='sqlite:///db/CBC-2023-01-14-14-30.db')\n",
    "study_cbc = optuna.create_study(direction=\"maximize\", study_name=\"lpopf\")\n",
    "# Запускаю процесс подбора гиперпараметров\n",
    "study_cbc.optimize(objective_cbc, n_trials=3)\n",
    "\n"
   ]
  },
  {
   "cell_type": "code",
   "execution_count": 125,
   "metadata": {},
   "outputs": [
    {
     "name": "stdout",
     "output_type": "stream",
     "text": [
      "Number of finished trials: 3\n",
      "Best trial:\n",
      "  Value: 0.9966077914144007\n",
      "  Params: \n",
      "    objective: CrossEntropy\n",
      "    colsample_bylevel: 0.096574789578651\n",
      "    depth: 9\n",
      "    boosting_type: Ordered\n",
      "    bootstrap_type: MVS\n"
     ]
    }
   ],
   "source": [
    "print('Number of finished trials: {}'.format(len(study_cbc.trials)))\n",
    "print('Best trial:')\n",
    "trial_cbc = study_cbc.best_trial\n",
    "\n",
    "print('  Value: {}'.format(trial_cbc.value))\n",
    "print('  Params: ')\n",
    "\n",
    "for key, value in trial_cbc.params.items():\n",
    "    print('    {}: {}'.format(key, value))"
   ]
  },
  {
   "cell_type": "code",
   "execution_count": 126,
   "metadata": {},
   "outputs": [],
   "source": [
    "params_cbc = trial_cbc.params"
   ]
  },
  {
   "cell_type": "code",
   "execution_count": 127,
   "metadata": {},
   "outputs": [
    {
     "data": {
      "application/vnd.plotly.v1+json": {
       "config": {
        "plotlyServerURL": "https://plot.ly"
       },
       "data": [
        {
         "cliponaxis": false,
         "hovertemplate": [
          "depth (IntDistribution): 0.09405094405265152<extra></extra>",
          "colsample_bylevel (FloatDistribution): 0.14219008763493826<extra></extra>",
          "bootstrap_type (CategoricalDistribution): 0.1656565474444874<extra></extra>",
          "objective (CategoricalDistribution): 0.23373672310564972<extra></extra>",
          "boosting_type (CategoricalDistribution): 0.364365697762273<extra></extra>"
         ],
         "name": "Objective Value",
         "orientation": "h",
         "text": [
          "0.09",
          "0.14",
          "0.17",
          "0.23",
          "0.36"
         ],
         "textposition": "outside",
         "type": "bar",
         "x": [
          0.09405094405265152,
          0.14219008763493826,
          0.1656565474444874,
          0.23373672310564972,
          0.364365697762273
         ],
         "y": [
          "depth",
          "colsample_bylevel",
          "bootstrap_type",
          "objective",
          "boosting_type"
         ]
        }
       ],
       "layout": {
        "template": {
         "data": {
          "bar": [
           {
            "error_x": {
             "color": "#2a3f5f"
            },
            "error_y": {
             "color": "#2a3f5f"
            },
            "marker": {
             "line": {
              "color": "#E5ECF6",
              "width": 0.5
             },
             "pattern": {
              "fillmode": "overlay",
              "size": 10,
              "solidity": 0.2
             }
            },
            "type": "bar"
           }
          ],
          "barpolar": [
           {
            "marker": {
             "line": {
              "color": "#E5ECF6",
              "width": 0.5
             },
             "pattern": {
              "fillmode": "overlay",
              "size": 10,
              "solidity": 0.2
             }
            },
            "type": "barpolar"
           }
          ],
          "carpet": [
           {
            "aaxis": {
             "endlinecolor": "#2a3f5f",
             "gridcolor": "white",
             "linecolor": "white",
             "minorgridcolor": "white",
             "startlinecolor": "#2a3f5f"
            },
            "baxis": {
             "endlinecolor": "#2a3f5f",
             "gridcolor": "white",
             "linecolor": "white",
             "minorgridcolor": "white",
             "startlinecolor": "#2a3f5f"
            },
            "type": "carpet"
           }
          ],
          "choropleth": [
           {
            "colorbar": {
             "outlinewidth": 0,
             "ticks": ""
            },
            "type": "choropleth"
           }
          ],
          "contour": [
           {
            "colorbar": {
             "outlinewidth": 0,
             "ticks": ""
            },
            "colorscale": [
             [
              0,
              "#0d0887"
             ],
             [
              0.1111111111111111,
              "#46039f"
             ],
             [
              0.2222222222222222,
              "#7201a8"
             ],
             [
              0.3333333333333333,
              "#9c179e"
             ],
             [
              0.4444444444444444,
              "#bd3786"
             ],
             [
              0.5555555555555556,
              "#d8576b"
             ],
             [
              0.6666666666666666,
              "#ed7953"
             ],
             [
              0.7777777777777778,
              "#fb9f3a"
             ],
             [
              0.8888888888888888,
              "#fdca26"
             ],
             [
              1,
              "#f0f921"
             ]
            ],
            "type": "contour"
           }
          ],
          "contourcarpet": [
           {
            "colorbar": {
             "outlinewidth": 0,
             "ticks": ""
            },
            "type": "contourcarpet"
           }
          ],
          "heatmap": [
           {
            "colorbar": {
             "outlinewidth": 0,
             "ticks": ""
            },
            "colorscale": [
             [
              0,
              "#0d0887"
             ],
             [
              0.1111111111111111,
              "#46039f"
             ],
             [
              0.2222222222222222,
              "#7201a8"
             ],
             [
              0.3333333333333333,
              "#9c179e"
             ],
             [
              0.4444444444444444,
              "#bd3786"
             ],
             [
              0.5555555555555556,
              "#d8576b"
             ],
             [
              0.6666666666666666,
              "#ed7953"
             ],
             [
              0.7777777777777778,
              "#fb9f3a"
             ],
             [
              0.8888888888888888,
              "#fdca26"
             ],
             [
              1,
              "#f0f921"
             ]
            ],
            "type": "heatmap"
           }
          ],
          "heatmapgl": [
           {
            "colorbar": {
             "outlinewidth": 0,
             "ticks": ""
            },
            "colorscale": [
             [
              0,
              "#0d0887"
             ],
             [
              0.1111111111111111,
              "#46039f"
             ],
             [
              0.2222222222222222,
              "#7201a8"
             ],
             [
              0.3333333333333333,
              "#9c179e"
             ],
             [
              0.4444444444444444,
              "#bd3786"
             ],
             [
              0.5555555555555556,
              "#d8576b"
             ],
             [
              0.6666666666666666,
              "#ed7953"
             ],
             [
              0.7777777777777778,
              "#fb9f3a"
             ],
             [
              0.8888888888888888,
              "#fdca26"
             ],
             [
              1,
              "#f0f921"
             ]
            ],
            "type": "heatmapgl"
           }
          ],
          "histogram": [
           {
            "marker": {
             "pattern": {
              "fillmode": "overlay",
              "size": 10,
              "solidity": 0.2
             }
            },
            "type": "histogram"
           }
          ],
          "histogram2d": [
           {
            "colorbar": {
             "outlinewidth": 0,
             "ticks": ""
            },
            "colorscale": [
             [
              0,
              "#0d0887"
             ],
             [
              0.1111111111111111,
              "#46039f"
             ],
             [
              0.2222222222222222,
              "#7201a8"
             ],
             [
              0.3333333333333333,
              "#9c179e"
             ],
             [
              0.4444444444444444,
              "#bd3786"
             ],
             [
              0.5555555555555556,
              "#d8576b"
             ],
             [
              0.6666666666666666,
              "#ed7953"
             ],
             [
              0.7777777777777778,
              "#fb9f3a"
             ],
             [
              0.8888888888888888,
              "#fdca26"
             ],
             [
              1,
              "#f0f921"
             ]
            ],
            "type": "histogram2d"
           }
          ],
          "histogram2dcontour": [
           {
            "colorbar": {
             "outlinewidth": 0,
             "ticks": ""
            },
            "colorscale": [
             [
              0,
              "#0d0887"
             ],
             [
              0.1111111111111111,
              "#46039f"
             ],
             [
              0.2222222222222222,
              "#7201a8"
             ],
             [
              0.3333333333333333,
              "#9c179e"
             ],
             [
              0.4444444444444444,
              "#bd3786"
             ],
             [
              0.5555555555555556,
              "#d8576b"
             ],
             [
              0.6666666666666666,
              "#ed7953"
             ],
             [
              0.7777777777777778,
              "#fb9f3a"
             ],
             [
              0.8888888888888888,
              "#fdca26"
             ],
             [
              1,
              "#f0f921"
             ]
            ],
            "type": "histogram2dcontour"
           }
          ],
          "mesh3d": [
           {
            "colorbar": {
             "outlinewidth": 0,
             "ticks": ""
            },
            "type": "mesh3d"
           }
          ],
          "parcoords": [
           {
            "line": {
             "colorbar": {
              "outlinewidth": 0,
              "ticks": ""
             }
            },
            "type": "parcoords"
           }
          ],
          "pie": [
           {
            "automargin": true,
            "type": "pie"
           }
          ],
          "scatter": [
           {
            "fillpattern": {
             "fillmode": "overlay",
             "size": 10,
             "solidity": 0.2
            },
            "type": "scatter"
           }
          ],
          "scatter3d": [
           {
            "line": {
             "colorbar": {
              "outlinewidth": 0,
              "ticks": ""
             }
            },
            "marker": {
             "colorbar": {
              "outlinewidth": 0,
              "ticks": ""
             }
            },
            "type": "scatter3d"
           }
          ],
          "scattercarpet": [
           {
            "marker": {
             "colorbar": {
              "outlinewidth": 0,
              "ticks": ""
             }
            },
            "type": "scattercarpet"
           }
          ],
          "scattergeo": [
           {
            "marker": {
             "colorbar": {
              "outlinewidth": 0,
              "ticks": ""
             }
            },
            "type": "scattergeo"
           }
          ],
          "scattergl": [
           {
            "marker": {
             "colorbar": {
              "outlinewidth": 0,
              "ticks": ""
             }
            },
            "type": "scattergl"
           }
          ],
          "scattermapbox": [
           {
            "marker": {
             "colorbar": {
              "outlinewidth": 0,
              "ticks": ""
             }
            },
            "type": "scattermapbox"
           }
          ],
          "scatterpolar": [
           {
            "marker": {
             "colorbar": {
              "outlinewidth": 0,
              "ticks": ""
             }
            },
            "type": "scatterpolar"
           }
          ],
          "scatterpolargl": [
           {
            "marker": {
             "colorbar": {
              "outlinewidth": 0,
              "ticks": ""
             }
            },
            "type": "scatterpolargl"
           }
          ],
          "scatterternary": [
           {
            "marker": {
             "colorbar": {
              "outlinewidth": 0,
              "ticks": ""
             }
            },
            "type": "scatterternary"
           }
          ],
          "surface": [
           {
            "colorbar": {
             "outlinewidth": 0,
             "ticks": ""
            },
            "colorscale": [
             [
              0,
              "#0d0887"
             ],
             [
              0.1111111111111111,
              "#46039f"
             ],
             [
              0.2222222222222222,
              "#7201a8"
             ],
             [
              0.3333333333333333,
              "#9c179e"
             ],
             [
              0.4444444444444444,
              "#bd3786"
             ],
             [
              0.5555555555555556,
              "#d8576b"
             ],
             [
              0.6666666666666666,
              "#ed7953"
             ],
             [
              0.7777777777777778,
              "#fb9f3a"
             ],
             [
              0.8888888888888888,
              "#fdca26"
             ],
             [
              1,
              "#f0f921"
             ]
            ],
            "type": "surface"
           }
          ],
          "table": [
           {
            "cells": {
             "fill": {
              "color": "#EBF0F8"
             },
             "line": {
              "color": "white"
             }
            },
            "header": {
             "fill": {
              "color": "#C8D4E3"
             },
             "line": {
              "color": "white"
             }
            },
            "type": "table"
           }
          ]
         },
         "layout": {
          "annotationdefaults": {
           "arrowcolor": "#2a3f5f",
           "arrowhead": 0,
           "arrowwidth": 1
          },
          "autotypenumbers": "strict",
          "coloraxis": {
           "colorbar": {
            "outlinewidth": 0,
            "ticks": ""
           }
          },
          "colorscale": {
           "diverging": [
            [
             0,
             "#8e0152"
            ],
            [
             0.1,
             "#c51b7d"
            ],
            [
             0.2,
             "#de77ae"
            ],
            [
             0.3,
             "#f1b6da"
            ],
            [
             0.4,
             "#fde0ef"
            ],
            [
             0.5,
             "#f7f7f7"
            ],
            [
             0.6,
             "#e6f5d0"
            ],
            [
             0.7,
             "#b8e186"
            ],
            [
             0.8,
             "#7fbc41"
            ],
            [
             0.9,
             "#4d9221"
            ],
            [
             1,
             "#276419"
            ]
           ],
           "sequential": [
            [
             0,
             "#0d0887"
            ],
            [
             0.1111111111111111,
             "#46039f"
            ],
            [
             0.2222222222222222,
             "#7201a8"
            ],
            [
             0.3333333333333333,
             "#9c179e"
            ],
            [
             0.4444444444444444,
             "#bd3786"
            ],
            [
             0.5555555555555556,
             "#d8576b"
            ],
            [
             0.6666666666666666,
             "#ed7953"
            ],
            [
             0.7777777777777778,
             "#fb9f3a"
            ],
            [
             0.8888888888888888,
             "#fdca26"
            ],
            [
             1,
             "#f0f921"
            ]
           ],
           "sequentialminus": [
            [
             0,
             "#0d0887"
            ],
            [
             0.1111111111111111,
             "#46039f"
            ],
            [
             0.2222222222222222,
             "#7201a8"
            ],
            [
             0.3333333333333333,
             "#9c179e"
            ],
            [
             0.4444444444444444,
             "#bd3786"
            ],
            [
             0.5555555555555556,
             "#d8576b"
            ],
            [
             0.6666666666666666,
             "#ed7953"
            ],
            [
             0.7777777777777778,
             "#fb9f3a"
            ],
            [
             0.8888888888888888,
             "#fdca26"
            ],
            [
             1,
             "#f0f921"
            ]
           ]
          },
          "colorway": [
           "#636efa",
           "#EF553B",
           "#00cc96",
           "#ab63fa",
           "#FFA15A",
           "#19d3f3",
           "#FF6692",
           "#B6E880",
           "#FF97FF",
           "#FECB52"
          ],
          "font": {
           "color": "#2a3f5f"
          },
          "geo": {
           "bgcolor": "white",
           "lakecolor": "white",
           "landcolor": "#E5ECF6",
           "showlakes": true,
           "showland": true,
           "subunitcolor": "white"
          },
          "hoverlabel": {
           "align": "left"
          },
          "hovermode": "closest",
          "mapbox": {
           "style": "light"
          },
          "paper_bgcolor": "white",
          "plot_bgcolor": "#E5ECF6",
          "polar": {
           "angularaxis": {
            "gridcolor": "white",
            "linecolor": "white",
            "ticks": ""
           },
           "bgcolor": "#E5ECF6",
           "radialaxis": {
            "gridcolor": "white",
            "linecolor": "white",
            "ticks": ""
           }
          },
          "scene": {
           "xaxis": {
            "backgroundcolor": "#E5ECF6",
            "gridcolor": "white",
            "gridwidth": 2,
            "linecolor": "white",
            "showbackground": true,
            "ticks": "",
            "zerolinecolor": "white"
           },
           "yaxis": {
            "backgroundcolor": "#E5ECF6",
            "gridcolor": "white",
            "gridwidth": 2,
            "linecolor": "white",
            "showbackground": true,
            "ticks": "",
            "zerolinecolor": "white"
           },
           "zaxis": {
            "backgroundcolor": "#E5ECF6",
            "gridcolor": "white",
            "gridwidth": 2,
            "linecolor": "white",
            "showbackground": true,
            "ticks": "",
            "zerolinecolor": "white"
           }
          },
          "shapedefaults": {
           "line": {
            "color": "#2a3f5f"
           }
          },
          "ternary": {
           "aaxis": {
            "gridcolor": "white",
            "linecolor": "white",
            "ticks": ""
           },
           "baxis": {
            "gridcolor": "white",
            "linecolor": "white",
            "ticks": ""
           },
           "bgcolor": "#E5ECF6",
           "caxis": {
            "gridcolor": "white",
            "linecolor": "white",
            "ticks": ""
           }
          },
          "title": {
           "x": 0.05
          },
          "xaxis": {
           "automargin": true,
           "gridcolor": "white",
           "linecolor": "white",
           "ticks": "",
           "title": {
            "standoff": 15
           },
           "zerolinecolor": "white",
           "zerolinewidth": 2
          },
          "yaxis": {
           "automargin": true,
           "gridcolor": "white",
           "linecolor": "white",
           "ticks": "",
           "title": {
            "standoff": 15
           },
           "zerolinecolor": "white",
           "zerolinewidth": 2
          }
         }
        },
        "title": {
         "text": "Hyperparameter Importances"
        },
        "xaxis": {
         "title": {
          "text": "Hyperparameter Importance"
         }
        },
        "yaxis": {
         "title": {
          "text": "Hyperparameter"
         }
        }
       }
      }
     },
     "metadata": {},
     "output_type": "display_data"
    }
   ],
   "source": [
    "optuna.visualization.plot_param_importances(study_cbc)"
   ]
  },
  {
   "cell_type": "code",
   "execution_count": 128,
   "metadata": {},
   "outputs": [
    {
     "name": "stdout",
     "output_type": "stream",
     "text": [
      "0:\tlearn: 0.6528394\ttotal: 58.9ms\tremaining: 58.9s\n",
      "1:\tlearn: 0.6266806\ttotal: 101ms\tremaining: 50.2s\n",
      "2:\tlearn: 0.6028561\ttotal: 117ms\tremaining: 38.9s\n",
      "3:\tlearn: 0.5711349\ttotal: 153ms\tremaining: 38.1s\n",
      "4:\tlearn: 0.5504323\ttotal: 190ms\tremaining: 37.7s\n",
      "5:\tlearn: 0.5159295\ttotal: 231ms\tremaining: 38.3s\n",
      "6:\tlearn: 0.4863621\ttotal: 308ms\tremaining: 43.7s\n",
      "7:\tlearn: 0.4623552\ttotal: 358ms\tremaining: 44.4s\n",
      "8:\tlearn: 0.4484974\ttotal: 385ms\tremaining: 42.4s\n",
      "9:\tlearn: 0.4361120\ttotal: 419ms\tremaining: 41.5s\n",
      "10:\tlearn: 0.4165183\ttotal: 463ms\tremaining: 41.6s\n",
      "11:\tlearn: 0.3945632\ttotal: 497ms\tremaining: 40.9s\n",
      "12:\tlearn: 0.3835477\ttotal: 534ms\tremaining: 40.6s\n",
      "13:\tlearn: 0.3741066\ttotal: 572ms\tremaining: 40.3s\n",
      "14:\tlearn: 0.3587790\ttotal: 617ms\tremaining: 40.5s\n",
      "15:\tlearn: 0.3430967\ttotal: 659ms\tremaining: 40.5s\n",
      "16:\tlearn: 0.3310408\ttotal: 682ms\tremaining: 39.4s\n",
      "17:\tlearn: 0.3243673\ttotal: 715ms\tremaining: 39s\n",
      "18:\tlearn: 0.3032740\ttotal: 752ms\tremaining: 38.8s\n",
      "19:\tlearn: 0.2977233\ttotal: 782ms\tremaining: 38.3s\n",
      "20:\tlearn: 0.2878390\ttotal: 801ms\tremaining: 37.4s\n",
      "21:\tlearn: 0.2702879\ttotal: 841ms\tremaining: 37.4s\n",
      "22:\tlearn: 0.2597887\ttotal: 888ms\tremaining: 37.7s\n",
      "23:\tlearn: 0.2497641\ttotal: 928ms\tremaining: 37.7s\n",
      "24:\tlearn: 0.2463248\ttotal: 971ms\tremaining: 37.9s\n",
      "25:\tlearn: 0.2377476\ttotal: 1.01s\tremaining: 38s\n",
      "26:\tlearn: 0.2300995\ttotal: 1.05s\tremaining: 37.9s\n",
      "27:\tlearn: 0.2252301\ttotal: 1.09s\tremaining: 38s\n",
      "28:\tlearn: 0.2206898\ttotal: 1.14s\tremaining: 38.1s\n",
      "29:\tlearn: 0.2103362\ttotal: 1.18s\tremaining: 38.1s\n",
      "30:\tlearn: 0.2081564\ttotal: 1.2s\tremaining: 37.6s\n",
      "31:\tlearn: 0.2060361\ttotal: 1.23s\tremaining: 37.3s\n",
      "32:\tlearn: 0.2042376\ttotal: 1.25s\tremaining: 36.7s\n",
      "33:\tlearn: 0.1997243\ttotal: 1.32s\tremaining: 37.5s\n",
      "34:\tlearn: 0.1978864\ttotal: 1.39s\tremaining: 38.2s\n",
      "35:\tlearn: 0.1939525\ttotal: 1.46s\tremaining: 39.2s\n",
      "36:\tlearn: 0.1925621\ttotal: 1.52s\tremaining: 39.5s\n",
      "37:\tlearn: 0.1883853\ttotal: 1.57s\tremaining: 39.9s\n",
      "38:\tlearn: 0.1804291\ttotal: 1.63s\tremaining: 40.2s\n",
      "39:\tlearn: 0.1781124\ttotal: 1.69s\tremaining: 40.4s\n",
      "40:\tlearn: 0.1719930\ttotal: 1.74s\tremaining: 40.6s\n",
      "41:\tlearn: 0.1662047\ttotal: 1.8s\tremaining: 41.1s\n",
      "42:\tlearn: 0.1643037\ttotal: 1.85s\tremaining: 41.3s\n",
      "43:\tlearn: 0.1633895\ttotal: 1.91s\tremaining: 41.5s\n",
      "44:\tlearn: 0.1625752\ttotal: 1.96s\tremaining: 41.6s\n",
      "45:\tlearn: 0.1546462\ttotal: 2.01s\tremaining: 41.8s\n",
      "46:\tlearn: 0.1537274\ttotal: 2.07s\tremaining: 42s\n",
      "47:\tlearn: 0.1518806\ttotal: 2.14s\tremaining: 42.4s\n",
      "48:\tlearn: 0.1510969\ttotal: 2.19s\tremaining: 42.6s\n",
      "49:\tlearn: 0.1502796\ttotal: 2.25s\tremaining: 42.7s\n",
      "50:\tlearn: 0.1496915\ttotal: 2.31s\tremaining: 43s\n",
      "51:\tlearn: 0.1451017\ttotal: 2.37s\tremaining: 43.1s\n",
      "52:\tlearn: 0.1387193\ttotal: 2.42s\tremaining: 43.3s\n",
      "53:\tlearn: 0.1382336\ttotal: 2.46s\tremaining: 43.1s\n",
      "54:\tlearn: 0.1366135\ttotal: 2.49s\tremaining: 42.8s\n",
      "55:\tlearn: 0.1354797\ttotal: 2.52s\tremaining: 42.6s\n",
      "56:\tlearn: 0.1298560\ttotal: 2.59s\tremaining: 42.9s\n",
      "57:\tlearn: 0.1262821\ttotal: 2.64s\tremaining: 42.9s\n",
      "58:\tlearn: 0.1242449\ttotal: 2.7s\tremaining: 43.1s\n",
      "59:\tlearn: 0.1225245\ttotal: 2.77s\tremaining: 43.3s\n",
      "60:\tlearn: 0.1214039\ttotal: 2.81s\tremaining: 43.2s\n",
      "61:\tlearn: 0.1211617\ttotal: 2.85s\tremaining: 43.2s\n",
      "62:\tlearn: 0.1209285\ttotal: 2.91s\tremaining: 43.3s\n",
      "63:\tlearn: 0.1199796\ttotal: 2.95s\tremaining: 43.2s\n",
      "64:\tlearn: 0.1157397\ttotal: 3.01s\tremaining: 43.3s\n",
      "65:\tlearn: 0.1134735\ttotal: 3.06s\tremaining: 43.3s\n",
      "66:\tlearn: 0.1133136\ttotal: 3.09s\tremaining: 43s\n",
      "67:\tlearn: 0.1101618\ttotal: 3.13s\tremaining: 42.9s\n",
      "68:\tlearn: 0.1100211\ttotal: 3.17s\tremaining: 42.7s\n",
      "69:\tlearn: 0.1098663\ttotal: 3.21s\tremaining: 42.6s\n",
      "70:\tlearn: 0.1095745\ttotal: 3.25s\tremaining: 42.5s\n",
      "71:\tlearn: 0.1085838\ttotal: 3.29s\tremaining: 42.5s\n",
      "72:\tlearn: 0.1084693\ttotal: 3.32s\tremaining: 42.2s\n",
      "73:\tlearn: 0.1083707\ttotal: 3.35s\tremaining: 41.9s\n",
      "74:\tlearn: 0.1081191\ttotal: 3.39s\tremaining: 41.8s\n",
      "75:\tlearn: 0.1054759\ttotal: 3.49s\tremaining: 42.5s\n",
      "76:\tlearn: 0.1052287\ttotal: 3.74s\tremaining: 44.9s\n",
      "77:\tlearn: 0.1045339\ttotal: 3.83s\tremaining: 45.2s\n",
      "78:\tlearn: 0.1044195\ttotal: 3.9s\tremaining: 45.5s\n",
      "79:\tlearn: 0.1042926\ttotal: 3.98s\tremaining: 45.8s\n",
      "80:\tlearn: 0.1040960\ttotal: 4.02s\tremaining: 45.6s\n",
      "81:\tlearn: 0.1040179\ttotal: 4.05s\tremaining: 45.3s\n",
      "82:\tlearn: 0.1018339\ttotal: 4.11s\tremaining: 45.4s\n",
      "83:\tlearn: 0.1017181\ttotal: 4.16s\tremaining: 45.4s\n",
      "84:\tlearn: 0.1014836\ttotal: 4.19s\tremaining: 45.1s\n",
      "85:\tlearn: 0.1013896\ttotal: 4.25s\tremaining: 45.2s\n",
      "86:\tlearn: 0.1005678\ttotal: 4.29s\tremaining: 45s\n",
      "87:\tlearn: 0.0989682\ttotal: 4.35s\tremaining: 45.1s\n",
      "88:\tlearn: 0.0989088\ttotal: 4.37s\tremaining: 44.7s\n",
      "89:\tlearn: 0.0962416\ttotal: 4.42s\tremaining: 44.7s\n",
      "90:\tlearn: 0.0957435\ttotal: 4.48s\tremaining: 44.8s\n",
      "91:\tlearn: 0.0955459\ttotal: 4.51s\tremaining: 44.6s\n",
      "92:\tlearn: 0.0953264\ttotal: 4.57s\tremaining: 44.5s\n",
      "93:\tlearn: 0.0948896\ttotal: 4.62s\tremaining: 44.5s\n",
      "94:\tlearn: 0.0942488\ttotal: 4.67s\tremaining: 44.5s\n",
      "95:\tlearn: 0.0940042\ttotal: 4.72s\tremaining: 44.5s\n",
      "96:\tlearn: 0.0905551\ttotal: 4.78s\tremaining: 44.5s\n",
      "97:\tlearn: 0.0905079\ttotal: 4.8s\tremaining: 44.2s\n",
      "98:\tlearn: 0.0904710\ttotal: 4.83s\tremaining: 44s\n",
      "99:\tlearn: 0.0903266\ttotal: 4.86s\tremaining: 43.7s\n",
      "100:\tlearn: 0.0899223\ttotal: 4.89s\tremaining: 43.5s\n",
      "101:\tlearn: 0.0875444\ttotal: 4.93s\tremaining: 43.4s\n",
      "102:\tlearn: 0.0874448\ttotal: 4.98s\tremaining: 43.4s\n",
      "103:\tlearn: 0.0848328\ttotal: 5.01s\tremaining: 43.2s\n",
      "104:\tlearn: 0.0844709\ttotal: 5.04s\tremaining: 42.9s\n",
      "105:\tlearn: 0.0844487\ttotal: 5.06s\tremaining: 42.7s\n",
      "106:\tlearn: 0.0833176\ttotal: 5.12s\tremaining: 42.7s\n",
      "107:\tlearn: 0.0832359\ttotal: 5.14s\tremaining: 42.5s\n",
      "108:\tlearn: 0.0832148\ttotal: 5.16s\tremaining: 42.2s\n",
      "109:\tlearn: 0.0812198\ttotal: 5.21s\tremaining: 42.1s\n",
      "110:\tlearn: 0.0811691\ttotal: 5.26s\tremaining: 42.1s\n",
      "111:\tlearn: 0.0811356\ttotal: 5.28s\tremaining: 41.9s\n",
      "112:\tlearn: 0.0810998\ttotal: 5.31s\tremaining: 41.7s\n",
      "113:\tlearn: 0.0798624\ttotal: 5.38s\tremaining: 41.8s\n",
      "114:\tlearn: 0.0797634\ttotal: 5.41s\tremaining: 41.6s\n",
      "115:\tlearn: 0.0782748\ttotal: 5.45s\tremaining: 41.6s\n",
      "116:\tlearn: 0.0757140\ttotal: 5.51s\tremaining: 41.6s\n",
      "117:\tlearn: 0.0755919\ttotal: 5.55s\tremaining: 41.5s\n",
      "118:\tlearn: 0.0755050\ttotal: 5.6s\tremaining: 41.5s\n",
      "119:\tlearn: 0.0749794\ttotal: 5.65s\tremaining: 41.4s\n",
      "120:\tlearn: 0.0746979\ttotal: 5.7s\tremaining: 41.4s\n",
      "121:\tlearn: 0.0746334\ttotal: 5.75s\tremaining: 41.3s\n",
      "122:\tlearn: 0.0731501\ttotal: 5.8s\tremaining: 41.4s\n",
      "123:\tlearn: 0.0729709\ttotal: 5.86s\tremaining: 41.4s\n",
      "124:\tlearn: 0.0729616\ttotal: 5.88s\tremaining: 41.1s\n",
      "125:\tlearn: 0.0728647\ttotal: 5.92s\tremaining: 41.1s\n",
      "126:\tlearn: 0.0728538\ttotal: 5.95s\tremaining: 40.9s\n",
      "127:\tlearn: 0.0728407\ttotal: 5.98s\tremaining: 40.7s\n",
      "128:\tlearn: 0.0716021\ttotal: 6.04s\tremaining: 40.8s\n",
      "129:\tlearn: 0.0700400\ttotal: 6.08s\tremaining: 40.7s\n",
      "130:\tlearn: 0.0700063\ttotal: 6.14s\tremaining: 40.7s\n",
      "131:\tlearn: 0.0699290\ttotal: 6.18s\tremaining: 40.6s\n",
      "132:\tlearn: 0.0698484\ttotal: 6.21s\tremaining: 40.5s\n",
      "133:\tlearn: 0.0690725\ttotal: 6.26s\tremaining: 40.5s\n",
      "134:\tlearn: 0.0689927\ttotal: 6.32s\tremaining: 40.5s\n",
      "135:\tlearn: 0.0689756\ttotal: 6.36s\tremaining: 40.4s\n",
      "136:\tlearn: 0.0687235\ttotal: 6.42s\tremaining: 40.4s\n",
      "137:\tlearn: 0.0686588\ttotal: 6.47s\tremaining: 40.4s\n",
      "138:\tlearn: 0.0685510\ttotal: 6.52s\tremaining: 40.4s\n",
      "139:\tlearn: 0.0684812\ttotal: 6.58s\tremaining: 40.5s\n",
      "140:\tlearn: 0.0684550\ttotal: 6.62s\tremaining: 40.3s\n",
      "141:\tlearn: 0.0683000\ttotal: 6.66s\tremaining: 40.2s\n",
      "142:\tlearn: 0.0682427\ttotal: 6.69s\tremaining: 40.1s\n",
      "143:\tlearn: 0.0678822\ttotal: 6.73s\tremaining: 40s\n",
      "144:\tlearn: 0.0678544\ttotal: 6.79s\tremaining: 40s\n",
      "145:\tlearn: 0.0678152\ttotal: 6.82s\tremaining: 39.9s\n",
      "146:\tlearn: 0.0664133\ttotal: 6.87s\tremaining: 39.9s\n",
      "147:\tlearn: 0.0661998\ttotal: 6.92s\tremaining: 39.8s\n",
      "148:\tlearn: 0.0661427\ttotal: 6.96s\tremaining: 39.7s\n",
      "149:\tlearn: 0.0660860\ttotal: 7.01s\tremaining: 39.7s\n",
      "150:\tlearn: 0.0660459\ttotal: 7.04s\tremaining: 39.6s\n",
      "151:\tlearn: 0.0645974\ttotal: 7.09s\tremaining: 39.6s\n",
      "152:\tlearn: 0.0634806\ttotal: 7.14s\tremaining: 39.5s\n",
      "153:\tlearn: 0.0633551\ttotal: 7.18s\tremaining: 39.5s\n",
      "154:\tlearn: 0.0632974\ttotal: 7.24s\tremaining: 39.5s\n",
      "155:\tlearn: 0.0632626\ttotal: 7.29s\tremaining: 39.4s\n",
      "156:\tlearn: 0.0632536\ttotal: 7.31s\tremaining: 39.3s\n",
      "157:\tlearn: 0.0631964\ttotal: 7.36s\tremaining: 39.2s\n",
      "158:\tlearn: 0.0623393\ttotal: 7.42s\tremaining: 39.3s\n",
      "159:\tlearn: 0.0622736\ttotal: 7.47s\tremaining: 39.2s\n",
      "160:\tlearn: 0.0614176\ttotal: 7.52s\tremaining: 39.2s\n",
      "161:\tlearn: 0.0612047\ttotal: 7.56s\tremaining: 39.1s\n",
      "162:\tlearn: 0.0610635\ttotal: 7.61s\tremaining: 39.1s\n",
      "163:\tlearn: 0.0601600\ttotal: 7.67s\tremaining: 39.1s\n",
      "164:\tlearn: 0.0601456\ttotal: 7.7s\tremaining: 39s\n",
      "165:\tlearn: 0.0601184\ttotal: 7.74s\tremaining: 38.9s\n",
      "166:\tlearn: 0.0599921\ttotal: 7.77s\tremaining: 38.8s\n",
      "167:\tlearn: 0.0591670\ttotal: 7.83s\tremaining: 38.8s\n",
      "168:\tlearn: 0.0584245\ttotal: 7.91s\tremaining: 38.9s\n",
      "169:\tlearn: 0.0584226\ttotal: 7.94s\tremaining: 38.8s\n",
      "170:\tlearn: 0.0584159\ttotal: 7.98s\tremaining: 38.7s\n",
      "171:\tlearn: 0.0576724\ttotal: 8.06s\tremaining: 38.8s\n",
      "172:\tlearn: 0.0575537\ttotal: 8.09s\tremaining: 38.7s\n",
      "173:\tlearn: 0.0573824\ttotal: 8.15s\tremaining: 38.7s\n",
      "174:\tlearn: 0.0573197\ttotal: 8.19s\tremaining: 38.6s\n",
      "175:\tlearn: 0.0571168\ttotal: 8.21s\tremaining: 38.5s\n",
      "176:\tlearn: 0.0570503\ttotal: 8.26s\tremaining: 38.4s\n",
      "177:\tlearn: 0.0570067\ttotal: 8.32s\tremaining: 38.4s\n",
      "178:\tlearn: 0.0569999\ttotal: 8.35s\tremaining: 38.3s\n",
      "179:\tlearn: 0.0568463\ttotal: 8.41s\tremaining: 38.3s\n",
      "180:\tlearn: 0.0568150\ttotal: 8.47s\tremaining: 38.3s\n",
      "181:\tlearn: 0.0567956\ttotal: 8.5s\tremaining: 38.2s\n",
      "182:\tlearn: 0.0565821\ttotal: 8.56s\tremaining: 38.2s\n",
      "183:\tlearn: 0.0565405\ttotal: 8.6s\tremaining: 38.1s\n",
      "184:\tlearn: 0.0557515\ttotal: 8.67s\tremaining: 38.2s\n",
      "185:\tlearn: 0.0555116\ttotal: 8.72s\tremaining: 38.2s\n",
      "186:\tlearn: 0.0555056\ttotal: 8.75s\tremaining: 38.1s\n",
      "187:\tlearn: 0.0553675\ttotal: 8.8s\tremaining: 38s\n",
      "188:\tlearn: 0.0553313\ttotal: 8.85s\tremaining: 38s\n",
      "189:\tlearn: 0.0551798\ttotal: 8.88s\tremaining: 37.9s\n",
      "190:\tlearn: 0.0546266\ttotal: 8.92s\tremaining: 37.8s\n",
      "191:\tlearn: 0.0546103\ttotal: 8.95s\tremaining: 37.7s\n",
      "192:\tlearn: 0.0545917\ttotal: 8.98s\tremaining: 37.6s\n",
      "193:\tlearn: 0.0545265\ttotal: 9.05s\tremaining: 37.6s\n",
      "194:\tlearn: 0.0545111\ttotal: 9.08s\tremaining: 37.5s\n",
      "195:\tlearn: 0.0545055\ttotal: 9.12s\tremaining: 37.4s\n",
      "196:\tlearn: 0.0543730\ttotal: 9.16s\tremaining: 37.4s\n",
      "197:\tlearn: 0.0539545\ttotal: 9.22s\tremaining: 37.3s\n",
      "198:\tlearn: 0.0535028\ttotal: 9.27s\tremaining: 37.3s\n",
      "199:\tlearn: 0.0534575\ttotal: 9.33s\tremaining: 37.3s\n",
      "200:\tlearn: 0.0534388\ttotal: 9.37s\tremaining: 37.3s\n",
      "201:\tlearn: 0.0534028\ttotal: 9.41s\tremaining: 37.2s\n",
      "202:\tlearn: 0.0533704\ttotal: 9.46s\tremaining: 37.1s\n",
      "203:\tlearn: 0.0533484\ttotal: 9.52s\tremaining: 37.1s\n",
      "204:\tlearn: 0.0533438\ttotal: 9.56s\tremaining: 37.1s\n",
      "205:\tlearn: 0.0529475\ttotal: 9.63s\tremaining: 37.1s\n",
      "206:\tlearn: 0.0529257\ttotal: 9.68s\tremaining: 37.1s\n",
      "207:\tlearn: 0.0528946\ttotal: 9.73s\tremaining: 37.1s\n",
      "208:\tlearn: 0.0527522\ttotal: 9.78s\tremaining: 37s\n",
      "209:\tlearn: 0.0519125\ttotal: 9.82s\tremaining: 37s\n",
      "210:\tlearn: 0.0518882\ttotal: 9.87s\tremaining: 36.9s\n",
      "211:\tlearn: 0.0518850\ttotal: 9.9s\tremaining: 36.8s\n",
      "212:\tlearn: 0.0515993\ttotal: 9.95s\tremaining: 36.8s\n",
      "213:\tlearn: 0.0515763\ttotal: 10s\tremaining: 36.8s\n",
      "214:\tlearn: 0.0509444\ttotal: 10.1s\tremaining: 36.7s\n",
      "215:\tlearn: 0.0507698\ttotal: 10.1s\tremaining: 36.7s\n",
      "216:\tlearn: 0.0506536\ttotal: 10.4s\tremaining: 37.6s\n",
      "217:\tlearn: 0.0505425\ttotal: 10.5s\tremaining: 37.7s\n",
      "218:\tlearn: 0.0505203\ttotal: 10.6s\tremaining: 37.8s\n",
      "219:\tlearn: 0.0500086\ttotal: 10.7s\tremaining: 37.9s\n",
      "220:\tlearn: 0.0498868\ttotal: 10.8s\tremaining: 37.9s\n",
      "221:\tlearn: 0.0498487\ttotal: 10.8s\tremaining: 37.9s\n",
      "222:\tlearn: 0.0498160\ttotal: 10.9s\tremaining: 37.8s\n",
      "223:\tlearn: 0.0495335\ttotal: 10.9s\tremaining: 37.8s\n",
      "224:\tlearn: 0.0491944\ttotal: 10.9s\tremaining: 37.7s\n",
      "225:\tlearn: 0.0491373\ttotal: 11s\tremaining: 37.6s\n",
      "226:\tlearn: 0.0490052\ttotal: 11s\tremaining: 37.6s\n",
      "227:\tlearn: 0.0489612\ttotal: 11.1s\tremaining: 37.5s\n",
      "228:\tlearn: 0.0489512\ttotal: 11.1s\tremaining: 37.4s\n",
      "229:\tlearn: 0.0482937\ttotal: 11.2s\tremaining: 37.3s\n",
      "230:\tlearn: 0.0482922\ttotal: 11.2s\tremaining: 37.3s\n",
      "231:\tlearn: 0.0482655\ttotal: 11.2s\tremaining: 37.2s\n",
      "232:\tlearn: 0.0482298\ttotal: 11.3s\tremaining: 37.2s\n",
      "233:\tlearn: 0.0481768\ttotal: 11.3s\tremaining: 37.1s\n",
      "234:\tlearn: 0.0478171\ttotal: 11.4s\tremaining: 37.1s\n",
      "235:\tlearn: 0.0472217\ttotal: 11.4s\tremaining: 37s\n",
      "236:\tlearn: 0.0471332\ttotal: 11.5s\tremaining: 37s\n",
      "237:\tlearn: 0.0464964\ttotal: 11.5s\tremaining: 37s\n",
      "238:\tlearn: 0.0460238\ttotal: 11.6s\tremaining: 36.9s\n",
      "239:\tlearn: 0.0459907\ttotal: 11.6s\tremaining: 36.9s\n",
      "240:\tlearn: 0.0457397\ttotal: 11.7s\tremaining: 36.8s\n",
      "241:\tlearn: 0.0455993\ttotal: 11.7s\tremaining: 36.8s\n",
      "242:\tlearn: 0.0451066\ttotal: 11.8s\tremaining: 36.8s\n",
      "243:\tlearn: 0.0450518\ttotal: 11.9s\tremaining: 36.7s\n",
      "244:\tlearn: 0.0447999\ttotal: 11.9s\tremaining: 36.7s\n",
      "245:\tlearn: 0.0447409\ttotal: 11.9s\tremaining: 36.6s\n",
      "246:\tlearn: 0.0447116\ttotal: 12s\tremaining: 36.5s\n",
      "247:\tlearn: 0.0447007\ttotal: 12s\tremaining: 36.5s\n",
      "248:\tlearn: 0.0446469\ttotal: 12.1s\tremaining: 36.4s\n",
      "249:\tlearn: 0.0443388\ttotal: 12.1s\tremaining: 36.4s\n",
      "250:\tlearn: 0.0438549\ttotal: 12.2s\tremaining: 36.4s\n",
      "251:\tlearn: 0.0437991\ttotal: 12.2s\tremaining: 36.3s\n",
      "252:\tlearn: 0.0437391\ttotal: 12.3s\tremaining: 36.3s\n",
      "253:\tlearn: 0.0435621\ttotal: 12.3s\tremaining: 36.2s\n",
      "254:\tlearn: 0.0433726\ttotal: 12.4s\tremaining: 36.2s\n",
      "255:\tlearn: 0.0424120\ttotal: 12.4s\tremaining: 36.1s\n",
      "256:\tlearn: 0.0424045\ttotal: 12.5s\tremaining: 36.1s\n",
      "257:\tlearn: 0.0423014\ttotal: 12.5s\tremaining: 36.1s\n",
      "258:\tlearn: 0.0421456\ttotal: 12.6s\tremaining: 36s\n",
      "259:\tlearn: 0.0421404\ttotal: 12.6s\tremaining: 35.9s\n",
      "260:\tlearn: 0.0421152\ttotal: 12.7s\tremaining: 35.9s\n",
      "261:\tlearn: 0.0414882\ttotal: 12.7s\tremaining: 35.9s\n",
      "262:\tlearn: 0.0413862\ttotal: 12.9s\tremaining: 36.1s\n",
      "263:\tlearn: 0.0413553\ttotal: 13.1s\tremaining: 36.4s\n",
      "264:\tlearn: 0.0410019\ttotal: 13.1s\tremaining: 36.4s\n",
      "265:\tlearn: 0.0409735\ttotal: 13.2s\tremaining: 36.4s\n",
      "266:\tlearn: 0.0406075\ttotal: 13.3s\tremaining: 36.4s\n",
      "267:\tlearn: 0.0405782\ttotal: 13.3s\tremaining: 36.4s\n",
      "268:\tlearn: 0.0405458\ttotal: 13.4s\tremaining: 36.3s\n",
      "269:\tlearn: 0.0405250\ttotal: 13.4s\tremaining: 36.3s\n",
      "270:\tlearn: 0.0405204\ttotal: 13.4s\tremaining: 36.2s\n",
      "271:\tlearn: 0.0404840\ttotal: 13.5s\tremaining: 36.1s\n",
      "272:\tlearn: 0.0404508\ttotal: 13.5s\tremaining: 36s\n",
      "273:\tlearn: 0.0404476\ttotal: 13.6s\tremaining: 36s\n",
      "274:\tlearn: 0.0403898\ttotal: 13.6s\tremaining: 35.9s\n",
      "275:\tlearn: 0.0403692\ttotal: 13.7s\tremaining: 35.9s\n",
      "276:\tlearn: 0.0401121\ttotal: 13.7s\tremaining: 35.8s\n",
      "277:\tlearn: 0.0398385\ttotal: 13.8s\tremaining: 35.8s\n",
      "278:\tlearn: 0.0398285\ttotal: 13.8s\tremaining: 35.7s\n",
      "279:\tlearn: 0.0398282\ttotal: 13.8s\tremaining: 35.6s\n",
      "280:\tlearn: 0.0398179\ttotal: 13.9s\tremaining: 35.5s\n",
      "281:\tlearn: 0.0397792\ttotal: 13.9s\tremaining: 35.5s\n",
      "282:\tlearn: 0.0397792\ttotal: 13.9s\tremaining: 35.3s\n",
      "283:\tlearn: 0.0393481\ttotal: 14s\tremaining: 35.3s\n",
      "284:\tlearn: 0.0393095\ttotal: 14.1s\tremaining: 35.3s\n",
      "285:\tlearn: 0.0392941\ttotal: 14.1s\tremaining: 35.2s\n",
      "286:\tlearn: 0.0392832\ttotal: 14.1s\tremaining: 35.1s\n",
      "287:\tlearn: 0.0389201\ttotal: 14.2s\tremaining: 35.1s\n",
      "288:\tlearn: 0.0388264\ttotal: 14.2s\tremaining: 35s\n",
      "289:\tlearn: 0.0388179\ttotal: 14.3s\tremaining: 34.9s\n",
      "290:\tlearn: 0.0383793\ttotal: 14.3s\tremaining: 34.9s\n",
      "291:\tlearn: 0.0380082\ttotal: 14.3s\tremaining: 34.8s\n",
      "292:\tlearn: 0.0379752\ttotal: 14.4s\tremaining: 34.7s\n",
      "293:\tlearn: 0.0379752\ttotal: 14.4s\tremaining: 34.7s\n",
      "294:\tlearn: 0.0379129\ttotal: 14.5s\tremaining: 34.6s\n",
      "295:\tlearn: 0.0374802\ttotal: 14.5s\tremaining: 34.6s\n",
      "296:\tlearn: 0.0374737\ttotal: 14.6s\tremaining: 34.5s\n",
      "297:\tlearn: 0.0374737\ttotal: 14.6s\tremaining: 34.4s\n",
      "298:\tlearn: 0.0374651\ttotal: 14.7s\tremaining: 34.4s\n",
      "299:\tlearn: 0.0374651\ttotal: 14.7s\tremaining: 34.3s\n",
      "300:\tlearn: 0.0374556\ttotal: 14.7s\tremaining: 34.2s\n",
      "301:\tlearn: 0.0374475\ttotal: 14.8s\tremaining: 34.1s\n",
      "302:\tlearn: 0.0374151\ttotal: 14.8s\tremaining: 34.1s\n",
      "303:\tlearn: 0.0373995\ttotal: 14.9s\tremaining: 34s\n",
      "304:\tlearn: 0.0372604\ttotal: 14.9s\tremaining: 34s\n",
      "305:\tlearn: 0.0371243\ttotal: 15s\tremaining: 33.9s\n",
      "306:\tlearn: 0.0371243\ttotal: 15s\tremaining: 33.8s\n",
      "307:\tlearn: 0.0368037\ttotal: 15s\tremaining: 33.8s\n",
      "308:\tlearn: 0.0367942\ttotal: 15.1s\tremaining: 33.8s\n",
      "309:\tlearn: 0.0364383\ttotal: 15.2s\tremaining: 33.7s\n",
      "310:\tlearn: 0.0362658\ttotal: 15.2s\tremaining: 33.7s\n",
      "311:\tlearn: 0.0359672\ttotal: 15.3s\tremaining: 33.6s\n",
      "312:\tlearn: 0.0356114\ttotal: 15.3s\tremaining: 33.6s\n",
      "313:\tlearn: 0.0352985\ttotal: 15.4s\tremaining: 33.6s\n",
      "314:\tlearn: 0.0352822\ttotal: 15.4s\tremaining: 33.5s\n",
      "315:\tlearn: 0.0351174\ttotal: 15.4s\tremaining: 33.4s\n",
      "316:\tlearn: 0.0350651\ttotal: 15.5s\tremaining: 33.4s\n",
      "317:\tlearn: 0.0350547\ttotal: 15.5s\tremaining: 33.3s\n",
      "318:\tlearn: 0.0350517\ttotal: 15.6s\tremaining: 33.2s\n",
      "319:\tlearn: 0.0348701\ttotal: 15.6s\tremaining: 33.2s\n",
      "320:\tlearn: 0.0345578\ttotal: 15.7s\tremaining: 33.1s\n",
      "321:\tlearn: 0.0343169\ttotal: 15.7s\tremaining: 33.1s\n",
      "322:\tlearn: 0.0343042\ttotal: 15.7s\tremaining: 33s\n",
      "323:\tlearn: 0.0342966\ttotal: 15.8s\tremaining: 32.9s\n",
      "324:\tlearn: 0.0341651\ttotal: 15.8s\tremaining: 32.9s\n",
      "325:\tlearn: 0.0341206\ttotal: 15.9s\tremaining: 32.9s\n",
      "326:\tlearn: 0.0340964\ttotal: 15.9s\tremaining: 32.8s\n",
      "327:\tlearn: 0.0339601\ttotal: 16s\tremaining: 32.7s\n",
      "328:\tlearn: 0.0336950\ttotal: 16s\tremaining: 32.7s\n",
      "329:\tlearn: 0.0335067\ttotal: 16.1s\tremaining: 32.6s\n",
      "330:\tlearn: 0.0332218\ttotal: 16.1s\tremaining: 32.6s\n",
      "331:\tlearn: 0.0332072\ttotal: 16.2s\tremaining: 32.5s\n",
      "332:\tlearn: 0.0330493\ttotal: 16.2s\tremaining: 32.5s\n",
      "333:\tlearn: 0.0329284\ttotal: 16.3s\tremaining: 32.4s\n",
      "334:\tlearn: 0.0327696\ttotal: 16.3s\tremaining: 32.4s\n",
      "335:\tlearn: 0.0325569\ttotal: 16.4s\tremaining: 32.4s\n",
      "336:\tlearn: 0.0325540\ttotal: 16.4s\tremaining: 32.3s\n",
      "337:\tlearn: 0.0322687\ttotal: 16.5s\tremaining: 32.2s\n",
      "338:\tlearn: 0.0322539\ttotal: 16.5s\tremaining: 32.2s\n",
      "339:\tlearn: 0.0321694\ttotal: 16.6s\tremaining: 32.1s\n",
      "340:\tlearn: 0.0321625\ttotal: 16.6s\tremaining: 32s\n",
      "341:\tlearn: 0.0321382\ttotal: 16.6s\tremaining: 32s\n",
      "342:\tlearn: 0.0321249\ttotal: 16.7s\tremaining: 31.9s\n",
      "343:\tlearn: 0.0321026\ttotal: 16.7s\tremaining: 31.9s\n",
      "344:\tlearn: 0.0320927\ttotal: 16.7s\tremaining: 31.8s\n",
      "345:\tlearn: 0.0320835\ttotal: 16.8s\tremaining: 31.7s\n",
      "346:\tlearn: 0.0320767\ttotal: 16.8s\tremaining: 31.6s\n",
      "347:\tlearn: 0.0320645\ttotal: 16.9s\tremaining: 31.6s\n",
      "348:\tlearn: 0.0320350\ttotal: 16.9s\tremaining: 31.6s\n",
      "349:\tlearn: 0.0320223\ttotal: 17s\tremaining: 31.5s\n",
      "350:\tlearn: 0.0320129\ttotal: 17s\tremaining: 31.5s\n",
      "351:\tlearn: 0.0319850\ttotal: 17.1s\tremaining: 31.4s\n",
      "352:\tlearn: 0.0319605\ttotal: 17.1s\tremaining: 31.4s\n",
      "353:\tlearn: 0.0319476\ttotal: 17.1s\tremaining: 31.3s\n",
      "354:\tlearn: 0.0316909\ttotal: 17.2s\tremaining: 31.2s\n",
      "355:\tlearn: 0.0316107\ttotal: 17.2s\tremaining: 31.2s\n",
      "356:\tlearn: 0.0312264\ttotal: 17.3s\tremaining: 31.2s\n",
      "357:\tlearn: 0.0311073\ttotal: 17.3s\tremaining: 31.1s\n",
      "358:\tlearn: 0.0306345\ttotal: 17.4s\tremaining: 31.1s\n",
      "359:\tlearn: 0.0306301\ttotal: 17.4s\tremaining: 31s\n",
      "360:\tlearn: 0.0304624\ttotal: 17.5s\tremaining: 31s\n",
      "361:\tlearn: 0.0304286\ttotal: 17.5s\tremaining: 30.9s\n",
      "362:\tlearn: 0.0304240\ttotal: 17.6s\tremaining: 30.8s\n",
      "363:\tlearn: 0.0304165\ttotal: 17.6s\tremaining: 30.8s\n",
      "364:\tlearn: 0.0302077\ttotal: 17.7s\tremaining: 30.7s\n",
      "365:\tlearn: 0.0301997\ttotal: 17.7s\tremaining: 30.7s\n",
      "366:\tlearn: 0.0301895\ttotal: 17.8s\tremaining: 30.7s\n",
      "367:\tlearn: 0.0301581\ttotal: 17.8s\tremaining: 30.6s\n",
      "368:\tlearn: 0.0298798\ttotal: 17.9s\tremaining: 30.5s\n",
      "369:\tlearn: 0.0297496\ttotal: 17.9s\tremaining: 30.5s\n",
      "370:\tlearn: 0.0295919\ttotal: 18s\tremaining: 30.4s\n",
      "371:\tlearn: 0.0295783\ttotal: 18s\tremaining: 30.4s\n",
      "372:\tlearn: 0.0295578\ttotal: 18s\tremaining: 30.3s\n",
      "373:\tlearn: 0.0293014\ttotal: 18.1s\tremaining: 30.3s\n",
      "374:\tlearn: 0.0292899\ttotal: 18.1s\tremaining: 30.2s\n",
      "375:\tlearn: 0.0292548\ttotal: 18.2s\tremaining: 30.2s\n",
      "376:\tlearn: 0.0291896\ttotal: 18.2s\tremaining: 30.1s\n",
      "377:\tlearn: 0.0291780\ttotal: 18.3s\tremaining: 30.1s\n",
      "378:\tlearn: 0.0291780\ttotal: 18.3s\tremaining: 30s\n",
      "379:\tlearn: 0.0291744\ttotal: 18.3s\tremaining: 29.9s\n",
      "380:\tlearn: 0.0291666\ttotal: 18.4s\tremaining: 29.8s\n",
      "381:\tlearn: 0.0291417\ttotal: 18.4s\tremaining: 29.8s\n",
      "382:\tlearn: 0.0291416\ttotal: 18.4s\tremaining: 29.7s\n",
      "383:\tlearn: 0.0288779\ttotal: 18.5s\tremaining: 29.7s\n",
      "384:\tlearn: 0.0288703\ttotal: 18.5s\tremaining: 29.6s\n",
      "385:\tlearn: 0.0288675\ttotal: 18.6s\tremaining: 29.5s\n",
      "386:\tlearn: 0.0288559\ttotal: 18.6s\tremaining: 29.5s\n",
      "387:\tlearn: 0.0288483\ttotal: 18.6s\tremaining: 29.4s\n",
      "388:\tlearn: 0.0287766\ttotal: 18.7s\tremaining: 29.3s\n",
      "389:\tlearn: 0.0287619\ttotal: 18.7s\tremaining: 29.3s\n",
      "390:\tlearn: 0.0287205\ttotal: 18.8s\tremaining: 29.2s\n",
      "391:\tlearn: 0.0287071\ttotal: 18.8s\tremaining: 29.2s\n",
      "392:\tlearn: 0.0287015\ttotal: 18.8s\tremaining: 29.1s\n",
      "393:\tlearn: 0.0286643\ttotal: 18.9s\tremaining: 29.1s\n",
      "394:\tlearn: 0.0286643\ttotal: 18.9s\tremaining: 29s\n",
      "395:\tlearn: 0.0286594\ttotal: 18.9s\tremaining: 28.9s\n",
      "396:\tlearn: 0.0286443\ttotal: 19s\tremaining: 28.9s\n",
      "397:\tlearn: 0.0285893\ttotal: 19s\tremaining: 28.8s\n",
      "398:\tlearn: 0.0285816\ttotal: 19.1s\tremaining: 28.7s\n",
      "399:\tlearn: 0.0285760\ttotal: 19.1s\tremaining: 28.7s\n",
      "400:\tlearn: 0.0285511\ttotal: 19.2s\tremaining: 28.6s\n",
      "401:\tlearn: 0.0285332\ttotal: 19.2s\tremaining: 28.6s\n",
      "402:\tlearn: 0.0285173\ttotal: 19.3s\tremaining: 28.5s\n",
      "403:\tlearn: 0.0284091\ttotal: 19.3s\tremaining: 28.5s\n",
      "404:\tlearn: 0.0284091\ttotal: 19.4s\tremaining: 28.4s\n",
      "405:\tlearn: 0.0284091\ttotal: 19.4s\tremaining: 28.3s\n",
      "406:\tlearn: 0.0283956\ttotal: 19.4s\tremaining: 28.3s\n",
      "407:\tlearn: 0.0283844\ttotal: 19.4s\tremaining: 28.2s\n",
      "408:\tlearn: 0.0283843\ttotal: 19.5s\tremaining: 28.1s\n",
      "409:\tlearn: 0.0283843\ttotal: 19.5s\tremaining: 28s\n",
      "410:\tlearn: 0.0283780\ttotal: 19.5s\tremaining: 28s\n",
      "411:\tlearn: 0.0283673\ttotal: 19.6s\tremaining: 27.9s\n",
      "412:\tlearn: 0.0283002\ttotal: 19.6s\tremaining: 27.9s\n",
      "413:\tlearn: 0.0282083\ttotal: 19.7s\tremaining: 27.8s\n",
      "414:\tlearn: 0.0281777\ttotal: 19.7s\tremaining: 27.8s\n",
      "415:\tlearn: 0.0281649\ttotal: 19.8s\tremaining: 27.7s\n",
      "416:\tlearn: 0.0279483\ttotal: 19.8s\tremaining: 27.7s\n",
      "417:\tlearn: 0.0278440\ttotal: 19.9s\tremaining: 27.6s\n",
      "418:\tlearn: 0.0276462\ttotal: 19.9s\tremaining: 27.6s\n",
      "419:\tlearn: 0.0276275\ttotal: 20s\tremaining: 27.6s\n",
      "420:\tlearn: 0.0276229\ttotal: 20s\tremaining: 27.5s\n",
      "421:\tlearn: 0.0276165\ttotal: 20s\tremaining: 27.5s\n",
      "422:\tlearn: 0.0276140\ttotal: 20.1s\tremaining: 27.4s\n",
      "423:\tlearn: 0.0276140\ttotal: 20.1s\tremaining: 27.3s\n",
      "424:\tlearn: 0.0273751\ttotal: 20.1s\tremaining: 27.3s\n",
      "425:\tlearn: 0.0273204\ttotal: 20.2s\tremaining: 27.2s\n",
      "426:\tlearn: 0.0272907\ttotal: 20.3s\tremaining: 27.2s\n",
      "427:\tlearn: 0.0272755\ttotal: 20.3s\tremaining: 27.1s\n",
      "428:\tlearn: 0.0272755\ttotal: 20.3s\tremaining: 27s\n",
      "429:\tlearn: 0.0272689\ttotal: 20.4s\tremaining: 27s\n",
      "430:\tlearn: 0.0272509\ttotal: 20.4s\tremaining: 27s\n",
      "431:\tlearn: 0.0272508\ttotal: 20.4s\tremaining: 26.9s\n",
      "432:\tlearn: 0.0272303\ttotal: 20.5s\tremaining: 26.9s\n",
      "433:\tlearn: 0.0272219\ttotal: 20.5s\tremaining: 26.8s\n",
      "434:\tlearn: 0.0272219\ttotal: 20.6s\tremaining: 26.7s\n",
      "435:\tlearn: 0.0272219\ttotal: 20.6s\tremaining: 26.6s\n",
      "436:\tlearn: 0.0272219\ttotal: 20.6s\tremaining: 26.5s\n",
      "437:\tlearn: 0.0271215\ttotal: 20.6s\tremaining: 26.5s\n",
      "438:\tlearn: 0.0270968\ttotal: 20.7s\tremaining: 26.4s\n",
      "439:\tlearn: 0.0270968\ttotal: 20.7s\tremaining: 26.3s\n",
      "440:\tlearn: 0.0270866\ttotal: 20.7s\tremaining: 26.3s\n",
      "441:\tlearn: 0.0269670\ttotal: 20.8s\tremaining: 26.2s\n",
      "442:\tlearn: 0.0269670\ttotal: 20.8s\tremaining: 26.2s\n",
      "443:\tlearn: 0.0269558\ttotal: 20.8s\tremaining: 26.1s\n",
      "444:\tlearn: 0.0269321\ttotal: 20.9s\tremaining: 26.1s\n",
      "445:\tlearn: 0.0268114\ttotal: 20.9s\tremaining: 26s\n",
      "446:\tlearn: 0.0267998\ttotal: 21s\tremaining: 26s\n",
      "447:\tlearn: 0.0267793\ttotal: 21s\tremaining: 25.9s\n",
      "448:\tlearn: 0.0267792\ttotal: 21s\tremaining: 25.8s\n",
      "449:\tlearn: 0.0267731\ttotal: 21.1s\tremaining: 25.8s\n",
      "450:\tlearn: 0.0267731\ttotal: 21.1s\tremaining: 25.7s\n",
      "451:\tlearn: 0.0265992\ttotal: 21.1s\tremaining: 25.6s\n",
      "452:\tlearn: 0.0265805\ttotal: 21.2s\tremaining: 25.6s\n",
      "453:\tlearn: 0.0265594\ttotal: 21.2s\tremaining: 25.5s\n",
      "454:\tlearn: 0.0265467\ttotal: 21.3s\tremaining: 25.5s\n",
      "455:\tlearn: 0.0265467\ttotal: 21.3s\tremaining: 25.4s\n",
      "456:\tlearn: 0.0265429\ttotal: 21.3s\tremaining: 25.4s\n",
      "457:\tlearn: 0.0265429\ttotal: 21.4s\tremaining: 25.3s\n",
      "458:\tlearn: 0.0264305\ttotal: 21.4s\tremaining: 25.2s\n",
      "459:\tlearn: 0.0264264\ttotal: 21.4s\tremaining: 25.2s\n",
      "460:\tlearn: 0.0264247\ttotal: 21.5s\tremaining: 25.1s\n",
      "461:\tlearn: 0.0264247\ttotal: 21.5s\tremaining: 25s\n",
      "462:\tlearn: 0.0263935\ttotal: 21.5s\tremaining: 25s\n",
      "463:\tlearn: 0.0263935\ttotal: 21.6s\tremaining: 24.9s\n",
      "464:\tlearn: 0.0263846\ttotal: 21.6s\tremaining: 24.8s\n",
      "465:\tlearn: 0.0263846\ttotal: 21.6s\tremaining: 24.8s\n",
      "466:\tlearn: 0.0263832\ttotal: 21.6s\tremaining: 24.7s\n",
      "467:\tlearn: 0.0262692\ttotal: 21.7s\tremaining: 24.7s\n",
      "468:\tlearn: 0.0262563\ttotal: 21.8s\tremaining: 24.6s\n",
      "469:\tlearn: 0.0261553\ttotal: 21.8s\tremaining: 24.6s\n",
      "470:\tlearn: 0.0260588\ttotal: 21.8s\tremaining: 24.5s\n",
      "471:\tlearn: 0.0260588\ttotal: 21.9s\tremaining: 24.5s\n",
      "472:\tlearn: 0.0259869\ttotal: 21.9s\tremaining: 24.4s\n",
      "473:\tlearn: 0.0259801\ttotal: 21.9s\tremaining: 24.3s\n",
      "474:\tlearn: 0.0259677\ttotal: 22s\tremaining: 24.3s\n",
      "475:\tlearn: 0.0259443\ttotal: 22s\tremaining: 24.2s\n",
      "476:\tlearn: 0.0259366\ttotal: 22s\tremaining: 24.2s\n",
      "477:\tlearn: 0.0258209\ttotal: 22.1s\tremaining: 24.1s\n",
      "478:\tlearn: 0.0257110\ttotal: 22.1s\tremaining: 24.1s\n",
      "479:\tlearn: 0.0256899\ttotal: 22.2s\tremaining: 24s\n",
      "480:\tlearn: 0.0256484\ttotal: 22.2s\tremaining: 24s\n",
      "481:\tlearn: 0.0256484\ttotal: 22.2s\tremaining: 23.9s\n",
      "482:\tlearn: 0.0255336\ttotal: 22.3s\tremaining: 23.8s\n",
      "483:\tlearn: 0.0255098\ttotal: 22.3s\tremaining: 23.8s\n",
      "484:\tlearn: 0.0255030\ttotal: 22.4s\tremaining: 23.7s\n",
      "485:\tlearn: 0.0254944\ttotal: 22.4s\tremaining: 23.7s\n",
      "486:\tlearn: 0.0253777\ttotal: 22.4s\tremaining: 23.6s\n",
      "487:\tlearn: 0.0253777\ttotal: 22.5s\tremaining: 23.6s\n",
      "488:\tlearn: 0.0253619\ttotal: 22.5s\tremaining: 23.5s\n",
      "489:\tlearn: 0.0253429\ttotal: 22.6s\tremaining: 23.5s\n",
      "490:\tlearn: 0.0253420\ttotal: 22.6s\tremaining: 23.4s\n",
      "491:\tlearn: 0.0253419\ttotal: 22.6s\tremaining: 23.4s\n",
      "492:\tlearn: 0.0253151\ttotal: 22.7s\tremaining: 23.3s\n",
      "493:\tlearn: 0.0253151\ttotal: 22.7s\tremaining: 23.3s\n",
      "494:\tlearn: 0.0253062\ttotal: 22.7s\tremaining: 23.2s\n",
      "495:\tlearn: 0.0253030\ttotal: 22.8s\tremaining: 23.1s\n",
      "496:\tlearn: 0.0252966\ttotal: 22.8s\tremaining: 23.1s\n",
      "497:\tlearn: 0.0252384\ttotal: 22.8s\tremaining: 23s\n",
      "498:\tlearn: 0.0252262\ttotal: 22.9s\tremaining: 23s\n",
      "499:\tlearn: 0.0252218\ttotal: 22.9s\tremaining: 22.9s\n",
      "500:\tlearn: 0.0252218\ttotal: 22.9s\tremaining: 22.8s\n",
      "501:\tlearn: 0.0251366\ttotal: 23s\tremaining: 22.8s\n",
      "502:\tlearn: 0.0250281\ttotal: 23s\tremaining: 22.7s\n",
      "503:\tlearn: 0.0250195\ttotal: 23.1s\tremaining: 22.7s\n",
      "504:\tlearn: 0.0250080\ttotal: 23.1s\tremaining: 22.6s\n",
      "505:\tlearn: 0.0250080\ttotal: 23.1s\tremaining: 22.6s\n",
      "506:\tlearn: 0.0249953\ttotal: 23.1s\tremaining: 22.5s\n",
      "507:\tlearn: 0.0249953\ttotal: 23.2s\tremaining: 22.4s\n",
      "508:\tlearn: 0.0249793\ttotal: 23.2s\tremaining: 22.4s\n",
      "509:\tlearn: 0.0248021\ttotal: 23.2s\tremaining: 22.3s\n",
      "510:\tlearn: 0.0247118\ttotal: 23.3s\tremaining: 22.3s\n",
      "511:\tlearn: 0.0247026\ttotal: 23.3s\tremaining: 22.2s\n",
      "512:\tlearn: 0.0245958\ttotal: 23.4s\tremaining: 22.2s\n",
      "513:\tlearn: 0.0244501\ttotal: 23.4s\tremaining: 22.2s\n",
      "514:\tlearn: 0.0243565\ttotal: 23.5s\tremaining: 22.1s\n",
      "515:\tlearn: 0.0243564\ttotal: 23.5s\tremaining: 22.1s\n",
      "516:\tlearn: 0.0243548\ttotal: 23.5s\tremaining: 22s\n",
      "517:\tlearn: 0.0243366\ttotal: 23.6s\tremaining: 22s\n",
      "518:\tlearn: 0.0242991\ttotal: 23.7s\tremaining: 21.9s\n",
      "519:\tlearn: 0.0242916\ttotal: 23.7s\tremaining: 21.9s\n",
      "520:\tlearn: 0.0242887\ttotal: 23.7s\tremaining: 21.8s\n",
      "521:\tlearn: 0.0242887\ttotal: 23.8s\tremaining: 21.8s\n",
      "522:\tlearn: 0.0242795\ttotal: 23.8s\tremaining: 21.7s\n",
      "523:\tlearn: 0.0242654\ttotal: 23.8s\tremaining: 21.6s\n",
      "524:\tlearn: 0.0242654\ttotal: 23.9s\tremaining: 21.6s\n",
      "525:\tlearn: 0.0242051\ttotal: 23.9s\tremaining: 21.5s\n",
      "526:\tlearn: 0.0242051\ttotal: 23.9s\tremaining: 21.5s\n",
      "527:\tlearn: 0.0242050\ttotal: 23.9s\tremaining: 21.4s\n",
      "528:\tlearn: 0.0241910\ttotal: 24s\tremaining: 21.4s\n",
      "529:\tlearn: 0.0241871\ttotal: 24s\tremaining: 21.3s\n",
      "530:\tlearn: 0.0241871\ttotal: 24s\tremaining: 21.2s\n",
      "531:\tlearn: 0.0240939\ttotal: 24.1s\tremaining: 21.2s\n",
      "532:\tlearn: 0.0240895\ttotal: 24.1s\tremaining: 21.1s\n",
      "533:\tlearn: 0.0240733\ttotal: 24.2s\tremaining: 21.1s\n",
      "534:\tlearn: 0.0240733\ttotal: 24.2s\tremaining: 21s\n",
      "535:\tlearn: 0.0240673\ttotal: 24.2s\tremaining: 21s\n",
      "536:\tlearn: 0.0240615\ttotal: 24.2s\tremaining: 20.9s\n",
      "537:\tlearn: 0.0240448\ttotal: 24.3s\tremaining: 20.9s\n",
      "538:\tlearn: 0.0239111\ttotal: 24.3s\tremaining: 20.8s\n",
      "539:\tlearn: 0.0239032\ttotal: 24.4s\tremaining: 20.8s\n",
      "540:\tlearn: 0.0239032\ttotal: 24.4s\tremaining: 20.7s\n",
      "541:\tlearn: 0.0239032\ttotal: 24.4s\tremaining: 20.6s\n",
      "542:\tlearn: 0.0238946\ttotal: 24.5s\tremaining: 20.6s\n",
      "543:\tlearn: 0.0238946\ttotal: 24.5s\tremaining: 20.5s\n",
      "544:\tlearn: 0.0238885\ttotal: 24.5s\tremaining: 20.5s\n",
      "545:\tlearn: 0.0238885\ttotal: 24.6s\tremaining: 20.4s\n",
      "546:\tlearn: 0.0237921\ttotal: 24.6s\tremaining: 20.4s\n",
      "547:\tlearn: 0.0237385\ttotal: 24.7s\tremaining: 20.4s\n",
      "548:\tlearn: 0.0236523\ttotal: 24.7s\tremaining: 20.3s\n",
      "549:\tlearn: 0.0236264\ttotal: 24.8s\tremaining: 20.3s\n",
      "550:\tlearn: 0.0236264\ttotal: 24.8s\tremaining: 20.2s\n",
      "551:\tlearn: 0.0236080\ttotal: 24.8s\tremaining: 20.2s\n",
      "552:\tlearn: 0.0235329\ttotal: 24.9s\tremaining: 20.1s\n",
      "553:\tlearn: 0.0235329\ttotal: 24.9s\tremaining: 20s\n",
      "554:\tlearn: 0.0235211\ttotal: 24.9s\tremaining: 20s\n",
      "555:\tlearn: 0.0234208\ttotal: 25s\tremaining: 20s\n",
      "556:\tlearn: 0.0233120\ttotal: 25s\tremaining: 19.9s\n",
      "557:\tlearn: 0.0232854\ttotal: 25.1s\tremaining: 19.9s\n",
      "558:\tlearn: 0.0232854\ttotal: 25.1s\tremaining: 19.8s\n",
      "559:\tlearn: 0.0232810\ttotal: 25.2s\tremaining: 19.8s\n",
      "560:\tlearn: 0.0231332\ttotal: 25.2s\tremaining: 19.7s\n",
      "561:\tlearn: 0.0231232\ttotal: 25.3s\tremaining: 19.7s\n",
      "562:\tlearn: 0.0231097\ttotal: 25.3s\tremaining: 19.6s\n",
      "563:\tlearn: 0.0231060\ttotal: 25.3s\tremaining: 19.6s\n",
      "564:\tlearn: 0.0230962\ttotal: 25.4s\tremaining: 19.5s\n",
      "565:\tlearn: 0.0230614\ttotal: 25.4s\tremaining: 19.5s\n",
      "566:\tlearn: 0.0230553\ttotal: 25.5s\tremaining: 19.4s\n",
      "567:\tlearn: 0.0229588\ttotal: 25.5s\tremaining: 19.4s\n",
      "568:\tlearn: 0.0229534\ttotal: 25.6s\tremaining: 19.4s\n",
      "569:\tlearn: 0.0229392\ttotal: 25.6s\tremaining: 19.3s\n",
      "570:\tlearn: 0.0229392\ttotal: 25.6s\tremaining: 19.3s\n",
      "571:\tlearn: 0.0228617\ttotal: 25.7s\tremaining: 19.2s\n",
      "572:\tlearn: 0.0228580\ttotal: 25.7s\tremaining: 19.2s\n",
      "573:\tlearn: 0.0228111\ttotal: 25.8s\tremaining: 19.1s\n",
      "574:\tlearn: 0.0228111\ttotal: 25.8s\tremaining: 19.1s\n",
      "575:\tlearn: 0.0228110\ttotal: 25.8s\tremaining: 19s\n",
      "576:\tlearn: 0.0228040\ttotal: 25.8s\tremaining: 18.9s\n",
      "577:\tlearn: 0.0227835\ttotal: 25.9s\tremaining: 18.9s\n",
      "578:\tlearn: 0.0227353\ttotal: 25.9s\tremaining: 18.9s\n",
      "579:\tlearn: 0.0227353\ttotal: 26s\tremaining: 18.8s\n",
      "580:\tlearn: 0.0226171\ttotal: 26s\tremaining: 18.8s\n",
      "581:\tlearn: 0.0225572\ttotal: 26.1s\tremaining: 18.7s\n",
      "582:\tlearn: 0.0225571\ttotal: 26.1s\tremaining: 18.7s\n",
      "583:\tlearn: 0.0225571\ttotal: 26.1s\tremaining: 18.6s\n",
      "584:\tlearn: 0.0225570\ttotal: 26.1s\tremaining: 18.5s\n",
      "585:\tlearn: 0.0225422\ttotal: 26.2s\tremaining: 18.5s\n",
      "586:\tlearn: 0.0225236\ttotal: 26.2s\tremaining: 18.5s\n",
      "587:\tlearn: 0.0224572\ttotal: 26.3s\tremaining: 18.4s\n",
      "588:\tlearn: 0.0224572\ttotal: 26.3s\tremaining: 18.3s\n",
      "589:\tlearn: 0.0224387\ttotal: 26.3s\tremaining: 18.3s\n",
      "590:\tlearn: 0.0224386\ttotal: 26.4s\tremaining: 18.2s\n",
      "591:\tlearn: 0.0224064\ttotal: 26.4s\tremaining: 18.2s\n",
      "592:\tlearn: 0.0223007\ttotal: 26.4s\tremaining: 18.1s\n",
      "593:\tlearn: 0.0222874\ttotal: 26.5s\tremaining: 18.1s\n",
      "594:\tlearn: 0.0222786\ttotal: 26.5s\tremaining: 18.1s\n",
      "595:\tlearn: 0.0222783\ttotal: 26.6s\tremaining: 18s\n",
      "596:\tlearn: 0.0222729\ttotal: 26.6s\tremaining: 18s\n",
      "597:\tlearn: 0.0222651\ttotal: 26.7s\tremaining: 17.9s\n",
      "598:\tlearn: 0.0222571\ttotal: 26.7s\tremaining: 17.9s\n",
      "599:\tlearn: 0.0220422\ttotal: 26.8s\tremaining: 17.8s\n",
      "600:\tlearn: 0.0220373\ttotal: 26.8s\tremaining: 17.8s\n",
      "601:\tlearn: 0.0220373\ttotal: 26.8s\tremaining: 17.7s\n",
      "602:\tlearn: 0.0220372\ttotal: 26.8s\tremaining: 17.7s\n",
      "603:\tlearn: 0.0219413\ttotal: 26.9s\tremaining: 17.6s\n",
      "604:\tlearn: 0.0219412\ttotal: 26.9s\tremaining: 17.6s\n",
      "605:\tlearn: 0.0219041\ttotal: 27s\tremaining: 17.5s\n",
      "606:\tlearn: 0.0218764\ttotal: 27s\tremaining: 17.5s\n",
      "607:\tlearn: 0.0218763\ttotal: 27s\tremaining: 17.4s\n",
      "608:\tlearn: 0.0218644\ttotal: 27.4s\tremaining: 17.6s\n",
      "609:\tlearn: 0.0218643\ttotal: 27.7s\tremaining: 17.7s\n",
      "610:\tlearn: 0.0218497\ttotal: 27.8s\tremaining: 17.7s\n",
      "611:\tlearn: 0.0216847\ttotal: 27.8s\tremaining: 17.7s\n",
      "612:\tlearn: 0.0215691\ttotal: 27.9s\tremaining: 17.6s\n",
      "613:\tlearn: 0.0215358\ttotal: 28s\tremaining: 17.6s\n",
      "614:\tlearn: 0.0215358\ttotal: 28s\tremaining: 17.5s\n",
      "615:\tlearn: 0.0215225\ttotal: 28s\tremaining: 17.5s\n",
      "616:\tlearn: 0.0215225\ttotal: 28.1s\tremaining: 17.4s\n",
      "617:\tlearn: 0.0215213\ttotal: 28.1s\tremaining: 17.4s\n",
      "618:\tlearn: 0.0215213\ttotal: 28.1s\tremaining: 17.3s\n",
      "619:\tlearn: 0.0215182\ttotal: 28.2s\tremaining: 17.3s\n",
      "620:\tlearn: 0.0215182\ttotal: 28.2s\tremaining: 17.2s\n",
      "621:\tlearn: 0.0215146\ttotal: 28.2s\tremaining: 17.1s\n",
      "622:\tlearn: 0.0215146\ttotal: 28.2s\tremaining: 17.1s\n",
      "623:\tlearn: 0.0214536\ttotal: 28.3s\tremaining: 17s\n",
      "624:\tlearn: 0.0214536\ttotal: 28.3s\tremaining: 17s\n",
      "625:\tlearn: 0.0214456\ttotal: 28.4s\tremaining: 16.9s\n",
      "626:\tlearn: 0.0214337\ttotal: 28.4s\tremaining: 16.9s\n",
      "627:\tlearn: 0.0214279\ttotal: 28.4s\tremaining: 16.8s\n",
      "628:\tlearn: 0.0213476\ttotal: 28.5s\tremaining: 16.8s\n",
      "629:\tlearn: 0.0212877\ttotal: 28.5s\tremaining: 16.8s\n",
      "630:\tlearn: 0.0212813\ttotal: 28.6s\tremaining: 16.7s\n",
      "631:\tlearn: 0.0212813\ttotal: 28.6s\tremaining: 16.6s\n",
      "632:\tlearn: 0.0211858\ttotal: 28.6s\tremaining: 16.6s\n",
      "633:\tlearn: 0.0211763\ttotal: 28.7s\tremaining: 16.5s\n",
      "634:\tlearn: 0.0211763\ttotal: 28.7s\tremaining: 16.5s\n",
      "635:\tlearn: 0.0211663\ttotal: 28.7s\tremaining: 16.4s\n",
      "636:\tlearn: 0.0211187\ttotal: 28.8s\tremaining: 16.4s\n",
      "637:\tlearn: 0.0211029\ttotal: 28.8s\tremaining: 16.4s\n",
      "638:\tlearn: 0.0210317\ttotal: 28.9s\tremaining: 16.3s\n",
      "639:\tlearn: 0.0210317\ttotal: 28.9s\tremaining: 16.3s\n",
      "640:\tlearn: 0.0210237\ttotal: 29s\tremaining: 16.2s\n",
      "641:\tlearn: 0.0210237\ttotal: 29s\tremaining: 16.2s\n",
      "642:\tlearn: 0.0209687\ttotal: 29s\tremaining: 16.1s\n",
      "643:\tlearn: 0.0209686\ttotal: 29s\tremaining: 16.1s\n",
      "644:\tlearn: 0.0209469\ttotal: 29.1s\tremaining: 16s\n",
      "645:\tlearn: 0.0209469\ttotal: 29.1s\tremaining: 16s\n",
      "646:\tlearn: 0.0209410\ttotal: 29.2s\tremaining: 15.9s\n",
      "647:\tlearn: 0.0208518\ttotal: 29.2s\tremaining: 15.9s\n",
      "648:\tlearn: 0.0208299\ttotal: 29.3s\tremaining: 15.8s\n",
      "649:\tlearn: 0.0207869\ttotal: 29.3s\tremaining: 15.8s\n",
      "650:\tlearn: 0.0207869\ttotal: 29.3s\tremaining: 15.7s\n",
      "651:\tlearn: 0.0207055\ttotal: 29.4s\tremaining: 15.7s\n",
      "652:\tlearn: 0.0206977\ttotal: 29.4s\tremaining: 15.6s\n",
      "653:\tlearn: 0.0205821\ttotal: 29.5s\tremaining: 15.6s\n",
      "654:\tlearn: 0.0205763\ttotal: 29.5s\tremaining: 15.5s\n",
      "655:\tlearn: 0.0205242\ttotal: 29.6s\tremaining: 15.5s\n",
      "656:\tlearn: 0.0204630\ttotal: 29.6s\tremaining: 15.4s\n",
      "657:\tlearn: 0.0204630\ttotal: 29.6s\tremaining: 15.4s\n",
      "658:\tlearn: 0.0204074\ttotal: 29.7s\tremaining: 15.3s\n",
      "659:\tlearn: 0.0204028\ttotal: 29.7s\tremaining: 15.3s\n",
      "660:\tlearn: 0.0203971\ttotal: 29.7s\tremaining: 15.3s\n",
      "661:\tlearn: 0.0203804\ttotal: 29.8s\tremaining: 15.2s\n",
      "662:\tlearn: 0.0203353\ttotal: 29.8s\tremaining: 15.2s\n",
      "663:\tlearn: 0.0203279\ttotal: 29.9s\tremaining: 15.1s\n",
      "664:\tlearn: 0.0201960\ttotal: 29.9s\tremaining: 15.1s\n",
      "665:\tlearn: 0.0201024\ttotal: 30s\tremaining: 15s\n",
      "666:\tlearn: 0.0201024\ttotal: 30s\tremaining: 15s\n",
      "667:\tlearn: 0.0200513\ttotal: 30.1s\tremaining: 14.9s\n",
      "668:\tlearn: 0.0200512\ttotal: 30.1s\tremaining: 14.9s\n",
      "669:\tlearn: 0.0200400\ttotal: 30.1s\tremaining: 14.8s\n",
      "670:\tlearn: 0.0200332\ttotal: 30.2s\tremaining: 14.8s\n",
      "671:\tlearn: 0.0200332\ttotal: 30.2s\tremaining: 14.7s\n",
      "672:\tlearn: 0.0200332\ttotal: 30.2s\tremaining: 14.7s\n",
      "673:\tlearn: 0.0200187\ttotal: 30.3s\tremaining: 14.6s\n",
      "674:\tlearn: 0.0199958\ttotal: 30.3s\tremaining: 14.6s\n",
      "675:\tlearn: 0.0199821\ttotal: 30.3s\tremaining: 14.5s\n",
      "676:\tlearn: 0.0199821\ttotal: 30.4s\tremaining: 14.5s\n",
      "677:\tlearn: 0.0199790\ttotal: 30.4s\tremaining: 14.4s\n",
      "678:\tlearn: 0.0198558\ttotal: 30.4s\tremaining: 14.4s\n",
      "679:\tlearn: 0.0198558\ttotal: 30.5s\tremaining: 14.3s\n",
      "680:\tlearn: 0.0198558\ttotal: 30.5s\tremaining: 14.3s\n",
      "681:\tlearn: 0.0197941\ttotal: 30.5s\tremaining: 14.2s\n",
      "682:\tlearn: 0.0197128\ttotal: 30.6s\tremaining: 14.2s\n",
      "683:\tlearn: 0.0195988\ttotal: 30.6s\tremaining: 14.1s\n",
      "684:\tlearn: 0.0195438\ttotal: 30.6s\tremaining: 14.1s\n",
      "685:\tlearn: 0.0195438\ttotal: 30.7s\tremaining: 14s\n",
      "686:\tlearn: 0.0194971\ttotal: 30.7s\tremaining: 14s\n",
      "687:\tlearn: 0.0194970\ttotal: 30.8s\tremaining: 13.9s\n",
      "688:\tlearn: 0.0194970\ttotal: 30.8s\tremaining: 13.9s\n",
      "689:\tlearn: 0.0194919\ttotal: 30.8s\tremaining: 13.8s\n",
      "690:\tlearn: 0.0193882\ttotal: 30.9s\tremaining: 13.8s\n",
      "691:\tlearn: 0.0193142\ttotal: 30.9s\tremaining: 13.8s\n",
      "692:\tlearn: 0.0193141\ttotal: 30.9s\tremaining: 13.7s\n",
      "693:\tlearn: 0.0193141\ttotal: 31s\tremaining: 13.6s\n",
      "694:\tlearn: 0.0192627\ttotal: 31s\tremaining: 13.6s\n",
      "695:\tlearn: 0.0192627\ttotal: 31s\tremaining: 13.6s\n",
      "696:\tlearn: 0.0191962\ttotal: 31.1s\tremaining: 13.5s\n",
      "697:\tlearn: 0.0191803\ttotal: 31.1s\tremaining: 13.5s\n",
      "698:\tlearn: 0.0191671\ttotal: 31.2s\tremaining: 13.4s\n",
      "699:\tlearn: 0.0191199\ttotal: 31.2s\tremaining: 13.4s\n",
      "700:\tlearn: 0.0190783\ttotal: 31.3s\tremaining: 13.3s\n",
      "701:\tlearn: 0.0190783\ttotal: 31.3s\tremaining: 13.3s\n",
      "702:\tlearn: 0.0190783\ttotal: 31.3s\tremaining: 13.2s\n",
      "703:\tlearn: 0.0190654\ttotal: 31.4s\tremaining: 13.2s\n",
      "704:\tlearn: 0.0190623\ttotal: 31.4s\tremaining: 13.1s\n",
      "705:\tlearn: 0.0190571\ttotal: 31.4s\tremaining: 13.1s\n",
      "706:\tlearn: 0.0190571\ttotal: 31.5s\tremaining: 13s\n",
      "707:\tlearn: 0.0190534\ttotal: 31.5s\tremaining: 13s\n",
      "708:\tlearn: 0.0190405\ttotal: 31.6s\tremaining: 12.9s\n",
      "709:\tlearn: 0.0189700\ttotal: 31.6s\tremaining: 12.9s\n",
      "710:\tlearn: 0.0189514\ttotal: 31.6s\tremaining: 12.9s\n",
      "711:\tlearn: 0.0189407\ttotal: 31.7s\tremaining: 12.8s\n",
      "712:\tlearn: 0.0188919\ttotal: 31.7s\tremaining: 12.8s\n",
      "713:\tlearn: 0.0188919\ttotal: 31.7s\tremaining: 12.7s\n",
      "714:\tlearn: 0.0188421\ttotal: 31.8s\tremaining: 12.7s\n",
      "715:\tlearn: 0.0188421\ttotal: 31.8s\tremaining: 12.6s\n",
      "716:\tlearn: 0.0188300\ttotal: 31.9s\tremaining: 12.6s\n",
      "717:\tlearn: 0.0188278\ttotal: 31.9s\tremaining: 12.5s\n",
      "718:\tlearn: 0.0188277\ttotal: 31.9s\tremaining: 12.5s\n",
      "719:\tlearn: 0.0188275\ttotal: 31.9s\tremaining: 12.4s\n",
      "720:\tlearn: 0.0188275\ttotal: 32s\tremaining: 12.4s\n",
      "721:\tlearn: 0.0188226\ttotal: 32s\tremaining: 12.3s\n",
      "722:\tlearn: 0.0187283\ttotal: 32s\tremaining: 12.3s\n",
      "723:\tlearn: 0.0186965\ttotal: 32.1s\tremaining: 12.2s\n",
      "724:\tlearn: 0.0186933\ttotal: 32.1s\tremaining: 12.2s\n",
      "725:\tlearn: 0.0186933\ttotal: 32.1s\tremaining: 12.1s\n",
      "726:\tlearn: 0.0186933\ttotal: 32.2s\tremaining: 12.1s\n",
      "727:\tlearn: 0.0186845\ttotal: 32.2s\tremaining: 12s\n",
      "728:\tlearn: 0.0186268\ttotal: 32.3s\tremaining: 12s\n",
      "729:\tlearn: 0.0186268\ttotal: 32.3s\tremaining: 11.9s\n",
      "730:\tlearn: 0.0186244\ttotal: 32.3s\tremaining: 11.9s\n",
      "731:\tlearn: 0.0186202\ttotal: 32.3s\tremaining: 11.8s\n",
      "732:\tlearn: 0.0185765\ttotal: 32.4s\tremaining: 11.8s\n",
      "733:\tlearn: 0.0185765\ttotal: 32.4s\tremaining: 11.8s\n",
      "734:\tlearn: 0.0184591\ttotal: 32.5s\tremaining: 11.7s\n",
      "735:\tlearn: 0.0184395\ttotal: 32.5s\tremaining: 11.7s\n",
      "736:\tlearn: 0.0184357\ttotal: 32.5s\tremaining: 11.6s\n",
      "737:\tlearn: 0.0184301\ttotal: 32.6s\tremaining: 11.6s\n",
      "738:\tlearn: 0.0183575\ttotal: 32.6s\tremaining: 11.5s\n",
      "739:\tlearn: 0.0183575\ttotal: 32.7s\tremaining: 11.5s\n",
      "740:\tlearn: 0.0183327\ttotal: 32.7s\tremaining: 11.4s\n",
      "741:\tlearn: 0.0183327\ttotal: 32.7s\tremaining: 11.4s\n",
      "742:\tlearn: 0.0183327\ttotal: 32.8s\tremaining: 11.3s\n",
      "743:\tlearn: 0.0182961\ttotal: 32.8s\tremaining: 11.3s\n",
      "744:\tlearn: 0.0182855\ttotal: 32.9s\tremaining: 11.2s\n",
      "745:\tlearn: 0.0182855\ttotal: 32.9s\tremaining: 11.2s\n",
      "746:\tlearn: 0.0182855\ttotal: 32.9s\tremaining: 11.1s\n",
      "747:\tlearn: 0.0182674\ttotal: 32.9s\tremaining: 11.1s\n",
      "748:\tlearn: 0.0182674\ttotal: 33s\tremaining: 11.1s\n",
      "749:\tlearn: 0.0182163\ttotal: 33s\tremaining: 11s\n",
      "750:\tlearn: 0.0181836\ttotal: 33.1s\tremaining: 11s\n",
      "751:\tlearn: 0.0181836\ttotal: 33.1s\tremaining: 10.9s\n",
      "752:\tlearn: 0.0181608\ttotal: 33.1s\tremaining: 10.9s\n",
      "753:\tlearn: 0.0181608\ttotal: 33.2s\tremaining: 10.8s\n",
      "754:\tlearn: 0.0181116\ttotal: 33.2s\tremaining: 10.8s\n",
      "755:\tlearn: 0.0181053\ttotal: 33.3s\tremaining: 10.7s\n",
      "756:\tlearn: 0.0181053\ttotal: 33.3s\tremaining: 10.7s\n",
      "757:\tlearn: 0.0181053\ttotal: 33.3s\tremaining: 10.6s\n",
      "758:\tlearn: 0.0181040\ttotal: 33.3s\tremaining: 10.6s\n",
      "759:\tlearn: 0.0181040\ttotal: 33.3s\tremaining: 10.5s\n",
      "760:\tlearn: 0.0180486\ttotal: 33.4s\tremaining: 10.5s\n",
      "761:\tlearn: 0.0180424\ttotal: 33.4s\tremaining: 10.4s\n",
      "762:\tlearn: 0.0180424\ttotal: 33.5s\tremaining: 10.4s\n",
      "763:\tlearn: 0.0180424\ttotal: 33.5s\tremaining: 10.3s\n",
      "764:\tlearn: 0.0180366\ttotal: 33.5s\tremaining: 10.3s\n",
      "765:\tlearn: 0.0180312\ttotal: 33.6s\tremaining: 10.3s\n",
      "766:\tlearn: 0.0179476\ttotal: 33.6s\tremaining: 10.2s\n",
      "767:\tlearn: 0.0179476\ttotal: 33.6s\tremaining: 10.2s\n",
      "768:\tlearn: 0.0179221\ttotal: 33.7s\tremaining: 10.1s\n",
      "769:\tlearn: 0.0179220\ttotal: 33.7s\tremaining: 10.1s\n",
      "770:\tlearn: 0.0179220\ttotal: 33.7s\tremaining: 10s\n",
      "771:\tlearn: 0.0179220\ttotal: 33.7s\tremaining: 9.96s\n",
      "772:\tlearn: 0.0179141\ttotal: 33.8s\tremaining: 9.92s\n",
      "773:\tlearn: 0.0179141\ttotal: 33.8s\tremaining: 9.87s\n",
      "774:\tlearn: 0.0178792\ttotal: 33.9s\tremaining: 9.83s\n",
      "775:\tlearn: 0.0178792\ttotal: 33.9s\tremaining: 9.78s\n",
      "776:\tlearn: 0.0178691\ttotal: 33.9s\tremaining: 9.74s\n",
      "777:\tlearn: 0.0178481\ttotal: 34s\tremaining: 9.69s\n",
      "778:\tlearn: 0.0178389\ttotal: 34s\tremaining: 9.65s\n",
      "779:\tlearn: 0.0178161\ttotal: 34.1s\tremaining: 9.61s\n",
      "780:\tlearn: 0.0178161\ttotal: 34.1s\tremaining: 9.57s\n",
      "781:\tlearn: 0.0178102\ttotal: 34.2s\tremaining: 9.52s\n",
      "782:\tlearn: 0.0178102\ttotal: 34.2s\tremaining: 9.47s\n",
      "783:\tlearn: 0.0177931\ttotal: 34.2s\tremaining: 9.42s\n",
      "784:\tlearn: 0.0177931\ttotal: 34.2s\tremaining: 9.38s\n",
      "785:\tlearn: 0.0177931\ttotal: 34.3s\tremaining: 9.32s\n",
      "786:\tlearn: 0.0177409\ttotal: 34.3s\tremaining: 9.29s\n",
      "787:\tlearn: 0.0176475\ttotal: 34.4s\tremaining: 9.24s\n",
      "788:\tlearn: 0.0176433\ttotal: 34.4s\tremaining: 9.2s\n",
      "789:\tlearn: 0.0176433\ttotal: 34.4s\tremaining: 9.15s\n",
      "790:\tlearn: 0.0176433\ttotal: 34.4s\tremaining: 9.1s\n",
      "791:\tlearn: 0.0175965\ttotal: 34.5s\tremaining: 9.06s\n",
      "792:\tlearn: 0.0175965\ttotal: 34.5s\tremaining: 9.01s\n",
      "793:\tlearn: 0.0175902\ttotal: 34.6s\tremaining: 8.97s\n",
      "794:\tlearn: 0.0175552\ttotal: 34.6s\tremaining: 8.93s\n",
      "795:\tlearn: 0.0175220\ttotal: 34.7s\tremaining: 8.88s\n",
      "796:\tlearn: 0.0174913\ttotal: 34.7s\tremaining: 8.84s\n",
      "797:\tlearn: 0.0174731\ttotal: 34.8s\tremaining: 8.8s\n",
      "798:\tlearn: 0.0174431\ttotal: 34.8s\tremaining: 8.76s\n",
      "799:\tlearn: 0.0174232\ttotal: 34.9s\tremaining: 8.71s\n",
      "800:\tlearn: 0.0174232\ttotal: 34.9s\tremaining: 8.67s\n",
      "801:\tlearn: 0.0173796\ttotal: 34.9s\tremaining: 8.62s\n",
      "802:\tlearn: 0.0173672\ttotal: 35s\tremaining: 8.58s\n",
      "803:\tlearn: 0.0173390\ttotal: 35s\tremaining: 8.53s\n",
      "804:\tlearn: 0.0173166\ttotal: 35.1s\tremaining: 8.49s\n",
      "805:\tlearn: 0.0173166\ttotal: 35.1s\tremaining: 8.44s\n",
      "806:\tlearn: 0.0172536\ttotal: 35.1s\tremaining: 8.4s\n",
      "807:\tlearn: 0.0172218\ttotal: 35.2s\tremaining: 8.36s\n",
      "808:\tlearn: 0.0172217\ttotal: 35.2s\tremaining: 8.31s\n",
      "809:\tlearn: 0.0172217\ttotal: 35.3s\tremaining: 8.27s\n",
      "810:\tlearn: 0.0171954\ttotal: 35.3s\tremaining: 8.23s\n",
      "811:\tlearn: 0.0171954\ttotal: 35.3s\tremaining: 8.18s\n",
      "812:\tlearn: 0.0171532\ttotal: 35.4s\tremaining: 8.14s\n",
      "813:\tlearn: 0.0171498\ttotal: 35.4s\tremaining: 8.09s\n",
      "814:\tlearn: 0.0171498\ttotal: 35.4s\tremaining: 8.04s\n",
      "815:\tlearn: 0.0170402\ttotal: 35.5s\tremaining: 8.01s\n",
      "816:\tlearn: 0.0170402\ttotal: 35.5s\tremaining: 7.96s\n",
      "817:\tlearn: 0.0170243\ttotal: 35.6s\tremaining: 7.91s\n",
      "818:\tlearn: 0.0170216\ttotal: 35.6s\tremaining: 7.87s\n",
      "819:\tlearn: 0.0170216\ttotal: 35.6s\tremaining: 7.82s\n",
      "820:\tlearn: 0.0170077\ttotal: 35.7s\tremaining: 7.78s\n",
      "821:\tlearn: 0.0170077\ttotal: 35.7s\tremaining: 7.73s\n",
      "822:\tlearn: 0.0170076\ttotal: 35.7s\tremaining: 7.68s\n",
      "823:\tlearn: 0.0169945\ttotal: 35.8s\tremaining: 7.64s\n",
      "824:\tlearn: 0.0169457\ttotal: 35.8s\tremaining: 7.6s\n",
      "825:\tlearn: 0.0169382\ttotal: 35.9s\tremaining: 7.56s\n",
      "826:\tlearn: 0.0169372\ttotal: 35.9s\tremaining: 7.51s\n",
      "827:\tlearn: 0.0169372\ttotal: 35.9s\tremaining: 7.46s\n",
      "828:\tlearn: 0.0169339\ttotal: 36s\tremaining: 7.42s\n",
      "829:\tlearn: 0.0169339\ttotal: 36s\tremaining: 7.37s\n",
      "830:\tlearn: 0.0169339\ttotal: 36s\tremaining: 7.33s\n",
      "831:\tlearn: 0.0169338\ttotal: 36s\tremaining: 7.28s\n",
      "832:\tlearn: 0.0169140\ttotal: 36.1s\tremaining: 7.23s\n",
      "833:\tlearn: 0.0168493\ttotal: 36.1s\tremaining: 7.19s\n",
      "834:\tlearn: 0.0168152\ttotal: 36.2s\tremaining: 7.15s\n",
      "835:\tlearn: 0.0167362\ttotal: 36.3s\tremaining: 7.11s\n",
      "836:\tlearn: 0.0166383\ttotal: 36.3s\tremaining: 7.07s\n",
      "837:\tlearn: 0.0165947\ttotal: 36.4s\tremaining: 7.03s\n",
      "838:\tlearn: 0.0165294\ttotal: 36.4s\tremaining: 6.98s\n",
      "839:\tlearn: 0.0165294\ttotal: 36.4s\tremaining: 6.94s\n",
      "840:\tlearn: 0.0164812\ttotal: 36.5s\tremaining: 6.9s\n",
      "841:\tlearn: 0.0164386\ttotal: 36.5s\tremaining: 6.85s\n",
      "842:\tlearn: 0.0164386\ttotal: 36.6s\tremaining: 6.81s\n",
      "843:\tlearn: 0.0164386\ttotal: 36.6s\tremaining: 6.76s\n",
      "844:\tlearn: 0.0164314\ttotal: 36.8s\tremaining: 6.75s\n",
      "845:\tlearn: 0.0164217\ttotal: 36.9s\tremaining: 6.72s\n",
      "846:\tlearn: 0.0163450\ttotal: 37s\tremaining: 6.68s\n",
      "847:\tlearn: 0.0163180\ttotal: 37s\tremaining: 6.64s\n",
      "848:\tlearn: 0.0163180\ttotal: 37.1s\tremaining: 6.59s\n",
      "849:\tlearn: 0.0162807\ttotal: 37.1s\tremaining: 6.55s\n",
      "850:\tlearn: 0.0162807\ttotal: 37.2s\tremaining: 6.5s\n",
      "851:\tlearn: 0.0162807\ttotal: 37.2s\tremaining: 6.46s\n",
      "852:\tlearn: 0.0162731\ttotal: 37.2s\tremaining: 6.41s\n",
      "853:\tlearn: 0.0162731\ttotal: 37.2s\tremaining: 6.36s\n",
      "854:\tlearn: 0.0162644\ttotal: 37.3s\tremaining: 6.32s\n",
      "855:\tlearn: 0.0162644\ttotal: 37.3s\tremaining: 6.27s\n",
      "856:\tlearn: 0.0162569\ttotal: 37.3s\tremaining: 6.23s\n",
      "857:\tlearn: 0.0162385\ttotal: 37.4s\tremaining: 6.19s\n",
      "858:\tlearn: 0.0162168\ttotal: 37.4s\tremaining: 6.14s\n",
      "859:\tlearn: 0.0162168\ttotal: 37.5s\tremaining: 6.1s\n",
      "860:\tlearn: 0.0161553\ttotal: 37.5s\tremaining: 6.05s\n",
      "861:\tlearn: 0.0161553\ttotal: 37.5s\tremaining: 6.01s\n",
      "862:\tlearn: 0.0161297\ttotal: 37.6s\tremaining: 5.97s\n",
      "863:\tlearn: 0.0161296\ttotal: 37.6s\tremaining: 5.92s\n",
      "864:\tlearn: 0.0161249\ttotal: 37.6s\tremaining: 5.87s\n",
      "865:\tlearn: 0.0161249\ttotal: 37.7s\tremaining: 5.83s\n",
      "866:\tlearn: 0.0161184\ttotal: 37.7s\tremaining: 5.78s\n",
      "867:\tlearn: 0.0161183\ttotal: 37.7s\tremaining: 5.74s\n",
      "868:\tlearn: 0.0161183\ttotal: 37.8s\tremaining: 5.69s\n",
      "869:\tlearn: 0.0161183\ttotal: 37.8s\tremaining: 5.64s\n",
      "870:\tlearn: 0.0161183\ttotal: 37.8s\tremaining: 5.6s\n",
      "871:\tlearn: 0.0161182\ttotal: 37.8s\tremaining: 5.55s\n",
      "872:\tlearn: 0.0160757\ttotal: 37.9s\tremaining: 5.51s\n",
      "873:\tlearn: 0.0160143\ttotal: 37.9s\tremaining: 5.46s\n",
      "874:\tlearn: 0.0160143\ttotal: 37.9s\tremaining: 5.42s\n",
      "875:\tlearn: 0.0160142\ttotal: 37.9s\tremaining: 5.37s\n",
      "876:\tlearn: 0.0159469\ttotal: 38s\tremaining: 5.33s\n",
      "877:\tlearn: 0.0159468\ttotal: 38s\tremaining: 5.28s\n",
      "878:\tlearn: 0.0158911\ttotal: 38.1s\tremaining: 5.24s\n",
      "879:\tlearn: 0.0158911\ttotal: 38.1s\tremaining: 5.19s\n",
      "880:\tlearn: 0.0158364\ttotal: 38.1s\tremaining: 5.15s\n",
      "881:\tlearn: 0.0157874\ttotal: 38.2s\tremaining: 5.11s\n",
      "882:\tlearn: 0.0157874\ttotal: 38.2s\tremaining: 5.06s\n",
      "883:\tlearn: 0.0157874\ttotal: 38.2s\tremaining: 5.02s\n",
      "884:\tlearn: 0.0157778\ttotal: 38.3s\tremaining: 4.97s\n",
      "885:\tlearn: 0.0157778\ttotal: 38.3s\tremaining: 4.93s\n",
      "886:\tlearn: 0.0157777\ttotal: 38.3s\tremaining: 4.88s\n",
      "887:\tlearn: 0.0157712\ttotal: 38.4s\tremaining: 4.84s\n",
      "888:\tlearn: 0.0157711\ttotal: 38.4s\tremaining: 4.8s\n",
      "889:\tlearn: 0.0157413\ttotal: 38.5s\tremaining: 4.76s\n",
      "890:\tlearn: 0.0157235\ttotal: 38.5s\tremaining: 4.71s\n",
      "891:\tlearn: 0.0157234\ttotal: 38.6s\tremaining: 4.67s\n",
      "892:\tlearn: 0.0157178\ttotal: 38.6s\tremaining: 4.62s\n",
      "893:\tlearn: 0.0157178\ttotal: 38.6s\tremaining: 4.58s\n",
      "894:\tlearn: 0.0156757\ttotal: 38.7s\tremaining: 4.54s\n",
      "895:\tlearn: 0.0156757\ttotal: 38.7s\tremaining: 4.49s\n",
      "896:\tlearn: 0.0156757\ttotal: 38.8s\tremaining: 4.45s\n",
      "897:\tlearn: 0.0156278\ttotal: 38.8s\tremaining: 4.41s\n",
      "898:\tlearn: 0.0156278\ttotal: 38.8s\tremaining: 4.36s\n",
      "899:\tlearn: 0.0156125\ttotal: 38.9s\tremaining: 4.32s\n",
      "900:\tlearn: 0.0156105\ttotal: 38.9s\tremaining: 4.28s\n",
      "901:\tlearn: 0.0155991\ttotal: 39s\tremaining: 4.23s\n",
      "902:\tlearn: 0.0155954\ttotal: 39s\tremaining: 4.19s\n",
      "903:\tlearn: 0.0155295\ttotal: 39.1s\tremaining: 4.15s\n",
      "904:\tlearn: 0.0155295\ttotal: 39.1s\tremaining: 4.1s\n",
      "905:\tlearn: 0.0155072\ttotal: 39.2s\tremaining: 4.06s\n",
      "906:\tlearn: 0.0155025\ttotal: 39.2s\tremaining: 4.02s\n",
      "907:\tlearn: 0.0155025\ttotal: 39.2s\tremaining: 3.97s\n",
      "908:\tlearn: 0.0155024\ttotal: 39.3s\tremaining: 3.93s\n",
      "909:\tlearn: 0.0155024\ttotal: 39.3s\tremaining: 3.89s\n",
      "910:\tlearn: 0.0154846\ttotal: 39.4s\tremaining: 3.84s\n",
      "911:\tlearn: 0.0154846\ttotal: 39.4s\tremaining: 3.8s\n",
      "912:\tlearn: 0.0154791\ttotal: 39.4s\tremaining: 3.76s\n",
      "913:\tlearn: 0.0154700\ttotal: 39.5s\tremaining: 3.71s\n",
      "914:\tlearn: 0.0154638\ttotal: 39.5s\tremaining: 3.67s\n",
      "915:\tlearn: 0.0153944\ttotal: 39.6s\tremaining: 3.63s\n",
      "916:\tlearn: 0.0153944\ttotal: 39.6s\tremaining: 3.59s\n",
      "917:\tlearn: 0.0153526\ttotal: 39.7s\tremaining: 3.54s\n",
      "918:\tlearn: 0.0153515\ttotal: 39.7s\tremaining: 3.5s\n",
      "919:\tlearn: 0.0153386\ttotal: 39.8s\tremaining: 3.46s\n",
      "920:\tlearn: 0.0153386\ttotal: 39.8s\tremaining: 3.41s\n",
      "921:\tlearn: 0.0153196\ttotal: 39.8s\tremaining: 3.37s\n",
      "922:\tlearn: 0.0153196\ttotal: 39.9s\tremaining: 3.33s\n",
      "923:\tlearn: 0.0153196\ttotal: 39.9s\tremaining: 3.28s\n",
      "924:\tlearn: 0.0153033\ttotal: 39.9s\tremaining: 3.24s\n",
      "925:\tlearn: 0.0152465\ttotal: 40s\tremaining: 3.2s\n",
      "926:\tlearn: 0.0152465\ttotal: 40s\tremaining: 3.15s\n",
      "927:\tlearn: 0.0152465\ttotal: 40.1s\tremaining: 3.11s\n",
      "928:\tlearn: 0.0152464\ttotal: 40.1s\tremaining: 3.06s\n",
      "929:\tlearn: 0.0152398\ttotal: 40.2s\tremaining: 3.02s\n",
      "930:\tlearn: 0.0152010\ttotal: 40.2s\tremaining: 2.98s\n",
      "931:\tlearn: 0.0152010\ttotal: 40.2s\tremaining: 2.93s\n",
      "932:\tlearn: 0.0152010\ttotal: 40.3s\tremaining: 2.89s\n",
      "933:\tlearn: 0.0151593\ttotal: 40.3s\tremaining: 2.85s\n",
      "934:\tlearn: 0.0151357\ttotal: 40.3s\tremaining: 2.8s\n",
      "935:\tlearn: 0.0151357\ttotal: 40.4s\tremaining: 2.76s\n",
      "936:\tlearn: 0.0151347\ttotal: 40.4s\tremaining: 2.72s\n",
      "937:\tlearn: 0.0150961\ttotal: 40.5s\tremaining: 2.67s\n",
      "938:\tlearn: 0.0150605\ttotal: 40.5s\tremaining: 2.63s\n",
      "939:\tlearn: 0.0150547\ttotal: 40.6s\tremaining: 2.59s\n",
      "940:\tlearn: 0.0150467\ttotal: 40.6s\tremaining: 2.54s\n",
      "941:\tlearn: 0.0150306\ttotal: 40.6s\tremaining: 2.5s\n",
      "942:\tlearn: 0.0150306\ttotal: 40.7s\tremaining: 2.46s\n",
      "943:\tlearn: 0.0150296\ttotal: 40.7s\tremaining: 2.41s\n",
      "944:\tlearn: 0.0150296\ttotal: 40.7s\tremaining: 2.37s\n",
      "945:\tlearn: 0.0150295\ttotal: 40.7s\tremaining: 2.33s\n",
      "946:\tlearn: 0.0150295\ttotal: 40.8s\tremaining: 2.28s\n",
      "947:\tlearn: 0.0150228\ttotal: 40.8s\tremaining: 2.24s\n",
      "948:\tlearn: 0.0150228\ttotal: 40.9s\tremaining: 2.19s\n",
      "949:\tlearn: 0.0150228\ttotal: 40.9s\tremaining: 2.15s\n",
      "950:\tlearn: 0.0150194\ttotal: 40.9s\tremaining: 2.11s\n",
      "951:\tlearn: 0.0150194\ttotal: 41s\tremaining: 2.06s\n",
      "952:\tlearn: 0.0150194\ttotal: 41s\tremaining: 2.02s\n",
      "953:\tlearn: 0.0150194\ttotal: 41s\tremaining: 1.98s\n",
      "954:\tlearn: 0.0150194\ttotal: 41s\tremaining: 1.93s\n",
      "955:\tlearn: 0.0150192\ttotal: 41s\tremaining: 1.89s\n",
      "956:\tlearn: 0.0150192\ttotal: 41.1s\tremaining: 1.84s\n",
      "957:\tlearn: 0.0150192\ttotal: 41.1s\tremaining: 1.8s\n",
      "958:\tlearn: 0.0150169\ttotal: 41.1s\tremaining: 1.76s\n",
      "959:\tlearn: 0.0150000\ttotal: 41.2s\tremaining: 1.71s\n",
      "960:\tlearn: 0.0150000\ttotal: 41.2s\tremaining: 1.67s\n",
      "961:\tlearn: 0.0149796\ttotal: 41.2s\tremaining: 1.63s\n",
      "962:\tlearn: 0.0149796\ttotal: 41.2s\tremaining: 1.58s\n",
      "963:\tlearn: 0.0149796\ttotal: 41.3s\tremaining: 1.54s\n",
      "964:\tlearn: 0.0149722\ttotal: 41.3s\tremaining: 1.5s\n",
      "965:\tlearn: 0.0149722\ttotal: 41.3s\tremaining: 1.45s\n",
      "966:\tlearn: 0.0149722\ttotal: 41.3s\tremaining: 1.41s\n",
      "967:\tlearn: 0.0149722\ttotal: 41.4s\tremaining: 1.37s\n",
      "968:\tlearn: 0.0149722\ttotal: 41.4s\tremaining: 1.32s\n",
      "969:\tlearn: 0.0149722\ttotal: 41.4s\tremaining: 1.28s\n",
      "970:\tlearn: 0.0149721\ttotal: 41.4s\tremaining: 1.24s\n",
      "971:\tlearn: 0.0149721\ttotal: 41.4s\tremaining: 1.19s\n",
      "972:\tlearn: 0.0149721\ttotal: 41.5s\tremaining: 1.15s\n",
      "973:\tlearn: 0.0149721\ttotal: 41.5s\tremaining: 1.11s\n",
      "974:\tlearn: 0.0149704\ttotal: 41.5s\tremaining: 1.06s\n",
      "975:\tlearn: 0.0149621\ttotal: 41.6s\tremaining: 1.02s\n",
      "976:\tlearn: 0.0149473\ttotal: 41.6s\tremaining: 980ms\n",
      "977:\tlearn: 0.0149473\ttotal: 41.7s\tremaining: 937ms\n",
      "978:\tlearn: 0.0148983\ttotal: 41.7s\tremaining: 895ms\n",
      "979:\tlearn: 0.0148982\ttotal: 41.7s\tremaining: 852ms\n",
      "980:\tlearn: 0.0148982\ttotal: 41.8s\tremaining: 809ms\n",
      "981:\tlearn: 0.0148982\ttotal: 41.8s\tremaining: 766ms\n",
      "982:\tlearn: 0.0148831\ttotal: 41.8s\tremaining: 723ms\n",
      "983:\tlearn: 0.0148831\ttotal: 41.9s\tremaining: 681ms\n",
      "984:\tlearn: 0.0148744\ttotal: 41.9s\tremaining: 638ms\n",
      "985:\tlearn: 0.0148744\ttotal: 41.9s\tremaining: 595ms\n",
      "986:\tlearn: 0.0148615\ttotal: 42s\tremaining: 553ms\n",
      "987:\tlearn: 0.0148341\ttotal: 42s\tremaining: 511ms\n",
      "988:\tlearn: 0.0148341\ttotal: 42.1s\tremaining: 468ms\n",
      "989:\tlearn: 0.0148251\ttotal: 42.1s\tremaining: 425ms\n",
      "990:\tlearn: 0.0148189\ttotal: 42.1s\tremaining: 383ms\n",
      "991:\tlearn: 0.0147877\ttotal: 42.2s\tremaining: 340ms\n",
      "992:\tlearn: 0.0147877\ttotal: 42.2s\tremaining: 298ms\n",
      "993:\tlearn: 0.0147797\ttotal: 42.3s\tremaining: 255ms\n",
      "994:\tlearn: 0.0147695\ttotal: 42.3s\tremaining: 213ms\n",
      "995:\tlearn: 0.0147695\ttotal: 42.3s\tremaining: 170ms\n",
      "996:\tlearn: 0.0147282\ttotal: 42.4s\tremaining: 128ms\n",
      "997:\tlearn: 0.0147201\ttotal: 42.4s\tremaining: 85ms\n",
      "998:\tlearn: 0.0147191\ttotal: 42.5s\tremaining: 42.5ms\n",
      "999:\tlearn: 0.0146905\ttotal: 42.5s\tremaining: 0us\n"
     ]
    },
    {
     "name": "stderr",
     "output_type": "stream",
     "text": [
      "/opt/anaconda3/envs/practicum/lib/python3.11/site-packages/sklearn/preprocessing/_encoders.py:241: UserWarning: Found unknown categories in columns [0, 1, 2, 3, 4, 5] during transform. These unknown categories will be encoded as all zeros\n",
      "  warnings.warn(\n"
     ]
    },
    {
     "data": {
      "text/html": [
       "<style>#sk-container-id-1 {\n",
       "  /* Definition of color scheme common for light and dark mode */\n",
       "  --sklearn-color-text: black;\n",
       "  --sklearn-color-line: gray;\n",
       "  /* Definition of color scheme for unfitted estimators */\n",
       "  --sklearn-color-unfitted-level-0: #fff5e6;\n",
       "  --sklearn-color-unfitted-level-1: #f6e4d2;\n",
       "  --sklearn-color-unfitted-level-2: #ffe0b3;\n",
       "  --sklearn-color-unfitted-level-3: chocolate;\n",
       "  /* Definition of color scheme for fitted estimators */\n",
       "  --sklearn-color-fitted-level-0: #f0f8ff;\n",
       "  --sklearn-color-fitted-level-1: #d4ebff;\n",
       "  --sklearn-color-fitted-level-2: #b3dbfd;\n",
       "  --sklearn-color-fitted-level-3: cornflowerblue;\n",
       "\n",
       "  /* Specific color for light theme */\n",
       "  --sklearn-color-text-on-default-background: var(--sg-text-color, var(--theme-code-foreground, var(--jp-content-font-color1, black)));\n",
       "  --sklearn-color-background: var(--sg-background-color, var(--theme-background, var(--jp-layout-color0, white)));\n",
       "  --sklearn-color-border-box: var(--sg-text-color, var(--theme-code-foreground, var(--jp-content-font-color1, black)));\n",
       "  --sklearn-color-icon: #696969;\n",
       "\n",
       "  @media (prefers-color-scheme: dark) {\n",
       "    /* Redefinition of color scheme for dark theme */\n",
       "    --sklearn-color-text-on-default-background: var(--sg-text-color, var(--theme-code-foreground, var(--jp-content-font-color1, white)));\n",
       "    --sklearn-color-background: var(--sg-background-color, var(--theme-background, var(--jp-layout-color0, #111)));\n",
       "    --sklearn-color-border-box: var(--sg-text-color, var(--theme-code-foreground, var(--jp-content-font-color1, white)));\n",
       "    --sklearn-color-icon: #878787;\n",
       "  }\n",
       "}\n",
       "\n",
       "#sk-container-id-1 {\n",
       "  color: var(--sklearn-color-text);\n",
       "}\n",
       "\n",
       "#sk-container-id-1 pre {\n",
       "  padding: 0;\n",
       "}\n",
       "\n",
       "#sk-container-id-1 input.sk-hidden--visually {\n",
       "  border: 0;\n",
       "  clip: rect(1px 1px 1px 1px);\n",
       "  clip: rect(1px, 1px, 1px, 1px);\n",
       "  height: 1px;\n",
       "  margin: -1px;\n",
       "  overflow: hidden;\n",
       "  padding: 0;\n",
       "  position: absolute;\n",
       "  width: 1px;\n",
       "}\n",
       "\n",
       "#sk-container-id-1 div.sk-dashed-wrapped {\n",
       "  border: 1px dashed var(--sklearn-color-line);\n",
       "  margin: 0 0.4em 0.5em 0.4em;\n",
       "  box-sizing: border-box;\n",
       "  padding-bottom: 0.4em;\n",
       "  background-color: var(--sklearn-color-background);\n",
       "}\n",
       "\n",
       "#sk-container-id-1 div.sk-container {\n",
       "  /* jupyter's `normalize.less` sets `[hidden] { display: none; }`\n",
       "     but bootstrap.min.css set `[hidden] { display: none !important; }`\n",
       "     so we also need the `!important` here to be able to override the\n",
       "     default hidden behavior on the sphinx rendered scikit-learn.org.\n",
       "     See: https://github.com/scikit-learn/scikit-learn/issues/21755 */\n",
       "  display: inline-block !important;\n",
       "  position: relative;\n",
       "}\n",
       "\n",
       "#sk-container-id-1 div.sk-text-repr-fallback {\n",
       "  display: none;\n",
       "}\n",
       "\n",
       "div.sk-parallel-item,\n",
       "div.sk-serial,\n",
       "div.sk-item {\n",
       "  /* draw centered vertical line to link estimators */\n",
       "  background-image: linear-gradient(var(--sklearn-color-text-on-default-background), var(--sklearn-color-text-on-default-background));\n",
       "  background-size: 2px 100%;\n",
       "  background-repeat: no-repeat;\n",
       "  background-position: center center;\n",
       "}\n",
       "\n",
       "/* Parallel-specific style estimator block */\n",
       "\n",
       "#sk-container-id-1 div.sk-parallel-item::after {\n",
       "  content: \"\";\n",
       "  width: 100%;\n",
       "  border-bottom: 2px solid var(--sklearn-color-text-on-default-background);\n",
       "  flex-grow: 1;\n",
       "}\n",
       "\n",
       "#sk-container-id-1 div.sk-parallel {\n",
       "  display: flex;\n",
       "  align-items: stretch;\n",
       "  justify-content: center;\n",
       "  background-color: var(--sklearn-color-background);\n",
       "  position: relative;\n",
       "}\n",
       "\n",
       "#sk-container-id-1 div.sk-parallel-item {\n",
       "  display: flex;\n",
       "  flex-direction: column;\n",
       "}\n",
       "\n",
       "#sk-container-id-1 div.sk-parallel-item:first-child::after {\n",
       "  align-self: flex-end;\n",
       "  width: 50%;\n",
       "}\n",
       "\n",
       "#sk-container-id-1 div.sk-parallel-item:last-child::after {\n",
       "  align-self: flex-start;\n",
       "  width: 50%;\n",
       "}\n",
       "\n",
       "#sk-container-id-1 div.sk-parallel-item:only-child::after {\n",
       "  width: 0;\n",
       "}\n",
       "\n",
       "/* Serial-specific style estimator block */\n",
       "\n",
       "#sk-container-id-1 div.sk-serial {\n",
       "  display: flex;\n",
       "  flex-direction: column;\n",
       "  align-items: center;\n",
       "  background-color: var(--sklearn-color-background);\n",
       "  padding-right: 1em;\n",
       "  padding-left: 1em;\n",
       "}\n",
       "\n",
       "\n",
       "/* Toggleable style: style used for estimator/Pipeline/ColumnTransformer box that is\n",
       "clickable and can be expanded/collapsed.\n",
       "- Pipeline and ColumnTransformer use this feature and define the default style\n",
       "- Estimators will overwrite some part of the style using the `sk-estimator` class\n",
       "*/\n",
       "\n",
       "/* Pipeline and ColumnTransformer style (default) */\n",
       "\n",
       "#sk-container-id-1 div.sk-toggleable {\n",
       "  /* Default theme specific background. It is overwritten whether we have a\n",
       "  specific estimator or a Pipeline/ColumnTransformer */\n",
       "  background-color: var(--sklearn-color-background);\n",
       "}\n",
       "\n",
       "/* Toggleable label */\n",
       "#sk-container-id-1 label.sk-toggleable__label {\n",
       "  cursor: pointer;\n",
       "  display: block;\n",
       "  width: 100%;\n",
       "  margin-bottom: 0;\n",
       "  padding: 0.5em;\n",
       "  box-sizing: border-box;\n",
       "  text-align: center;\n",
       "}\n",
       "\n",
       "#sk-container-id-1 label.sk-toggleable__label-arrow:before {\n",
       "  /* Arrow on the left of the label */\n",
       "  content: \"▸\";\n",
       "  float: left;\n",
       "  margin-right: 0.25em;\n",
       "  color: var(--sklearn-color-icon);\n",
       "}\n",
       "\n",
       "#sk-container-id-1 label.sk-toggleable__label-arrow:hover:before {\n",
       "  color: var(--sklearn-color-text);\n",
       "}\n",
       "\n",
       "/* Toggleable content - dropdown */\n",
       "\n",
       "#sk-container-id-1 div.sk-toggleable__content {\n",
       "  max-height: 0;\n",
       "  max-width: 0;\n",
       "  overflow: hidden;\n",
       "  text-align: left;\n",
       "  /* unfitted */\n",
       "  background-color: var(--sklearn-color-unfitted-level-0);\n",
       "}\n",
       "\n",
       "#sk-container-id-1 div.sk-toggleable__content.fitted {\n",
       "  /* fitted */\n",
       "  background-color: var(--sklearn-color-fitted-level-0);\n",
       "}\n",
       "\n",
       "#sk-container-id-1 div.sk-toggleable__content pre {\n",
       "  margin: 0.2em;\n",
       "  border-radius: 0.25em;\n",
       "  color: var(--sklearn-color-text);\n",
       "  /* unfitted */\n",
       "  background-color: var(--sklearn-color-unfitted-level-0);\n",
       "}\n",
       "\n",
       "#sk-container-id-1 div.sk-toggleable__content.fitted pre {\n",
       "  /* unfitted */\n",
       "  background-color: var(--sklearn-color-fitted-level-0);\n",
       "}\n",
       "\n",
       "#sk-container-id-1 input.sk-toggleable__control:checked~div.sk-toggleable__content {\n",
       "  /* Expand drop-down */\n",
       "  max-height: 200px;\n",
       "  max-width: 100%;\n",
       "  overflow: auto;\n",
       "}\n",
       "\n",
       "#sk-container-id-1 input.sk-toggleable__control:checked~label.sk-toggleable__label-arrow:before {\n",
       "  content: \"▾\";\n",
       "}\n",
       "\n",
       "/* Pipeline/ColumnTransformer-specific style */\n",
       "\n",
       "#sk-container-id-1 div.sk-label input.sk-toggleable__control:checked~label.sk-toggleable__label {\n",
       "  color: var(--sklearn-color-text);\n",
       "  background-color: var(--sklearn-color-unfitted-level-2);\n",
       "}\n",
       "\n",
       "#sk-container-id-1 div.sk-label.fitted input.sk-toggleable__control:checked~label.sk-toggleable__label {\n",
       "  background-color: var(--sklearn-color-fitted-level-2);\n",
       "}\n",
       "\n",
       "/* Estimator-specific style */\n",
       "\n",
       "/* Colorize estimator box */\n",
       "#sk-container-id-1 div.sk-estimator input.sk-toggleable__control:checked~label.sk-toggleable__label {\n",
       "  /* unfitted */\n",
       "  background-color: var(--sklearn-color-unfitted-level-2);\n",
       "}\n",
       "\n",
       "#sk-container-id-1 div.sk-estimator.fitted input.sk-toggleable__control:checked~label.sk-toggleable__label {\n",
       "  /* fitted */\n",
       "  background-color: var(--sklearn-color-fitted-level-2);\n",
       "}\n",
       "\n",
       "#sk-container-id-1 div.sk-label label.sk-toggleable__label,\n",
       "#sk-container-id-1 div.sk-label label {\n",
       "  /* The background is the default theme color */\n",
       "  color: var(--sklearn-color-text-on-default-background);\n",
       "}\n",
       "\n",
       "/* On hover, darken the color of the background */\n",
       "#sk-container-id-1 div.sk-label:hover label.sk-toggleable__label {\n",
       "  color: var(--sklearn-color-text);\n",
       "  background-color: var(--sklearn-color-unfitted-level-2);\n",
       "}\n",
       "\n",
       "/* Label box, darken color on hover, fitted */\n",
       "#sk-container-id-1 div.sk-label.fitted:hover label.sk-toggleable__label.fitted {\n",
       "  color: var(--sklearn-color-text);\n",
       "  background-color: var(--sklearn-color-fitted-level-2);\n",
       "}\n",
       "\n",
       "/* Estimator label */\n",
       "\n",
       "#sk-container-id-1 div.sk-label label {\n",
       "  font-family: monospace;\n",
       "  font-weight: bold;\n",
       "  display: inline-block;\n",
       "  line-height: 1.2em;\n",
       "}\n",
       "\n",
       "#sk-container-id-1 div.sk-label-container {\n",
       "  text-align: center;\n",
       "}\n",
       "\n",
       "/* Estimator-specific */\n",
       "#sk-container-id-1 div.sk-estimator {\n",
       "  font-family: monospace;\n",
       "  border: 1px dotted var(--sklearn-color-border-box);\n",
       "  border-radius: 0.25em;\n",
       "  box-sizing: border-box;\n",
       "  margin-bottom: 0.5em;\n",
       "  /* unfitted */\n",
       "  background-color: var(--sklearn-color-unfitted-level-0);\n",
       "}\n",
       "\n",
       "#sk-container-id-1 div.sk-estimator.fitted {\n",
       "  /* fitted */\n",
       "  background-color: var(--sklearn-color-fitted-level-0);\n",
       "}\n",
       "\n",
       "/* on hover */\n",
       "#sk-container-id-1 div.sk-estimator:hover {\n",
       "  /* unfitted */\n",
       "  background-color: var(--sklearn-color-unfitted-level-2);\n",
       "}\n",
       "\n",
       "#sk-container-id-1 div.sk-estimator.fitted:hover {\n",
       "  /* fitted */\n",
       "  background-color: var(--sklearn-color-fitted-level-2);\n",
       "}\n",
       "\n",
       "/* Specification for estimator info (e.g. \"i\" and \"?\") */\n",
       "\n",
       "/* Common style for \"i\" and \"?\" */\n",
       "\n",
       ".sk-estimator-doc-link,\n",
       "a:link.sk-estimator-doc-link,\n",
       "a:visited.sk-estimator-doc-link {\n",
       "  float: right;\n",
       "  font-size: smaller;\n",
       "  line-height: 1em;\n",
       "  font-family: monospace;\n",
       "  background-color: var(--sklearn-color-background);\n",
       "  border-radius: 1em;\n",
       "  height: 1em;\n",
       "  width: 1em;\n",
       "  text-decoration: none !important;\n",
       "  margin-left: 1ex;\n",
       "  /* unfitted */\n",
       "  border: var(--sklearn-color-unfitted-level-1) 1pt solid;\n",
       "  color: var(--sklearn-color-unfitted-level-1);\n",
       "}\n",
       "\n",
       ".sk-estimator-doc-link.fitted,\n",
       "a:link.sk-estimator-doc-link.fitted,\n",
       "a:visited.sk-estimator-doc-link.fitted {\n",
       "  /* fitted */\n",
       "  border: var(--sklearn-color-fitted-level-1) 1pt solid;\n",
       "  color: var(--sklearn-color-fitted-level-1);\n",
       "}\n",
       "\n",
       "/* On hover */\n",
       "div.sk-estimator:hover .sk-estimator-doc-link:hover,\n",
       ".sk-estimator-doc-link:hover,\n",
       "div.sk-label-container:hover .sk-estimator-doc-link:hover,\n",
       ".sk-estimator-doc-link:hover {\n",
       "  /* unfitted */\n",
       "  background-color: var(--sklearn-color-unfitted-level-3);\n",
       "  color: var(--sklearn-color-background);\n",
       "  text-decoration: none;\n",
       "}\n",
       "\n",
       "div.sk-estimator.fitted:hover .sk-estimator-doc-link.fitted:hover,\n",
       ".sk-estimator-doc-link.fitted:hover,\n",
       "div.sk-label-container:hover .sk-estimator-doc-link.fitted:hover,\n",
       ".sk-estimator-doc-link.fitted:hover {\n",
       "  /* fitted */\n",
       "  background-color: var(--sklearn-color-fitted-level-3);\n",
       "  color: var(--sklearn-color-background);\n",
       "  text-decoration: none;\n",
       "}\n",
       "\n",
       "/* Span, style for the box shown on hovering the info icon */\n",
       ".sk-estimator-doc-link span {\n",
       "  display: none;\n",
       "  z-index: 9999;\n",
       "  position: relative;\n",
       "  font-weight: normal;\n",
       "  right: .2ex;\n",
       "  padding: .5ex;\n",
       "  margin: .5ex;\n",
       "  width: min-content;\n",
       "  min-width: 20ex;\n",
       "  max-width: 50ex;\n",
       "  color: var(--sklearn-color-text);\n",
       "  box-shadow: 2pt 2pt 4pt #999;\n",
       "  /* unfitted */\n",
       "  background: var(--sklearn-color-unfitted-level-0);\n",
       "  border: .5pt solid var(--sklearn-color-unfitted-level-3);\n",
       "}\n",
       "\n",
       ".sk-estimator-doc-link.fitted span {\n",
       "  /* fitted */\n",
       "  background: var(--sklearn-color-fitted-level-0);\n",
       "  border: var(--sklearn-color-fitted-level-3);\n",
       "}\n",
       "\n",
       ".sk-estimator-doc-link:hover span {\n",
       "  display: block;\n",
       "}\n",
       "\n",
       "/* \"?\"-specific style due to the `<a>` HTML tag */\n",
       "\n",
       "#sk-container-id-1 a.estimator_doc_link {\n",
       "  float: right;\n",
       "  font-size: 1rem;\n",
       "  line-height: 1em;\n",
       "  font-family: monospace;\n",
       "  background-color: var(--sklearn-color-background);\n",
       "  border-radius: 1rem;\n",
       "  height: 1rem;\n",
       "  width: 1rem;\n",
       "  text-decoration: none;\n",
       "  /* unfitted */\n",
       "  color: var(--sklearn-color-unfitted-level-1);\n",
       "  border: var(--sklearn-color-unfitted-level-1) 1pt solid;\n",
       "}\n",
       "\n",
       "#sk-container-id-1 a.estimator_doc_link.fitted {\n",
       "  /* fitted */\n",
       "  border: var(--sklearn-color-fitted-level-1) 1pt solid;\n",
       "  color: var(--sklearn-color-fitted-level-1);\n",
       "}\n",
       "\n",
       "/* On hover */\n",
       "#sk-container-id-1 a.estimator_doc_link:hover {\n",
       "  /* unfitted */\n",
       "  background-color: var(--sklearn-color-unfitted-level-3);\n",
       "  color: var(--sklearn-color-background);\n",
       "  text-decoration: none;\n",
       "}\n",
       "\n",
       "#sk-container-id-1 a.estimator_doc_link.fitted:hover {\n",
       "  /* fitted */\n",
       "  background-color: var(--sklearn-color-fitted-level-3);\n",
       "}\n",
       "</style><div id=\"sk-container-id-1\" class=\"sk-top-container\"><div class=\"sk-text-repr-fallback\"><pre>Pipeline(steps=[(&#x27;col_trans&#x27;,\n",
       "                 ColumnTransformer(n_jobs=-1,\n",
       "                                   transformers=[(&#x27;num_pipeline&#x27;,\n",
       "                                                  Pipeline(steps=[(&#x27;impute&#x27;,\n",
       "                                                                   SimpleImputer(strategy=&#x27;median&#x27;)),\n",
       "                                                                  (&#x27;scale&#x27;,\n",
       "                                                                   StandardScaler())]),\n",
       "                                                  [&#x27;delta_funding_time&#x27;,\n",
       "                                                   &#x27;funding_total_usd&#x27;,\n",
       "                                                   &#x27;lifetime&#x27;, &#x27;founded_year&#x27;,\n",
       "                                                   &#x27;delta_invest&amp;open_time&#x27;]),\n",
       "                                                 (&#x27;ord&#x27;,\n",
       "                                                  Pipeline(steps=[(&#x27;simpleImputer_before_ord&#x27;,\n",
       "                                                                   SimpleImputer(strategy=&#x27;most...\n",
       "                                                  [&#x27;funding_rounds&#x27;]),\n",
       "                                                 (&#x27;ohe_pipeline&#x27;,\n",
       "                                                  Pipeline(steps=[(&#x27;impute&#x27;,\n",
       "                                                                   SimpleImputer(strategy=&#x27;most_frequent&#x27;)),\n",
       "                                                                  (&#x27;one-hot&#x27;,\n",
       "                                                                   OneHotEncoder(drop=&#x27;first&#x27;,\n",
       "                                                                                 handle_unknown=&#x27;infrequent_if_exist&#x27;,\n",
       "                                                                                 min_frequency=500,\n",
       "                                                                                 sparse_output=False))]),\n",
       "                                                  [&#x27;name&#x27;, &#x27;new_category&#x27;,\n",
       "                                                   &#x27;country_code&#x27;, &#x27;state_code&#x27;,\n",
       "                                                   &#x27;region&#x27;, &#x27;city&#x27;])])),\n",
       "                (&#x27;model&#x27;,\n",
       "                 &lt;catboost.core.CatBoostClassifier object at 0x15c1cca50&gt;)])</pre><b>In a Jupyter environment, please rerun this cell to show the HTML representation or trust the notebook. <br />On GitHub, the HTML representation is unable to render, please try loading this page with nbviewer.org.</b></div><div class=\"sk-container\" hidden><div class=\"sk-item sk-dashed-wrapped\"><div class=\"sk-label-container\"><div class=\"sk-label fitted sk-toggleable\"><input class=\"sk-toggleable__control sk-hidden--visually\" id=\"sk-estimator-id-1\" type=\"checkbox\" ><label for=\"sk-estimator-id-1\" class=\"sk-toggleable__label fitted sk-toggleable__label-arrow fitted\">&nbsp;&nbsp;Pipeline<a class=\"sk-estimator-doc-link fitted\" rel=\"noreferrer\" target=\"_blank\" href=\"https://scikit-learn.org/1.4/modules/generated/sklearn.pipeline.Pipeline.html\">?<span>Documentation for Pipeline</span></a><span class=\"sk-estimator-doc-link fitted\">i<span>Fitted</span></span></label><div class=\"sk-toggleable__content fitted\"><pre>Pipeline(steps=[(&#x27;col_trans&#x27;,\n",
       "                 ColumnTransformer(n_jobs=-1,\n",
       "                                   transformers=[(&#x27;num_pipeline&#x27;,\n",
       "                                                  Pipeline(steps=[(&#x27;impute&#x27;,\n",
       "                                                                   SimpleImputer(strategy=&#x27;median&#x27;)),\n",
       "                                                                  (&#x27;scale&#x27;,\n",
       "                                                                   StandardScaler())]),\n",
       "                                                  [&#x27;delta_funding_time&#x27;,\n",
       "                                                   &#x27;funding_total_usd&#x27;,\n",
       "                                                   &#x27;lifetime&#x27;, &#x27;founded_year&#x27;,\n",
       "                                                   &#x27;delta_invest&amp;open_time&#x27;]),\n",
       "                                                 (&#x27;ord&#x27;,\n",
       "                                                  Pipeline(steps=[(&#x27;simpleImputer_before_ord&#x27;,\n",
       "                                                                   SimpleImputer(strategy=&#x27;most...\n",
       "                                                  [&#x27;funding_rounds&#x27;]),\n",
       "                                                 (&#x27;ohe_pipeline&#x27;,\n",
       "                                                  Pipeline(steps=[(&#x27;impute&#x27;,\n",
       "                                                                   SimpleImputer(strategy=&#x27;most_frequent&#x27;)),\n",
       "                                                                  (&#x27;one-hot&#x27;,\n",
       "                                                                   OneHotEncoder(drop=&#x27;first&#x27;,\n",
       "                                                                                 handle_unknown=&#x27;infrequent_if_exist&#x27;,\n",
       "                                                                                 min_frequency=500,\n",
       "                                                                                 sparse_output=False))]),\n",
       "                                                  [&#x27;name&#x27;, &#x27;new_category&#x27;,\n",
       "                                                   &#x27;country_code&#x27;, &#x27;state_code&#x27;,\n",
       "                                                   &#x27;region&#x27;, &#x27;city&#x27;])])),\n",
       "                (&#x27;model&#x27;,\n",
       "                 &lt;catboost.core.CatBoostClassifier object at 0x15c1cca50&gt;)])</pre></div> </div></div><div class=\"sk-serial\"><div class=\"sk-item sk-dashed-wrapped\"><div class=\"sk-label-container\"><div class=\"sk-label fitted sk-toggleable\"><input class=\"sk-toggleable__control sk-hidden--visually\" id=\"sk-estimator-id-2\" type=\"checkbox\" ><label for=\"sk-estimator-id-2\" class=\"sk-toggleable__label fitted sk-toggleable__label-arrow fitted\">&nbsp;col_trans: ColumnTransformer<a class=\"sk-estimator-doc-link fitted\" rel=\"noreferrer\" target=\"_blank\" href=\"https://scikit-learn.org/1.4/modules/generated/sklearn.compose.ColumnTransformer.html\">?<span>Documentation for col_trans: ColumnTransformer</span></a></label><div class=\"sk-toggleable__content fitted\"><pre>ColumnTransformer(n_jobs=-1,\n",
       "                  transformers=[(&#x27;num_pipeline&#x27;,\n",
       "                                 Pipeline(steps=[(&#x27;impute&#x27;,\n",
       "                                                  SimpleImputer(strategy=&#x27;median&#x27;)),\n",
       "                                                 (&#x27;scale&#x27;, StandardScaler())]),\n",
       "                                 [&#x27;delta_funding_time&#x27;, &#x27;funding_total_usd&#x27;,\n",
       "                                  &#x27;lifetime&#x27;, &#x27;founded_year&#x27;,\n",
       "                                  &#x27;delta_invest&amp;open_time&#x27;]),\n",
       "                                (&#x27;ord&#x27;,\n",
       "                                 Pipeline(steps=[(&#x27;simpleImputer_before_ord&#x27;,\n",
       "                                                  SimpleImputer(strategy=&#x27;most_frequent&#x27;)),\n",
       "                                                 (&#x27;ord&#x27;,\n",
       "                                                  OrdinalEn...\n",
       "                                                 (&#x27;simpleImputer_after_ord&#x27;,\n",
       "                                                  SimpleImputer(strategy=&#x27;median&#x27;))]),\n",
       "                                 [&#x27;funding_rounds&#x27;]),\n",
       "                                (&#x27;ohe_pipeline&#x27;,\n",
       "                                 Pipeline(steps=[(&#x27;impute&#x27;,\n",
       "                                                  SimpleImputer(strategy=&#x27;most_frequent&#x27;)),\n",
       "                                                 (&#x27;one-hot&#x27;,\n",
       "                                                  OneHotEncoder(drop=&#x27;first&#x27;,\n",
       "                                                                handle_unknown=&#x27;infrequent_if_exist&#x27;,\n",
       "                                                                min_frequency=500,\n",
       "                                                                sparse_output=False))]),\n",
       "                                 [&#x27;name&#x27;, &#x27;new_category&#x27;, &#x27;country_code&#x27;,\n",
       "                                  &#x27;state_code&#x27;, &#x27;region&#x27;, &#x27;city&#x27;])])</pre></div> </div></div><div class=\"sk-parallel\"><div class=\"sk-parallel-item\"><div class=\"sk-item\"><div class=\"sk-label-container\"><div class=\"sk-label fitted sk-toggleable\"><input class=\"sk-toggleable__control sk-hidden--visually\" id=\"sk-estimator-id-3\" type=\"checkbox\" ><label for=\"sk-estimator-id-3\" class=\"sk-toggleable__label fitted sk-toggleable__label-arrow fitted\">num_pipeline</label><div class=\"sk-toggleable__content fitted\"><pre>[&#x27;delta_funding_time&#x27;, &#x27;funding_total_usd&#x27;, &#x27;lifetime&#x27;, &#x27;founded_year&#x27;, &#x27;delta_invest&amp;open_time&#x27;]</pre></div> </div></div><div class=\"sk-serial\"><div class=\"sk-item\"><div class=\"sk-serial\"><div class=\"sk-item\"><div class=\"sk-estimator fitted sk-toggleable\"><input class=\"sk-toggleable__control sk-hidden--visually\" id=\"sk-estimator-id-4\" type=\"checkbox\" ><label for=\"sk-estimator-id-4\" class=\"sk-toggleable__label fitted sk-toggleable__label-arrow fitted\">&nbsp;SimpleImputer<a class=\"sk-estimator-doc-link fitted\" rel=\"noreferrer\" target=\"_blank\" href=\"https://scikit-learn.org/1.4/modules/generated/sklearn.impute.SimpleImputer.html\">?<span>Documentation for SimpleImputer</span></a></label><div class=\"sk-toggleable__content fitted\"><pre>SimpleImputer(strategy=&#x27;median&#x27;)</pre></div> </div></div><div class=\"sk-item\"><div class=\"sk-estimator fitted sk-toggleable\"><input class=\"sk-toggleable__control sk-hidden--visually\" id=\"sk-estimator-id-5\" type=\"checkbox\" ><label for=\"sk-estimator-id-5\" class=\"sk-toggleable__label fitted sk-toggleable__label-arrow fitted\">&nbsp;StandardScaler<a class=\"sk-estimator-doc-link fitted\" rel=\"noreferrer\" target=\"_blank\" href=\"https://scikit-learn.org/1.4/modules/generated/sklearn.preprocessing.StandardScaler.html\">?<span>Documentation for StandardScaler</span></a></label><div class=\"sk-toggleable__content fitted\"><pre>StandardScaler()</pre></div> </div></div></div></div></div></div></div><div class=\"sk-parallel-item\"><div class=\"sk-item\"><div class=\"sk-label-container\"><div class=\"sk-label fitted sk-toggleable\"><input class=\"sk-toggleable__control sk-hidden--visually\" id=\"sk-estimator-id-6\" type=\"checkbox\" ><label for=\"sk-estimator-id-6\" class=\"sk-toggleable__label fitted sk-toggleable__label-arrow fitted\">ord</label><div class=\"sk-toggleable__content fitted\"><pre>[&#x27;funding_rounds&#x27;]</pre></div> </div></div><div class=\"sk-serial\"><div class=\"sk-item\"><div class=\"sk-serial\"><div class=\"sk-item\"><div class=\"sk-estimator fitted sk-toggleable\"><input class=\"sk-toggleable__control sk-hidden--visually\" id=\"sk-estimator-id-7\" type=\"checkbox\" ><label for=\"sk-estimator-id-7\" class=\"sk-toggleable__label fitted sk-toggleable__label-arrow fitted\">&nbsp;SimpleImputer<a class=\"sk-estimator-doc-link fitted\" rel=\"noreferrer\" target=\"_blank\" href=\"https://scikit-learn.org/1.4/modules/generated/sklearn.impute.SimpleImputer.html\">?<span>Documentation for SimpleImputer</span></a></label><div class=\"sk-toggleable__content fitted\"><pre>SimpleImputer(strategy=&#x27;most_frequent&#x27;)</pre></div> </div></div><div class=\"sk-item\"><div class=\"sk-estimator fitted sk-toggleable\"><input class=\"sk-toggleable__control sk-hidden--visually\" id=\"sk-estimator-id-8\" type=\"checkbox\" ><label for=\"sk-estimator-id-8\" class=\"sk-toggleable__label fitted sk-toggleable__label-arrow fitted\">&nbsp;OrdinalEncoder<a class=\"sk-estimator-doc-link fitted\" rel=\"noreferrer\" target=\"_blank\" href=\"https://scikit-learn.org/1.4/modules/generated/sklearn.preprocessing.OrdinalEncoder.html\">?<span>Documentation for OrdinalEncoder</span></a></label><div class=\"sk-toggleable__content fitted\"><pre>OrdinalEncoder(categories=[[&#x27;1&#x27;, &#x27;2&#x27;, &#x27;3&#x27;, &#x27;4&#x27;, &#x27;5&#x27;, &#x27;6&#x27;, &#x27;7&#x27;, &#x27;8&#x27;, &#x27;9&#x27;, &#x27;10&#x27;,\n",
       "                            &#x27;11&#x27;, &#x27;12&#x27;, &#x27;13&#x27;, &#x27;14&#x27;, &#x27;15&#x27;, &#x27;16&#x27;, &#x27;17&#x27;, &#x27;18&#x27;,\n",
       "                            &#x27;19&#x27;]],\n",
       "               handle_unknown=&#x27;use_encoded_value&#x27;, unknown_value=nan)</pre></div> </div></div><div class=\"sk-item\"><div class=\"sk-estimator fitted sk-toggleable\"><input class=\"sk-toggleable__control sk-hidden--visually\" id=\"sk-estimator-id-9\" type=\"checkbox\" ><label for=\"sk-estimator-id-9\" class=\"sk-toggleable__label fitted sk-toggleable__label-arrow fitted\">&nbsp;SimpleImputer<a class=\"sk-estimator-doc-link fitted\" rel=\"noreferrer\" target=\"_blank\" href=\"https://scikit-learn.org/1.4/modules/generated/sklearn.impute.SimpleImputer.html\">?<span>Documentation for SimpleImputer</span></a></label><div class=\"sk-toggleable__content fitted\"><pre>SimpleImputer(strategy=&#x27;median&#x27;)</pre></div> </div></div></div></div></div></div></div><div class=\"sk-parallel-item\"><div class=\"sk-item\"><div class=\"sk-label-container\"><div class=\"sk-label fitted sk-toggleable\"><input class=\"sk-toggleable__control sk-hidden--visually\" id=\"sk-estimator-id-10\" type=\"checkbox\" ><label for=\"sk-estimator-id-10\" class=\"sk-toggleable__label fitted sk-toggleable__label-arrow fitted\">ohe_pipeline</label><div class=\"sk-toggleable__content fitted\"><pre>[&#x27;name&#x27;, &#x27;new_category&#x27;, &#x27;country_code&#x27;, &#x27;state_code&#x27;, &#x27;region&#x27;, &#x27;city&#x27;]</pre></div> </div></div><div class=\"sk-serial\"><div class=\"sk-item\"><div class=\"sk-serial\"><div class=\"sk-item\"><div class=\"sk-estimator fitted sk-toggleable\"><input class=\"sk-toggleable__control sk-hidden--visually\" id=\"sk-estimator-id-11\" type=\"checkbox\" ><label for=\"sk-estimator-id-11\" class=\"sk-toggleable__label fitted sk-toggleable__label-arrow fitted\">&nbsp;SimpleImputer<a class=\"sk-estimator-doc-link fitted\" rel=\"noreferrer\" target=\"_blank\" href=\"https://scikit-learn.org/1.4/modules/generated/sklearn.impute.SimpleImputer.html\">?<span>Documentation for SimpleImputer</span></a></label><div class=\"sk-toggleable__content fitted\"><pre>SimpleImputer(strategy=&#x27;most_frequent&#x27;)</pre></div> </div></div><div class=\"sk-item\"><div class=\"sk-estimator fitted sk-toggleable\"><input class=\"sk-toggleable__control sk-hidden--visually\" id=\"sk-estimator-id-12\" type=\"checkbox\" ><label for=\"sk-estimator-id-12\" class=\"sk-toggleable__label fitted sk-toggleable__label-arrow fitted\">&nbsp;OneHotEncoder<a class=\"sk-estimator-doc-link fitted\" rel=\"noreferrer\" target=\"_blank\" href=\"https://scikit-learn.org/1.4/modules/generated/sklearn.preprocessing.OneHotEncoder.html\">?<span>Documentation for OneHotEncoder</span></a></label><div class=\"sk-toggleable__content fitted\"><pre>OneHotEncoder(drop=&#x27;first&#x27;, handle_unknown=&#x27;infrequent_if_exist&#x27;,\n",
       "              min_frequency=500, sparse_output=False)</pre></div> </div></div></div></div></div></div></div></div></div><div class=\"sk-item\"><div class=\"sk-estimator fitted sk-toggleable\"><input class=\"sk-toggleable__control sk-hidden--visually\" id=\"sk-estimator-id-13\" type=\"checkbox\" ><label for=\"sk-estimator-id-13\" class=\"sk-toggleable__label fitted sk-toggleable__label-arrow fitted\">CatBoostClassifier</label><div class=\"sk-toggleable__content fitted\"><pre>&lt;catboost.core.CatBoostClassifier object at 0x15c1cca50&gt;</pre></div> </div></div></div></div></div></div>"
      ],
      "text/plain": [
       "Pipeline(steps=[('col_trans',\n",
       "                 ColumnTransformer(n_jobs=-1,\n",
       "                                   transformers=[('num_pipeline',\n",
       "                                                  Pipeline(steps=[('impute',\n",
       "                                                                   SimpleImputer(strategy='median')),\n",
       "                                                                  ('scale',\n",
       "                                                                   StandardScaler())]),\n",
       "                                                  ['delta_funding_time',\n",
       "                                                   'funding_total_usd',\n",
       "                                                   'lifetime', 'founded_year',\n",
       "                                                   'delta_invest&open_time']),\n",
       "                                                 ('ord',\n",
       "                                                  Pipeline(steps=[('simpleImputer_before_ord',\n",
       "                                                                   SimpleImputer(strategy='most...\n",
       "                                                  ['funding_rounds']),\n",
       "                                                 ('ohe_pipeline',\n",
       "                                                  Pipeline(steps=[('impute',\n",
       "                                                                   SimpleImputer(strategy='most_frequent')),\n",
       "                                                                  ('one-hot',\n",
       "                                                                   OneHotEncoder(drop='first',\n",
       "                                                                                 handle_unknown='infrequent_if_exist',\n",
       "                                                                                 min_frequency=500,\n",
       "                                                                                 sparse_output=False))]),\n",
       "                                                  ['name', 'new_category',\n",
       "                                                   'country_code', 'state_code',\n",
       "                                                   'region', 'city'])])),\n",
       "                ('model',\n",
       "                 <catboost.core.CatBoostClassifier object at 0x15c1cca50>)])"
      ]
     },
     "metadata": {},
     "output_type": "display_data"
    }
   ],
   "source": [
    "#cat_features = [1] , cat_features=cat_features\n",
    "clf = CatBoostClassifier(**params_cbc)\n",
    "clf_pipeline_best = Pipeline(steps=[\n",
    "    ('col_trans', col_trans),\n",
    "    ('model', clf)\n",
    "])\n",
    "clf_pipeline_best.fit(X_train, y_train)\n",
    "predictions_test = clf_pipeline_best.predict(X_test)\n",
    "display(clf_pipeline_best)\n"
   ]
  },
  {
   "cell_type": "code",
   "execution_count": 130,
   "metadata": {},
   "outputs": [
    {
     "name": "stdout",
     "output_type": "stream",
     "text": [
      "<class 'pandas.core.frame.DataFrame'>\n",
      "RangeIndex: 13125 entries, 0 to 13124\n",
      "Data columns (total 12 columns):\n",
      " #   Column                  Non-Null Count  Dtype  \n",
      "---  ------                  --------------  -----  \n",
      " 0   name                    13125 non-null  object \n",
      " 1   funding_total_usd       10547 non-null  float64\n",
      " 2   country_code            11743 non-null  object \n",
      " 3   state_code              11430 non-null  object \n",
      " 4   region                  11536 non-null  object \n",
      " 5   city                    11538 non-null  object \n",
      " 6   funding_rounds          13125 non-null  int64  \n",
      " 7   lifetime                13125 non-null  int64  \n",
      " 8   delta_invest&open_time  13125 non-null  int64  \n",
      " 9   delta_funding_time      13125 non-null  int64  \n",
      " 10  founded_year            13125 non-null  int32  \n",
      " 11  new_category            13125 non-null  object \n",
      "dtypes: float64(1), int32(1), int64(4), object(6)\n",
      "memory usage: 1.2+ MB\n"
     ]
    }
   ],
   "source": [
    "test.info()"
   ]
  },
  {
   "cell_type": "code",
   "execution_count": 131,
   "metadata": {},
   "outputs": [
    {
     "name": "stdout",
     "output_type": "stream",
     "text": [
      "                     name     status\n",
      "0              Crystalsol  operating\n",
      "1        JBI Fish & Wings  operating\n",
      "2                COINPLUS  operating\n",
      "3  Imagine Communications  operating\n",
      "4                   DNA13  operating\n"
     ]
    }
   ],
   "source": [
    "#prediction_final_gbdt = best_model_gbdt.predict(X_test)\n",
    "test_final = test.drop(['new_category', 'funding_total_usd', 'country_code', 'state_code', 'region', 'city', 'funding_rounds', 'lifetime', 'delta_funding_time', 'delta_invest&open_time', 'founded_year'], axis=1)\n",
    "y_test_cbc = pd.DataFrame(label_encoder.inverse_transform(predictions_test), columns = ['status'])\n",
    "test_final_cbc = pd.concat([test_final,y_test_cbc],axis=1)\n",
    "print(test_final_cbc.head())\n",
    "test_final_cbc.to_csv('startup_predict_cbc.csv', index=False)"
   ]
  },
  {
   "cell_type": "code",
   "execution_count": null,
   "metadata": {},
   "outputs": [],
   "source": []
  },
  {
   "cell_type": "code",
   "execution_count": null,
   "metadata": {},
   "outputs": [],
   "source": [
    "def objective_xgbst(trial):    \n",
    "    # Список гиперпараметров для перебора (для CatBoostClassifier)\n",
    "    param = {\n",
    "        'max_depth': trial.suggest_int('max_depth', 1, 9),\n",
    "        'learning_rate': trial.suggest_loguniform('learning_rate', 0.01, 1.0),\n",
    "        'n_estimators': trial.suggest_int('n_estimators', 50, 500),\n",
    "        'min_child_weight': trial.suggest_int('min_child_weight', 1, 10),\n",
    "        'gamma': trial.suggest_loguniform('gamma', 1e-8, 1.0),\n",
    "        'subsample': trial.suggest_loguniform('subsample', 0.01, 1.0),\n",
    "        'colsample_bytree': trial.suggest_loguniform('colsample_bytree', 0.01, 1.0),\n",
    "        'reg_alpha': trial.suggest_loguniform('reg_alpha', 1e-8, 1.0),\n",
    "        'reg_lambda': trial.suggest_loguniform('reg_lambda', 1e-8, 1.0),\n",
    "        'eval_metric': 'mlogloss',\n",
    "        'use_label_encoder': False\n",
    "    }\n",
    "\n",
    "    # Определяю модель машинного обучения, которой передаются гиперпараметры\n",
    "    estimator = XGBClassifier(**param, verbose=False)\n",
    "\n",
    "    # Прикручиваю пайплайны\n",
    "    clf_pipeline = Pipeline(steps=[\n",
    "            ('col_trans', col_trans),\n",
    "            ('model', estimator)\n",
    "        ])\n",
    "        \n",
    "    f1_xgbst = cross_val_score(clf_pipeline, X_train, y_train, cv=3, scoring= 'f1').mean()\n",
    "    return f1_xgbst\n",
    "\n",
    "# Инициализирую подбора гиперпараметров.\n",
    "# Можно сохранять все промежуточные результаты в БД SQLLite (этот код я закомментировал)\n",
    "#study = optuna.create_study(direction=\"maximize\", study_name=\"CBC-2023-01-14-14-30\", storage='sqlite:///db/CBC-2023-01-14-14-30.db')\n",
    "study_xgbst = optuna.create_study(direction=\"maximize\", study_name=\"lpopf_xgbst\")\n",
    "# Запускаю процесс подбора гиперпараметров\n",
    "study_xgbst.optimize(objective_xgbst, n_trials=100)"
   ]
  },
  {
   "cell_type": "code",
   "execution_count": null,
   "metadata": {},
   "outputs": [],
   "source": [
    "print('Number of finished trials: {}'.format(len(study_xgbst.trials)))\n",
    "print('Best trial:')\n",
    "trial_xgbst = study_xgbst.best_trial\n",
    "\n",
    "print('  Value: {}'.format(trial_xgbst.value))\n",
    "print('  Params: ')\n",
    "\n",
    "for key, value in trial_xgbst.params.items():\n",
    "    print('    {}: {}'.format(key, value))"
   ]
  },
  {
   "cell_type": "code",
   "execution_count": null,
   "metadata": {},
   "outputs": [],
   "source": [
    "params_xgbst = trial_xgbst.params"
   ]
  },
  {
   "cell_type": "code",
   "execution_count": null,
   "metadata": {},
   "outputs": [],
   "source": [
    "optuna.visualization.plot_param_importances(study_xgbst)"
   ]
  },
  {
   "cell_type": "code",
   "execution_count": null,
   "metadata": {},
   "outputs": [],
   "source": [
    "xgbst = XGBClassifier(**params_xgbst)\n",
    "clf_pipeline_xgbst = Pipeline(steps=[\n",
    "    ('col_trans', col_trans),\n",
    "    ('model', xgbst)\n",
    "])\n",
    "clf_pipeline_xgbst.fit(X_train, y_train)\n",
    "predictions_test_xgbst = clf_pipeline_xgbst.predict(X_test)\n",
    "display(clf_pipeline_xgbst)"
   ]
  },
  {
   "cell_type": "code",
   "execution_count": null,
   "metadata": {},
   "outputs": [],
   "source": [
    "y_test_xgbst = pd.DataFrame(label_encoder.inverse_transform(predictions_test_xgbst), columns = ['status'])\n",
    "test_final_xgbst = pd.concat([test_final,y_test_xgbst],axis=1)\n",
    "print(test_final_xgbst.head())\n",
    "test_final_xgbst.to_csv('startup_predict_xgbst.csv', index=False)"
   ]
  },
  {
   "cell_type": "markdown",
   "metadata": {},
   "source": [
    "**Вывод по обучению второй модели**\n",
    "- Обучили методом DecisionTreeRegressor\n",
    "- параметры лучшей модели 'max_depth': 11, 'min_samples_leaf': 3, 'min_samples_split': 8\n",
    "- метрика лучшей модели на кроссвалидационной выборке - Best score: 15.252342948908971. Цель была меньше 15"
   ]
  },
  {
   "cell_type": "markdown",
   "metadata": {},
   "source": [
    "#### Оценка важности признаков методом SHAP"
   ]
  },
  {
   "cell_type": "code",
   "execution_count": null,
   "metadata": {},
   "outputs": [],
   "source": [
    "# feature_names = clf_pipeline_xgbst[:-1].get_feature_names_out()\n",
    "\n",
    "# mdi_importances = pd.Series(\n",
    "#     clf_pipeline_xgbst[-1].feature_importances_, index=feature_names\n",
    "# ).sort_values(ascending=True)"
   ]
  },
  {
   "cell_type": "code",
   "execution_count": null,
   "metadata": {},
   "outputs": [],
   "source": [
    "# ax = mdi_importances.plot.barh()\n",
    "# ax.set_title(\"Feature Importances\")\n",
    "# ax.figure.tight_layout()"
   ]
  },
  {
   "cell_type": "code",
   "execution_count": null,
   "metadata": {},
   "outputs": [],
   "source": [
    "\n",
    "X_train_p = pd.DataFrame(\n",
    "    col_trans.fit_transform(X_train),\n",
    "    columns=col_trans.get_feature_names_out())\n",
    "print(X_train_p)\n",
    "\n",
    "X_test_p = pd.DataFrame(\n",
    "    col_trans.transform(X_test),\n",
    "    columns=col_trans.get_feature_names_out()    \n",
    ") "
   ]
  },
  {
   "cell_type": "code",
   "execution_count": null,
   "metadata": {},
   "outputs": [],
   "source": [
    "from sklearn.feature_selection import SelectKBest, f_classif\n",
    "selector = SelectKBest(f_classif, k=16)\n",
    "# обучаем SelectKBest\n",
    "selector.fit(X_train_p, y_train)\n",
    "\n",
    "# сформируйте выборки с лучшими признаками\n",
    "features_names = X_train_p.columns[selector.get_support(indices=True)]\n",
    "X_train_new = X_train_p[list(features_names)]\n",
    "X_test_new = X_test_p[list(features_names)]"
   ]
  },
  {
   "cell_type": "code",
   "execution_count": null,
   "metadata": {},
   "outputs": [],
   "source": [
    "xgbst = XGBClassifier(**params_xgbst)\n",
    "xgbst.fit(X_train_new, y_train)"
   ]
  },
  {
   "cell_type": "code",
   "execution_count": null,
   "metadata": {},
   "outputs": [],
   "source": [
    "from sklearn.inspection import permutation_importance\n",
    "def custom_f1(model, X, y):\n",
    "    y_pred = model.predict(X)\n",
    "    score = f1_score(y, y_pred)\n",
    "    return score\n",
    "\n",
    "result = permutation_importance(xgbst, X_train_new, y_train, scoring=custom_f1)\n",
    "\n",
    "feature_importance = pd.DataFrame({'Feature': features_names, 'Importance': result['importances_mean']})\n",
    "feature_importance = feature_importance.sort_values('Importance', ascending=True)\n",
    "sns.set_style('white')\n",
    "feature_importance.plot(x='Feature', y='Importance', kind='barh', figsize=(10, 6)) "
   ]
  },
  {
   "cell_type": "code",
   "execution_count": null,
   "metadata": {},
   "outputs": [],
   "source": [
    "# from lime.lime_tabular import LimeTabularExplainer\n",
    "\n",
    "# # Объяснение модели с использованием LIME\n",
    "# explainer = LimeTabularExplainer(X_train, feature_names=list(range(10)), class_names=['Class1', 'Class2'], discretize='quartile')\n"
   ]
  },
  {
   "cell_type": "code",
   "execution_count": null,
   "metadata": {},
   "outputs": [],
   "source": [
    "# построим график общей значимости признаков:\n",
    "explainer = shap.LinearExplainer(xgbst, X_test_p)\n",
    "shap_values = explainer(X_test_p)\n",
    "shap.plots.bar(shap_values, max_display=17) "
   ]
  },
  {
   "cell_type": "markdown",
   "metadata": {},
   "source": [
    "Лидирует по-прежнему квадрат реализованных заказов клиента, а вторым по значимости впервые стал второй признак — количество подтверждённых заказов. x1 и раньше был самым важным из исходных признаков, но только сейчас он вошёл в тройку лучших.\n",
    "Признаки на графике расположены в порядке убывания их вклада: если убрать те, что наверху, качество модели просядет сильнее всего.\n",
    "Перейдём к самому интересному — посмотрим, как признаки влияют на каждое предсказание модели:"
   ]
  },
  {
   "cell_type": "code",
   "execution_count": null,
   "metadata": {},
   "outputs": [],
   "source": [
    "shap.plots.beeswarm(shap_values, max_display=16) "
   ]
  },
  {
   "cell_type": "markdown",
   "metadata": {},
   "source": [
    "Очевидно, почему высокие значения квадрата x1 снижают вероятность отнесения заказа к классу 1. Гораздо сложнее понять, как исходный x1 повышает риски отмены заказа. Почему полиномиальный признак повышает вероятность одного события, а исходный — другого?\n",
    "Чтобы объяснить такую ситуацию, уже недостаточно средств машинного обучения: остаётся только рассуждать логически. Все признаки модели как-то взаимосвязаны, поэтому и анализировать их нужно вместе. Объяснить аномалию с признаками x1 и x1^2 поможет третий по значимости признак x4^2 — квадрат количества позиций в заказе. \n",
    "Он также увеличивает вероятность отмены заказа. Много заказов за всё время и много позиций в заказе увеличивают риск отмены… Скорее всего, оба этих признака описывают поведение постоянных клиентов «Морских вкуснях» — такие берут помногу и часто. Что же может подтолкнуть их к отмене? Скорее всего, их собственные привычки! \n",
    "Очень часто постоянные клиенты стабильно берут одни и те же блюда или пользуются одинаковыми услугами. Поэтому они сразу же отменяют заказ, если случайно добавляют в него что-то лишнее, забывают про любимое блюдо или сталкиваются с отменой привычных скидок.\n",
    "Также здесь может работать фактор повторения: если много заказов прошли без проблем, то вероятность ошибки и отмены растёт с каждым следующим заказом. Невозможно всё время делать верные заказы: рано или поздно клиент ошибётся, и чем больше он заказывает, тем выше риск.\n",
    "Посмотрим на отдельные примеры неверно классифицированных объектов. Для этого отфильтруем такие наблюдения по двум критериям:\n",
    "Истинное значение целевого признака — 1.\n",
    "Вероятность принадлежность к классу 1 была оценена ниже чем 0.3."
   ]
  },
  {
   "cell_type": "code",
   "execution_count": null,
   "metadata": {},
   "outputs": [],
   "source": [
    "X_test_df['y_yest'] = y_test.tolist()\n",
    "X_test_df['predict_proba'] = model.predict_proba(X_test_new)[:,1]\n",
    "\n",
    "X_test_df[(X_test_df['y_yest']==1)&(X_test_df['predict_proba']<0.3)][['x1^2','x1']] "
   ]
  },
  {
   "cell_type": "markdown",
   "metadata": {},
   "source": [
    "#### Вывод по выбору лучшей модели  <a id='#5_3-bullet'></a>\n",
    "\n",
    "- Лучшая модель вторая, проведем итоговое тестирование лучшей модели. \n",
    "- Значение метрики F1 на тестовой выборке 72%\n",
    "\n",
    "По результатам поиска лучшей модели в первом этапе определили что модель RandomForestClassifier показывает себя лучше всего. исходя из этих данных было сделано предположение, что лучшей моделью нечувствительной к пропускам и большому кол-ву категорий в данных, являются модели основанные на градиентном бустинге.\n",
    "\n",
    "Справка про градиентный бустинг:\n",
    "\n",
    "В ходе обучения случайного леса каждый базовый алгоритм строится независимо от остальных. Бустинг, в свою очередь, воплощает идею последовательного построения линейной комбинации алгоритмов. Каждый следующий алгоритм старается уменьшить ошибку текущего ансамбля.\n",
    "\n",
    "Бустинг, использующий деревья решений в качестве базовых алгоритмов, называется градиентным бустингом над решающими деревьями, Gradient Boosting on Decision Trees, GBDT. Он отлично работает на выборках с «табличными», неоднородными данными. Примером таких данных может служить описание пользователя Яндекса через его возраст, пол, среднее число поисковых запросов в день, число заказов такси и так далее. Такой бустинг способен эффективно находить нелинейные зависимости в данных различной природы. Этим свойством обладают все алгоритмы, использующие деревья решений, однако именно GBDT обычно выигрывает в подавляющем большинстве задач. Благодаря этому он широко применяется во многих конкурсах по машинному обучению и задачах из индустрии (поисковом ранжировании, рекомендательных системах, таргетировании рекламы, предсказании погоды, пункта назначения такси и многих других).\n",
    "\n"
   ]
  },
  {
   "cell_type": "code",
   "execution_count": null,
   "metadata": {},
   "outputs": [],
   "source": [
    "#print(f'Метрика F1 лучшей модели на тестовой выборке: {round(smape(y_test, best_model.predict(X_test)),4)}')"
   ]
  },
  {
   "cell_type": "code",
   "execution_count": null,
   "metadata": {},
   "outputs": [],
   "source": [
    "#**Тестирование константной модели**\n",
    "# dummy_model = DummyRegressor(strategy='mean')\n",
    "# dummy_model.fit(X_train, y_train)\n",
    "# dummy_model_preds = dummy_model.predict(X_test)"
   ]
  },
  {
   "cell_type": "markdown",
   "metadata": {},
   "source": [
    "**Обучение второй модели**"
   ]
  },
  {
   "cell_type": "code",
   "execution_count": null,
   "metadata": {},
   "outputs": [],
   "source": [
    "parameters2 = {\n",
    "    'n_neighbors': distributions.IntDistribution(1, 10)\n",
    "} "
   ]
  },
  {
   "cell_type": "code",
   "execution_count": null,
   "metadata": {},
   "outputs": [],
   "source": [
    "\n",
    "# создаём списки с названиями признаков\n",
    "ohe_col = ['dept', 'last_year_promo', 'last_year_violations']\n",
    "ord_col = ['level', 'workload']\n",
    "num_col = ['employment_years', 'supervisor_evaluation', 'salary']\n",
    "\n",
    "num = Pipeline(steps=[\n",
    "    ('ss', StandardScaler())])\n",
    "\n",
    "# создаём пайплайн для подготовки признаков из списка ohe_columns: заполнение пропусков и OHE-кодирование\n",
    "# SimpleImputer + OHE\n",
    "ohe_pipe = Pipeline(\n",
    "    [\n",
    "        (\n",
    "            'simpleImputer_ohe', \n",
    "            SimpleImputer(missing_values=np.nan, strategy='most_frequent')\n",
    "        ),\n",
    "        (\n",
    "            'ohe', \n",
    "            OneHotEncoder(drop='first', handle_unknown='ignore', sparse=False)\n",
    "        )\n",
    "    ]\n",
    ") \n",
    "\n",
    "# cоздаём пайплайн для подготовки признаков из списка ord_columns: заполнение пропусков и Ordinal-кодирование\n",
    "# SimpleImputer + OE\n",
    "ord_pipe = Pipeline(\n",
    "    [\n",
    "        (\n",
    "            'simpleImputer_before_ord', \n",
    "            SimpleImputer(missing_values=np.nan, strategy='most_frequent')\n",
    "        ),\n",
    "        (\n",
    "            'ord',  \n",
    "            OrdinalEncoder(\n",
    "                categories=[\n",
    "                    ['junior', 'middle', 'senior'], \n",
    "                    ['low', 'medium', 'high'],\n",
    "                ], \n",
    "                handle_unknown='use_encoded_value', unknown_value=np.nan\n",
    "            )\n",
    "        ),\n",
    "        (\n",
    "            'simpleImputer_after_ord', \n",
    "            SimpleImputer(missing_values=np.nan, strategy='most_frequent')\n",
    "        )\n",
    "    ]\n",
    ") \n",
    "\n",
    "# создайте общий пайплайн для подготовки данных\n",
    "data_preprocessor = ColumnTransformer(\n",
    "    [\n",
    "        ('ohe', ohe_pipe, ohe_col),\n",
    "        ('ord', ord_pipe, ord_col),\n",
    "        ('num', MinMaxScaler(), num_col)\n",
    "    ], \n",
    "    remainder='passthrough'\n",
    ") \n",
    "\n",
    "X_train_p = pd.DataFrame(\n",
    "    data_preprocessor.fit_transform(X_train),\n",
    "    columns=data_preprocessor.get_feature_names_out())\n",
    "print(X_train_p)\n",
    "\n",
    "X_test_p = pd.DataFrame(\n",
    "    data_preprocessor.transform(X_test),\n",
    "    columns=data_preprocessor.get_feature_names_out()    \n",
    ") "
   ]
  },
  {
   "cell_type": "code",
   "execution_count": null,
   "metadata": {
    "scrolled": false
   },
   "outputs": [],
   "source": [
    "model2 = KNeighborsRegressor()\n",
    "\n",
    "oscv2 = OptunaSearchCV(\n",
    "    model2,\n",
    "    parameters2,\n",
    "    scoring=scorer,\n",
    "    cv=5,\n",
    "    random_state=RANDOM_STATE\n",
    ") \n",
    "# запускаем поиск гиперпараметров\n",
    "oscv2.fit(X_train_p, y_train)\n",
    "\n",
    "print(oscv2.best_params_)"
   ]
  },
  {
   "cell_type": "code",
   "execution_count": null,
   "metadata": {
    "scrolled": true
   },
   "outputs": [],
   "source": [
    "print('sMAPE', oscv2.best_score_*-1)"
   ]
  },
  {
   "cell_type": "code",
   "execution_count": null,
   "metadata": {},
   "outputs": [],
   "source": [
    "pred_train2 = oscv2.best_estimator_.predict(X_train_p)\n",
    "print('sMAPE', smape(y_train, pred_train2))"
   ]
  },
  {
   "cell_type": "markdown",
   "metadata": {},
   "source": [
    "**Вывод по обучению второймодели**\n",
    "- Обучили методом KNeighborsRegressor\n",
    "- параметры лучшей модели {'n_neighbors': 3}\n",
    "- метрика лучшей модели на кроссвалидационной выборке - Best score: 18.56. Цель была меньше 15\n",
    "- метрика sMAPE на тестовой выборке - Best score: 16.03"
   ]
  },
  {
   "cell_type": "markdown",
   "metadata": {},
   "source": [
    "<div class=\"alert alert-block alert-danger\">\n",
    "<h2> Комментарий ревьюера v.2 <a class=\"tocSkip\"></h2>\n",
    "\n",
    "    \n",
    "<b>На доработку❌:</b> `DummyClassifier` - модель классификации, а не регрессии."
   ]
  },
  {
   "cell_type": "markdown",
   "metadata": {},
   "source": [
    "<div class=\"alert alert-info\">\n",
    "<h2> Комментарий студента <a class=\"tocSkip\"> </h2>\n",
    "\n",
    "*Поправила. Спасибо!*\n",
    "</div>"
   ]
  },
  {
   "cell_type": "markdown",
   "metadata": {},
   "source": [
    "**Анализ важности признаков**\n",
    "\n",
    "устарело, не потребовалось"
   ]
  },
  {
   "cell_type": "code",
   "execution_count": null,
   "metadata": {},
   "outputs": [],
   "source": [
    "# # сформируйте таблицу важности признаков\n",
    "# feature_importances = pd.DataFrame(\n",
    "#     {\n",
    "#         'Feature': X_train_p.columns,\n",
    "#         'Importance': oscv.best_estimator_.feature_importances_\n",
    "#     })\n",
    "\n",
    "# # сортируем таблицу по важности — от большей к меньшей\n",
    "# print(feature_importances.sort_values('Importance', ascending=False))"
   ]
  },
  {
   "cell_type": "markdown",
   "metadata": {},
   "source": [
    "Следующими действиями попробовала убрать входные признаки со степенью важности меньше 0.02, но это только ухудшило показатели модели"
   ]
  },
  {
   "cell_type": "code",
   "execution_count": null,
   "metadata": {},
   "outputs": [],
   "source": [
    "# feature_importances[\n",
    "#     feature_importances['Importance'] < 0.02\n",
    "# ]['Feature'].to_list() "
   ]
  },
  {
   "cell_type": "code",
   "execution_count": null,
   "metadata": {},
   "outputs": [],
   "source": [
    "# features_to_drop = feature_importances[\n",
    "#     feature_importances['Importance'] < 0.02\n",
    "# ]['Feature'].to_list() "
   ]
  },
  {
   "cell_type": "code",
   "execution_count": null,
   "metadata": {},
   "outputs": [],
   "source": [
    "# X_train_less_features = X_train_p.drop(features_to_drop, axis=1)\n",
    "# X_test_less_features = X_test_p.drop(features_to_drop, axis=1)"
   ]
  },
  {
   "cell_type": "code",
   "execution_count": null,
   "metadata": {},
   "outputs": [],
   "source": [
    "# # инициализируйте модель дерева решений с лучшими гиперпараметрами\n",
    "# model_less_features = DecisionTreeRegressor(\n",
    "#     min_samples_split=8,\n",
    "#     min_samples_leaf=3,\n",
    "#     max_depth=11,\n",
    "#     random_state=RANDOM_STATE)\n",
    "\n",
    "# # обучаем модель\n",
    "# model_less_features.fit(X_train_less_features, y_train)"
   ]
  },
  {
   "cell_type": "code",
   "execution_count": null,
   "metadata": {},
   "outputs": [],
   "source": [
    "# #Метрика на первой модели\n",
    "# prediction = model_less_features.predict(X_test_less_features)\n",
    "# # вычисляем метрику\n",
    "# print(smape(y_test, prediction))"
   ]
  },
  {
   "cell_type": "markdown",
   "metadata": {},
   "source": [
    "Вывод: удаление мене важных признаков немного ухудшило предсказательную способность модели"
   ]
  },
  {
   "cell_type": "markdown",
   "metadata": {},
   "source": [
    "От лишних признаков попробуем избавиться с помощью SelectKBest c методом — mutual_info_classif:"
   ]
  },
  {
   "cell_type": "code",
   "execution_count": null,
   "metadata": {},
   "outputs": [],
   "source": [
    "\n",
    "# smape_list = []\n",
    "\n",
    "# for i in range(len(X_test_p.columns)):\n",
    "#     selector = SelectKBest(mutual_info_classif, k=i+1)\n",
    "#     selector.fit(X_train_p, y_train)\n",
    "    \n",
    "#     features_names = selector.get_feature_names_out()\n",
    "    \n",
    "#     X_train_new = X_train_p[list(features_names)]\n",
    "#     X_test_new = X_test_p[list(features_names)]\n",
    "\n",
    "#     model = DecisionTreeRegressor(\n",
    "#         min_samples_split=5,\n",
    "#         min_samples_leaf=5,\n",
    "#         max_depth=11,\n",
    "#         random_state=RANDOM_STATE)\n",
    "\n",
    "#     model.fit(X_train_new, y_train)\n",
    "\n",
    "#     #Метрика на первой модели\n",
    "#     prediction_kbest = model.predict(X_test_new)\n",
    "#     # вычисляем метрику\n",
    "#     smape_new = smape(y_test, prediction_kbest)\n",
    "\n",
    "#     # predicts = X_test_p[['x3']].copy()\n",
    "#     # predicts['tree'] = model.predict(X_test_new)\n",
    "#     # predicts['y_test'] = y_test.tolist()\n",
    "\n",
    "#     smape_list.append(smape_new)\n",
    "   \n",
    "#     print(i, smape_best_model, smape_new) "
   ]
  },
  {
   "cell_type": "markdown",
   "metadata": {},
   "source": [
    "Вывод: судя по результатам поиска, лучшие показатели модель выдаст на 60 признаках"
   ]
  },
  {
   "cell_type": "code",
   "execution_count": null,
   "metadata": {},
   "outputs": [],
   "source": [
    "# #Посмотрим какие признаки необходимо нам оставить:\n",
    "# selector = SelectKBest(mutual_info_classif, k=60)\n",
    "# selector.fit(X_train_p, y_train)\n",
    "# features_names = selector.get_feature_names_out()\n",
    "# print(features_names) "
   ]
  },
  {
   "cell_type": "code",
   "execution_count": null,
   "metadata": {},
   "outputs": [],
   "source": [
    "# # сформируем выборки с лучшими признаками\n",
    "# features_names = X_train_p.columns[selector.get_support(indices=True)]\n",
    "# X_train_new = X_train_p[list(features_names)]\n",
    "# X_test_new = X_test_p[list(features_names)]\n",
    "\n",
    "# # обучите модель на лучших признаках\n",
    "# best_model.fit(X_train_new, y_train)\n",
    "# print(list(features_names))"
   ]
  },
  {
   "cell_type": "code",
   "execution_count": null,
   "metadata": {},
   "outputs": [],
   "source": [
    "# #Тестирование лучшей модели\n",
    "# prediction = best_model.predict(X_test_p)\n",
    "\n",
    "# # вычисляем метрику\n",
    "# smape_best_model = smape(y_test, prediction)\n",
    "# print(smape_best_model)"
   ]
  },
  {
   "cell_type": "code",
   "execution_count": null,
   "metadata": {},
   "outputs": [],
   "source": [
    "# #Метрика на первой модели\n",
    "# prediction_final = best_model.predict(X_test_new)\n",
    "# # вычисляем метрику\n",
    "# smape_final = smape(y_test, prediction_final)\n",
    "# print(smape_final)"
   ]
  },
  {
   "cell_type": "markdown",
   "metadata": {},
   "source": [
    "<div class=\"alert alert-block alert-danger\">\n",
    "<h2> Комментарий ревьюера v.2 <a class=\"tocSkip\"></h2>\n",
    "\n",
    "    \n",
    "<b>На доработку❌:</b> Эксперименты с отбором признаков также стоит делать на кросс-валидации - на `test` оцениваем только один лучший эксперимент."
   ]
  },
  {
   "cell_type": "markdown",
   "metadata": {},
   "source": [
    "<div class=\"alert alert-info\">\n",
    "<h2> Комментарий студента <a class=\"tocSkip\"> </h2>\n",
    "\n",
    "*Поправила. Спасибо!*\n",
    "</div>"
   ]
  },
  {
   "cell_type": "markdown",
   "metadata": {},
   "source": [
    "<div class=\"alert alert-warning\">\n",
    "    <h2> Комментарий ревьюера v.2.<a class=\"tocSkip\"> </h2>\n",
    "    \n",
    "<b>Некоторые замечания и рекомендации⚠️:</b> См.замечание ранее по импортам."
   ]
  },
  {
   "cell_type": "markdown",
   "metadata": {},
   "source": [
    "<div class=\"alert alert-info\">\n",
    "<h2> Комментарий студента <a class=\"tocSkip\"> </h2>\n",
    "\n",
    "*Поправила. Спасибо!*\n",
    "</div>"
   ]
  },
  {
   "cell_type": "markdown",
   "metadata": {},
   "source": [
    "<div class=\"alert alert-warning\">\n",
    "    <h2> Комментарий ревьюера <a class=\"tocSkip\"> </h2>\n",
    "    \n",
    "<b>Некоторые замечания и рекомендации⚠️:</b>\n",
    "Очень важно также проверить лучшую модель на адекватность, сравнив качество её предсказаний с качеством модели, которая предсказывала бы константу - вдруг окажется, что не было бы большого смысла заниматься созданием новых признаков, тюнингом и кросс-валидацией моделей, если можно было бы просто предсказывать среднее значение тренировочной выборки? \n",
    "    \n",
    "В качестве константной модели можно использовать `DummyRegressor` (https://scikit-learn.org/stable/modules/generated/sklearn.dummy.DummyRegressor.html) -  эта модель как раз создана для генерирования константных предсказаний.\n",
    "    \n",
    "Важно, чтобы результат тестирования нашей модели на тествой выборке был лучше, чем результат константной модели - в противном случае наша модель является бесполезной, так как все наши усилия над проектом не принесли результата, а можель, просто предсказывющая среднее на `train`, делает нашу работу лучше."
   ]
  },
  {
   "cell_type": "markdown",
   "metadata": {},
   "source": [
    "<div class=\"alert alert-info\">\n",
    "<h2> Комментарий студента <a class=\"tocSkip\"> </h2>\n",
    "\n",
    "*Поправила. Спасибо!*\n",
    "</div>"
   ]
  },
  {
   "cell_type": "markdown",
   "metadata": {},
   "source": [
    "### Шаг 6. Оформление выводов <a id='#6_1-bullet'></a>"
   ]
  },
  {
   "cell_type": "markdown",
   "metadata": {},
   "source": [
    "**Вывод**\n",
    "Параметры лучшей модели:\n",
    "- DecisionTreeRegressor(max_depth=16, max_features=11, min_samples_leaf=5, min_samples_split=14, random_state=42) \n",
    "- Метрика лучшей модели на кроссвалидационной выборке: 15.3\n",
    "- Метрика лучшей модели на тестовой выборке 4,1"
   ]
  },
  {
   "cell_type": "markdown",
   "metadata": {},
   "source": [
    "## Составление портрета успешного стартапа"
   ]
  },
  {
   "cell_type": "markdown",
   "metadata": {},
   "source": [
    "Сформулируем гипотезу и проверим ее статистическим методом:\n",
    "\n",
    "Нулевая гипотеза: средние значения уровня удовлетворенности сотрудников из двух групп равны.\n",
    "Альтернативная гипотеза: среднее значение уровня удовлетворенности не ушедших больше, чем среднее значение уровня удовлетворенности ушедших"
   ]
  },
  {
   "cell_type": "code",
   "execution_count": null,
   "metadata": {},
   "outputs": [],
   "source": [
    "jsr_grouped = all_target_features.groupby('quit')['job_satisfaction_rate']\n",
    "\n",
    "jsr_quit = jsr_grouped.get_group('yes')\n",
    "jsr_nonquit = jsr_grouped.get_group('no')\n",
    "\n",
    "prev_screens_value = 0.5\n",
    "\n",
    "alpha = 0.05 # уровень статистической значимости\n",
    "\n",
    "results = st.ttest_ind(jsr_nonquit, jsr_quit, alternative='greater')\n",
    "\n",
    "print('p-значение:', results.pvalue)\n",
    "\n",
    "if (results.pvalue < alpha):\n",
    "    print('Отвергаем нулевую гипотезу')\n",
    "else:\n",
    "    print('Нет оснований отвергнуть нулевую гипотезу') "
   ]
  },
  {
   "cell_type": "markdown",
   "metadata": {},
   "source": [
    "**Вывод**\n",
    "есть основания предположить что уровень удовлетворенности не ушедших больше, чем среднее значение уровня удовлетворенности ушедших "
   ]
  },
  {
   "cell_type": "code",
   "execution_count": null,
   "metadata": {},
   "outputs": [],
   "source": [
    "# создаём список с наименованиями непрерывных признаков\n",
    "interval_cols = interval_cols\n",
    "\n",
    "# Вычисление матрицы корреляции Phi_K для данных без 'id'\n",
    "phik_matrix = all_target_features[all_target_features.columns[all_target_features.columns !='id']].phik_matrix(interval_cols=interval_cols)\n",
    "\n",
    "# Визуализация матрицы корреляции Phi_K\n",
    "plt.figure(figsize=(15, 10))\n",
    "sns.heatmap(phik_matrix, annot=True, fmt=\".2f\", cmap='coolwarm')\n",
    "plt.title(\"Матрица корреляции Phi_K\")\n",
    "plt.show()"
   ]
  },
  {
   "cell_type": "markdown",
   "metadata": {},
   "source": [
    "**Вывод по исследовательскому анализу**\n",
    "\n",
    "портрет \"уволившегося сотрудника\":\n",
    "- стаж работы 1-3 лет\n",
    "- оценка качества работы сотрудника, которую дал руководитель пик 3, и интересно что с 4 больше чем с 2, что может говорить о том, что сотрудник уходит не потому что он не компетентен, а возможно потому что его перекупают другие компании\n",
    "- зарплата до 40 тыс с пиком в 15 тыс и в 20 тыс, что говорит об утечке джунов, возможно, которых не повысили до мидлов\n",
    "- больше всего уволившихся в департаменте продаж, судя по пред исследовательскому анализу данных, у них же медиана зп ниже, на втором мисте идет ИТ-департамент\n",
    "- по должности это уровень джун, на втором месте миддл\n",
    "- больше всего с загрузкой низвкой и средней, говорит о том что чаще всего кандидаты уходят из-за невозможности вырасти по hard-skills и как следствие не вырасти по деньгам\n",
    "- специалиста за последний год не повышали\n",
    "- специалист чаще всего не нарушал внутренние распорядки, есть доля в ушедших кто нарушал, но это и закономерно, я бы исключила данный факт из гипотез\n",
    "\n",
    "Проверили гипротезу о взаимосвязи уровня удовлетворенности сотрудника и его уходом, наблюдается корреляция по границе 0,5 уровня удовлетворенности сотрудников, все что выше - остаются, ниже - уходят\n"
   ]
  },
  {
   "cell_type": "markdown",
   "metadata": {},
   "source": [
    "job_satisfaction_rate и quit действительно связаны и мы получили необходимое значение метрики в первой задаче.\n",
    "\n",
    "Добавили job_satisfaction_rate, предсказанный лучшей моделью первой задачи, к входным признакам второй задачи, проверили гипротезу о взаимосвязи уровня удовлетворенности сотрудника и его уходом, наблюдается корреляция по границе 0,5 уровня удовлетворенности сотрудников, все что выше - остаются, ниже - уходят. Добавили job_satisfaction_rate к тестовым данным  "
   ]
  },
  {
   "cell_type": "markdown",
   "metadata": {},
   "source": [
    "### Шаг 7. Выводы"
   ]
  },
  {
   "cell_type": "markdown",
   "metadata": {},
   "source": [
    "**Вывод**\n",
    "Параметры лучшей модели:\n",
    "- DecisionTreeClassifier(max_depth=5, max_features=6, min_samples_leaf=14, min_samples_split=10, random_state=42).\n",
    "- Метрика лучшей модели на кроссвалидационной выборке: 0.93099815091334\n",
    "- Метрика ROC-AUC на тестовой выборке: 0.998, что очень высокая"
   ]
  },
  {
   "cell_type": "markdown",
   "metadata": {},
   "source": [
    "# Общий вывод"
   ]
  },
  {
   "cell_type": "markdown",
   "metadata": {},
   "source": [
    "**Цель исследования:**\n",
    "HR-аналитики компании «Работа с заботой» помогают бизнесу оптимизировать управление персоналом: бизнес предоставляет данные, а аналитики предлагают, как избежать финансовых потерь и оттока сотрудников.\n",
    "\n",
    "Необходимо разработать решение, которое позволит проанализировать данные по сотрудникам, спрогнозировать возможный отток и причины, для разработки рекомендаций по удержанию сотрудников и уменьшению финансового влияния оффбординга и онбординга. Почему бизнесу это важно: удовлетворённость работой напрямую влияет на отток сотрудников. А предсказание оттока — одна из важнейших задач HR-аналитиков. Внезапные увольнения несут в себе риски для компании, особенно если уходит важный сотрудник.\n",
    "\n",
    "**Задачи**\n",
    "1. Построить модель, которая сможет предсказать уровень удовлетворённости сотрудника на основе данных заказчика..\n",
    "2. Построить модель, которая сможет на основе данных заказчика предсказать то, что сотрудник уволится из компании\n",
    "\n",
    "**Ход работы:**\n",
    "\n",
    "**Задача 1**\n",
    "1. загрузили и проверили 3 датафрейма: Данные состоят из одного набора данных, разделенных на тренировочну и тестовую, тестовая разделена на таблицу со входными признаки и целевым признаком: train_job_satisfaction_rate, test_features, test_target_job_satisfaction_rate. все данные в таблицах соответствовали описанию  \n",
    "2. Предобработка данных: Пропущенные значения имеются, в ходе обработки будут заменены на медианные значения  в пайплайне. Замена опечатки в столбце \"level\" - 'sinor' -> 'senior'\n",
    "3. Исследовательский анализ данных: аномалии в данных отсутствовали. Построили графики зависимостей по критериям от целевого. Сделали вывод по распределению категорий по двум уровням лояльности. \n",
    "4. Подготовили данные для модели: загрузили данные, написали функцию проверки качества модели sMAPE, создали пайплайн для обработки данных.\n",
    "5. используя пайплайн для обработки данных, и метод OptunaSearchCV, подобрали параметры для методов: DecisionTreeRegressor и KNeighborsRegressor:\n",
    "   1. Обучили методом DecisionTreeRegressor\n",
    "    - параметры лучшей модели 'max_depth': 11, 'min_samples_leaf': 3, 'min_samples_split': 8\n",
    "    - метрика лучшей модели на кроссвалидационной выборке - Best score: 15.25. Цель меньше 15\n",
    "    - метрика sMAPE на тестовой выборке - Best score: 3.66\n",
    "   2. Обучили методом KNeighborsRegressor\n",
    "    - параметры лучшей модели {'n_neighbors': 3}\n",
    "    - метрика лучшей модели на кроссвалидационной выборке - Best score: 18.56. Цель была меньше 15\n",
    "    - метрика sMAPE на тестовой выборке - Best score: 14.42\n",
    "6. Параметры лучшей модели:\n",
    "    - DecisionTreeRegressor(max_depth=16, max_features=11, min_samples_leaf=5, min_samples_split=14, random_state=42)\n",
    "    - OneHotEncoder для категориальных признаков\n",
    "    - MinMaxScaler для числовых признаков.\n",
    "    - Метрика лучшей модели на кроссвалидационной выборке: 15.3\n",
    "    - Метрика лучшей модели на тестовой выборке 4,1\n",
    "\n",
    "**Задача 2**\n",
    "\n",
    "1. загрузили и проверили 3 датафрейма: Данные состоят из одного набора данных, разделенных на тренировочну и тестовую, тестовая разделена на таблицу со входными признаки и целевым признаком: train_quit, test_features, test_target_quit. все данные в таблицах соответствовали описанию  \n",
    "2. Предобработка данных: Пропущенные значения имеются, в ходе обработки будут заменены на медианные значения  в пайплайне. Замена опечатки в столбце \"level\" - 'sinor' -> 'senior'\n",
    "3. Исследовательский анализ данных: в ходе этапа был сформирован портрет уволившегося сотрудника:\n",
    "   - стаж работы 1-3 лет\n",
    "    - ценка качества работы сотрудника, которую дал руководитель пик 3, и интересно что с 4 больше чем с 2, что может говорить о том, что сотрудник уходит не потому что он не компетентен, а возможно потому что его перекупают другие компании\n",
    "    - зарплата до 40 тыс с пиком в 15 тыс и в 20 тыс, что говорит об утечке джунов, возможно, которых не повысили до мидлов\n",
    "    - больше всего уволившихся в департаменте продаж, судя по пред исследовательскому анализу данных, у них же медиана зп ниже, на втором мисте идет ИТ-департамент\n",
    "    - по должности это уровень джун, на втором месте миддл\n",
    "    - больше всего с загрузкой низвкой и средней, говорит о том что чаще всего кандидаты уходят из-за невозможности вырасти по hard-skills и как следствие не вырасти по деньгам\n",
    "    - специалиста за последний год не повышали\n",
    "    - специалист чаще всего не нарушал внутренние распорядки, есть доля в ушедших кто нарушал, но это и закономерно, я бы исключила данный факт из гипотез\n",
    "  Визуализировали и сравнили распределения признака job_satisfaction_rate для ушедших и оставшихся сотрудников. Использовали данные с обоими целевыми признаками тестовой выборки. Проверили гипротезу о взаимосвязи уровня удовлетворенности сотрудника и его уходом, наблюдается корреляция по границе 0,5 уровня удовлетворенности сотрудников, все что выше - остаются, ниже - уходят\n",
    "4. Добавили новый входной признак job_satisfaction_rate к тренировочной и тестовой выборкам\n",
    "5. Подготовили данные для модели через пайплайн\n",
    "6. Используя метод поиска гиперпараметров GridSearchCV, подобрали параметры и выбрали лучшую модель для предсказания увольняющихся сотрудников, для оценки качества моделей использовали метрику ROC-AUC, так как она лучше подходит для бинарной классификации в небольшим дисбалансом:\n",
    "    - DecisionTreeClassifier(max_depth=5, max_features=6, min_samples_leaf=14, min_samples_split=10, random_state=42).\n",
    "    - Метрика лучшей модели на кроссвалидационной выборке: 0.93\n",
    "\n",
    "**\"Портрет уволившегося сотрудника\"**\n",
    "\n",
    "    - стаж работы 1-3 лет\n",
    "    - ценка качества работы сотрудника, которую дал руководитель пик 3, и интересно что с 4 больше чем с 2, что может говорить о том, что сотрудник уходит не потому что он не компетентен, а возможно потому что его перекупают другие компании\n",
    "    - зарплата до 40 тыс с пиком в 15 тыс и в 20 тыс, что говорит об утечке джунов, возможно, которых не повысили до мидлов\n",
    "    - больше всего уволившихся в департаменте продаж, судя по пред исследовательскому анализу данных, у них же медиана зп ниже, на втором мисте идет ИТ-департамент\n",
    "    - по должности это уровень джун, на втором месте миддл\n",
    "    - больше всего с загрузкой низвкой и средней, говорит о том что чаще всего кандидаты уходят из-за невозможности вырасти по hard-skills и как следствие не вырасти по деньгам\n",
    "    - специалиста за последний год не повышали\n",
    "    - специалист чаще всего не нарушал внутренние распорядки, есть доля в ушедших кто нарушал, но это и закономерно, я бы исключила данный факт из гипотез\n",
    "    \n",
    " **Рекомендации бизнесу:**\n",
    " \n",
    " - Обратить внимание на молодых специалистов и проработать с ними индивидуальные планы развития, для синхронизации ожиданий бизнеса и готовности кадров, составить бизнес-план роста сотрудников, сопоставить с целями компании (заложить бюджет на повышения) и diamond-shapes\n",
    " - регулярные performance-review\n",
    " - проработать командообразующие мероприятия в департаментах продаж и ИТ. на ИТ-департамент посомтреть с точки зрения ухода сотрудников к конкурентам, оценить затраты на онбординг и офбординг и сформулировать стратегические цели по удержанию сотрудников\n",
    " - проработать регламенты повышения сотрудников\n",
    "\n",
    "**C точки зрения модели наиболее важные признаки для прогноза ухода**\n",
    "\n",
    "1. job_satisfaction_rate — уровень удовлетворённости сотрудника работой в компании, целевой признак.\n",
    "2. employment_years — длительность работы в компании (в годах);\n",
    "3. salary — ежемесячная зарплата сотрудника;\n",
    "4. level — уровень занимаемой должности;\n",
    "5. supervisor_evaluation - оценка качества работы сотрудника, которую дал руководитель;\n",
    "\n",
    "\n"
   ]
  },
  {
   "cell_type": "markdown",
   "metadata": {},
   "source": [
    "<div style=\"border:solid Chocolate 2px; padding: 40px\">\n",
    "\n",
    "# Комментарий ревьюера: общий вывод по проекту.\n",
    "\n",
    "Лариса, проект получился на довольно хорошем уровне - отличная работа над проектом, молодец!\n",
    "\n",
    "Мне нравится твой аналитический подход к выполнению проекта, ты соблюдаешь структуру работы, выполняешь её последовательно - это очень хорошо! Шаги проекта выполнены по порядку согласно плану проекта, нет смысловых и структурных ям. Важно, что не забываешь про выводы.\n",
    "\n",
    "Работа с моделями также выполнена отлично: исследовано несколько алгоритмов, проведён подбор гиперпараметров с помощью `GridSearchCV` и `OptunaSearchCV, выполнена промежуточная оценка моделей на кросс-валидации - молодец! Здорово, что используешь сочетание `ColumnTransformer` и `Pipeline` для соединения разных инструментов в единый модельный объект и настраиваешь бесперебойную работу энкодера в случае появления в данных новых, неизвестных на момент обучения значений признаков - так твоё решение будет более гибким и масштабируемым. \n",
    "    \n",
    "Над проектом ещё стоит поработать - есть рекомендации по дополнению некоторых твоих шагов проекта. Такие рекомендации я отметил жёлтыми комментариями. Будет здорово, если ты учтёшь их - так проект станет структурно и содержательно более совершенным.\n",
    "    \n",
    "Также в работе есть критические замечания. К этим замечаниям я оставил пояснительные комментарии красного цвета, в которых перечислил возможные варианты дальнейших действий. Уверен, ты быстро с этим управишься:)\n",
    "    \n",
    "Если о том, что нужно сделать в рамках комментариев, будут возникать вопросы - оставь их, пожалуйста, в комментариях, и я отвечу на них во время следующего ревью.\n",
    "    \n",
    "Также буду рад ответить на любые твои вопросы по проекту или на какие-либо другие, если они у тебя имеются - оставь их в комментариях, и я постараюсь ответить:)\n",
    "    \n",
    "Жду твой проект на повторном ревью. До встречи:)"
   ]
  }
 ],
 "metadata": {
  "ExecuteTimeLog": [
   {
    "duration": 1591,
    "start_time": "2024-03-26T08:53:12.151Z"
   },
   {
    "duration": 115,
    "start_time": "2024-03-26T09:08:50.257Z"
   },
   {
    "duration": 100,
    "start_time": "2024-03-26T09:09:46.943Z"
   },
   {
    "duration": 130,
    "start_time": "2024-03-26T09:12:01.448Z"
   },
   {
    "duration": 33,
    "start_time": "2024-03-26T09:20:50.743Z"
   },
   {
    "duration": 104,
    "start_time": "2024-03-26T09:21:09.202Z"
   },
   {
    "duration": 32,
    "start_time": "2024-03-26T09:23:51.052Z"
   },
   {
    "duration": 13,
    "start_time": "2024-03-26T09:23:54.590Z"
   },
   {
    "duration": 31,
    "start_time": "2024-03-26T09:26:03.666Z"
   },
   {
    "duration": 11,
    "start_time": "2024-03-26T09:27:11.934Z"
   },
   {
    "duration": 11,
    "start_time": "2024-03-26T09:27:41.427Z"
   },
   {
    "duration": 32,
    "start_time": "2024-03-26T09:28:09.554Z"
   },
   {
    "duration": 10,
    "start_time": "2024-03-26T09:28:14.225Z"
   },
   {
    "duration": 32,
    "start_time": "2024-03-26T09:30:50.511Z"
   },
   {
    "duration": 11,
    "start_time": "2024-03-26T09:30:54.643Z"
   },
   {
    "duration": 10,
    "start_time": "2024-03-26T09:30:58.830Z"
   },
   {
    "duration": 52,
    "start_time": "2024-03-26T12:42:25.104Z"
   },
   {
    "duration": 42,
    "start_time": "2024-03-26T12:42:28.345Z"
   },
   {
    "duration": 1766,
    "start_time": "2024-03-26T12:42:34.921Z"
   },
   {
    "duration": 123,
    "start_time": "2024-03-26T12:42:39.011Z"
   },
   {
    "duration": 11,
    "start_time": "2024-03-26T12:42:42.376Z"
   },
   {
    "duration": 82,
    "start_time": "2024-03-26T12:42:54.832Z"
   },
   {
    "duration": 301,
    "start_time": "2024-03-26T12:46:04.461Z"
   },
   {
    "duration": 107,
    "start_time": "2024-03-26T12:46:17.599Z"
   },
   {
    "duration": 6,
    "start_time": "2024-03-26T12:46:19.665Z"
   },
   {
    "duration": 9,
    "start_time": "2024-03-26T12:46:36.048Z"
   },
   {
    "duration": 94,
    "start_time": "2024-03-26T12:50:26.863Z"
   },
   {
    "duration": 96,
    "start_time": "2024-03-26T12:50:31.326Z"
   },
   {
    "duration": 10,
    "start_time": "2024-03-26T12:50:33.108Z"
   },
   {
    "duration": 9,
    "start_time": "2024-03-26T12:50:40.573Z"
   },
   {
    "duration": 91,
    "start_time": "2024-03-26T12:51:46.177Z"
   },
   {
    "duration": 89,
    "start_time": "2024-03-26T12:51:52.068Z"
   },
   {
    "duration": 13,
    "start_time": "2024-03-26T12:51:52.795Z"
   },
   {
    "duration": 91,
    "start_time": "2024-03-26T12:52:26.945Z"
   },
   {
    "duration": 9,
    "start_time": "2024-03-26T12:52:33.275Z"
   },
   {
    "duration": 93,
    "start_time": "2024-03-26T12:53:47.632Z"
   },
   {
    "duration": 9,
    "start_time": "2024-03-26T12:53:49.433Z"
   },
   {
    "duration": 91,
    "start_time": "2024-03-26T12:54:46.808Z"
   },
   {
    "duration": 100,
    "start_time": "2024-03-26T12:54:59.911Z"
   },
   {
    "duration": 9,
    "start_time": "2024-03-26T12:55:02.648Z"
   },
   {
    "duration": 9,
    "start_time": "2024-03-26T12:55:42.314Z"
   },
   {
    "duration": 96,
    "start_time": "2024-03-26T12:56:01.523Z"
   },
   {
    "duration": 10,
    "start_time": "2024-03-26T12:56:04.700Z"
   },
   {
    "duration": 10,
    "start_time": "2024-03-26T12:56:17.560Z"
   },
   {
    "duration": 92,
    "start_time": "2024-03-26T12:56:40.076Z"
   },
   {
    "duration": 10,
    "start_time": "2024-03-26T12:56:42.262Z"
   },
   {
    "duration": 8,
    "start_time": "2024-03-26T12:56:54.981Z"
   },
   {
    "duration": 94,
    "start_time": "2024-03-26T12:57:05.582Z"
   },
   {
    "duration": 15,
    "start_time": "2024-03-26T12:57:07.401Z"
   },
   {
    "duration": 7,
    "start_time": "2024-03-26T12:57:25.681Z"
   },
   {
    "duration": 21,
    "start_time": "2024-03-26T12:57:49.437Z"
   },
   {
    "duration": 13,
    "start_time": "2024-03-26T12:59:10.660Z"
   },
   {
    "duration": 11,
    "start_time": "2024-03-26T13:00:02.718Z"
   },
   {
    "duration": 11,
    "start_time": "2024-03-26T13:00:08.716Z"
   },
   {
    "duration": 99,
    "start_time": "2024-03-26T13:00:38.460Z"
   },
   {
    "duration": 12,
    "start_time": "2024-03-26T13:00:45.692Z"
   },
   {
    "duration": 90,
    "start_time": "2024-03-26T13:04:06.767Z"
   },
   {
    "duration": 20,
    "start_time": "2024-03-26T13:04:09.247Z"
   },
   {
    "duration": 16,
    "start_time": "2024-03-26T13:04:16.567Z"
   },
   {
    "duration": 10,
    "start_time": "2024-03-26T13:04:19.278Z"
   },
   {
    "duration": 17,
    "start_time": "2024-03-26T13:36:47.499Z"
   },
   {
    "duration": 7,
    "start_time": "2024-03-26T13:37:29.826Z"
   },
   {
    "duration": 16,
    "start_time": "2024-03-26T13:37:53.793Z"
   },
   {
    "duration": 18,
    "start_time": "2024-03-26T13:38:26.583Z"
   },
   {
    "duration": 15,
    "start_time": "2024-03-26T13:38:38.783Z"
   },
   {
    "duration": 8,
    "start_time": "2024-03-26T13:39:24.434Z"
   },
   {
    "duration": 19,
    "start_time": "2024-03-26T13:39:43.489Z"
   },
   {
    "duration": 12,
    "start_time": "2024-03-26T13:39:54.234Z"
   },
   {
    "duration": 10,
    "start_time": "2024-03-26T13:39:56.717Z"
   },
   {
    "duration": 9,
    "start_time": "2024-03-26T13:40:00.237Z"
   },
   {
    "duration": 23,
    "start_time": "2024-03-26T13:40:13.437Z"
   },
   {
    "duration": 9,
    "start_time": "2024-03-26T13:40:17.868Z"
   },
   {
    "duration": 8,
    "start_time": "2024-03-26T13:40:21.815Z"
   },
   {
    "duration": 22,
    "start_time": "2024-03-26T13:41:12.728Z"
   },
   {
    "duration": 19,
    "start_time": "2024-03-26T13:41:15.739Z"
   },
   {
    "duration": 8,
    "start_time": "2024-03-26T13:41:22.224Z"
   },
   {
    "duration": 12,
    "start_time": "2024-03-26T13:41:56.474Z"
   },
   {
    "duration": 20,
    "start_time": "2024-03-26T13:42:20.420Z"
   },
   {
    "duration": 14,
    "start_time": "2024-03-26T13:42:44.273Z"
   },
   {
    "duration": 21,
    "start_time": "2024-03-26T13:42:58.216Z"
   },
   {
    "duration": 19,
    "start_time": "2024-03-26T13:44:32.634Z"
   },
   {
    "duration": 12,
    "start_time": "2024-03-26T13:48:27.287Z"
   },
   {
    "duration": 7,
    "start_time": "2024-03-26T13:48:31.443Z"
   },
   {
    "duration": 91,
    "start_time": "2024-03-26T13:48:46.011Z"
   },
   {
    "duration": 17,
    "start_time": "2024-03-26T13:48:48.185Z"
   },
   {
    "duration": 11,
    "start_time": "2024-03-26T13:48:50.884Z"
   },
   {
    "duration": 11,
    "start_time": "2024-03-26T13:48:54.845Z"
   },
   {
    "duration": 7,
    "start_time": "2024-03-26T13:49:00.001Z"
   },
   {
    "duration": 10,
    "start_time": "2024-03-26T13:50:11.308Z"
   },
   {
    "duration": 5,
    "start_time": "2024-03-26T13:50:16.171Z"
   },
   {
    "duration": 48,
    "start_time": "2024-03-26T13:50:17.938Z"
   },
   {
    "duration": 7,
    "start_time": "2024-03-26T13:52:59.815Z"
   },
   {
    "duration": 47,
    "start_time": "2024-03-26T13:53:06.966Z"
   },
   {
    "duration": 14,
    "start_time": "2024-03-26T13:54:14.698Z"
   },
   {
    "duration": 93,
    "start_time": "2024-03-26T13:54:17.177Z"
   },
   {
    "duration": 6,
    "start_time": "2024-03-26T13:54:21.032Z"
   },
   {
    "duration": 13,
    "start_time": "2024-03-26T13:55:04.921Z"
   },
   {
    "duration": 4,
    "start_time": "2024-03-26T13:55:10.240Z"
   },
   {
    "duration": 65,
    "start_time": "2024-03-26T13:55:12.471Z"
   },
   {
    "duration": 1617,
    "start_time": "2024-03-26T13:56:03.401Z"
   },
   {
    "duration": 94,
    "start_time": "2024-03-26T13:56:05.020Z"
   },
   {
    "duration": 32,
    "start_time": "2024-03-26T13:56:05.116Z"
   },
   {
    "duration": 21,
    "start_time": "2024-03-26T13:56:05.149Z"
   },
   {
    "duration": 11,
    "start_time": "2024-03-26T13:56:05.173Z"
   },
   {
    "duration": 23,
    "start_time": "2024-03-26T13:56:05.185Z"
   },
   {
    "duration": 10,
    "start_time": "2024-03-26T13:56:05.210Z"
   },
   {
    "duration": 77,
    "start_time": "2024-03-26T13:56:05.222Z"
   },
   {
    "duration": 14,
    "start_time": "2024-03-26T13:56:10.267Z"
   },
   {
    "duration": 90,
    "start_time": "2024-03-26T13:56:12.061Z"
   },
   {
    "duration": 25,
    "start_time": "2024-03-26T13:56:15.401Z"
   },
   {
    "duration": 11,
    "start_time": "2024-03-26T13:56:19.564Z"
   },
   {
    "duration": 13,
    "start_time": "2024-03-26T13:56:20.122Z"
   },
   {
    "duration": 10,
    "start_time": "2024-03-26T13:56:20.672Z"
   },
   {
    "duration": 5,
    "start_time": "2024-03-26T13:56:22.779Z"
   },
   {
    "duration": 14,
    "start_time": "2024-03-26T13:57:50.715Z"
   },
   {
    "duration": 6,
    "start_time": "2024-03-26T13:57:55.256Z"
   },
   {
    "duration": 76,
    "start_time": "2024-03-26T13:58:01.159Z"
   },
   {
    "duration": 45,
    "start_time": "2024-03-26T13:58:22.563Z"
   },
   {
    "duration": 1582,
    "start_time": "2024-03-26T14:00:16.684Z"
   },
   {
    "duration": 92,
    "start_time": "2024-03-26T14:00:18.268Z"
   },
   {
    "duration": 49,
    "start_time": "2024-03-26T14:00:18.362Z"
   },
   {
    "duration": 20,
    "start_time": "2024-03-26T14:00:18.413Z"
   },
   {
    "duration": 37,
    "start_time": "2024-03-26T14:00:18.435Z"
   },
   {
    "duration": 24,
    "start_time": "2024-03-26T14:00:18.474Z"
   },
   {
    "duration": 15,
    "start_time": "2024-03-26T14:00:18.499Z"
   },
   {
    "duration": 79,
    "start_time": "2024-03-26T14:00:18.516Z"
   },
   {
    "duration": 20,
    "start_time": "2024-03-26T14:00:21.396Z"
   },
   {
    "duration": 92,
    "start_time": "2024-03-26T14:00:22.101Z"
   },
   {
    "duration": 47,
    "start_time": "2024-03-26T14:00:24.501Z"
   },
   {
    "duration": 21,
    "start_time": "2024-03-26T14:00:31.897Z"
   },
   {
    "duration": 21,
    "start_time": "2024-03-26T14:00:45.544Z"
   },
   {
    "duration": 19,
    "start_time": "2024-03-26T14:00:52.819Z"
   },
   {
    "duration": 5,
    "start_time": "2024-03-26T14:00:58.323Z"
   },
   {
    "duration": 66,
    "start_time": "2024-03-26T14:01:00.922Z"
   },
   {
    "duration": 73,
    "start_time": "2024-03-26T14:02:06.039Z"
   },
   {
    "duration": 32,
    "start_time": "2024-03-26T14:02:28.357Z"
   },
   {
    "duration": 34,
    "start_time": "2024-03-26T14:02:52.563Z"
   },
   {
    "duration": 37,
    "start_time": "2024-03-26T14:03:19.155Z"
   },
   {
    "duration": 3,
    "start_time": "2024-03-26T14:07:10.221Z"
   },
   {
    "duration": 17,
    "start_time": "2024-03-26T14:07:33.084Z"
   },
   {
    "duration": 6,
    "start_time": "2024-03-26T14:16:57.331Z"
   },
   {
    "duration": 4,
    "start_time": "2024-03-26T14:17:42.503Z"
   },
   {
    "duration": 14,
    "start_time": "2024-03-26T14:17:56.919Z"
   },
   {
    "duration": 7,
    "start_time": "2024-03-26T14:18:34.496Z"
   },
   {
    "duration": 52,
    "start_time": "2024-03-26T14:22:03.899Z"
   },
   {
    "duration": 22,
    "start_time": "2024-03-26T14:22:23.713Z"
   },
   {
    "duration": 38,
    "start_time": "2024-03-26T14:22:38.689Z"
   },
   {
    "duration": 42,
    "start_time": "2024-03-26T14:22:58.155Z"
   },
   {
    "duration": 1488,
    "start_time": "2024-03-26T14:55:17.103Z"
   },
   {
    "duration": 11,
    "start_time": "2024-03-26T15:04:37.212Z"
   },
   {
    "duration": 50,
    "start_time": "2024-03-26T15:05:08.918Z"
   },
   {
    "duration": 8,
    "start_time": "2024-03-26T15:17:45.634Z"
   },
   {
    "duration": 28,
    "start_time": "2024-03-26T15:18:18.385Z"
   },
   {
    "duration": 8,
    "start_time": "2024-03-26T15:19:04.447Z"
   },
   {
    "duration": 23,
    "start_time": "2024-03-26T15:19:06.629Z"
   },
   {
    "duration": 7,
    "start_time": "2024-03-26T15:21:17.479Z"
   },
   {
    "duration": 8,
    "start_time": "2024-03-26T15:37:32.800Z"
   },
   {
    "duration": 1649,
    "start_time": "2024-03-26T15:38:29.460Z"
   },
   {
    "duration": 97,
    "start_time": "2024-03-26T15:38:31.111Z"
   },
   {
    "duration": 199,
    "start_time": "2024-03-26T15:38:31.210Z"
   },
   {
    "duration": 68,
    "start_time": "2024-03-26T15:38:31.411Z"
   },
   {
    "duration": 105,
    "start_time": "2024-03-26T15:38:31.481Z"
   },
   {
    "duration": 42,
    "start_time": "2024-03-26T15:38:31.588Z"
   },
   {
    "duration": 20,
    "start_time": "2024-03-26T15:38:31.631Z"
   },
   {
    "duration": 98,
    "start_time": "2024-03-26T15:38:31.652Z"
   },
   {
    "duration": 5,
    "start_time": "2024-03-26T15:38:31.752Z"
   },
   {
    "duration": 63,
    "start_time": "2024-03-26T15:38:31.759Z"
   },
   {
    "duration": 8,
    "start_time": "2024-03-26T15:38:31.824Z"
   },
   {
    "duration": 61,
    "start_time": "2024-03-26T15:38:31.834Z"
   },
   {
    "duration": 36,
    "start_time": "2024-03-26T15:38:31.897Z"
   },
   {
    "duration": 3,
    "start_time": "2024-03-26T15:38:31.936Z"
   },
   {
    "duration": 31,
    "start_time": "2024-03-26T15:38:31.940Z"
   },
   {
    "duration": 17,
    "start_time": "2024-03-26T15:38:31.973Z"
   },
   {
    "duration": 1531,
    "start_time": "2024-03-26T15:38:31.992Z"
   },
   {
    "duration": 11,
    "start_time": "2024-03-26T15:38:33.524Z"
   },
   {
    "duration": 69,
    "start_time": "2024-03-26T15:38:33.537Z"
   },
   {
    "duration": 7,
    "start_time": "2024-03-26T15:38:33.608Z"
   },
   {
    "duration": 25,
    "start_time": "2024-03-26T15:38:33.617Z"
   },
   {
    "duration": 48,
    "start_time": "2024-03-26T15:38:33.644Z"
   },
   {
    "duration": 8,
    "start_time": "2024-03-26T15:38:33.694Z"
   },
   {
    "duration": 14,
    "start_time": "2024-03-26T15:38:36.016Z"
   },
   {
    "duration": 86,
    "start_time": "2024-03-26T15:38:36.912Z"
   },
   {
    "duration": 45,
    "start_time": "2024-03-26T15:38:39.624Z"
   },
   {
    "duration": 20,
    "start_time": "2024-03-26T15:38:40.573Z"
   },
   {
    "duration": 20,
    "start_time": "2024-03-26T15:38:41.489Z"
   },
   {
    "duration": 17,
    "start_time": "2024-03-26T15:38:42.430Z"
   },
   {
    "duration": 6,
    "start_time": "2024-03-26T15:38:45.122Z"
   },
   {
    "duration": 68,
    "start_time": "2024-03-26T15:38:46.436Z"
   },
   {
    "duration": 4,
    "start_time": "2024-03-26T15:38:47.701Z"
   },
   {
    "duration": 30,
    "start_time": "2024-03-26T15:38:48.563Z"
   },
   {
    "duration": 4,
    "start_time": "2024-03-26T15:38:50.395Z"
   },
   {
    "duration": 34,
    "start_time": "2024-03-26T15:38:51.870Z"
   },
   {
    "duration": 31,
    "start_time": "2024-03-26T15:38:52.938Z"
   },
   {
    "duration": 3,
    "start_time": "2024-03-26T15:38:54.049Z"
   },
   {
    "duration": 14,
    "start_time": "2024-03-26T15:38:55.251Z"
   },
   {
    "duration": 6,
    "start_time": "2024-03-26T15:38:56.963Z"
   },
   {
    "duration": 1546,
    "start_time": "2024-03-26T15:38:58.875Z"
   },
   {
    "duration": 10,
    "start_time": "2024-03-26T15:39:04.097Z"
   },
   {
    "duration": 50,
    "start_time": "2024-03-26T15:39:05.068Z"
   },
   {
    "duration": 7,
    "start_time": "2024-03-26T15:39:14.980Z"
   },
   {
    "duration": 7,
    "start_time": "2024-03-26T15:39:20.966Z"
   },
   {
    "duration": 7,
    "start_time": "2024-03-26T15:40:18.341Z"
   },
   {
    "duration": 7,
    "start_time": "2024-03-26T15:40:44.200Z"
   },
   {
    "duration": 7,
    "start_time": "2024-03-26T15:40:46.267Z"
   },
   {
    "duration": 88,
    "start_time": "2024-03-26T15:47:19.111Z"
   },
   {
    "duration": 82,
    "start_time": "2024-03-26T15:48:08.813Z"
   },
   {
    "duration": 88,
    "start_time": "2024-03-26T15:48:41.704Z"
   },
   {
    "duration": 3829,
    "start_time": "2024-03-26T16:02:58.904Z"
   },
   {
    "duration": 310,
    "start_time": "2024-03-26T16:17:17.384Z"
   },
   {
    "duration": 1037,
    "start_time": "2024-03-26T16:50:48.901Z"
   },
   {
    "duration": 854,
    "start_time": "2024-03-26T16:52:13.118Z"
   },
   {
    "duration": 762,
    "start_time": "2024-03-26T16:52:27.836Z"
   },
   {
    "duration": 415,
    "start_time": "2024-03-26T16:53:36.524Z"
   },
   {
    "duration": 1004,
    "start_time": "2024-03-26T16:55:00.798Z"
   },
   {
    "duration": 23,
    "start_time": "2024-03-26T16:59:40.945Z"
   },
   {
    "duration": 15,
    "start_time": "2024-03-26T17:02:24.612Z"
   },
   {
    "duration": 10,
    "start_time": "2024-03-26T17:02:43.794Z"
   },
   {
    "duration": 38,
    "start_time": "2024-03-26T17:02:50.961Z"
   },
   {
    "duration": 25,
    "start_time": "2024-03-26T17:03:09.180Z"
   },
   {
    "duration": 40,
    "start_time": "2024-03-26T17:41:13.817Z"
   },
   {
    "duration": 22,
    "start_time": "2024-03-26T17:41:57.120Z"
   },
   {
    "duration": 6855,
    "start_time": "2024-03-26T17:42:51.416Z"
   },
   {
    "duration": 1736,
    "start_time": "2024-03-26T17:43:09.004Z"
   },
   {
    "duration": 3540,
    "start_time": "2024-03-26T17:50:31.495Z"
   },
   {
    "duration": 21,
    "start_time": "2024-03-26T17:50:56.368Z"
   },
   {
    "duration": 17,
    "start_time": "2024-03-26T17:51:10.526Z"
   },
   {
    "duration": 17,
    "start_time": "2024-03-26T17:51:48.260Z"
   },
   {
    "duration": 4223,
    "start_time": "2024-03-26T17:54:38.436Z"
   },
   {
    "duration": 0,
    "start_time": "2024-03-26T17:54:42.663Z"
   },
   {
    "duration": 0,
    "start_time": "2024-03-26T17:54:42.664Z"
   },
   {
    "duration": 0,
    "start_time": "2024-03-26T17:54:42.665Z"
   },
   {
    "duration": 0,
    "start_time": "2024-03-26T17:54:42.666Z"
   },
   {
    "duration": 0,
    "start_time": "2024-03-26T17:54:42.668Z"
   },
   {
    "duration": 0,
    "start_time": "2024-03-26T17:54:42.669Z"
   },
   {
    "duration": 0,
    "start_time": "2024-03-26T17:54:42.670Z"
   },
   {
    "duration": 0,
    "start_time": "2024-03-26T17:54:42.672Z"
   },
   {
    "duration": 0,
    "start_time": "2024-03-26T17:54:42.673Z"
   },
   {
    "duration": 0,
    "start_time": "2024-03-26T17:54:42.674Z"
   },
   {
    "duration": 0,
    "start_time": "2024-03-26T17:54:42.692Z"
   },
   {
    "duration": 0,
    "start_time": "2024-03-26T17:54:42.693Z"
   },
   {
    "duration": 0,
    "start_time": "2024-03-26T17:54:42.695Z"
   },
   {
    "duration": 0,
    "start_time": "2024-03-26T17:54:42.697Z"
   },
   {
    "duration": 0,
    "start_time": "2024-03-26T17:54:42.697Z"
   },
   {
    "duration": 0,
    "start_time": "2024-03-26T17:54:42.699Z"
   },
   {
    "duration": 0,
    "start_time": "2024-03-26T17:54:42.700Z"
   },
   {
    "duration": 0,
    "start_time": "2024-03-26T17:54:42.701Z"
   },
   {
    "duration": 0,
    "start_time": "2024-03-26T17:54:42.702Z"
   },
   {
    "duration": 0,
    "start_time": "2024-03-26T17:54:42.703Z"
   },
   {
    "duration": 0,
    "start_time": "2024-03-26T17:54:42.705Z"
   },
   {
    "duration": 0,
    "start_time": "2024-03-26T17:54:42.706Z"
   },
   {
    "duration": 0,
    "start_time": "2024-03-26T17:54:42.708Z"
   },
   {
    "duration": 0,
    "start_time": "2024-03-26T17:54:42.709Z"
   },
   {
    "duration": 0,
    "start_time": "2024-03-26T17:54:42.710Z"
   },
   {
    "duration": 0,
    "start_time": "2024-03-26T17:54:42.712Z"
   },
   {
    "duration": 0,
    "start_time": "2024-03-26T17:54:42.713Z"
   },
   {
    "duration": 0,
    "start_time": "2024-03-26T17:54:42.715Z"
   },
   {
    "duration": 0,
    "start_time": "2024-03-26T17:54:42.716Z"
   },
   {
    "duration": 0,
    "start_time": "2024-03-26T17:54:42.719Z"
   },
   {
    "duration": 11,
    "start_time": "2024-03-26T17:54:47.518Z"
   },
   {
    "duration": 2753,
    "start_time": "2024-03-26T17:55:03.543Z"
   },
   {
    "duration": 0,
    "start_time": "2024-03-26T17:55:06.298Z"
   },
   {
    "duration": 0,
    "start_time": "2024-03-26T17:55:06.299Z"
   },
   {
    "duration": 0,
    "start_time": "2024-03-26T17:55:06.300Z"
   },
   {
    "duration": 0,
    "start_time": "2024-03-26T17:55:06.302Z"
   },
   {
    "duration": 0,
    "start_time": "2024-03-26T17:55:06.304Z"
   },
   {
    "duration": 0,
    "start_time": "2024-03-26T17:55:06.305Z"
   },
   {
    "duration": 0,
    "start_time": "2024-03-26T17:55:06.308Z"
   },
   {
    "duration": 0,
    "start_time": "2024-03-26T17:55:06.309Z"
   },
   {
    "duration": 0,
    "start_time": "2024-03-26T17:55:06.311Z"
   },
   {
    "duration": 1,
    "start_time": "2024-03-26T17:55:06.312Z"
   },
   {
    "duration": 0,
    "start_time": "2024-03-26T17:55:06.315Z"
   },
   {
    "duration": 0,
    "start_time": "2024-03-26T17:55:06.316Z"
   },
   {
    "duration": 0,
    "start_time": "2024-03-26T17:55:06.317Z"
   },
   {
    "duration": 0,
    "start_time": "2024-03-26T17:55:06.318Z"
   },
   {
    "duration": 0,
    "start_time": "2024-03-26T17:55:06.320Z"
   },
   {
    "duration": 0,
    "start_time": "2024-03-26T17:55:06.321Z"
   },
   {
    "duration": 0,
    "start_time": "2024-03-26T17:55:06.323Z"
   },
   {
    "duration": 0,
    "start_time": "2024-03-26T17:55:06.324Z"
   },
   {
    "duration": 0,
    "start_time": "2024-03-26T17:55:06.325Z"
   },
   {
    "duration": 0,
    "start_time": "2024-03-26T17:55:06.326Z"
   },
   {
    "duration": 0,
    "start_time": "2024-03-26T17:55:06.328Z"
   },
   {
    "duration": 0,
    "start_time": "2024-03-26T17:55:06.329Z"
   },
   {
    "duration": 0,
    "start_time": "2024-03-26T17:55:06.330Z"
   },
   {
    "duration": 0,
    "start_time": "2024-03-26T17:55:06.332Z"
   },
   {
    "duration": 0,
    "start_time": "2024-03-26T17:55:06.334Z"
   },
   {
    "duration": 0,
    "start_time": "2024-03-26T17:55:06.335Z"
   },
   {
    "duration": 0,
    "start_time": "2024-03-26T17:55:06.391Z"
   },
   {
    "duration": 0,
    "start_time": "2024-03-26T17:55:06.393Z"
   },
   {
    "duration": 0,
    "start_time": "2024-03-26T17:55:06.395Z"
   },
   {
    "duration": 0,
    "start_time": "2024-03-26T17:55:06.396Z"
   },
   {
    "duration": 14,
    "start_time": "2024-03-26T17:55:09.307Z"
   },
   {
    "duration": 4285,
    "start_time": "2024-03-26T17:55:31.717Z"
   },
   {
    "duration": 0,
    "start_time": "2024-03-26T17:55:36.006Z"
   },
   {
    "duration": 0,
    "start_time": "2024-03-26T17:55:36.008Z"
   },
   {
    "duration": 0,
    "start_time": "2024-03-26T17:55:36.009Z"
   },
   {
    "duration": 0,
    "start_time": "2024-03-26T17:55:36.011Z"
   },
   {
    "duration": 0,
    "start_time": "2024-03-26T17:55:36.013Z"
   },
   {
    "duration": 0,
    "start_time": "2024-03-26T17:55:36.014Z"
   },
   {
    "duration": 0,
    "start_time": "2024-03-26T17:55:36.016Z"
   },
   {
    "duration": 0,
    "start_time": "2024-03-26T17:55:36.018Z"
   },
   {
    "duration": 0,
    "start_time": "2024-03-26T17:55:36.020Z"
   },
   {
    "duration": 0,
    "start_time": "2024-03-26T17:55:36.021Z"
   },
   {
    "duration": 0,
    "start_time": "2024-03-26T17:55:36.023Z"
   },
   {
    "duration": 0,
    "start_time": "2024-03-26T17:55:36.025Z"
   },
   {
    "duration": 0,
    "start_time": "2024-03-26T17:55:36.026Z"
   },
   {
    "duration": 0,
    "start_time": "2024-03-26T17:55:36.028Z"
   },
   {
    "duration": 0,
    "start_time": "2024-03-26T17:55:36.030Z"
   },
   {
    "duration": 0,
    "start_time": "2024-03-26T17:55:36.031Z"
   },
   {
    "duration": 0,
    "start_time": "2024-03-26T17:55:36.033Z"
   },
   {
    "duration": 0,
    "start_time": "2024-03-26T17:55:36.035Z"
   },
   {
    "duration": 0,
    "start_time": "2024-03-26T17:55:36.036Z"
   },
   {
    "duration": 1,
    "start_time": "2024-03-26T17:55:36.037Z"
   },
   {
    "duration": 0,
    "start_time": "2024-03-26T17:55:36.038Z"
   },
   {
    "duration": 0,
    "start_time": "2024-03-26T17:55:36.040Z"
   },
   {
    "duration": 0,
    "start_time": "2024-03-26T17:55:36.041Z"
   },
   {
    "duration": 1,
    "start_time": "2024-03-26T17:55:36.091Z"
   },
   {
    "duration": 0,
    "start_time": "2024-03-26T17:55:36.093Z"
   },
   {
    "duration": 0,
    "start_time": "2024-03-26T17:55:36.094Z"
   },
   {
    "duration": 0,
    "start_time": "2024-03-26T17:55:36.095Z"
   },
   {
    "duration": 0,
    "start_time": "2024-03-26T17:55:36.096Z"
   },
   {
    "duration": 0,
    "start_time": "2024-03-26T17:55:36.098Z"
   },
   {
    "duration": 0,
    "start_time": "2024-03-26T17:55:36.099Z"
   },
   {
    "duration": 2860,
    "start_time": "2024-03-26T17:55:56.617Z"
   },
   {
    "duration": 0,
    "start_time": "2024-03-26T17:55:59.479Z"
   },
   {
    "duration": 0,
    "start_time": "2024-03-26T17:55:59.481Z"
   },
   {
    "duration": 0,
    "start_time": "2024-03-26T17:55:59.482Z"
   },
   {
    "duration": 0,
    "start_time": "2024-03-26T17:55:59.483Z"
   },
   {
    "duration": 0,
    "start_time": "2024-03-26T17:55:59.484Z"
   },
   {
    "duration": 0,
    "start_time": "2024-03-26T17:55:59.486Z"
   },
   {
    "duration": 0,
    "start_time": "2024-03-26T17:55:59.487Z"
   },
   {
    "duration": 0,
    "start_time": "2024-03-26T17:55:59.488Z"
   },
   {
    "duration": 0,
    "start_time": "2024-03-26T17:55:59.489Z"
   },
   {
    "duration": 0,
    "start_time": "2024-03-26T17:55:59.490Z"
   },
   {
    "duration": 0,
    "start_time": "2024-03-26T17:55:59.491Z"
   },
   {
    "duration": 0,
    "start_time": "2024-03-26T17:55:59.493Z"
   },
   {
    "duration": 0,
    "start_time": "2024-03-26T17:55:59.494Z"
   },
   {
    "duration": 0,
    "start_time": "2024-03-26T17:55:59.495Z"
   },
   {
    "duration": 0,
    "start_time": "2024-03-26T17:55:59.496Z"
   },
   {
    "duration": 0,
    "start_time": "2024-03-26T17:55:59.498Z"
   },
   {
    "duration": 0,
    "start_time": "2024-03-26T17:55:59.499Z"
   },
   {
    "duration": 0,
    "start_time": "2024-03-26T17:55:59.501Z"
   },
   {
    "duration": 0,
    "start_time": "2024-03-26T17:55:59.502Z"
   },
   {
    "duration": 0,
    "start_time": "2024-03-26T17:55:59.503Z"
   },
   {
    "duration": 0,
    "start_time": "2024-03-26T17:55:59.504Z"
   },
   {
    "duration": 0,
    "start_time": "2024-03-26T17:55:59.505Z"
   },
   {
    "duration": 0,
    "start_time": "2024-03-26T17:55:59.506Z"
   },
   {
    "duration": 0,
    "start_time": "2024-03-26T17:55:59.507Z"
   },
   {
    "duration": 0,
    "start_time": "2024-03-26T17:55:59.508Z"
   },
   {
    "duration": 0,
    "start_time": "2024-03-26T17:55:59.509Z"
   },
   {
    "duration": 1,
    "start_time": "2024-03-26T17:55:59.510Z"
   },
   {
    "duration": 0,
    "start_time": "2024-03-26T17:55:59.512Z"
   },
   {
    "duration": 12,
    "start_time": "2024-03-26T17:56:05.401Z"
   },
   {
    "duration": 2815,
    "start_time": "2024-03-26T17:56:14.401Z"
   },
   {
    "duration": 0,
    "start_time": "2024-03-26T17:56:17.218Z"
   },
   {
    "duration": 12,
    "start_time": "2024-03-26T17:56:18.239Z"
   },
   {
    "duration": 8654,
    "start_time": "2024-03-26T17:59:03.517Z"
   },
   {
    "duration": 88,
    "start_time": "2024-03-26T17:59:12.174Z"
   },
   {
    "duration": 48,
    "start_time": "2024-03-26T17:59:12.264Z"
   },
   {
    "duration": 31,
    "start_time": "2024-03-26T17:59:13.313Z"
   },
   {
    "duration": 21,
    "start_time": "2024-03-26T17:59:14.372Z"
   },
   {
    "duration": 19,
    "start_time": "2024-03-26T17:59:15.013Z"
   },
   {
    "duration": 4,
    "start_time": "2024-03-26T17:59:16.980Z"
   },
   {
    "duration": 68,
    "start_time": "2024-03-26T17:59:17.658Z"
   },
   {
    "duration": 5,
    "start_time": "2024-03-26T17:59:18.251Z"
   },
   {
    "duration": 43,
    "start_time": "2024-03-26T17:59:19.045Z"
   },
   {
    "duration": 5,
    "start_time": "2024-03-26T17:59:19.607Z"
   },
   {
    "duration": 32,
    "start_time": "2024-03-26T17:59:20.222Z"
   },
   {
    "duration": 33,
    "start_time": "2024-03-26T17:59:20.988Z"
   },
   {
    "duration": 3,
    "start_time": "2024-03-26T17:59:21.597Z"
   },
   {
    "duration": 14,
    "start_time": "2024-03-26T17:59:22.284Z"
   },
   {
    "duration": 7,
    "start_time": "2024-03-26T17:59:22.897Z"
   },
   {
    "duration": 1534,
    "start_time": "2024-03-26T17:59:23.532Z"
   },
   {
    "duration": 11,
    "start_time": "2024-03-26T17:59:25.519Z"
   },
   {
    "duration": 52,
    "start_time": "2024-03-26T17:59:26.271Z"
   },
   {
    "duration": 7,
    "start_time": "2024-03-26T17:59:27.697Z"
   },
   {
    "duration": 25,
    "start_time": "2024-03-26T17:59:28.540Z"
   },
   {
    "duration": 7,
    "start_time": "2024-03-26T17:59:31.324Z"
   },
   {
    "duration": 9,
    "start_time": "2024-03-26T17:59:31.839Z"
   },
   {
    "duration": 89,
    "start_time": "2024-03-26T17:59:33.269Z"
   },
   {
    "duration": 1038,
    "start_time": "2024-03-26T17:59:35.577Z"
   },
   {
    "duration": 23,
    "start_time": "2024-03-26T17:59:38.841Z"
   },
   {
    "duration": 18,
    "start_time": "2024-03-26T17:59:39.947Z"
   },
   {
    "duration": 10,
    "start_time": "2024-03-26T17:59:40.802Z"
   },
   {
    "duration": 36,
    "start_time": "2024-03-26T17:59:42.158Z"
   },
   {
    "duration": 25,
    "start_time": "2024-03-26T17:59:43.005Z"
   },
   {
    "duration": 3334,
    "start_time": "2024-03-26T17:59:45.342Z"
   },
   {
    "duration": 3251,
    "start_time": "2024-03-26T18:17:58.620Z"
   },
   {
    "duration": 8,
    "start_time": "2024-03-26T18:18:15.993Z"
   },
   {
    "duration": 63,
    "start_time": "2024-03-27T04:27:54.751Z"
   },
   {
    "duration": 10031,
    "start_time": "2024-03-27T04:28:07.221Z"
   },
   {
    "duration": 356,
    "start_time": "2024-03-27T04:28:17.254Z"
   },
   {
    "duration": 46,
    "start_time": "2024-03-27T04:28:17.611Z"
   },
   {
    "duration": 18,
    "start_time": "2024-03-27T04:28:17.659Z"
   },
   {
    "duration": 28,
    "start_time": "2024-03-27T04:28:17.679Z"
   },
   {
    "duration": 26,
    "start_time": "2024-03-27T04:28:17.708Z"
   },
   {
    "duration": 19,
    "start_time": "2024-03-27T04:28:17.736Z"
   },
   {
    "duration": 70,
    "start_time": "2024-03-27T04:28:17.757Z"
   },
   {
    "duration": 4,
    "start_time": "2024-03-27T04:28:17.829Z"
   },
   {
    "duration": 48,
    "start_time": "2024-03-27T04:28:17.836Z"
   },
   {
    "duration": 4,
    "start_time": "2024-03-27T04:28:17.886Z"
   },
   {
    "duration": 51,
    "start_time": "2024-03-27T04:28:17.894Z"
   },
   {
    "duration": 29,
    "start_time": "2024-03-27T04:28:17.946Z"
   },
   {
    "duration": 2,
    "start_time": "2024-03-27T04:28:17.977Z"
   },
   {
    "duration": 43,
    "start_time": "2024-03-27T04:28:17.981Z"
   },
   {
    "duration": 9,
    "start_time": "2024-03-27T04:28:18.200Z"
   },
   {
    "duration": 1411,
    "start_time": "2024-03-27T04:28:19.040Z"
   },
   {
    "duration": 10,
    "start_time": "2024-03-27T04:28:20.563Z"
   },
   {
    "duration": 49,
    "start_time": "2024-03-27T04:28:21.289Z"
   },
   {
    "duration": 6,
    "start_time": "2024-03-27T04:28:22.615Z"
   },
   {
    "duration": 23,
    "start_time": "2024-03-27T04:28:23.264Z"
   },
   {
    "duration": 6,
    "start_time": "2024-03-27T04:28:25.463Z"
   },
   {
    "duration": 7,
    "start_time": "2024-03-27T04:28:26.225Z"
   },
   {
    "duration": 78,
    "start_time": "2024-03-27T04:28:27.710Z"
   },
   {
    "duration": 927,
    "start_time": "2024-03-27T04:28:30.520Z"
   },
   {
    "duration": 20,
    "start_time": "2024-03-27T04:29:06.000Z"
   },
   {
    "duration": 13,
    "start_time": "2024-03-27T04:29:06.850Z"
   },
   {
    "duration": 9,
    "start_time": "2024-03-27T04:29:07.981Z"
   },
   {
    "duration": 35,
    "start_time": "2024-03-27T04:29:08.859Z"
   },
   {
    "duration": 22,
    "start_time": "2024-03-27T04:29:10.478Z"
   },
   {
    "duration": 3097,
    "start_time": "2024-03-27T04:29:12.429Z"
   },
   {
    "duration": 5,
    "start_time": "2024-03-27T04:29:15.795Z"
   },
   {
    "duration": 107,
    "start_time": "2024-03-27T04:29:25.919Z"
   },
   {
    "duration": 71,
    "start_time": "2024-03-27T04:29:35.782Z"
   },
   {
    "duration": 15,
    "start_time": "2024-03-27T04:35:15.538Z"
   },
   {
    "duration": 17,
    "start_time": "2024-03-27T04:35:58.965Z"
   },
   {
    "duration": 6757,
    "start_time": "2024-03-27T04:36:19.196Z"
   },
   {
    "duration": 89,
    "start_time": "2024-03-27T04:36:25.955Z"
   },
   {
    "duration": 47,
    "start_time": "2024-03-27T04:36:26.045Z"
   },
   {
    "duration": 18,
    "start_time": "2024-03-27T04:36:26.094Z"
   },
   {
    "duration": 20,
    "start_time": "2024-03-27T04:36:26.114Z"
   },
   {
    "duration": 23,
    "start_time": "2024-03-27T04:36:26.135Z"
   },
   {
    "duration": 8,
    "start_time": "2024-03-27T04:36:26.159Z"
   },
   {
    "duration": 83,
    "start_time": "2024-03-27T04:36:26.169Z"
   },
   {
    "duration": 9,
    "start_time": "2024-03-27T04:36:26.254Z"
   },
   {
    "duration": 59,
    "start_time": "2024-03-27T04:36:26.264Z"
   },
   {
    "duration": 4,
    "start_time": "2024-03-27T04:36:26.325Z"
   },
   {
    "duration": 42,
    "start_time": "2024-03-27T04:36:26.330Z"
   },
   {
    "duration": 36,
    "start_time": "2024-03-27T04:36:26.373Z"
   },
   {
    "duration": 3,
    "start_time": "2024-03-27T04:36:26.412Z"
   },
   {
    "duration": 15,
    "start_time": "2024-03-27T04:36:26.416Z"
   },
   {
    "duration": 6,
    "start_time": "2024-03-27T04:36:26.433Z"
   },
   {
    "duration": 1370,
    "start_time": "2024-03-27T04:36:26.441Z"
   },
   {
    "duration": 9,
    "start_time": "2024-03-27T04:36:27.813Z"
   },
   {
    "duration": 70,
    "start_time": "2024-03-27T04:36:27.823Z"
   },
   {
    "duration": 6,
    "start_time": "2024-03-27T04:36:27.895Z"
   },
   {
    "duration": 23,
    "start_time": "2024-03-27T04:36:27.903Z"
   },
   {
    "duration": 6,
    "start_time": "2024-03-27T04:36:27.927Z"
   },
   {
    "duration": 9,
    "start_time": "2024-03-27T04:36:27.935Z"
   },
   {
    "duration": 113,
    "start_time": "2024-03-27T04:36:27.946Z"
   },
   {
    "duration": 945,
    "start_time": "2024-03-27T04:36:28.060Z"
   },
   {
    "duration": 21,
    "start_time": "2024-03-27T04:36:29.007Z"
   },
   {
    "duration": 19,
    "start_time": "2024-03-27T04:36:29.030Z"
   },
   {
    "duration": 9,
    "start_time": "2024-03-27T04:36:29.050Z"
   },
   {
    "duration": 48,
    "start_time": "2024-03-27T04:36:29.061Z"
   },
   {
    "duration": 21,
    "start_time": "2024-03-27T04:36:29.111Z"
   },
   {
    "duration": 2914,
    "start_time": "2024-03-27T04:36:29.134Z"
   },
   {
    "duration": 5,
    "start_time": "2024-03-27T04:36:32.050Z"
   },
   {
    "duration": 166,
    "start_time": "2024-03-27T04:36:32.057Z"
   },
   {
    "duration": 0,
    "start_time": "2024-03-27T04:36:32.225Z"
   },
   {
    "duration": 0,
    "start_time": "2024-03-27T04:36:32.226Z"
   },
   {
    "duration": 0,
    "start_time": "2024-03-27T04:36:32.228Z"
   },
   {
    "duration": 0,
    "start_time": "2024-03-27T04:36:32.229Z"
   },
   {
    "duration": 0,
    "start_time": "2024-03-27T04:36:32.230Z"
   },
   {
    "duration": 0,
    "start_time": "2024-03-27T04:36:32.231Z"
   },
   {
    "duration": 0,
    "start_time": "2024-03-27T04:36:32.232Z"
   },
   {
    "duration": 6,
    "start_time": "2024-03-27T04:36:32.292Z"
   },
   {
    "duration": 76,
    "start_time": "2024-03-27T04:36:32.985Z"
   },
   {
    "duration": 4,
    "start_time": "2024-03-27T04:36:33.675Z"
   },
   {
    "duration": 36,
    "start_time": "2024-03-27T04:36:34.280Z"
   },
   {
    "duration": 1328,
    "start_time": "2024-03-27T04:36:34.968Z"
   },
   {
    "duration": 0,
    "start_time": "2024-03-27T04:36:36.298Z"
   },
   {
    "duration": 0,
    "start_time": "2024-03-27T04:36:36.299Z"
   },
   {
    "duration": 2,
    "start_time": "2024-03-27T04:36:36.941Z"
   },
   {
    "duration": 10,
    "start_time": "2024-03-27T04:36:38.060Z"
   },
   {
    "duration": 1336,
    "start_time": "2024-03-27T04:36:38.895Z"
   },
   {
    "duration": 0,
    "start_time": "2024-03-27T04:36:40.233Z"
   },
   {
    "duration": 1283,
    "start_time": "2024-03-27T04:36:40.966Z"
   },
   {
    "duration": 0,
    "start_time": "2024-03-27T04:36:42.251Z"
   },
   {
    "duration": 1279,
    "start_time": "2024-03-27T04:36:45.462Z"
   },
   {
    "duration": 0,
    "start_time": "2024-03-27T04:36:46.742Z"
   },
   {
    "duration": 4839,
    "start_time": "2024-03-27T04:37:10.957Z"
   },
   {
    "duration": 86,
    "start_time": "2024-03-27T04:37:15.799Z"
   },
   {
    "duration": 41,
    "start_time": "2024-03-27T04:37:15.887Z"
   },
   {
    "duration": 28,
    "start_time": "2024-03-27T04:37:15.930Z"
   },
   {
    "duration": 19,
    "start_time": "2024-03-27T04:37:15.960Z"
   },
   {
    "duration": 16,
    "start_time": "2024-03-27T04:37:16.937Z"
   },
   {
    "duration": 5,
    "start_time": "2024-03-27T04:37:21.096Z"
   },
   {
    "duration": 57,
    "start_time": "2024-03-27T04:37:21.898Z"
   },
   {
    "duration": 5,
    "start_time": "2024-03-27T04:37:23.191Z"
   },
   {
    "duration": 30,
    "start_time": "2024-03-27T04:37:23.868Z"
   },
   {
    "duration": 5,
    "start_time": "2024-03-27T04:37:25.092Z"
   },
   {
    "duration": 29,
    "start_time": "2024-03-27T04:37:26.939Z"
   },
   {
    "duration": 27,
    "start_time": "2024-03-27T04:37:27.866Z"
   },
   {
    "duration": 3,
    "start_time": "2024-03-27T04:37:28.647Z"
   },
   {
    "duration": 12,
    "start_time": "2024-03-27T04:37:29.488Z"
   },
   {
    "duration": 6,
    "start_time": "2024-03-27T04:37:30.340Z"
   },
   {
    "duration": 1353,
    "start_time": "2024-03-27T04:37:31.156Z"
   },
   {
    "duration": 8,
    "start_time": "2024-03-27T04:37:33.857Z"
   },
   {
    "duration": 44,
    "start_time": "2024-03-27T04:37:35.532Z"
   },
   {
    "duration": 7,
    "start_time": "2024-03-27T04:37:37.498Z"
   },
   {
    "duration": 20,
    "start_time": "2024-03-27T04:37:38.380Z"
   },
   {
    "duration": 6,
    "start_time": "2024-03-27T04:37:42.508Z"
   },
   {
    "duration": 7,
    "start_time": "2024-03-27T04:37:43.433Z"
   },
   {
    "duration": 74,
    "start_time": "2024-03-27T04:37:45.532Z"
   },
   {
    "duration": 882,
    "start_time": "2024-03-27T04:37:48.580Z"
   },
   {
    "duration": 18,
    "start_time": "2024-03-27T04:37:52.774Z"
   },
   {
    "duration": 15,
    "start_time": "2024-03-27T04:37:53.805Z"
   },
   {
    "duration": 9,
    "start_time": "2024-03-27T04:37:54.727Z"
   },
   {
    "duration": 30,
    "start_time": "2024-03-27T04:37:55.652Z"
   },
   {
    "duration": 22,
    "start_time": "2024-03-27T04:37:56.677Z"
   },
   {
    "duration": 2943,
    "start_time": "2024-03-27T04:37:58.397Z"
   },
   {
    "duration": 5,
    "start_time": "2024-03-27T04:38:03.531Z"
   },
   {
    "duration": 19,
    "start_time": "2024-03-27T04:38:04.937Z"
   },
   {
    "duration": 15,
    "start_time": "2024-03-27T04:39:08.626Z"
   },
   {
    "duration": 6843,
    "start_time": "2024-03-27T04:39:18.393Z"
   },
   {
    "duration": 90,
    "start_time": "2024-03-27T04:39:25.238Z"
   },
   {
    "duration": 48,
    "start_time": "2024-03-27T04:39:25.329Z"
   },
   {
    "duration": 18,
    "start_time": "2024-03-27T04:39:25.379Z"
   },
   {
    "duration": 21,
    "start_time": "2024-03-27T04:39:25.399Z"
   },
   {
    "duration": 22,
    "start_time": "2024-03-27T04:39:25.421Z"
   },
   {
    "duration": 12,
    "start_time": "2024-03-27T04:39:25.444Z"
   },
   {
    "duration": 79,
    "start_time": "2024-03-27T04:39:25.458Z"
   },
   {
    "duration": 4,
    "start_time": "2024-03-27T04:39:25.538Z"
   },
   {
    "duration": 53,
    "start_time": "2024-03-27T04:39:25.549Z"
   },
   {
    "duration": 4,
    "start_time": "2024-03-27T04:39:25.604Z"
   },
   {
    "duration": 41,
    "start_time": "2024-03-27T04:39:25.609Z"
   },
   {
    "duration": 28,
    "start_time": "2024-03-27T04:39:25.653Z"
   },
   {
    "duration": 3,
    "start_time": "2024-03-27T04:39:25.694Z"
   },
   {
    "duration": 16,
    "start_time": "2024-03-27T04:39:25.698Z"
   },
   {
    "duration": 27,
    "start_time": "2024-03-27T04:39:25.716Z"
   },
   {
    "duration": 1333,
    "start_time": "2024-03-27T04:39:25.745Z"
   },
   {
    "duration": 17,
    "start_time": "2024-03-27T04:39:27.080Z"
   },
   {
    "duration": 62,
    "start_time": "2024-03-27T04:39:27.099Z"
   },
   {
    "duration": 11,
    "start_time": "2024-03-27T04:39:27.163Z"
   },
   {
    "duration": 30,
    "start_time": "2024-03-27T04:39:27.176Z"
   },
   {
    "duration": 23,
    "start_time": "2024-03-27T04:39:27.207Z"
   },
   {
    "duration": 21,
    "start_time": "2024-03-27T04:39:27.232Z"
   },
   {
    "duration": 85,
    "start_time": "2024-03-27T04:39:27.255Z"
   },
   {
    "duration": 886,
    "start_time": "2024-03-27T04:39:27.341Z"
   },
   {
    "duration": 18,
    "start_time": "2024-03-27T04:39:28.228Z"
   },
   {
    "duration": 23,
    "start_time": "2024-03-27T04:39:28.247Z"
   },
   {
    "duration": 23,
    "start_time": "2024-03-27T04:39:28.273Z"
   },
   {
    "duration": 47,
    "start_time": "2024-03-27T04:39:28.297Z"
   },
   {
    "duration": 37,
    "start_time": "2024-03-27T04:39:28.345Z"
   },
   {
    "duration": 6626,
    "start_time": "2024-03-27T04:39:35.286Z"
   },
   {
    "duration": 88,
    "start_time": "2024-03-27T04:39:41.913Z"
   },
   {
    "duration": 45,
    "start_time": "2024-03-27T04:39:42.002Z"
   },
   {
    "duration": 20,
    "start_time": "2024-03-27T04:39:42.049Z"
   },
   {
    "duration": 37,
    "start_time": "2024-03-27T04:39:42.071Z"
   },
   {
    "duration": 15,
    "start_time": "2024-03-27T04:39:42.110Z"
   },
   {
    "duration": 25,
    "start_time": "2024-03-27T04:39:42.126Z"
   },
   {
    "duration": 66,
    "start_time": "2024-03-27T04:39:42.153Z"
   },
   {
    "duration": 4,
    "start_time": "2024-03-27T04:39:42.220Z"
   },
   {
    "duration": 38,
    "start_time": "2024-03-27T04:39:42.227Z"
   },
   {
    "duration": 6,
    "start_time": "2024-03-27T04:39:42.266Z"
   },
   {
    "duration": 47,
    "start_time": "2024-03-27T04:39:42.274Z"
   },
   {
    "duration": 31,
    "start_time": "2024-03-27T04:39:42.323Z"
   },
   {
    "duration": 3,
    "start_time": "2024-03-27T04:39:42.358Z"
   },
   {
    "duration": 34,
    "start_time": "2024-03-27T04:39:42.363Z"
   },
   {
    "duration": 5,
    "start_time": "2024-03-27T04:39:42.399Z"
   },
   {
    "duration": 1364,
    "start_time": "2024-03-27T04:39:42.406Z"
   },
   {
    "duration": 9,
    "start_time": "2024-03-27T04:39:43.771Z"
   },
   {
    "duration": 50,
    "start_time": "2024-03-27T04:39:43.782Z"
   },
   {
    "duration": 6,
    "start_time": "2024-03-27T04:39:43.833Z"
   },
   {
    "duration": 56,
    "start_time": "2024-03-27T04:39:43.840Z"
   },
   {
    "duration": 11,
    "start_time": "2024-03-27T04:39:43.897Z"
   },
   {
    "duration": 9,
    "start_time": "2024-03-27T04:39:43.910Z"
   },
   {
    "duration": 87,
    "start_time": "2024-03-27T04:39:43.920Z"
   },
   {
    "duration": 850,
    "start_time": "2024-03-27T04:39:44.009Z"
   },
   {
    "duration": 19,
    "start_time": "2024-03-27T04:39:44.860Z"
   },
   {
    "duration": 21,
    "start_time": "2024-03-27T04:39:44.880Z"
   },
   {
    "duration": 8,
    "start_time": "2024-03-27T04:39:44.903Z"
   },
   {
    "duration": 62,
    "start_time": "2024-03-27T04:39:44.912Z"
   },
   {
    "duration": 21,
    "start_time": "2024-03-27T04:39:44.975Z"
   },
   {
    "duration": 2792,
    "start_time": "2024-03-27T04:39:44.997Z"
   },
   {
    "duration": 5,
    "start_time": "2024-03-27T04:39:47.791Z"
   },
   {
    "duration": 0,
    "start_time": "2024-03-27T04:39:47.949Z"
   },
   {
    "duration": 16,
    "start_time": "2024-03-27T04:39:48.498Z"
   },
   {
    "duration": 4727,
    "start_time": "2024-03-27T04:40:15.473Z"
   },
   {
    "duration": 88,
    "start_time": "2024-03-27T04:40:20.202Z"
   },
   {
    "duration": 40,
    "start_time": "2024-03-27T04:40:20.291Z"
   },
   {
    "duration": 23,
    "start_time": "2024-03-27T04:40:20.333Z"
   },
   {
    "duration": 21,
    "start_time": "2024-03-27T04:40:20.358Z"
   },
   {
    "duration": 24,
    "start_time": "2024-03-27T04:40:20.380Z"
   },
   {
    "duration": 4,
    "start_time": "2024-03-27T04:40:20.488Z"
   },
   {
    "duration": 58,
    "start_time": "2024-03-27T04:40:21.048Z"
   },
   {
    "duration": 4,
    "start_time": "2024-03-27T04:40:21.651Z"
   },
   {
    "duration": 29,
    "start_time": "2024-03-27T04:40:22.247Z"
   },
   {
    "duration": 4,
    "start_time": "2024-03-27T04:40:22.929Z"
   },
   {
    "duration": 28,
    "start_time": "2024-03-27T04:40:23.578Z"
   },
   {
    "duration": 26,
    "start_time": "2024-03-27T04:40:25.368Z"
   },
   {
    "duration": 2,
    "start_time": "2024-03-27T04:40:25.964Z"
   },
   {
    "duration": 11,
    "start_time": "2024-03-27T04:40:26.618Z"
   },
   {
    "duration": 6,
    "start_time": "2024-03-27T04:40:27.280Z"
   },
   {
    "duration": 1333,
    "start_time": "2024-03-27T04:40:27.918Z"
   },
   {
    "duration": 9,
    "start_time": "2024-03-27T04:40:29.406Z"
   },
   {
    "duration": 43,
    "start_time": "2024-03-27T04:40:30.113Z"
   },
   {
    "duration": 7,
    "start_time": "2024-03-27T04:40:31.583Z"
   },
   {
    "duration": 23,
    "start_time": "2024-03-27T04:40:32.228Z"
   },
   {
    "duration": 6,
    "start_time": "2024-03-27T04:40:34.498Z"
   },
   {
    "duration": 7,
    "start_time": "2024-03-27T04:40:35.213Z"
   },
   {
    "duration": 77,
    "start_time": "2024-03-27T04:40:36.603Z"
   },
   {
    "duration": 822,
    "start_time": "2024-03-27T04:40:39.015Z"
   },
   {
    "duration": 21,
    "start_time": "2024-03-27T04:40:42.036Z"
   },
   {
    "duration": 14,
    "start_time": "2024-03-27T04:40:42.976Z"
   },
   {
    "duration": 10,
    "start_time": "2024-03-27T04:40:43.338Z"
   },
   {
    "duration": 33,
    "start_time": "2024-03-27T04:40:43.950Z"
   },
   {
    "duration": 21,
    "start_time": "2024-03-27T04:40:44.680Z"
   },
   {
    "duration": 2956,
    "start_time": "2024-03-27T04:40:45.855Z"
   },
   {
    "duration": 6,
    "start_time": "2024-03-27T04:40:48.922Z"
   },
   {
    "duration": 20,
    "start_time": "2024-03-27T04:40:49.943Z"
   },
   {
    "duration": 5014,
    "start_time": "2024-03-27T08:20:58.523Z"
   },
   {
    "duration": 92,
    "start_time": "2024-03-27T08:21:03.539Z"
   },
   {
    "duration": 48,
    "start_time": "2024-03-27T08:21:05.002Z"
   },
   {
    "duration": 18,
    "start_time": "2024-03-27T08:21:25.153Z"
   },
   {
    "duration": 18,
    "start_time": "2024-03-27T08:21:29.903Z"
   },
   {
    "duration": 18,
    "start_time": "2024-03-27T08:21:33.052Z"
   },
   {
    "duration": 4,
    "start_time": "2024-03-27T08:21:41.911Z"
   },
   {
    "duration": 54,
    "start_time": "2024-03-27T08:21:46.764Z"
   },
   {
    "duration": 4,
    "start_time": "2024-03-27T08:21:51.431Z"
   },
   {
    "duration": 12,
    "start_time": "2024-03-27T08:22:19.679Z"
   },
   {
    "duration": 29,
    "start_time": "2024-03-27T08:22:36.582Z"
   },
   {
    "duration": 11,
    "start_time": "2024-03-27T08:22:57.422Z"
   },
   {
    "duration": 4,
    "start_time": "2024-03-27T08:23:03.781Z"
   },
   {
    "duration": 10,
    "start_time": "2024-03-27T08:23:05.172Z"
   },
   {
    "duration": 30,
    "start_time": "2024-03-27T08:23:13.611Z"
   },
   {
    "duration": 32,
    "start_time": "2024-03-27T08:23:16.951Z"
   },
   {
    "duration": 4,
    "start_time": "2024-03-27T08:23:19.830Z"
   },
   {
    "duration": 11,
    "start_time": "2024-03-27T08:23:23.270Z"
   },
   {
    "duration": 6,
    "start_time": "2024-03-27T08:23:28.947Z"
   },
   {
    "duration": 1376,
    "start_time": "2024-03-27T08:23:34.252Z"
   },
   {
    "duration": 8,
    "start_time": "2024-03-27T08:23:38.902Z"
   },
   {
    "duration": 55,
    "start_time": "2024-03-27T08:23:43.347Z"
   },
   {
    "duration": 7,
    "start_time": "2024-03-27T08:23:48.728Z"
   },
   {
    "duration": 21,
    "start_time": "2024-03-27T08:23:50.568Z"
   },
   {
    "duration": 6,
    "start_time": "2024-03-27T08:24:03.499Z"
   },
   {
    "duration": 8,
    "start_time": "2024-03-27T08:24:07.306Z"
   },
   {
    "duration": 79,
    "start_time": "2024-03-27T08:24:17.988Z"
   },
   {
    "duration": 894,
    "start_time": "2024-03-27T08:24:48.114Z"
   },
   {
    "duration": 90,
    "start_time": "2024-03-27T08:31:00.388Z"
   },
   {
    "duration": 26,
    "start_time": "2024-03-27T08:31:34.817Z"
   },
   {
    "duration": 94,
    "start_time": "2024-03-27T08:31:58.200Z"
   },
   {
    "duration": 98,
    "start_time": "2024-03-27T08:32:21.248Z"
   },
   {
    "duration": 95,
    "start_time": "2024-03-27T08:34:48.820Z"
   },
   {
    "duration": 1360,
    "start_time": "2024-03-27T08:35:30.858Z"
   },
   {
    "duration": 1344,
    "start_time": "2024-03-27T08:37:11.178Z"
   },
   {
    "duration": 1318,
    "start_time": "2024-03-27T08:38:25.229Z"
   },
   {
    "duration": 6868,
    "start_time": "2024-03-27T08:38:34.171Z"
   },
   {
    "duration": 88,
    "start_time": "2024-03-27T08:38:41.041Z"
   },
   {
    "duration": 43,
    "start_time": "2024-03-27T08:38:41.130Z"
   },
   {
    "duration": 17,
    "start_time": "2024-03-27T08:38:41.175Z"
   },
   {
    "duration": 17,
    "start_time": "2024-03-27T08:38:41.194Z"
   },
   {
    "duration": 24,
    "start_time": "2024-03-27T08:38:41.212Z"
   },
   {
    "duration": 28,
    "start_time": "2024-03-27T08:38:41.237Z"
   },
   {
    "duration": 68,
    "start_time": "2024-03-27T08:38:41.267Z"
   },
   {
    "duration": 5,
    "start_time": "2024-03-27T08:38:41.337Z"
   },
   {
    "duration": 23,
    "start_time": "2024-03-27T08:38:41.345Z"
   },
   {
    "duration": 56,
    "start_time": "2024-03-27T08:38:41.369Z"
   },
   {
    "duration": 4,
    "start_time": "2024-03-27T08:38:41.427Z"
   },
   {
    "duration": 30,
    "start_time": "2024-03-27T08:38:41.432Z"
   },
   {
    "duration": 53,
    "start_time": "2024-03-27T08:38:41.464Z"
   },
   {
    "duration": 30,
    "start_time": "2024-03-27T08:38:41.519Z"
   },
   {
    "duration": 2,
    "start_time": "2024-03-27T08:38:41.551Z"
   },
   {
    "duration": 23,
    "start_time": "2024-03-27T08:38:41.555Z"
   },
   {
    "duration": 28,
    "start_time": "2024-03-27T08:38:41.579Z"
   },
   {
    "duration": 1363,
    "start_time": "2024-03-27T08:38:41.608Z"
   },
   {
    "duration": 10,
    "start_time": "2024-03-27T08:38:42.972Z"
   },
   {
    "duration": 53,
    "start_time": "2024-03-27T08:38:42.983Z"
   },
   {
    "duration": 6,
    "start_time": "2024-03-27T08:38:43.038Z"
   },
   {
    "duration": 51,
    "start_time": "2024-03-27T08:38:43.045Z"
   },
   {
    "duration": 5,
    "start_time": "2024-03-27T08:38:43.097Z"
   },
   {
    "duration": 150,
    "start_time": "2024-03-27T08:38:43.104Z"
   },
   {
    "duration": 0,
    "start_time": "2024-03-27T08:38:43.256Z"
   },
   {
    "duration": 0,
    "start_time": "2024-03-27T08:38:43.257Z"
   },
   {
    "duration": 0,
    "start_time": "2024-03-27T08:38:43.259Z"
   },
   {
    "duration": 0,
    "start_time": "2024-03-27T08:38:43.260Z"
   },
   {
    "duration": 0,
    "start_time": "2024-03-27T08:38:43.261Z"
   },
   {
    "duration": 0,
    "start_time": "2024-03-27T08:38:43.262Z"
   },
   {
    "duration": 0,
    "start_time": "2024-03-27T08:38:43.263Z"
   },
   {
    "duration": 0,
    "start_time": "2024-03-27T08:38:43.264Z"
   },
   {
    "duration": 0,
    "start_time": "2024-03-27T08:38:43.265Z"
   },
   {
    "duration": 0,
    "start_time": "2024-03-27T08:38:43.266Z"
   },
   {
    "duration": 0,
    "start_time": "2024-03-27T08:38:43.267Z"
   },
   {
    "duration": 0,
    "start_time": "2024-03-27T08:38:43.268Z"
   },
   {
    "duration": 0,
    "start_time": "2024-03-27T08:38:43.269Z"
   },
   {
    "duration": 41,
    "start_time": "2024-03-27T08:38:43.676Z"
   },
   {
    "duration": 19,
    "start_time": "2024-03-27T08:38:44.308Z"
   },
   {
    "duration": 23,
    "start_time": "2024-03-27T08:38:44.979Z"
   },
   {
    "duration": 16,
    "start_time": "2024-03-27T08:38:45.589Z"
   },
   {
    "duration": 4,
    "start_time": "2024-03-27T08:38:47.789Z"
   },
   {
    "duration": 63,
    "start_time": "2024-03-27T08:38:48.499Z"
   },
   {
    "duration": 4,
    "start_time": "2024-03-27T08:38:49.329Z"
   },
   {
    "duration": 4,
    "start_time": "2024-03-27T08:39:00.406Z"
   },
   {
    "duration": 10,
    "start_time": "2024-03-27T08:39:09.076Z"
   },
   {
    "duration": 39,
    "start_time": "2024-03-27T08:39:10.768Z"
   },
   {
    "duration": 4,
    "start_time": "2024-03-27T08:39:11.567Z"
   },
   {
    "duration": 11,
    "start_time": "2024-03-27T08:39:24.636Z"
   },
   {
    "duration": 27,
    "start_time": "2024-03-27T08:39:25.926Z"
   },
   {
    "duration": 28,
    "start_time": "2024-03-27T08:39:26.797Z"
   },
   {
    "duration": 2,
    "start_time": "2024-03-27T08:39:27.539Z"
   },
   {
    "duration": 10,
    "start_time": "2024-03-27T08:39:28.434Z"
   },
   {
    "duration": 6,
    "start_time": "2024-03-27T08:39:29.205Z"
   },
   {
    "duration": 1170,
    "start_time": "2024-03-27T08:39:30.054Z"
   },
   {
    "duration": 5,
    "start_time": "2024-03-27T08:39:32.606Z"
   },
   {
    "duration": 24,
    "start_time": "2024-03-27T08:39:34.230Z"
   },
   {
    "duration": 7,
    "start_time": "2024-03-27T08:39:38.018Z"
   },
   {
    "duration": 22,
    "start_time": "2024-03-27T08:39:39.077Z"
   },
   {
    "duration": 7,
    "start_time": "2024-03-27T08:39:42.275Z"
   },
   {
    "duration": 7,
    "start_time": "2024-03-27T08:39:52.709Z"
   },
   {
    "duration": 79,
    "start_time": "2024-03-27T08:39:56.716Z"
   },
   {
    "duration": 921,
    "start_time": "2024-03-27T08:40:02.896Z"
   },
   {
    "duration": 20,
    "start_time": "2024-03-27T08:40:12.391Z"
   },
   {
    "duration": 15,
    "start_time": "2024-03-27T08:40:29.968Z"
   },
   {
    "duration": 9,
    "start_time": "2024-03-27T08:40:35.925Z"
   },
   {
    "duration": 35,
    "start_time": "2024-03-27T08:40:38.476Z"
   },
   {
    "duration": 149,
    "start_time": "2024-03-27T08:43:17.896Z"
   },
   {
    "duration": 2882,
    "start_time": "2024-03-27T08:43:20.557Z"
   },
   {
    "duration": 16,
    "start_time": "2024-03-27T08:43:27.794Z"
   },
   {
    "duration": 4,
    "start_time": "2024-03-27T08:44:17.689Z"
   },
   {
    "duration": 5,
    "start_time": "2024-03-27T08:44:19.713Z"
   },
   {
    "duration": 17,
    "start_time": "2024-03-27T08:44:20.742Z"
   },
   {
    "duration": 0,
    "start_time": "2024-03-27T08:46:05.268Z"
   },
   {
    "duration": 8,
    "start_time": "2024-03-27T09:00:22.251Z"
   },
   {
    "duration": 14,
    "start_time": "2024-03-27T09:00:26.326Z"
   },
   {
    "duration": 8,
    "start_time": "2024-03-27T09:00:42.701Z"
   },
   {
    "duration": 4199,
    "start_time": "2024-03-27T09:01:01.057Z"
   },
   {
    "duration": 50,
    "start_time": "2024-03-27T09:01:20.385Z"
   },
   {
    "duration": 3437,
    "start_time": "2024-03-27T09:04:05.711Z"
   },
   {
    "duration": 4,
    "start_time": "2024-03-27T09:04:15.188Z"
   },
   {
    "duration": 3,
    "start_time": "2024-03-27T09:04:18.687Z"
   },
   {
    "duration": 7041,
    "start_time": "2024-03-27T09:05:07.631Z"
   },
   {
    "duration": 89,
    "start_time": "2024-03-27T09:05:14.674Z"
   },
   {
    "duration": 45,
    "start_time": "2024-03-27T09:05:14.764Z"
   },
   {
    "duration": 18,
    "start_time": "2024-03-27T09:05:23.188Z"
   },
   {
    "duration": 19,
    "start_time": "2024-03-27T09:05:26.997Z"
   },
   {
    "duration": 20,
    "start_time": "2024-03-27T09:05:30.646Z"
   },
   {
    "duration": 148,
    "start_time": "2024-03-27T09:07:26.003Z"
   },
   {
    "duration": 28,
    "start_time": "2024-03-27T09:07:53.749Z"
   },
   {
    "duration": 44,
    "start_time": "2024-03-27T09:08:01.202Z"
   },
   {
    "duration": 19,
    "start_time": "2024-03-27T09:08:14.832Z"
   },
   {
    "duration": 17,
    "start_time": "2024-03-27T09:08:16.006Z"
   },
   {
    "duration": 22,
    "start_time": "2024-03-27T09:08:17.403Z"
   },
   {
    "duration": 4,
    "start_time": "2024-03-27T09:08:59.917Z"
   },
   {
    "duration": 50,
    "start_time": "2024-03-27T09:09:02.166Z"
   },
   {
    "duration": 4,
    "start_time": "2024-03-27T09:09:34.723Z"
   },
   {
    "duration": 4,
    "start_time": "2024-03-27T09:09:49.086Z"
   },
   {
    "duration": 5,
    "start_time": "2024-03-27T09:09:59.517Z"
   },
   {
    "duration": 63,
    "start_time": "2024-03-27T09:10:02.060Z"
   },
   {
    "duration": 4928,
    "start_time": "2024-03-27T10:45:25.500Z"
   },
   {
    "duration": 91,
    "start_time": "2024-03-27T10:45:30.430Z"
   },
   {
    "duration": 88,
    "start_time": "2024-03-27T10:47:48.050Z"
   },
   {
    "duration": 30,
    "start_time": "2024-03-27T10:47:51.696Z"
   },
   {
    "duration": 19,
    "start_time": "2024-03-27T10:47:54.955Z"
   },
   {
    "duration": 17,
    "start_time": "2024-03-27T10:47:55.643Z"
   },
   {
    "duration": 17,
    "start_time": "2024-03-27T10:47:56.484Z"
   },
   {
    "duration": 58,
    "start_time": "2024-03-27T10:48:02.934Z"
   },
   {
    "duration": 4,
    "start_time": "2024-03-27T10:48:38.574Z"
   },
   {
    "duration": 56,
    "start_time": "2024-03-27T10:48:41.274Z"
   },
   {
    "duration": 4,
    "start_time": "2024-03-27T10:49:14.340Z"
   },
   {
    "duration": 12,
    "start_time": "2024-03-27T10:49:24.438Z"
   },
   {
    "duration": 33,
    "start_time": "2024-03-27T10:49:34.108Z"
   },
   {
    "duration": 3,
    "start_time": "2024-03-27T10:51:10.509Z"
   },
   {
    "duration": 10,
    "start_time": "2024-03-27T10:51:10.958Z"
   },
   {
    "duration": 32,
    "start_time": "2024-03-27T10:55:46.646Z"
   },
   {
    "duration": 4,
    "start_time": "2024-03-27T10:56:46.423Z"
   },
   {
    "duration": 11,
    "start_time": "2024-03-27T10:56:48.107Z"
   },
   {
    "duration": 10,
    "start_time": "2024-03-27T10:57:46.513Z"
   },
   {
    "duration": 41,
    "start_time": "2024-03-27T10:58:04.139Z"
   },
   {
    "duration": 33,
    "start_time": "2024-03-27T10:58:14.061Z"
   },
   {
    "duration": 3,
    "start_time": "2024-03-27T10:58:27.204Z"
   },
   {
    "duration": 15,
    "start_time": "2024-03-27T10:58:32.351Z"
   },
   {
    "duration": 7,
    "start_time": "2024-03-27T10:58:37.648Z"
   },
   {
    "duration": 6,
    "start_time": "2024-03-27T10:59:13.069Z"
   },
   {
    "duration": 1424,
    "start_time": "2024-03-27T10:59:24.516Z"
   },
   {
    "duration": 30,
    "start_time": "2024-03-27T11:00:38.122Z"
   },
   {
    "duration": 330,
    "start_time": "2024-03-27T11:01:02.728Z"
   },
   {
    "duration": 48,
    "start_time": "2024-03-27T11:01:46.475Z"
   },
   {
    "duration": 42,
    "start_time": "2024-03-27T11:02:42.214Z"
   },
   {
    "duration": 7,
    "start_time": "2024-03-27T12:22:54.407Z"
   },
   {
    "duration": 22,
    "start_time": "2024-03-27T12:22:57.947Z"
   },
   {
    "duration": 6,
    "start_time": "2024-03-27T12:23:43.370Z"
   },
   {
    "duration": 23,
    "start_time": "2024-03-27T12:24:06.273Z"
   },
   {
    "duration": 21,
    "start_time": "2024-03-27T12:33:15.323Z"
   },
   {
    "duration": 85,
    "start_time": "2024-03-27T12:35:21.865Z"
   },
   {
    "duration": 1031,
    "start_time": "2024-03-27T12:39:01.038Z"
   },
   {
    "duration": 5160,
    "start_time": "2024-03-27T12:39:53.044Z"
   },
   {
    "duration": 1037,
    "start_time": "2024-03-27T12:40:03.429Z"
   },
   {
    "duration": 3747,
    "start_time": "2024-03-27T12:43:11.680Z"
   },
   {
    "duration": 19,
    "start_time": "2024-03-27T12:51:15.410Z"
   },
   {
    "duration": 9,
    "start_time": "2024-03-27T12:51:35.910Z"
   },
   {
    "duration": 34,
    "start_time": "2024-03-27T12:51:40.038Z"
   },
   {
    "duration": 25,
    "start_time": "2024-03-27T12:51:47.136Z"
   },
   {
    "duration": 91,
    "start_time": "2024-03-27T12:53:24.623Z"
   },
   {
    "duration": 82,
    "start_time": "2024-03-27T12:54:20.675Z"
   },
   {
    "duration": 2931,
    "start_time": "2024-03-27T12:54:47.559Z"
   },
   {
    "duration": 5,
    "start_time": "2024-03-27T12:55:12.261Z"
   },
   {
    "duration": 16,
    "start_time": "2024-03-27T12:55:16.285Z"
   },
   {
    "duration": 5,
    "start_time": "2024-03-27T12:55:35.566Z"
   },
   {
    "duration": 5,
    "start_time": "2024-03-27T12:56:15.061Z"
   },
   {
    "duration": 5,
    "start_time": "2024-03-27T12:56:21.190Z"
   },
   {
    "duration": 4,
    "start_time": "2024-03-27T12:56:23.402Z"
   },
   {
    "duration": 31028,
    "start_time": "2024-03-27T12:56:25.227Z"
   },
   {
    "duration": 29,
    "start_time": "2024-03-27T13:56:50.479Z"
   },
   {
    "duration": 30,
    "start_time": "2024-03-27T13:57:03.689Z"
   },
   {
    "duration": 24,
    "start_time": "2024-03-27T13:57:40.513Z"
   },
   {
    "duration": 37,
    "start_time": "2024-03-27T14:02:43.875Z"
   },
   {
    "duration": 26,
    "start_time": "2024-03-27T14:15:10.833Z"
   },
   {
    "duration": 12,
    "start_time": "2024-03-27T14:16:32.901Z"
   },
   {
    "duration": 8,
    "start_time": "2024-03-27T14:16:54.809Z"
   },
   {
    "duration": 4,
    "start_time": "2024-03-27T14:17:14.794Z"
   },
   {
    "duration": 33,
    "start_time": "2024-03-27T14:27:10.610Z"
   },
   {
    "duration": 11712,
    "start_time": "2024-03-27T14:30:30.775Z"
   },
   {
    "duration": 32,
    "start_time": "2024-03-27T14:30:48.806Z"
   },
   {
    "duration": 37,
    "start_time": "2024-03-27T14:30:59.451Z"
   },
   {
    "duration": 3,
    "start_time": "2024-03-27T14:31:09.043Z"
   },
   {
    "duration": 7311,
    "start_time": "2024-03-27T14:31:21.465Z"
   },
   {
    "duration": 40,
    "start_time": "2024-03-27T14:31:43.700Z"
   },
   {
    "duration": 28,
    "start_time": "2024-03-27T14:31:50.973Z"
   },
   {
    "duration": 31,
    "start_time": "2024-03-27T15:06:12.723Z"
   },
   {
    "duration": 11,
    "start_time": "2024-03-27T15:29:49.210Z"
   },
   {
    "duration": 9024,
    "start_time": "2024-03-27T15:45:57.000Z"
   },
   {
    "duration": 90,
    "start_time": "2024-03-27T15:46:06.026Z"
   },
   {
    "duration": 38,
    "start_time": "2024-03-27T15:46:08.655Z"
   },
   {
    "duration": 19,
    "start_time": "2024-03-27T15:46:10.061Z"
   },
   {
    "duration": 18,
    "start_time": "2024-03-27T15:46:11.830Z"
   },
   {
    "duration": 17,
    "start_time": "2024-03-27T15:46:13.414Z"
   },
   {
    "duration": 4,
    "start_time": "2024-03-27T15:46:18.145Z"
   },
   {
    "duration": 73,
    "start_time": "2024-03-27T15:46:19.390Z"
   },
   {
    "duration": 5,
    "start_time": "2024-03-27T15:46:20.615Z"
   },
   {
    "duration": 16,
    "start_time": "2024-03-27T15:46:22.144Z"
   },
   {
    "duration": 32,
    "start_time": "2024-03-27T15:46:23.052Z"
   },
   {
    "duration": 4,
    "start_time": "2024-03-27T15:46:23.923Z"
   },
   {
    "duration": 11,
    "start_time": "2024-03-27T15:46:25.778Z"
   },
   {
    "duration": 31,
    "start_time": "2024-03-27T15:46:29.527Z"
   },
   {
    "duration": 31,
    "start_time": "2024-03-27T15:46:30.759Z"
   },
   {
    "duration": 3,
    "start_time": "2024-03-27T15:46:31.717Z"
   },
   {
    "duration": 10,
    "start_time": "2024-03-27T15:46:32.863Z"
   },
   {
    "duration": 6,
    "start_time": "2024-03-27T15:46:33.838Z"
   },
   {
    "duration": 1303,
    "start_time": "2024-03-27T15:46:34.694Z"
   },
   {
    "duration": 14,
    "start_time": "2024-03-27T15:46:36.405Z"
   },
   {
    "duration": 45,
    "start_time": "2024-03-27T15:46:37.411Z"
   },
   {
    "duration": 6,
    "start_time": "2024-03-27T15:46:39.110Z"
   },
   {
    "duration": 20,
    "start_time": "2024-03-27T15:46:39.825Z"
   },
   {
    "duration": 20,
    "start_time": "2024-03-27T15:46:43.138Z"
   },
   {
    "duration": 85,
    "start_time": "2024-03-27T15:46:44.862Z"
   },
   {
    "duration": 3384,
    "start_time": "2024-03-27T15:46:49.720Z"
   },
   {
    "duration": 15,
    "start_time": "2024-03-27T15:46:53.350Z"
   },
   {
    "duration": 10,
    "start_time": "2024-03-27T15:46:54.413Z"
   },
   {
    "duration": 210,
    "start_time": "2024-03-27T15:46:55.263Z"
   },
   {
    "duration": 2859,
    "start_time": "2024-03-27T15:46:57.039Z"
   },
   {
    "duration": 3,
    "start_time": "2024-03-27T15:47:00.419Z"
   },
   {
    "duration": 6,
    "start_time": "2024-03-27T15:47:01.424Z"
   },
   {
    "duration": 18976,
    "start_time": "2024-03-27T15:47:02.458Z"
   },
   {
    "duration": 19228,
    "start_time": "2024-03-27T15:47:34.523Z"
   },
   {
    "duration": 185,
    "start_time": "2024-03-27T15:48:06.500Z"
   },
   {
    "duration": 9507,
    "start_time": "2024-03-27T15:48:38.398Z"
   },
   {
    "duration": 103,
    "start_time": "2024-03-27T15:48:47.909Z"
   },
   {
    "duration": 57,
    "start_time": "2024-03-27T15:48:49.760Z"
   },
   {
    "duration": 28,
    "start_time": "2024-03-27T15:48:50.323Z"
   },
   {
    "duration": 26,
    "start_time": "2024-03-27T15:48:50.860Z"
   },
   {
    "duration": 17,
    "start_time": "2024-03-27T15:48:51.348Z"
   },
   {
    "duration": 4,
    "start_time": "2024-03-27T15:48:52.989Z"
   },
   {
    "duration": 70,
    "start_time": "2024-03-27T15:48:53.507Z"
   },
   {
    "duration": 6,
    "start_time": "2024-03-27T15:48:54.055Z"
   },
   {
    "duration": 14,
    "start_time": "2024-03-27T15:48:54.710Z"
   },
   {
    "duration": 45,
    "start_time": "2024-03-27T15:48:55.164Z"
   },
   {
    "duration": 4,
    "start_time": "2024-03-27T15:48:55.810Z"
   },
   {
    "duration": 13,
    "start_time": "2024-03-27T15:48:56.391Z"
   },
   {
    "duration": 31,
    "start_time": "2024-03-27T15:48:56.968Z"
   },
   {
    "duration": 45,
    "start_time": "2024-03-27T15:48:57.526Z"
   },
   {
    "duration": 3,
    "start_time": "2024-03-27T15:48:58.070Z"
   },
   {
    "duration": 16,
    "start_time": "2024-03-27T15:48:58.601Z"
   },
   {
    "duration": 10,
    "start_time": "2024-03-27T15:48:59.101Z"
   },
   {
    "duration": 1314,
    "start_time": "2024-03-27T15:48:59.659Z"
   },
   {
    "duration": 19,
    "start_time": "2024-03-27T15:49:00.975Z"
   },
   {
    "duration": 72,
    "start_time": "2024-03-27T15:49:01.614Z"
   },
   {
    "duration": 7,
    "start_time": "2024-03-27T15:49:03.259Z"
   },
   {
    "duration": 21,
    "start_time": "2024-03-27T15:49:03.858Z"
   },
   {
    "duration": 19,
    "start_time": "2024-03-27T15:49:06.359Z"
   },
   {
    "duration": 79,
    "start_time": "2024-03-27T15:49:07.684Z"
   },
   {
    "duration": 3366,
    "start_time": "2024-03-27T15:49:09.669Z"
   },
   {
    "duration": 13,
    "start_time": "2024-03-27T15:49:13.037Z"
   },
   {
    "duration": 9,
    "start_time": "2024-03-27T15:49:13.220Z"
   },
   {
    "duration": 211,
    "start_time": "2024-03-27T15:49:14.389Z"
   },
   {
    "duration": 2960,
    "start_time": "2024-03-27T15:49:16.182Z"
   },
   {
    "duration": 4,
    "start_time": "2024-03-27T15:49:21.524Z"
   },
   {
    "duration": 5,
    "start_time": "2024-03-27T15:49:22.101Z"
   },
   {
    "duration": 18917,
    "start_time": "2024-03-27T15:49:23.736Z"
   },
   {
    "duration": 150,
    "start_time": "2024-03-27T15:49:42.655Z"
   },
   {
    "duration": 18651,
    "start_time": "2024-03-27T15:50:45.113Z"
   },
   {
    "duration": 255,
    "start_time": "2024-03-27T15:51:14.045Z"
   },
   {
    "duration": 8993,
    "start_time": "2024-03-27T15:53:08.471Z"
   },
   {
    "duration": 89,
    "start_time": "2024-03-27T15:53:17.466Z"
   },
   {
    "duration": 39,
    "start_time": "2024-03-27T15:53:17.557Z"
   },
   {
    "duration": 17,
    "start_time": "2024-03-27T15:53:20.907Z"
   },
   {
    "duration": 17,
    "start_time": "2024-03-27T15:53:21.610Z"
   },
   {
    "duration": 16,
    "start_time": "2024-03-27T15:53:22.142Z"
   },
   {
    "duration": 4,
    "start_time": "2024-03-27T15:53:23.741Z"
   },
   {
    "duration": 61,
    "start_time": "2024-03-27T15:53:24.298Z"
   },
   {
    "duration": 5,
    "start_time": "2024-03-27T15:53:24.947Z"
   },
   {
    "duration": 10,
    "start_time": "2024-03-27T15:53:25.344Z"
   },
   {
    "duration": 33,
    "start_time": "2024-03-27T15:53:25.841Z"
   },
   {
    "duration": 4,
    "start_time": "2024-03-27T15:53:26.290Z"
   },
   {
    "duration": 10,
    "start_time": "2024-03-27T15:53:26.765Z"
   },
   {
    "duration": 33,
    "start_time": "2024-03-27T15:53:27.306Z"
   },
   {
    "duration": 32,
    "start_time": "2024-03-27T15:53:27.758Z"
   },
   {
    "duration": 3,
    "start_time": "2024-03-27T15:53:28.253Z"
   },
   {
    "duration": 11,
    "start_time": "2024-03-27T15:53:28.764Z"
   },
   {
    "duration": 6,
    "start_time": "2024-03-27T15:53:29.340Z"
   },
   {
    "duration": 1312,
    "start_time": "2024-03-27T15:53:29.887Z"
   },
   {
    "duration": 11,
    "start_time": "2024-03-27T15:53:31.201Z"
   },
   {
    "duration": 52,
    "start_time": "2024-03-27T15:53:31.449Z"
   },
   {
    "duration": 6,
    "start_time": "2024-03-27T15:53:32.500Z"
   },
   {
    "duration": 21,
    "start_time": "2024-03-27T15:53:33.127Z"
   },
   {
    "duration": 21,
    "start_time": "2024-03-27T15:53:35.578Z"
   },
   {
    "duration": 113,
    "start_time": "2024-03-27T15:53:36.681Z"
   },
   {
    "duration": 3565,
    "start_time": "2024-03-27T15:53:38.397Z"
   },
   {
    "duration": 40,
    "start_time": "2024-03-27T15:53:41.965Z"
   },
   {
    "duration": 14,
    "start_time": "2024-03-27T15:53:42.007Z"
   },
   {
    "duration": 224,
    "start_time": "2024-03-27T15:53:42.053Z"
   },
   {
    "duration": 2957,
    "start_time": "2024-03-27T15:53:43.805Z"
   },
   {
    "duration": 6,
    "start_time": "2024-03-27T15:53:46.765Z"
   },
   {
    "duration": 6,
    "start_time": "2024-03-27T15:53:47.545Z"
   },
   {
    "duration": 19125,
    "start_time": "2024-03-27T15:53:49.242Z"
   },
   {
    "duration": 396,
    "start_time": "2024-03-27T15:54:40.132Z"
   },
   {
    "duration": 7297,
    "start_time": "2024-03-27T18:24:20.173Z"
   },
   {
    "duration": 264,
    "start_time": "2024-03-27T18:24:31.796Z"
   },
   {
    "duration": 256,
    "start_time": "2024-03-27T18:24:46.512Z"
   },
   {
    "duration": 4,
    "start_time": "2024-03-27T18:24:47.485Z"
   },
   {
    "duration": 235,
    "start_time": "2024-03-27T18:24:57.030Z"
   },
   {
    "duration": 7367,
    "start_time": "2024-03-27T18:25:44.334Z"
   },
   {
    "duration": 274,
    "start_time": "2024-03-27T18:25:57.966Z"
   },
   {
    "duration": 10,
    "start_time": "2024-03-27T18:29:26.880Z"
   },
   {
    "duration": 4,
    "start_time": "2024-03-27T18:30:05.661Z"
   },
   {
    "duration": 9908,
    "start_time": "2024-03-27T18:31:14.392Z"
   },
   {
    "duration": 269,
    "start_time": "2024-03-27T18:31:38.451Z"
   },
   {
    "duration": 4,
    "start_time": "2024-03-27T18:33:46.485Z"
   },
   {
    "duration": 13408,
    "start_time": "2024-03-27T18:35:39.807Z"
   },
   {
    "duration": 5,
    "start_time": "2024-03-27T18:36:06.637Z"
   },
   {
    "duration": 2411,
    "start_time": "2024-03-27T18:37:54.032Z"
   },
   {
    "duration": 4,
    "start_time": "2024-03-27T18:38:04.156Z"
   },
   {
    "duration": 5,
    "start_time": "2024-03-27T18:39:03.453Z"
   },
   {
    "duration": 3,
    "start_time": "2024-03-27T18:39:08.176Z"
   },
   {
    "duration": 2481,
    "start_time": "2024-03-27T18:39:21.852Z"
   },
   {
    "duration": 5,
    "start_time": "2024-03-27T18:39:29.266Z"
   },
   {
    "duration": 11675,
    "start_time": "2024-03-27T18:39:49.831Z"
   },
   {
    "duration": 92,
    "start_time": "2024-03-27T18:40:01.509Z"
   },
   {
    "duration": 224,
    "start_time": "2024-03-27T18:40:01.603Z"
   },
   {
    "duration": 15,
    "start_time": "2024-03-27T18:40:03.617Z"
   },
   {
    "duration": 14,
    "start_time": "2024-03-27T18:40:05.025Z"
   },
   {
    "duration": 13,
    "start_time": "2024-03-27T18:40:05.865Z"
   },
   {
    "duration": 5,
    "start_time": "2024-03-27T18:40:07.676Z"
   },
   {
    "duration": 43,
    "start_time": "2024-03-27T18:40:08.236Z"
   },
   {
    "duration": 4,
    "start_time": "2024-03-27T18:40:08.846Z"
   },
   {
    "duration": 11,
    "start_time": "2024-03-27T18:40:09.373Z"
   },
   {
    "duration": 25,
    "start_time": "2024-03-27T18:40:09.957Z"
   },
   {
    "duration": 3,
    "start_time": "2024-03-27T18:40:10.526Z"
   },
   {
    "duration": 10,
    "start_time": "2024-03-27T18:40:11.069Z"
   },
   {
    "duration": 30,
    "start_time": "2024-03-27T18:40:11.686Z"
   },
   {
    "duration": 25,
    "start_time": "2024-03-27T18:40:12.318Z"
   },
   {
    "duration": 2,
    "start_time": "2024-03-27T18:40:12.880Z"
   },
   {
    "duration": 17,
    "start_time": "2024-03-27T18:40:13.477Z"
   },
   {
    "duration": 6,
    "start_time": "2024-03-27T18:40:14.070Z"
   },
   {
    "duration": 2469,
    "start_time": "2024-03-27T18:40:14.643Z"
   },
   {
    "duration": 7,
    "start_time": "2024-03-27T18:40:17.114Z"
   },
   {
    "duration": 29,
    "start_time": "2024-03-27T18:40:17.122Z"
   },
   {
    "duration": 7,
    "start_time": "2024-03-27T18:40:18.670Z"
   },
   {
    "duration": 140,
    "start_time": "2024-03-27T18:40:19.370Z"
   },
   {
    "duration": 16,
    "start_time": "2024-03-27T18:40:22.517Z"
   },
   {
    "duration": 63,
    "start_time": "2024-03-27T18:40:25.439Z"
   },
   {
    "duration": 4505,
    "start_time": "2024-03-27T18:40:27.567Z"
   },
   {
    "duration": 21,
    "start_time": "2024-03-27T18:40:32.074Z"
   },
   {
    "duration": 9,
    "start_time": "2024-03-27T18:40:32.875Z"
   },
   {
    "duration": 62,
    "start_time": "2024-03-27T18:40:34.080Z"
   },
   {
    "duration": 2244,
    "start_time": "2024-03-27T18:40:35.854Z"
   },
   {
    "duration": 4,
    "start_time": "2024-03-27T18:40:38.955Z"
   },
   {
    "duration": 4,
    "start_time": "2024-03-27T18:40:39.466Z"
   },
   {
    "duration": 18405,
    "start_time": "2024-03-27T18:40:40.242Z"
   },
   {
    "duration": 4,
    "start_time": "2024-03-27T18:40:58.649Z"
   },
   {
    "duration": 475,
    "start_time": "2024-03-27T18:41:01.270Z"
   },
   {
    "duration": 2410,
    "start_time": "2024-03-27T18:41:13.058Z"
   },
   {
    "duration": 9733,
    "start_time": "2024-03-27T18:41:59.915Z"
   },
   {
    "duration": 11465,
    "start_time": "2024-03-27T18:42:18.832Z"
   },
   {
    "duration": 6,
    "start_time": "2024-03-27T18:42:44.482Z"
   },
   {
    "duration": 91,
    "start_time": "2024-03-27T18:42:47.637Z"
   },
   {
    "duration": 29,
    "start_time": "2024-03-27T18:42:48.544Z"
   },
   {
    "duration": 16,
    "start_time": "2024-03-27T18:42:48.973Z"
   },
   {
    "duration": 14,
    "start_time": "2024-03-27T18:42:49.573Z"
   },
   {
    "duration": 13,
    "start_time": "2024-03-27T18:42:50.066Z"
   },
   {
    "duration": 4,
    "start_time": "2024-03-27T18:42:51.498Z"
   },
   {
    "duration": 45,
    "start_time": "2024-03-27T18:42:51.983Z"
   },
   {
    "duration": 6,
    "start_time": "2024-03-27T18:42:52.517Z"
   },
   {
    "duration": 17,
    "start_time": "2024-03-27T18:42:53.012Z"
   },
   {
    "duration": 28,
    "start_time": "2024-03-27T18:42:53.548Z"
   },
   {
    "duration": 4,
    "start_time": "2024-03-27T18:42:54.075Z"
   },
   {
    "duration": 10,
    "start_time": "2024-03-27T18:42:54.624Z"
   },
   {
    "duration": 27,
    "start_time": "2024-03-27T18:42:55.142Z"
   },
   {
    "duration": 27,
    "start_time": "2024-03-27T18:42:55.582Z"
   },
   {
    "duration": 3,
    "start_time": "2024-03-27T18:42:56.232Z"
   },
   {
    "duration": 12,
    "start_time": "2024-03-27T18:42:56.712Z"
   },
   {
    "duration": 9,
    "start_time": "2024-03-27T18:42:57.289Z"
   },
   {
    "duration": 2469,
    "start_time": "2024-03-27T18:42:57.848Z"
   },
   {
    "duration": 7,
    "start_time": "2024-03-27T18:43:00.319Z"
   },
   {
    "duration": 84,
    "start_time": "2024-03-27T18:43:00.327Z"
   },
   {
    "duration": 7,
    "start_time": "2024-03-27T18:43:01.105Z"
   },
   {
    "duration": 24,
    "start_time": "2024-03-27T18:43:01.639Z"
   },
   {
    "duration": 17,
    "start_time": "2024-03-27T18:43:03.966Z"
   },
   {
    "duration": 73,
    "start_time": "2024-03-27T18:43:05.141Z"
   },
   {
    "duration": 4727,
    "start_time": "2024-03-27T18:43:06.929Z"
   },
   {
    "duration": 12,
    "start_time": "2024-03-27T18:43:11.658Z"
   },
   {
    "duration": 27,
    "start_time": "2024-03-27T18:43:11.672Z"
   },
   {
    "duration": 193,
    "start_time": "2024-03-27T18:43:12.512Z"
   },
   {
    "duration": 2373,
    "start_time": "2024-03-27T18:43:14.037Z"
   },
   {
    "duration": 4,
    "start_time": "2024-03-27T18:43:16.412Z"
   },
   {
    "duration": 5,
    "start_time": "2024-03-27T18:43:16.703Z"
   },
   {
    "duration": 18883,
    "start_time": "2024-03-27T18:43:17.696Z"
   },
   {
    "duration": 506,
    "start_time": "2024-03-27T18:43:41.611Z"
   },
   {
    "duration": 366,
    "start_time": "2024-03-27T18:45:13.440Z"
   },
   {
    "duration": 1208,
    "start_time": "2024-03-27T18:45:26.856Z"
   },
   {
    "duration": 348,
    "start_time": "2024-03-27T18:46:32.229Z"
   },
   {
    "duration": 358,
    "start_time": "2024-03-27T18:49:42.569Z"
   },
   {
    "duration": 11,
    "start_time": "2024-03-27T19:36:33.799Z"
   },
   {
    "duration": 15,
    "start_time": "2024-03-27T19:36:35.748Z"
   },
   {
    "duration": 8,
    "start_time": "2024-03-27T19:37:38.083Z"
   },
   {
    "duration": 5270,
    "start_time": "2024-03-27T19:38:45.436Z"
   },
   {
    "duration": 43,
    "start_time": "2024-03-27T19:41:30.468Z"
   },
   {
    "duration": 4,
    "start_time": "2024-03-27T20:12:18.758Z"
   },
   {
    "duration": 4,
    "start_time": "2024-03-27T20:12:39.646Z"
   },
   {
    "duration": 16868,
    "start_time": "2024-03-27T20:14:51.593Z"
   },
   {
    "duration": 11631,
    "start_time": "2024-03-27T20:15:17.481Z"
   },
   {
    "duration": 5,
    "start_time": "2024-03-27T20:15:29.115Z"
   },
   {
    "duration": 107,
    "start_time": "2024-03-27T20:15:29.122Z"
   },
   {
    "duration": 25,
    "start_time": "2024-03-27T20:15:35.761Z"
   },
   {
    "duration": 14,
    "start_time": "2024-03-27T20:15:36.133Z"
   },
   {
    "duration": 14,
    "start_time": "2024-03-27T20:15:36.514Z"
   },
   {
    "duration": 12,
    "start_time": "2024-03-27T20:15:36.706Z"
   },
   {
    "duration": 3,
    "start_time": "2024-03-27T20:15:38.568Z"
   },
   {
    "duration": 48,
    "start_time": "2024-03-27T20:15:39.134Z"
   },
   {
    "duration": 5,
    "start_time": "2024-03-27T20:15:39.705Z"
   },
   {
    "duration": 11,
    "start_time": "2024-03-27T20:15:40.304Z"
   },
   {
    "duration": 25,
    "start_time": "2024-03-27T20:15:40.806Z"
   },
   {
    "duration": 3,
    "start_time": "2024-03-27T20:15:41.372Z"
   },
   {
    "duration": 10,
    "start_time": "2024-03-27T20:15:41.910Z"
   },
   {
    "duration": 24,
    "start_time": "2024-03-27T20:15:42.422Z"
   },
   {
    "duration": 27,
    "start_time": "2024-03-27T20:15:42.960Z"
   },
   {
    "duration": 3,
    "start_time": "2024-03-27T20:15:43.482Z"
   },
   {
    "duration": 11,
    "start_time": "2024-03-27T20:15:44.078Z"
   },
   {
    "duration": 6,
    "start_time": "2024-03-27T20:15:44.641Z"
   },
   {
    "duration": 2573,
    "start_time": "2024-03-27T20:15:45.158Z"
   },
   {
    "duration": 7,
    "start_time": "2024-03-27T20:15:47.733Z"
   },
   {
    "duration": 27,
    "start_time": "2024-03-27T20:15:47.741Z"
   },
   {
    "duration": 7,
    "start_time": "2024-03-27T20:15:48.220Z"
   },
   {
    "duration": 22,
    "start_time": "2024-03-27T20:15:48.882Z"
   },
   {
    "duration": 16,
    "start_time": "2024-03-27T20:15:51.534Z"
   },
   {
    "duration": 72,
    "start_time": "2024-03-27T20:15:52.616Z"
   },
   {
    "duration": 4862,
    "start_time": "2024-03-27T20:15:54.346Z"
   },
   {
    "duration": 11,
    "start_time": "2024-03-27T20:15:59.211Z"
   },
   {
    "duration": 30,
    "start_time": "2024-03-27T20:15:59.223Z"
   },
   {
    "duration": 64,
    "start_time": "2024-03-27T20:16:00.507Z"
   },
   {
    "duration": 2021,
    "start_time": "2024-03-27T20:16:02.425Z"
   },
   {
    "duration": 4,
    "start_time": "2024-03-27T20:16:04.873Z"
   },
   {
    "duration": 6,
    "start_time": "2024-03-27T20:16:05.502Z"
   },
   {
    "duration": 18072,
    "start_time": "2024-03-27T20:16:10.469Z"
   },
   {
    "duration": 592,
    "start_time": "2024-03-27T20:16:40.684Z"
   },
   {
    "duration": 8,
    "start_time": "2024-03-27T20:17:26.590Z"
   },
   {
    "duration": 14,
    "start_time": "2024-03-27T20:17:27.963Z"
   },
   {
    "duration": 8,
    "start_time": "2024-03-27T20:17:29.334Z"
   },
   {
    "duration": 5731,
    "start_time": "2024-03-27T20:17:30.252Z"
   },
   {
    "duration": 49,
    "start_time": "2024-03-27T20:17:35.985Z"
   },
   {
    "duration": 86,
    "start_time": "2024-03-27T20:19:28.560Z"
   },
   {
    "duration": 155,
    "start_time": "2024-03-27T20:24:42.552Z"
   },
   {
    "duration": 43,
    "start_time": "2024-03-27T20:25:03.147Z"
   },
   {
    "duration": 46,
    "start_time": "2024-03-27T20:59:53.675Z"
   },
   {
    "duration": 97951,
    "start_time": "2024-03-28T04:41:42.002Z"
   },
   {
    "duration": 13399,
    "start_time": "2024-03-28T05:14:44.356Z"
   },
   {
    "duration": 6,
    "start_time": "2024-03-28T05:14:57.757Z"
   },
   {
    "duration": 376,
    "start_time": "2024-03-28T05:14:57.765Z"
   },
   {
    "duration": 27,
    "start_time": "2024-03-28T05:14:58.143Z"
   },
   {
    "duration": 16,
    "start_time": "2024-03-28T05:14:58.172Z"
   },
   {
    "duration": 15,
    "start_time": "2024-03-28T05:14:58.190Z"
   },
   {
    "duration": 17,
    "start_time": "2024-03-28T05:14:58.206Z"
   },
   {
    "duration": 6,
    "start_time": "2024-03-28T05:14:58.225Z"
   },
   {
    "duration": 71,
    "start_time": "2024-03-28T05:14:58.233Z"
   },
   {
    "duration": 4,
    "start_time": "2024-03-28T05:14:58.307Z"
   },
   {
    "duration": 25,
    "start_time": "2024-03-28T05:14:58.313Z"
   },
   {
    "duration": 43,
    "start_time": "2024-03-28T05:14:58.340Z"
   },
   {
    "duration": 3,
    "start_time": "2024-03-28T05:14:58.385Z"
   },
   {
    "duration": 24,
    "start_time": "2024-03-28T05:14:58.390Z"
   },
   {
    "duration": 28,
    "start_time": "2024-03-28T05:14:58.416Z"
   },
   {
    "duration": 50,
    "start_time": "2024-03-28T05:14:58.445Z"
   },
   {
    "duration": 3,
    "start_time": "2024-03-28T05:14:58.497Z"
   },
   {
    "duration": 13,
    "start_time": "2024-03-28T05:14:58.501Z"
   },
   {
    "duration": 6,
    "start_time": "2024-03-28T05:14:58.516Z"
   },
   {
    "duration": 2780,
    "start_time": "2024-03-28T05:14:58.523Z"
   },
   {
    "duration": 7,
    "start_time": "2024-03-28T05:15:01.305Z"
   },
   {
    "duration": 159,
    "start_time": "2024-03-28T05:15:01.314Z"
   },
   {
    "duration": 197,
    "start_time": "2024-03-28T05:15:01.475Z"
   },
   {
    "duration": 240,
    "start_time": "2024-03-28T05:15:01.674Z"
   },
   {
    "duration": 64,
    "start_time": "2024-03-28T05:15:01.916Z"
   },
   {
    "duration": 128,
    "start_time": "2024-03-28T05:15:01.982Z"
   },
   {
    "duration": 5296,
    "start_time": "2024-03-28T05:15:02.112Z"
   },
   {
    "duration": 13,
    "start_time": "2024-03-28T05:15:07.411Z"
   },
   {
    "duration": 18,
    "start_time": "2024-03-28T05:15:07.425Z"
   },
   {
    "duration": 88,
    "start_time": "2024-03-28T05:15:07.445Z"
   },
   {
    "duration": 2187,
    "start_time": "2024-03-28T05:15:07.535Z"
   },
   {
    "duration": 5,
    "start_time": "2024-03-28T05:15:09.724Z"
   },
   {
    "duration": 9,
    "start_time": "2024-03-28T05:15:09.730Z"
   },
   {
    "duration": 20588,
    "start_time": "2024-03-28T05:15:09.741Z"
   },
   {
    "duration": 599,
    "start_time": "2024-03-28T05:15:30.331Z"
   },
   {
    "duration": 1245,
    "start_time": "2024-03-28T05:15:30.931Z"
   },
   {
    "duration": 7,
    "start_time": "2024-03-28T05:15:32.178Z"
   },
   {
    "duration": 60,
    "start_time": "2024-03-28T05:15:32.187Z"
   },
   {
    "duration": 19,
    "start_time": "2024-03-28T05:15:32.249Z"
   },
   {
    "duration": 6098,
    "start_time": "2024-03-28T05:15:32.270Z"
   },
   {
    "duration": 46,
    "start_time": "2024-03-28T05:15:38.372Z"
   },
   {
    "duration": 10611,
    "start_time": "2024-03-28T05:45:46.838Z"
   },
   {
    "duration": 24,
    "start_time": "2024-03-28T06:09:43.407Z"
   },
   {
    "duration": 4,
    "start_time": "2024-03-28T06:10:22.101Z"
   },
   {
    "duration": 2761,
    "start_time": "2024-03-28T06:17:23.749Z"
   },
   {
    "duration": 10111,
    "start_time": "2024-03-28T06:34:53.300Z"
   },
   {
    "duration": 10107,
    "start_time": "2024-03-28T06:35:43.074Z"
   },
   {
    "duration": 9943,
    "start_time": "2024-03-28T06:36:16.026Z"
   },
   {
    "duration": 10524,
    "start_time": "2024-03-28T06:38:37.559Z"
   },
   {
    "duration": 10339,
    "start_time": "2024-03-28T06:40:22.148Z"
   },
   {
    "duration": 95,
    "start_time": "2024-03-28T06:40:32.490Z"
   },
   {
    "duration": 23,
    "start_time": "2024-03-28T06:40:35.927Z"
   },
   {
    "duration": 14,
    "start_time": "2024-03-28T06:40:38.888Z"
   },
   {
    "duration": 14,
    "start_time": "2024-03-28T06:40:42.379Z"
   },
   {
    "duration": 14,
    "start_time": "2024-03-28T06:40:43.237Z"
   },
   {
    "duration": 4,
    "start_time": "2024-03-28T06:40:48.028Z"
   },
   {
    "duration": 49,
    "start_time": "2024-03-28T06:40:51.522Z"
   },
   {
    "duration": 5,
    "start_time": "2024-03-28T06:40:52.538Z"
   },
   {
    "duration": 12,
    "start_time": "2024-03-28T06:40:53.333Z"
   },
   {
    "duration": 28,
    "start_time": "2024-03-28T06:40:54.283Z"
   },
   {
    "duration": 3,
    "start_time": "2024-03-28T06:40:54.799Z"
   },
   {
    "duration": 13,
    "start_time": "2024-03-28T06:40:55.674Z"
   },
   {
    "duration": 33,
    "start_time": "2024-03-28T06:40:56.379Z"
   },
   {
    "duration": 31,
    "start_time": "2024-03-28T06:40:57.783Z"
   },
   {
    "duration": 4,
    "start_time": "2024-03-28T06:40:58.412Z"
   },
   {
    "duration": 14,
    "start_time": "2024-03-28T06:40:59.251Z"
   },
   {
    "duration": 7,
    "start_time": "2024-03-28T06:40:59.854Z"
   },
   {
    "duration": 2564,
    "start_time": "2024-03-28T06:41:03.475Z"
   },
   {
    "duration": 2651,
    "start_time": "2024-03-28T06:43:16.596Z"
   },
   {
    "duration": 2730,
    "start_time": "2024-03-28T06:43:46.315Z"
   },
   {
    "duration": 2519,
    "start_time": "2024-03-28T06:46:36.106Z"
   },
   {
    "duration": 2801,
    "start_time": "2024-03-28T06:54:43.952Z"
   },
   {
    "duration": 2513,
    "start_time": "2024-03-28T06:55:37.532Z"
   },
   {
    "duration": 19,
    "start_time": "2024-03-28T07:19:31.960Z"
   },
   {
    "duration": 14,
    "start_time": "2024-03-28T07:19:50.869Z"
   },
   {
    "duration": 3482,
    "start_time": "2024-03-28T07:20:23.328Z"
   },
   {
    "duration": 3137,
    "start_time": "2024-03-28T07:22:08.388Z"
   },
   {
    "duration": 2683,
    "start_time": "2024-03-28T07:22:22.190Z"
   },
   {
    "duration": 3363,
    "start_time": "2024-03-28T07:24:41.367Z"
   },
   {
    "duration": 2778,
    "start_time": "2024-03-28T07:25:49.865Z"
   },
   {
    "duration": 8146,
    "start_time": "2024-03-28T07:29:16.759Z"
   },
   {
    "duration": 604,
    "start_time": "2024-03-28T07:40:04.891Z"
   },
   {
    "duration": 532,
    "start_time": "2024-03-28T07:40:43.778Z"
   },
   {
    "duration": 545,
    "start_time": "2024-03-28T07:41:16.373Z"
   },
   {
    "duration": 491,
    "start_time": "2024-03-28T07:42:39.926Z"
   },
   {
    "duration": 50,
    "start_time": "2024-03-28T09:23:24.581Z"
   },
   {
    "duration": 18961,
    "start_time": "2024-03-28T09:23:36.561Z"
   },
   {
    "duration": 0,
    "start_time": "2024-03-28T09:23:55.524Z"
   },
   {
    "duration": 0,
    "start_time": "2024-03-28T09:23:55.525Z"
   },
   {
    "duration": 0,
    "start_time": "2024-03-28T09:23:55.527Z"
   },
   {
    "duration": 0,
    "start_time": "2024-03-28T09:23:55.528Z"
   },
   {
    "duration": 0,
    "start_time": "2024-03-28T09:23:55.529Z"
   },
   {
    "duration": 0,
    "start_time": "2024-03-28T09:23:55.530Z"
   },
   {
    "duration": 0,
    "start_time": "2024-03-28T09:23:55.531Z"
   },
   {
    "duration": 0,
    "start_time": "2024-03-28T09:23:55.533Z"
   },
   {
    "duration": 0,
    "start_time": "2024-03-28T09:23:55.534Z"
   },
   {
    "duration": 0,
    "start_time": "2024-03-28T09:23:55.535Z"
   },
   {
    "duration": 0,
    "start_time": "2024-03-28T09:23:55.536Z"
   },
   {
    "duration": 1,
    "start_time": "2024-03-28T09:23:55.558Z"
   },
   {
    "duration": 9,
    "start_time": "2024-03-28T09:24:02.231Z"
   },
   {
    "duration": 9416,
    "start_time": "2024-03-28T09:24:13.780Z"
   },
   {
    "duration": 31,
    "start_time": "2024-03-28T09:25:04.383Z"
   },
   {
    "duration": 1733,
    "start_time": "2024-03-28T09:28:18.358Z"
   },
   {
    "duration": 341,
    "start_time": "2024-03-28T09:28:28.664Z"
   },
   {
    "duration": 24,
    "start_time": "2024-03-28T09:28:32.650Z"
   },
   {
    "duration": 19,
    "start_time": "2024-03-28T09:28:33.670Z"
   },
   {
    "duration": 17,
    "start_time": "2024-03-28T09:28:34.599Z"
   },
   {
    "duration": 16,
    "start_time": "2024-03-28T09:28:35.303Z"
   },
   {
    "duration": 6,
    "start_time": "2024-03-28T09:28:38.075Z"
   },
   {
    "duration": 47,
    "start_time": "2024-03-28T09:29:33.363Z"
   },
   {
    "duration": 6,
    "start_time": "2024-03-28T09:29:34.271Z"
   },
   {
    "duration": 16,
    "start_time": "2024-03-28T09:29:34.862Z"
   },
   {
    "duration": 32,
    "start_time": "2024-03-28T09:29:35.411Z"
   },
   {
    "duration": 4,
    "start_time": "2024-03-28T09:29:35.992Z"
   },
   {
    "duration": 13,
    "start_time": "2024-03-28T09:29:36.534Z"
   },
   {
    "duration": 33,
    "start_time": "2024-03-28T09:29:37.023Z"
   },
   {
    "duration": 31,
    "start_time": "2024-03-28T09:29:37.663Z"
   },
   {
    "duration": 3,
    "start_time": "2024-03-28T09:29:38.251Z"
   },
   {
    "duration": 11,
    "start_time": "2024-03-28T09:29:38.912Z"
   },
   {
    "duration": 8,
    "start_time": "2024-03-28T09:29:39.594Z"
   },
   {
    "duration": 1161,
    "start_time": "2024-03-28T09:29:42.044Z"
   },
   {
    "duration": 6,
    "start_time": "2024-03-28T09:29:44.122Z"
   },
   {
    "duration": 29,
    "start_time": "2024-03-28T09:29:46.382Z"
   },
   {
    "duration": 7,
    "start_time": "2024-03-28T09:29:48.442Z"
   },
   {
    "duration": 31,
    "start_time": "2024-03-28T09:29:49.242Z"
   },
   {
    "duration": 20,
    "start_time": "2024-03-28T09:29:53.164Z"
   },
   {
    "duration": 75,
    "start_time": "2024-03-28T09:30:01.982Z"
   },
   {
    "duration": 158,
    "start_time": "2024-03-28T09:30:12.549Z"
   },
   {
    "duration": 15,
    "start_time": "2024-03-28T09:30:26.244Z"
   },
   {
    "duration": 2887,
    "start_time": "2024-03-28T09:31:04.823Z"
   },
   {
    "duration": 25556,
    "start_time": "2024-03-28T09:32:20.341Z"
   },
   {
    "duration": 462,
    "start_time": "2024-03-28T10:29:58.652Z"
   },
   {
    "duration": 25337,
    "start_time": "2024-03-28T10:31:13.623Z"
   },
   {
    "duration": 25545,
    "start_time": "2024-03-28T10:32:23.115Z"
   },
   {
    "duration": 439,
    "start_time": "2024-03-28T10:59:10.044Z"
   },
   {
    "duration": 25,
    "start_time": "2024-03-28T11:09:02.239Z"
   },
   {
    "duration": 20,
    "start_time": "2024-03-28T11:09:34.836Z"
   },
   {
    "duration": 17,
    "start_time": "2024-03-28T11:36:25.990Z"
   },
   {
    "duration": 671,
    "start_time": "2024-03-28T11:43:22.365Z"
   },
   {
    "duration": 31,
    "start_time": "2024-03-28T12:23:53.237Z"
   },
   {
    "duration": 25,
    "start_time": "2024-03-28T12:24:12.575Z"
   },
   {
    "duration": 28,
    "start_time": "2024-03-28T12:29:45.164Z"
   },
   {
    "duration": 24,
    "start_time": "2024-03-28T12:37:59.019Z"
   },
   {
    "duration": 1667,
    "start_time": "2024-03-28T12:38:20.912Z"
   },
   {
    "duration": 84,
    "start_time": "2024-03-28T12:38:24.589Z"
   },
   {
    "duration": 28,
    "start_time": "2024-03-28T12:38:27.498Z"
   },
   {
    "duration": 14,
    "start_time": "2024-03-28T12:38:28.206Z"
   },
   {
    "duration": 13,
    "start_time": "2024-03-28T12:38:28.860Z"
   },
   {
    "duration": 13,
    "start_time": "2024-03-28T12:38:29.393Z"
   },
   {
    "duration": 4,
    "start_time": "2024-03-28T12:38:33.340Z"
   },
   {
    "duration": 43,
    "start_time": "2024-03-28T12:38:35.392Z"
   },
   {
    "duration": 4,
    "start_time": "2024-03-28T12:38:36.236Z"
   },
   {
    "duration": 10,
    "start_time": "2024-03-28T12:38:48.463Z"
   },
   {
    "duration": 25,
    "start_time": "2024-03-28T12:38:49.704Z"
   },
   {
    "duration": 4,
    "start_time": "2024-03-28T12:38:56.037Z"
   },
   {
    "duration": 10,
    "start_time": "2024-03-28T12:38:56.767Z"
   },
   {
    "duration": 27,
    "start_time": "2024-03-28T12:38:57.325Z"
   },
   {
    "duration": 29,
    "start_time": "2024-03-28T12:38:57.959Z"
   },
   {
    "duration": 3,
    "start_time": "2024-03-28T12:38:58.946Z"
   },
   {
    "duration": 13,
    "start_time": "2024-03-28T12:39:01.671Z"
   },
   {
    "duration": 6,
    "start_time": "2024-03-28T12:39:03.081Z"
   },
   {
    "duration": 1022,
    "start_time": "2024-03-28T12:39:04.524Z"
   },
   {
    "duration": 27,
    "start_time": "2024-03-28T12:39:06.810Z"
   },
   {
    "duration": 32,
    "start_time": "2024-03-28T12:39:09.469Z"
   },
   {
    "duration": 6,
    "start_time": "2024-03-28T12:39:12.139Z"
   },
   {
    "duration": 19,
    "start_time": "2024-03-28T12:39:12.675Z"
   },
   {
    "duration": 15,
    "start_time": "2024-03-28T12:39:18.147Z"
   },
   {
    "duration": 74,
    "start_time": "2024-03-28T12:39:22.459Z"
   },
   {
    "duration": 172,
    "start_time": "2024-03-28T12:39:35.471Z"
   },
   {
    "duration": 26,
    "start_time": "2024-03-28T12:40:00.032Z"
   },
   {
    "duration": 21,
    "start_time": "2024-03-28T12:42:37.582Z"
   },
   {
    "duration": 20,
    "start_time": "2024-03-28T12:42:59.561Z"
   },
   {
    "duration": 1698,
    "start_time": "2024-03-28T12:43:55.851Z"
   },
   {
    "duration": 85,
    "start_time": "2024-03-28T12:43:59.035Z"
   },
   {
    "duration": 22,
    "start_time": "2024-03-28T12:44:00.558Z"
   },
   {
    "duration": 15,
    "start_time": "2024-03-28T12:44:01.198Z"
   },
   {
    "duration": 14,
    "start_time": "2024-03-28T12:44:01.746Z"
   },
   {
    "duration": 13,
    "start_time": "2024-03-28T12:44:02.794Z"
   },
   {
    "duration": 4,
    "start_time": "2024-03-28T12:44:05.146Z"
   },
   {
    "duration": 43,
    "start_time": "2024-03-28T12:44:06.293Z"
   },
   {
    "duration": 5,
    "start_time": "2024-03-28T12:44:07.026Z"
   },
   {
    "duration": 10,
    "start_time": "2024-03-28T12:44:09.099Z"
   },
   {
    "duration": 25,
    "start_time": "2024-03-28T12:44:09.687Z"
   },
   {
    "duration": 5,
    "start_time": "2024-03-28T12:44:10.390Z"
   },
   {
    "duration": 10,
    "start_time": "2024-03-28T12:44:10.971Z"
   },
   {
    "duration": 33,
    "start_time": "2024-03-28T12:44:11.665Z"
   },
   {
    "duration": 25,
    "start_time": "2024-03-28T12:44:12.284Z"
   },
   {
    "duration": 3,
    "start_time": "2024-03-28T12:44:12.870Z"
   },
   {
    "duration": 12,
    "start_time": "2024-03-28T12:44:13.645Z"
   },
   {
    "duration": 7,
    "start_time": "2024-03-28T12:44:14.227Z"
   },
   {
    "duration": 1037,
    "start_time": "2024-03-28T12:44:15.444Z"
   },
   {
    "duration": 6,
    "start_time": "2024-03-28T12:44:18.443Z"
   },
   {
    "duration": 26,
    "start_time": "2024-03-28T12:44:20.745Z"
   },
   {
    "duration": 6,
    "start_time": "2024-03-28T12:44:22.619Z"
   },
   {
    "duration": 19,
    "start_time": "2024-03-28T12:44:23.313Z"
   },
   {
    "duration": 14,
    "start_time": "2024-03-28T12:44:26.785Z"
   },
   {
    "duration": 72,
    "start_time": "2024-03-28T12:44:28.630Z"
   },
   {
    "duration": 145,
    "start_time": "2024-03-28T12:44:35.382Z"
   },
   {
    "duration": 21,
    "start_time": "2024-03-28T12:45:54.735Z"
   },
   {
    "duration": 98,
    "start_time": "2024-03-28T13:02:00.173Z"
   },
   {
    "duration": 24,
    "start_time": "2024-03-28T14:01:40.929Z"
   },
   {
    "duration": 1372,
    "start_time": "2024-03-28T14:04:43.517Z"
   },
   {
    "duration": 1434,
    "start_time": "2024-03-28T14:06:31.808Z"
   },
   {
    "duration": 1536,
    "start_time": "2024-03-28T14:09:09.361Z"
   },
   {
    "duration": 133,
    "start_time": "2024-03-28T14:09:56.363Z"
   },
   {
    "duration": 1275,
    "start_time": "2024-03-28T14:11:28.475Z"
   },
   {
    "duration": 441,
    "start_time": "2024-03-28T14:11:47.818Z"
   },
   {
    "duration": 87,
    "start_time": "2024-03-28T14:21:20.401Z"
   },
   {
    "duration": 17,
    "start_time": "2024-03-28T14:22:14.273Z"
   },
   {
    "duration": 15,
    "start_time": "2024-03-28T14:24:30.355Z"
   },
   {
    "duration": 15,
    "start_time": "2024-03-28T14:24:51.921Z"
   },
   {
    "duration": 16,
    "start_time": "2024-03-28T14:25:14.902Z"
   },
   {
    "duration": 28,
    "start_time": "2024-03-28T16:56:10.334Z"
   },
   {
    "duration": 1269,
    "start_time": "2024-03-28T16:57:56.210Z"
   },
   {
    "duration": 4294,
    "start_time": "2024-03-28T16:59:20.873Z"
   },
   {
    "duration": 95,
    "start_time": "2024-03-28T17:04:14.955Z"
   },
   {
    "duration": 22,
    "start_time": "2024-03-28T17:04:23.753Z"
   },
   {
    "duration": 22,
    "start_time": "2024-03-28T17:04:42.300Z"
   },
   {
    "duration": 4205,
    "start_time": "2024-03-28T18:26:56.655Z"
   },
   {
    "duration": 25,
    "start_time": "2024-03-28T18:27:53.647Z"
   },
   {
    "duration": 75995,
    "start_time": "2024-03-28T18:29:15.387Z"
   },
   {
    "duration": 26,
    "start_time": "2024-03-28T18:39:40.432Z"
   },
   {
    "duration": 22,
    "start_time": "2024-03-28T18:39:55.883Z"
   },
   {
    "duration": 21,
    "start_time": "2024-03-28T18:41:48.595Z"
   },
   {
    "duration": 16,
    "start_time": "2024-03-28T18:43:58.102Z"
   },
   {
    "duration": 16,
    "start_time": "2024-03-28T18:46:38.178Z"
   },
   {
    "duration": 147,
    "start_time": "2024-03-28T18:46:49.185Z"
   },
   {
    "duration": 12,
    "start_time": "2024-03-28T18:48:50.808Z"
   },
   {
    "duration": 192,
    "start_time": "2024-03-28T18:50:52.550Z"
   },
   {
    "duration": 15,
    "start_time": "2024-03-28T18:51:15.424Z"
   },
   {
    "duration": 15,
    "start_time": "2024-03-28T18:52:39.389Z"
   },
   {
    "duration": 122,
    "start_time": "2024-03-28T19:00:07.622Z"
   },
   {
    "duration": 120,
    "start_time": "2024-03-28T19:00:18.617Z"
   },
   {
    "duration": 18,
    "start_time": "2024-03-28T19:02:45.355Z"
   },
   {
    "duration": 122,
    "start_time": "2024-03-28T19:02:53.253Z"
   },
   {
    "duration": 130,
    "start_time": "2024-03-28T19:08:19.921Z"
   },
   {
    "duration": 126,
    "start_time": "2024-03-28T19:08:35.027Z"
   },
   {
    "duration": 109,
    "start_time": "2024-03-28T19:10:27.532Z"
   },
   {
    "duration": 14,
    "start_time": "2024-03-28T19:10:42.695Z"
   },
   {
    "duration": 11,
    "start_time": "2024-03-28T19:11:48.095Z"
   },
   {
    "duration": 16,
    "start_time": "2024-03-28T19:11:56.438Z"
   },
   {
    "duration": 203,
    "start_time": "2024-03-28T19:18:22.070Z"
   },
   {
    "duration": 1732,
    "start_time": "2024-03-28T19:19:47.133Z"
   },
   {
    "duration": 24852,
    "start_time": "2024-03-28T19:21:05.580Z"
   },
   {
    "duration": 25780,
    "start_time": "2024-03-28T19:21:50.341Z"
   },
   {
    "duration": 25108,
    "start_time": "2024-03-28T19:22:24.883Z"
   },
   {
    "duration": 25246,
    "start_time": "2024-03-28T19:23:30.302Z"
   },
   {
    "duration": 25140,
    "start_time": "2024-03-28T19:24:10.120Z"
   },
   {
    "duration": 25317,
    "start_time": "2024-03-28T19:24:39.166Z"
   },
   {
    "duration": 442,
    "start_time": "2024-03-28T19:25:32.975Z"
   },
   {
    "duration": 16,
    "start_time": "2024-03-28T19:26:26.288Z"
   },
   {
    "duration": 24928,
    "start_time": "2024-03-28T19:26:37.892Z"
   },
   {
    "duration": 20,
    "start_time": "2024-03-28T19:29:16.539Z"
   },
   {
    "duration": 109,
    "start_time": "2024-03-28T19:50:55.454Z"
   },
   {
    "duration": 98,
    "start_time": "2024-03-28T19:51:02.144Z"
   },
   {
    "duration": 88,
    "start_time": "2024-03-28T19:52:30.060Z"
   },
   {
    "duration": 13,
    "start_time": "2024-03-28T19:52:36.924Z"
   },
   {
    "duration": 9,
    "start_time": "2024-03-28T19:52:59.311Z"
   },
   {
    "duration": 38874,
    "start_time": "2024-03-28T19:53:44.091Z"
   },
   {
    "duration": 1666,
    "start_time": "2024-03-28T19:55:21.636Z"
   },
   {
    "duration": 87,
    "start_time": "2024-03-28T19:55:23.817Z"
   },
   {
    "duration": 22,
    "start_time": "2024-03-28T19:55:26.035Z"
   },
   {
    "duration": 14,
    "start_time": "2024-03-28T19:55:26.923Z"
   },
   {
    "duration": 14,
    "start_time": "2024-03-28T19:55:27.747Z"
   },
   {
    "duration": 13,
    "start_time": "2024-03-28T19:55:28.500Z"
   },
   {
    "duration": 4,
    "start_time": "2024-03-28T19:55:31.187Z"
   },
   {
    "duration": 42,
    "start_time": "2024-03-28T19:55:33.181Z"
   },
   {
    "duration": 4,
    "start_time": "2024-03-28T19:55:34.123Z"
   },
   {
    "duration": 10,
    "start_time": "2024-03-28T19:55:34.925Z"
   },
   {
    "duration": 26,
    "start_time": "2024-03-28T19:55:35.683Z"
   },
   {
    "duration": 3,
    "start_time": "2024-03-28T19:55:36.388Z"
   },
   {
    "duration": 9,
    "start_time": "2024-03-28T19:55:37.717Z"
   },
   {
    "duration": 25,
    "start_time": "2024-03-28T19:55:56.534Z"
   },
   {
    "duration": 28,
    "start_time": "2024-03-28T19:55:59.992Z"
   },
   {
    "duration": 3,
    "start_time": "2024-03-28T19:56:01.175Z"
   },
   {
    "duration": 11,
    "start_time": "2024-03-28T19:56:02.815Z"
   },
   {
    "duration": 6,
    "start_time": "2024-03-28T19:56:04.642Z"
   },
   {
    "duration": 1018,
    "start_time": "2024-03-28T19:56:06.092Z"
   },
   {
    "duration": 1091,
    "start_time": "2024-03-28T19:56:25.519Z"
   },
   {
    "duration": 7,
    "start_time": "2024-03-28T19:56:31.458Z"
   },
   {
    "duration": 26,
    "start_time": "2024-03-28T19:56:33.740Z"
   },
   {
    "duration": 6,
    "start_time": "2024-03-28T19:56:36.945Z"
   },
   {
    "duration": 20,
    "start_time": "2024-03-28T19:56:37.988Z"
   },
   {
    "duration": 17,
    "start_time": "2024-03-28T19:56:43.401Z"
   },
   {
    "duration": 67,
    "start_time": "2024-03-28T19:56:47.498Z"
   },
   {
    "duration": 12,
    "start_time": "2024-03-28T19:57:15.126Z"
   },
   {
    "duration": 9,
    "start_time": "2024-03-28T19:57:26.697Z"
   },
   {
    "duration": 73425,
    "start_time": "2024-03-28T19:57:29.334Z"
   },
   {
    "duration": 132,
    "start_time": "2024-03-28T19:59:39.196Z"
   },
   {
    "duration": 16,
    "start_time": "2024-03-28T20:00:12.240Z"
   },
   {
    "duration": 485,
    "start_time": "2024-03-28T20:01:19.365Z"
   },
   {
    "duration": 11,
    "start_time": "2024-03-28T20:05:04.145Z"
   },
   {
    "duration": 1452,
    "start_time": "2024-03-28T20:06:46.789Z"
   },
   {
    "duration": 293,
    "start_time": "2024-03-28T20:06:56.249Z"
   },
   {
    "duration": 21,
    "start_time": "2024-03-28T20:08:38.589Z"
   },
   {
    "duration": 295,
    "start_time": "2024-03-28T20:08:52.655Z"
   },
   {
    "duration": 279,
    "start_time": "2024-03-28T20:16:21.403Z"
   },
   {
    "duration": 238,
    "start_time": "2024-03-28T20:16:40.121Z"
   },
   {
    "duration": 227,
    "start_time": "2024-03-28T20:21:14.239Z"
   },
   {
    "duration": 218,
    "start_time": "2024-03-28T20:21:38.256Z"
   },
   {
    "duration": 256,
    "start_time": "2024-03-28T20:21:51.991Z"
   },
   {
    "duration": 290,
    "start_time": "2024-03-28T20:22:16.096Z"
   },
   {
    "duration": 23,
    "start_time": "2024-03-28T20:23:37.105Z"
   },
   {
    "duration": 274,
    "start_time": "2024-03-28T20:23:46.680Z"
   },
   {
    "duration": 684,
    "start_time": "2024-03-28T20:25:28.191Z"
   },
   {
    "duration": 274,
    "start_time": "2024-03-28T20:25:39.630Z"
   },
   {
    "duration": 160,
    "start_time": "2024-03-28T20:26:17.259Z"
   },
   {
    "duration": 156,
    "start_time": "2024-03-28T20:27:26.165Z"
   },
   {
    "duration": 284,
    "start_time": "2024-03-28T20:28:20.752Z"
   },
   {
    "duration": 148,
    "start_time": "2024-03-28T20:28:48.640Z"
   },
   {
    "duration": 322,
    "start_time": "2024-03-28T20:29:01.193Z"
   },
   {
    "duration": 9,
    "start_time": "2024-03-28T20:30:39.635Z"
   },
   {
    "duration": 2832,
    "start_time": "2024-03-28T20:41:57.128Z"
   },
   {
    "duration": 24,
    "start_time": "2024-03-28T20:55:09.932Z"
   },
   {
    "duration": 125,
    "start_time": "2024-03-28T20:59:24.135Z"
   },
   {
    "duration": 17647,
    "start_time": "2024-03-28T21:00:48.267Z"
   },
   {
    "duration": 25032,
    "start_time": "2024-03-28T21:01:24.943Z"
   },
   {
    "duration": 88,
    "start_time": "2024-03-28T21:09:28.046Z"
   },
   {
    "duration": 756,
    "start_time": "2024-03-28T21:09:39.679Z"
   },
   {
    "duration": 1858,
    "start_time": "2024-03-28T21:10:33.616Z"
   },
   {
    "duration": 789,
    "start_time": "2024-03-28T21:12:55.801Z"
   },
   {
    "duration": 1662,
    "start_time": "2024-03-28T21:16:13.135Z"
   },
   {
    "duration": 82,
    "start_time": "2024-03-28T21:16:21.592Z"
   },
   {
    "duration": 22,
    "start_time": "2024-03-28T21:16:29.726Z"
   },
   {
    "duration": 15,
    "start_time": "2024-03-28T21:16:30.551Z"
   },
   {
    "duration": 13,
    "start_time": "2024-03-28T21:16:31.317Z"
   },
   {
    "duration": 13,
    "start_time": "2024-03-28T21:16:32.021Z"
   },
   {
    "duration": 4,
    "start_time": "2024-03-28T21:16:35.235Z"
   },
   {
    "duration": 44,
    "start_time": "2024-03-28T21:16:36.704Z"
   },
   {
    "duration": 4,
    "start_time": "2024-03-28T21:16:37.619Z"
   },
   {
    "duration": 10,
    "start_time": "2024-03-28T21:16:38.434Z"
   },
   {
    "duration": 26,
    "start_time": "2024-03-28T21:16:38.994Z"
   },
   {
    "duration": 4,
    "start_time": "2024-03-28T21:16:39.550Z"
   },
   {
    "duration": 13,
    "start_time": "2024-03-28T21:16:40.188Z"
   },
   {
    "duration": 27,
    "start_time": "2024-03-28T21:16:40.724Z"
   },
   {
    "duration": 27,
    "start_time": "2024-03-28T21:16:41.326Z"
   },
   {
    "duration": 2,
    "start_time": "2024-03-28T21:16:41.866Z"
   },
   {
    "duration": 12,
    "start_time": "2024-03-28T21:16:42.507Z"
   },
   {
    "duration": 6,
    "start_time": "2024-03-28T21:16:43.089Z"
   },
   {
    "duration": 1047,
    "start_time": "2024-03-28T21:16:45.680Z"
   },
   {
    "duration": 7,
    "start_time": "2024-03-28T21:16:47.652Z"
   },
   {
    "duration": 28,
    "start_time": "2024-03-28T21:16:50.306Z"
   },
   {
    "duration": 7,
    "start_time": "2024-03-28T21:16:52.642Z"
   },
   {
    "duration": 111,
    "start_time": "2024-03-28T21:16:53.676Z"
   },
   {
    "duration": 12,
    "start_time": "2024-03-28T21:16:57.397Z"
   },
   {
    "duration": 1815,
    "start_time": "2024-03-28T21:17:04.447Z"
   },
   {
    "duration": 688,
    "start_time": "2024-03-28T21:17:11.827Z"
   },
   {
    "duration": 10,
    "start_time": "2024-03-28T21:17:18.234Z"
   },
   {
    "duration": 292,
    "start_time": "2024-03-28T21:17:21.321Z"
   },
   {
    "duration": 11,
    "start_time": "2024-03-28T21:17:25.440Z"
   },
   {
    "duration": 88947,
    "start_time": "2024-03-28T21:17:57.813Z"
   },
   {
    "duration": 0,
    "start_time": "2024-03-28T21:19:26.859Z"
   },
   {
    "duration": 123,
    "start_time": "2024-03-28T21:20:14.838Z"
   },
   {
    "duration": 581,
    "start_time": "2024-03-28T21:21:07.456Z"
   },
   {
    "duration": 89,
    "start_time": "2024-03-28T21:21:39.446Z"
   },
   {
    "duration": 15,
    "start_time": "2024-03-28T21:23:06.683Z"
   },
   {
    "duration": 1806,
    "start_time": "2024-04-03T05:47:47.006Z"
   },
   {
    "duration": 0,
    "start_time": "2024-04-03T05:47:48.816Z"
   },
   {
    "duration": 0,
    "start_time": "2024-04-03T05:47:48.817Z"
   },
   {
    "duration": 0,
    "start_time": "2024-04-03T05:47:48.817Z"
   },
   {
    "duration": 0,
    "start_time": "2024-04-03T05:47:48.819Z"
   },
   {
    "duration": 0,
    "start_time": "2024-04-03T05:47:48.820Z"
   },
   {
    "duration": 0,
    "start_time": "2024-04-03T05:47:48.821Z"
   },
   {
    "duration": 0,
    "start_time": "2024-04-03T05:47:48.822Z"
   },
   {
    "duration": 0,
    "start_time": "2024-04-03T05:47:48.823Z"
   },
   {
    "duration": 0,
    "start_time": "2024-04-03T05:47:48.824Z"
   },
   {
    "duration": 0,
    "start_time": "2024-04-03T05:47:48.826Z"
   },
   {
    "duration": 0,
    "start_time": "2024-04-03T05:47:48.827Z"
   },
   {
    "duration": 0,
    "start_time": "2024-04-03T05:47:48.828Z"
   },
   {
    "duration": 0,
    "start_time": "2024-04-03T05:47:48.829Z"
   },
   {
    "duration": 0,
    "start_time": "2024-04-03T05:47:48.830Z"
   },
   {
    "duration": 0,
    "start_time": "2024-04-03T05:47:48.831Z"
   },
   {
    "duration": 0,
    "start_time": "2024-04-03T05:47:48.832Z"
   },
   {
    "duration": 0,
    "start_time": "2024-04-03T05:47:48.833Z"
   },
   {
    "duration": 0,
    "start_time": "2024-04-03T05:47:48.834Z"
   },
   {
    "duration": 0,
    "start_time": "2024-04-03T05:47:48.835Z"
   },
   {
    "duration": 0,
    "start_time": "2024-04-03T05:47:48.836Z"
   },
   {
    "duration": 0,
    "start_time": "2024-04-03T05:47:48.837Z"
   },
   {
    "duration": 0,
    "start_time": "2024-04-03T05:47:48.838Z"
   },
   {
    "duration": 0,
    "start_time": "2024-04-03T05:47:48.839Z"
   },
   {
    "duration": 0,
    "start_time": "2024-04-03T05:47:48.840Z"
   },
   {
    "duration": 0,
    "start_time": "2024-04-03T05:47:48.841Z"
   },
   {
    "duration": 0,
    "start_time": "2024-04-03T05:47:48.883Z"
   },
   {
    "duration": 0,
    "start_time": "2024-04-03T05:47:48.884Z"
   },
   {
    "duration": 0,
    "start_time": "2024-04-03T05:47:48.886Z"
   },
   {
    "duration": 0,
    "start_time": "2024-04-03T05:47:48.888Z"
   },
   {
    "duration": 0,
    "start_time": "2024-04-03T05:47:48.889Z"
   },
   {
    "duration": 0,
    "start_time": "2024-04-03T05:47:48.891Z"
   },
   {
    "duration": 0,
    "start_time": "2024-04-03T05:47:48.892Z"
   },
   {
    "duration": 0,
    "start_time": "2024-04-03T05:47:48.894Z"
   },
   {
    "duration": 0,
    "start_time": "2024-04-03T05:47:48.895Z"
   },
   {
    "duration": 0,
    "start_time": "2024-04-03T05:47:48.897Z"
   },
   {
    "duration": 0,
    "start_time": "2024-04-03T05:47:48.898Z"
   },
   {
    "duration": 0,
    "start_time": "2024-04-03T05:47:48.900Z"
   },
   {
    "duration": 0,
    "start_time": "2024-04-03T05:47:48.901Z"
   },
   {
    "duration": 0,
    "start_time": "2024-04-03T05:47:48.903Z"
   },
   {
    "duration": 0,
    "start_time": "2024-04-03T05:47:48.904Z"
   },
   {
    "duration": 0,
    "start_time": "2024-04-03T05:47:48.906Z"
   },
   {
    "duration": 0,
    "start_time": "2024-04-03T05:47:48.907Z"
   },
   {
    "duration": 0,
    "start_time": "2024-04-03T05:47:48.909Z"
   },
   {
    "duration": 0,
    "start_time": "2024-04-03T05:47:48.910Z"
   },
   {
    "duration": 0,
    "start_time": "2024-04-03T05:47:48.912Z"
   },
   {
    "duration": 0,
    "start_time": "2024-04-03T05:47:48.913Z"
   },
   {
    "duration": 0,
    "start_time": "2024-04-03T05:47:48.915Z"
   },
   {
    "duration": 0,
    "start_time": "2024-04-03T05:47:48.917Z"
   },
   {
    "duration": 0,
    "start_time": "2024-04-03T05:47:48.918Z"
   },
   {
    "duration": 0,
    "start_time": "2024-04-03T05:47:48.981Z"
   },
   {
    "duration": 0,
    "start_time": "2024-04-03T05:47:48.983Z"
   },
   {
    "duration": 0,
    "start_time": "2024-04-03T05:47:48.984Z"
   },
   {
    "duration": 0,
    "start_time": "2024-04-03T05:47:48.985Z"
   },
   {
    "duration": 0,
    "start_time": "2024-04-03T05:47:48.986Z"
   },
   {
    "duration": 0,
    "start_time": "2024-04-03T05:47:48.988Z"
   },
   {
    "duration": 0,
    "start_time": "2024-04-03T05:47:48.989Z"
   },
   {
    "duration": 0,
    "start_time": "2024-04-03T05:47:48.990Z"
   },
   {
    "duration": 0,
    "start_time": "2024-04-03T05:47:48.990Z"
   },
   {
    "duration": 0,
    "start_time": "2024-04-03T05:47:48.992Z"
   },
   {
    "duration": 0,
    "start_time": "2024-04-03T05:47:48.992Z"
   },
   {
    "duration": 0,
    "start_time": "2024-04-03T05:47:48.993Z"
   },
   {
    "duration": 0,
    "start_time": "2024-04-03T05:47:48.994Z"
   },
   {
    "duration": 0,
    "start_time": "2024-04-03T05:47:48.996Z"
   },
   {
    "duration": 0,
    "start_time": "2024-04-03T05:47:48.997Z"
   },
   {
    "duration": 0,
    "start_time": "2024-04-03T05:47:48.998Z"
   },
   {
    "duration": 0,
    "start_time": "2024-04-03T05:47:48.999Z"
   },
   {
    "duration": 0,
    "start_time": "2024-04-03T05:47:49.000Z"
   },
   {
    "duration": 0,
    "start_time": "2024-04-03T05:47:49.001Z"
   },
   {
    "duration": 0,
    "start_time": "2024-04-03T05:47:49.003Z"
   },
   {
    "duration": 0,
    "start_time": "2024-04-03T05:47:49.004Z"
   },
   {
    "duration": 0,
    "start_time": "2024-04-03T05:47:49.005Z"
   },
   {
    "duration": 0,
    "start_time": "2024-04-03T05:47:49.006Z"
   },
   {
    "duration": 0,
    "start_time": "2024-04-03T05:47:49.007Z"
   },
   {
    "duration": 0,
    "start_time": "2024-04-03T05:47:49.008Z"
   },
   {
    "duration": 0,
    "start_time": "2024-04-03T05:47:49.009Z"
   },
   {
    "duration": 0,
    "start_time": "2024-04-03T05:47:49.010Z"
   },
   {
    "duration": 0,
    "start_time": "2024-04-03T05:47:49.011Z"
   },
   {
    "duration": 0,
    "start_time": "2024-04-03T05:47:49.012Z"
   },
   {
    "duration": 0,
    "start_time": "2024-04-03T05:47:49.013Z"
   },
   {
    "duration": 0,
    "start_time": "2024-04-03T05:47:49.014Z"
   },
   {
    "duration": 0,
    "start_time": "2024-04-03T05:47:49.016Z"
   },
   {
    "duration": 50949,
    "start_time": "2024-04-03T05:49:10.971Z"
   },
   {
    "duration": 27256,
    "start_time": "2024-04-03T05:51:19.894Z"
   },
   {
    "duration": 2703,
    "start_time": "2024-04-03T05:53:24.218Z"
   },
   {
    "duration": 25,
    "start_time": "2024-04-03T05:53:44.483Z"
   },
   {
    "duration": 2787,
    "start_time": "2024-04-03T05:55:52.362Z"
   },
   {
    "duration": 4,
    "start_time": "2024-04-03T05:56:41.319Z"
   },
   {
    "duration": 2852,
    "start_time": "2024-04-03T05:57:04.919Z"
   },
   {
    "duration": 3,
    "start_time": "2024-04-03T05:57:14.610Z"
   },
   {
    "duration": 17,
    "start_time": "2024-04-03T05:57:32.100Z"
   },
   {
    "duration": 2753,
    "start_time": "2024-04-03T06:07:29.453Z"
   },
   {
    "duration": 4,
    "start_time": "2024-04-03T06:07:44.430Z"
   },
   {
    "duration": 2805,
    "start_time": "2024-04-03T06:07:59.835Z"
   },
   {
    "duration": 2824,
    "start_time": "2024-04-03T06:12:13.062Z"
   },
   {
    "duration": 4,
    "start_time": "2024-04-03T06:12:17.193Z"
   },
   {
    "duration": 50,
    "start_time": "2024-04-03T06:12:50.565Z"
   },
   {
    "duration": 2694,
    "start_time": "2024-04-03T06:12:56.035Z"
   },
   {
    "duration": 738,
    "start_time": "2024-04-03T06:13:08.079Z"
   },
   {
    "duration": 22790,
    "start_time": "2024-04-03T06:13:19.118Z"
   },
   {
    "duration": 22059,
    "start_time": "2024-04-03T06:37:38.560Z"
   },
   {
    "duration": 2931,
    "start_time": "2024-04-03T06:38:00.621Z"
   },
   {
    "duration": 3,
    "start_time": "2024-04-03T06:38:03.554Z"
   },
   {
    "duration": 13,
    "start_time": "2024-04-03T06:38:03.559Z"
   },
   {
    "duration": 197,
    "start_time": "2024-04-03T06:38:03.573Z"
   },
   {
    "duration": 186,
    "start_time": "2024-04-03T06:38:03.771Z"
   },
   {
    "duration": 0,
    "start_time": "2024-04-03T06:38:03.963Z"
   },
   {
    "duration": 0,
    "start_time": "2024-04-03T06:38:03.966Z"
   },
   {
    "duration": 0,
    "start_time": "2024-04-03T06:38:03.967Z"
   },
   {
    "duration": 0,
    "start_time": "2024-04-03T06:38:03.969Z"
   },
   {
    "duration": 0,
    "start_time": "2024-04-03T06:38:03.970Z"
   },
   {
    "duration": 0,
    "start_time": "2024-04-03T06:38:03.982Z"
   },
   {
    "duration": 0,
    "start_time": "2024-04-03T06:38:03.983Z"
   },
   {
    "duration": 0,
    "start_time": "2024-04-03T06:38:03.984Z"
   },
   {
    "duration": 0,
    "start_time": "2024-04-03T06:38:03.985Z"
   },
   {
    "duration": 0,
    "start_time": "2024-04-03T06:38:03.986Z"
   },
   {
    "duration": 0,
    "start_time": "2024-04-03T06:38:03.987Z"
   },
   {
    "duration": 0,
    "start_time": "2024-04-03T06:38:03.988Z"
   },
   {
    "duration": 0,
    "start_time": "2024-04-03T06:38:03.989Z"
   },
   {
    "duration": 0,
    "start_time": "2024-04-03T06:38:03.990Z"
   },
   {
    "duration": 0,
    "start_time": "2024-04-03T06:38:03.991Z"
   },
   {
    "duration": 0,
    "start_time": "2024-04-03T06:38:03.993Z"
   },
   {
    "duration": 0,
    "start_time": "2024-04-03T06:38:03.994Z"
   },
   {
    "duration": 0,
    "start_time": "2024-04-03T06:38:03.995Z"
   },
   {
    "duration": 0,
    "start_time": "2024-04-03T06:38:03.996Z"
   },
   {
    "duration": 0,
    "start_time": "2024-04-03T06:38:03.997Z"
   },
   {
    "duration": 0,
    "start_time": "2024-04-03T06:38:03.998Z"
   },
   {
    "duration": 0,
    "start_time": "2024-04-03T06:38:04.000Z"
   },
   {
    "duration": 0,
    "start_time": "2024-04-03T06:38:04.000Z"
   },
   {
    "duration": 0,
    "start_time": "2024-04-03T06:38:04.001Z"
   },
   {
    "duration": 0,
    "start_time": "2024-04-03T06:38:04.003Z"
   },
   {
    "duration": 0,
    "start_time": "2024-04-03T06:38:04.004Z"
   },
   {
    "duration": 0,
    "start_time": "2024-04-03T06:38:04.005Z"
   },
   {
    "duration": 0,
    "start_time": "2024-04-03T06:38:04.006Z"
   },
   {
    "duration": 0,
    "start_time": "2024-04-03T06:38:04.007Z"
   },
   {
    "duration": 0,
    "start_time": "2024-04-03T06:38:04.008Z"
   },
   {
    "duration": 0,
    "start_time": "2024-04-03T06:38:04.009Z"
   },
   {
    "duration": 0,
    "start_time": "2024-04-03T06:38:04.010Z"
   },
   {
    "duration": 0,
    "start_time": "2024-04-03T06:38:04.011Z"
   },
   {
    "duration": 0,
    "start_time": "2024-04-03T06:38:04.012Z"
   },
   {
    "duration": 0,
    "start_time": "2024-04-03T06:38:04.013Z"
   },
   {
    "duration": 0,
    "start_time": "2024-04-03T06:38:04.014Z"
   },
   {
    "duration": 0,
    "start_time": "2024-04-03T06:38:04.015Z"
   },
   {
    "duration": 0,
    "start_time": "2024-04-03T06:38:04.017Z"
   },
   {
    "duration": 0,
    "start_time": "2024-04-03T06:38:04.018Z"
   },
   {
    "duration": 0,
    "start_time": "2024-04-03T06:38:04.082Z"
   },
   {
    "duration": 0,
    "start_time": "2024-04-03T06:38:04.083Z"
   },
   {
    "duration": 0,
    "start_time": "2024-04-03T06:38:04.084Z"
   },
   {
    "duration": 0,
    "start_time": "2024-04-03T06:38:04.085Z"
   },
   {
    "duration": 0,
    "start_time": "2024-04-03T06:38:04.086Z"
   },
   {
    "duration": 0,
    "start_time": "2024-04-03T06:38:04.087Z"
   },
   {
    "duration": 0,
    "start_time": "2024-04-03T06:38:04.089Z"
   },
   {
    "duration": 0,
    "start_time": "2024-04-03T06:38:04.090Z"
   },
   {
    "duration": 0,
    "start_time": "2024-04-03T06:38:04.091Z"
   },
   {
    "duration": 0,
    "start_time": "2024-04-03T06:38:04.092Z"
   },
   {
    "duration": 0,
    "start_time": "2024-04-03T06:38:04.093Z"
   },
   {
    "duration": 0,
    "start_time": "2024-04-03T06:38:04.095Z"
   },
   {
    "duration": 0,
    "start_time": "2024-04-03T06:38:04.096Z"
   },
   {
    "duration": 0,
    "start_time": "2024-04-03T06:38:04.097Z"
   },
   {
    "duration": 0,
    "start_time": "2024-04-03T06:38:04.098Z"
   },
   {
    "duration": 0,
    "start_time": "2024-04-03T06:38:04.099Z"
   },
   {
    "duration": 0,
    "start_time": "2024-04-03T06:38:04.100Z"
   },
   {
    "duration": 1,
    "start_time": "2024-04-03T06:38:04.101Z"
   },
   {
    "duration": 0,
    "start_time": "2024-04-03T06:38:04.103Z"
   },
   {
    "duration": 0,
    "start_time": "2024-04-03T06:38:04.104Z"
   },
   {
    "duration": 0,
    "start_time": "2024-04-03T06:38:04.105Z"
   },
   {
    "duration": 0,
    "start_time": "2024-04-03T06:38:04.106Z"
   },
   {
    "duration": 0,
    "start_time": "2024-04-03T06:38:04.108Z"
   },
   {
    "duration": 0,
    "start_time": "2024-04-03T06:38:04.109Z"
   },
   {
    "duration": 0,
    "start_time": "2024-04-03T06:38:04.111Z"
   },
   {
    "duration": 0,
    "start_time": "2024-04-03T06:38:04.112Z"
   },
   {
    "duration": 0,
    "start_time": "2024-04-03T06:38:04.113Z"
   },
   {
    "duration": 0,
    "start_time": "2024-04-03T06:38:04.115Z"
   },
   {
    "duration": 0,
    "start_time": "2024-04-03T06:38:04.116Z"
   },
   {
    "duration": 0,
    "start_time": "2024-04-03T06:38:04.118Z"
   },
   {
    "duration": 0,
    "start_time": "2024-04-03T06:38:04.119Z"
   },
   {
    "duration": 0,
    "start_time": "2024-04-03T06:38:04.184Z"
   },
   {
    "duration": 0,
    "start_time": "2024-04-03T06:38:04.185Z"
   },
   {
    "duration": 0,
    "start_time": "2024-04-03T06:38:04.187Z"
   },
   {
    "duration": 0,
    "start_time": "2024-04-03T06:38:04.188Z"
   },
   {
    "duration": 0,
    "start_time": "2024-04-03T06:38:04.189Z"
   },
   {
    "duration": 0,
    "start_time": "2024-04-03T06:38:04.190Z"
   },
   {
    "duration": 0,
    "start_time": "2024-04-03T06:38:04.192Z"
   },
   {
    "duration": 0,
    "start_time": "2024-04-03T06:38:04.193Z"
   },
   {
    "duration": 22838,
    "start_time": "2024-04-03T06:38:49.208Z"
   },
   {
    "duration": 24358,
    "start_time": "2024-04-03T06:39:25.850Z"
   },
   {
    "duration": 3,
    "start_time": "2024-04-03T06:39:50.209Z"
   },
   {
    "duration": 199,
    "start_time": "2024-04-03T06:39:50.213Z"
   },
   {
    "duration": 179,
    "start_time": "2024-04-03T06:39:50.415Z"
   },
   {
    "duration": 0,
    "start_time": "2024-04-03T06:39:50.600Z"
   },
   {
    "duration": 0,
    "start_time": "2024-04-03T06:39:50.601Z"
   },
   {
    "duration": 0,
    "start_time": "2024-04-03T06:39:50.603Z"
   },
   {
    "duration": 0,
    "start_time": "2024-04-03T06:39:50.604Z"
   },
   {
    "duration": 0,
    "start_time": "2024-04-03T06:39:50.605Z"
   },
   {
    "duration": 0,
    "start_time": "2024-04-03T06:39:50.607Z"
   },
   {
    "duration": 0,
    "start_time": "2024-04-03T06:39:50.609Z"
   },
   {
    "duration": 0,
    "start_time": "2024-04-03T06:39:50.610Z"
   },
   {
    "duration": 0,
    "start_time": "2024-04-03T06:39:50.611Z"
   },
   {
    "duration": 0,
    "start_time": "2024-04-03T06:39:50.612Z"
   },
   {
    "duration": 0,
    "start_time": "2024-04-03T06:39:50.614Z"
   },
   {
    "duration": 0,
    "start_time": "2024-04-03T06:39:50.615Z"
   },
   {
    "duration": 0,
    "start_time": "2024-04-03T06:39:50.616Z"
   },
   {
    "duration": 0,
    "start_time": "2024-04-03T06:39:50.617Z"
   },
   {
    "duration": 0,
    "start_time": "2024-04-03T06:39:50.619Z"
   },
   {
    "duration": 0,
    "start_time": "2024-04-03T06:39:50.620Z"
   },
   {
    "duration": 0,
    "start_time": "2024-04-03T06:39:50.621Z"
   },
   {
    "duration": 0,
    "start_time": "2024-04-03T06:39:50.622Z"
   },
   {
    "duration": 0,
    "start_time": "2024-04-03T06:39:50.623Z"
   },
   {
    "duration": 0,
    "start_time": "2024-04-03T06:39:50.625Z"
   },
   {
    "duration": 0,
    "start_time": "2024-04-03T06:39:50.626Z"
   },
   {
    "duration": 0,
    "start_time": "2024-04-03T06:39:50.627Z"
   },
   {
    "duration": 0,
    "start_time": "2024-04-03T06:39:50.628Z"
   },
   {
    "duration": 0,
    "start_time": "2024-04-03T06:39:50.629Z"
   },
   {
    "duration": 0,
    "start_time": "2024-04-03T06:39:50.682Z"
   },
   {
    "duration": 0,
    "start_time": "2024-04-03T06:39:50.683Z"
   },
   {
    "duration": 0,
    "start_time": "2024-04-03T06:39:50.684Z"
   },
   {
    "duration": 0,
    "start_time": "2024-04-03T06:39:50.686Z"
   },
   {
    "duration": 0,
    "start_time": "2024-04-03T06:39:50.687Z"
   },
   {
    "duration": 0,
    "start_time": "2024-04-03T06:39:50.688Z"
   },
   {
    "duration": 0,
    "start_time": "2024-04-03T06:39:50.689Z"
   },
   {
    "duration": 0,
    "start_time": "2024-04-03T06:39:50.690Z"
   },
   {
    "duration": 0,
    "start_time": "2024-04-03T06:39:50.691Z"
   },
   {
    "duration": 0,
    "start_time": "2024-04-03T06:39:50.692Z"
   },
   {
    "duration": 0,
    "start_time": "2024-04-03T06:39:50.693Z"
   },
   {
    "duration": 0,
    "start_time": "2024-04-03T06:39:50.694Z"
   },
   {
    "duration": 1,
    "start_time": "2024-04-03T06:39:50.695Z"
   },
   {
    "duration": 0,
    "start_time": "2024-04-03T06:39:50.696Z"
   },
   {
    "duration": 0,
    "start_time": "2024-04-03T06:39:50.698Z"
   },
   {
    "duration": 0,
    "start_time": "2024-04-03T06:39:50.699Z"
   },
   {
    "duration": 0,
    "start_time": "2024-04-03T06:39:50.699Z"
   },
   {
    "duration": 0,
    "start_time": "2024-04-03T06:39:50.700Z"
   },
   {
    "duration": 0,
    "start_time": "2024-04-03T06:39:50.702Z"
   },
   {
    "duration": 0,
    "start_time": "2024-04-03T06:39:50.703Z"
   },
   {
    "duration": 0,
    "start_time": "2024-04-03T06:39:50.704Z"
   },
   {
    "duration": 0,
    "start_time": "2024-04-03T06:39:50.705Z"
   },
   {
    "duration": 0,
    "start_time": "2024-04-03T06:39:50.706Z"
   },
   {
    "duration": 0,
    "start_time": "2024-04-03T06:39:50.707Z"
   },
   {
    "duration": 0,
    "start_time": "2024-04-03T06:39:50.708Z"
   },
   {
    "duration": 0,
    "start_time": "2024-04-03T06:39:50.710Z"
   },
   {
    "duration": 0,
    "start_time": "2024-04-03T06:39:50.711Z"
   },
   {
    "duration": 0,
    "start_time": "2024-04-03T06:39:50.712Z"
   },
   {
    "duration": 0,
    "start_time": "2024-04-03T06:39:50.713Z"
   },
   {
    "duration": 0,
    "start_time": "2024-04-03T06:39:50.715Z"
   },
   {
    "duration": 0,
    "start_time": "2024-04-03T06:39:50.716Z"
   },
   {
    "duration": 0,
    "start_time": "2024-04-03T06:39:50.717Z"
   },
   {
    "duration": 0,
    "start_time": "2024-04-03T06:39:50.718Z"
   },
   {
    "duration": 0,
    "start_time": "2024-04-03T06:39:50.782Z"
   },
   {
    "duration": 0,
    "start_time": "2024-04-03T06:39:50.783Z"
   },
   {
    "duration": 0,
    "start_time": "2024-04-03T06:39:50.785Z"
   },
   {
    "duration": 0,
    "start_time": "2024-04-03T06:39:50.786Z"
   },
   {
    "duration": 0,
    "start_time": "2024-04-03T06:39:50.787Z"
   },
   {
    "duration": 0,
    "start_time": "2024-04-03T06:39:50.788Z"
   },
   {
    "duration": 0,
    "start_time": "2024-04-03T06:39:50.789Z"
   },
   {
    "duration": 0,
    "start_time": "2024-04-03T06:39:50.790Z"
   },
   {
    "duration": 0,
    "start_time": "2024-04-03T06:39:50.791Z"
   },
   {
    "duration": 0,
    "start_time": "2024-04-03T06:39:50.793Z"
   },
   {
    "duration": 1,
    "start_time": "2024-04-03T06:39:50.793Z"
   },
   {
    "duration": 0,
    "start_time": "2024-04-03T06:39:50.795Z"
   },
   {
    "duration": 0,
    "start_time": "2024-04-03T06:39:50.795Z"
   },
   {
    "duration": 0,
    "start_time": "2024-04-03T06:39:50.796Z"
   },
   {
    "duration": 0,
    "start_time": "2024-04-03T06:39:50.797Z"
   },
   {
    "duration": 0,
    "start_time": "2024-04-03T06:39:50.798Z"
   },
   {
    "duration": 0,
    "start_time": "2024-04-03T06:39:50.800Z"
   },
   {
    "duration": 0,
    "start_time": "2024-04-03T06:39:50.800Z"
   },
   {
    "duration": 0,
    "start_time": "2024-04-03T06:39:50.801Z"
   },
   {
    "duration": 0,
    "start_time": "2024-04-03T06:39:50.802Z"
   },
   {
    "duration": 0,
    "start_time": "2024-04-03T06:39:50.804Z"
   },
   {
    "duration": 15,
    "start_time": "2024-04-03T06:40:31.511Z"
   },
   {
    "duration": 309,
    "start_time": "2024-04-03T06:40:56.862Z"
   },
   {
    "duration": 25,
    "start_time": "2024-04-03T06:41:01.197Z"
   },
   {
    "duration": 22,
    "start_time": "2024-04-03T06:41:04.140Z"
   },
   {
    "duration": 14,
    "start_time": "2024-04-03T06:41:04.944Z"
   },
   {
    "duration": 5,
    "start_time": "2024-04-03T06:41:06.699Z"
   },
   {
    "duration": 46,
    "start_time": "2024-04-03T06:41:07.390Z"
   },
   {
    "duration": 41,
    "start_time": "2024-04-03T06:41:08.494Z"
   },
   {
    "duration": 28,
    "start_time": "2024-04-03T06:41:08.992Z"
   },
   {
    "duration": 7,
    "start_time": "2024-04-03T06:41:09.470Z"
   },
   {
    "duration": 5,
    "start_time": "2024-04-03T06:41:10.003Z"
   },
   {
    "duration": 8,
    "start_time": "2024-04-03T06:41:10.505Z"
   },
   {
    "duration": 5,
    "start_time": "2024-04-03T06:41:11.051Z"
   },
   {
    "duration": 1075,
    "start_time": "2024-04-03T06:41:11.544Z"
   },
   {
    "duration": 743,
    "start_time": "2024-04-03T06:41:14.358Z"
   },
   {
    "duration": 13,
    "start_time": "2024-04-03T06:41:17.055Z"
   },
   {
    "duration": 5402,
    "start_time": "2024-04-03T06:41:17.578Z"
   },
   {
    "duration": 830,
    "start_time": "2024-04-03T06:41:23.940Z"
   },
   {
    "duration": 4,
    "start_time": "2024-04-03T06:41:31.607Z"
   },
   {
    "duration": 31,
    "start_time": "2024-04-03T06:41:32.230Z"
   },
   {
    "duration": 19,
    "start_time": "2024-04-03T06:41:32.807Z"
   },
   {
    "duration": 1904,
    "start_time": "2024-04-03T06:41:34.790Z"
   },
   {
    "duration": 604,
    "start_time": "2024-04-03T06:41:36.696Z"
   },
   {
    "duration": 784,
    "start_time": "2024-04-03T06:41:37.301Z"
   },
   {
    "duration": 5,
    "start_time": "2024-04-03T06:41:38.513Z"
   },
   {
    "duration": 12,
    "start_time": "2024-04-03T06:41:38.822Z"
   },
   {
    "duration": 4,
    "start_time": "2024-04-03T06:41:39.478Z"
   },
   {
    "duration": 45,
    "start_time": "2024-04-03T06:41:40.047Z"
   },
   {
    "duration": 3,
    "start_time": "2024-04-03T06:41:40.676Z"
   },
   {
    "duration": 3,
    "start_time": "2024-04-03T06:41:42.021Z"
   },
   {
    "duration": 503,
    "start_time": "2024-04-03T06:41:42.512Z"
   },
   {
    "duration": 78,
    "start_time": "2024-04-03T06:41:49.018Z"
   },
   {
    "duration": 38,
    "start_time": "2024-04-03T06:41:49.576Z"
   },
   {
    "duration": 11,
    "start_time": "2024-04-03T06:41:50.169Z"
   },
   {
    "duration": 188,
    "start_time": "2024-04-03T06:41:50.738Z"
   },
   {
    "duration": 2,
    "start_time": "2024-04-03T06:41:54.147Z"
   },
   {
    "duration": 1233,
    "start_time": "2024-04-03T06:41:54.649Z"
   },
   {
    "duration": 133,
    "start_time": "2024-04-03T06:41:55.884Z"
   },
   {
    "duration": 105,
    "start_time": "2024-04-03T06:41:56.844Z"
   },
   {
    "duration": 11,
    "start_time": "2024-04-03T06:41:57.555Z"
   },
   {
    "duration": 168,
    "start_time": "2024-04-03T06:42:35.237Z"
   },
   {
    "duration": 33,
    "start_time": "2024-04-03T06:42:35.938Z"
   },
   {
    "duration": 239,
    "start_time": "2024-04-03T06:42:43.680Z"
   },
   {
    "duration": 21,
    "start_time": "2024-04-03T06:42:45.659Z"
   },
   {
    "duration": 16,
    "start_time": "2024-04-03T06:42:46.768Z"
   },
   {
    "duration": 39,
    "start_time": "2024-04-03T06:42:48.706Z"
   },
   {
    "duration": 23,
    "start_time": "2024-04-03T06:42:49.254Z"
   },
   {
    "duration": 10,
    "start_time": "2024-04-03T06:42:49.839Z"
   },
   {
    "duration": 6,
    "start_time": "2024-04-03T06:42:50.406Z"
   },
   {
    "duration": 672,
    "start_time": "2024-04-03T06:42:50.934Z"
   },
   {
    "duration": 8,
    "start_time": "2024-04-03T06:42:51.608Z"
   },
   {
    "duration": 7,
    "start_time": "2024-04-03T06:42:51.997Z"
   },
   {
    "duration": 3074,
    "start_time": "2024-04-03T06:42:54.831Z"
   },
   {
    "duration": 1237,
    "start_time": "2024-04-03T06:43:00.831Z"
   },
   {
    "duration": 1773,
    "start_time": "2024-04-03T06:43:02.547Z"
   },
   {
    "duration": 4,
    "start_time": "2024-04-03T06:43:05.539Z"
   },
   {
    "duration": 29,
    "start_time": "2024-04-03T06:43:06.359Z"
   },
   {
    "duration": 5,
    "start_time": "2024-04-03T06:43:06.775Z"
   },
   {
    "duration": 11,
    "start_time": "2024-04-03T06:43:07.434Z"
   },
   {
    "duration": 13,
    "start_time": "2024-04-03T06:43:07.967Z"
   },
   {
    "duration": 373,
    "start_time": "2024-04-03T06:43:08.548Z"
   },
   {
    "duration": 3,
    "start_time": "2024-04-03T06:43:11.997Z"
   },
   {
    "duration": 20,
    "start_time": "2024-04-03T06:43:12.578Z"
   },
   {
    "duration": 4,
    "start_time": "2024-04-03T06:43:13.100Z"
   },
   {
    "duration": 5,
    "start_time": "2024-04-03T06:43:13.734Z"
   },
   {
    "duration": 46,
    "start_time": "2024-04-03T06:43:14.898Z"
   },
   {
    "duration": 3,
    "start_time": "2024-04-03T06:43:15.418Z"
   },
   {
    "duration": 5,
    "start_time": "2024-04-03T06:43:16.072Z"
   },
   {
    "duration": 206950,
    "start_time": "2024-04-03T06:43:16.606Z"
   },
   {
    "duration": 712891,
    "start_time": "2024-04-03T06:46:43.559Z"
   },
   {
    "duration": 21,
    "start_time": "2024-04-03T06:58:36.453Z"
   },
   {
    "duration": 22723,
    "start_time": "2024-04-03T07:09:18.539Z"
   },
   {
    "duration": 3,
    "start_time": "2024-04-03T07:09:41.264Z"
   },
   {
    "duration": 191,
    "start_time": "2024-04-03T07:09:41.268Z"
   },
   {
    "duration": 22,
    "start_time": "2024-04-03T07:09:41.461Z"
   },
   {
    "duration": 16,
    "start_time": "2024-04-03T07:09:41.485Z"
   },
   {
    "duration": 13,
    "start_time": "2024-04-03T07:09:41.502Z"
   },
   {
    "duration": 4,
    "start_time": "2024-04-03T07:09:41.516Z"
   },
   {
    "duration": 69,
    "start_time": "2024-04-03T07:09:41.521Z"
   },
   {
    "duration": 33,
    "start_time": "2024-04-03T07:09:41.592Z"
   },
   {
    "duration": 56,
    "start_time": "2024-04-03T07:09:41.628Z"
   },
   {
    "duration": 8,
    "start_time": "2024-04-03T07:09:41.685Z"
   },
   {
    "duration": 5,
    "start_time": "2024-04-03T07:09:41.695Z"
   },
   {
    "duration": 7,
    "start_time": "2024-04-03T07:09:41.702Z"
   },
   {
    "duration": 8,
    "start_time": "2024-04-03T07:09:41.711Z"
   },
   {
    "duration": 1008,
    "start_time": "2024-04-03T07:09:41.720Z"
   },
   {
    "duration": 754,
    "start_time": "2024-04-03T07:09:42.729Z"
   },
   {
    "duration": 12,
    "start_time": "2024-04-03T07:09:43.485Z"
   },
   {
    "duration": 4915,
    "start_time": "2024-04-03T07:09:43.498Z"
   },
   {
    "duration": 1029,
    "start_time": "2024-04-03T07:09:48.415Z"
   },
   {
    "duration": 3,
    "start_time": "2024-04-03T07:09:49.446Z"
   },
   {
    "duration": 37,
    "start_time": "2024-04-03T07:09:49.450Z"
   },
   {
    "duration": 10,
    "start_time": "2024-04-03T07:09:49.488Z"
   },
   {
    "duration": 1643,
    "start_time": "2024-04-03T07:09:49.500Z"
   },
   {
    "duration": 592,
    "start_time": "2024-04-03T07:09:51.144Z"
   },
   {
    "duration": 698,
    "start_time": "2024-04-03T07:09:51.738Z"
   },
   {
    "duration": 7,
    "start_time": "2024-04-03T07:09:52.438Z"
   },
   {
    "duration": 30,
    "start_time": "2024-04-03T07:09:52.447Z"
   },
   {
    "duration": 11,
    "start_time": "2024-04-03T07:09:52.482Z"
   },
   {
    "duration": 76,
    "start_time": "2024-04-03T07:09:52.495Z"
   },
   {
    "duration": 3,
    "start_time": "2024-04-03T07:09:52.573Z"
   },
   {
    "duration": 12,
    "start_time": "2024-04-03T07:09:52.577Z"
   },
   {
    "duration": 479,
    "start_time": "2024-04-03T07:09:52.591Z"
   },
   {
    "duration": 74,
    "start_time": "2024-04-03T07:09:53.072Z"
   },
   {
    "duration": 56,
    "start_time": "2024-04-03T07:09:53.148Z"
   },
   {
    "duration": 11,
    "start_time": "2024-04-03T07:09:53.206Z"
   },
   {
    "duration": 187,
    "start_time": "2024-04-03T07:09:53.218Z"
   },
   {
    "duration": 3,
    "start_time": "2024-04-03T07:09:53.406Z"
   },
   {
    "duration": 1288,
    "start_time": "2024-04-03T07:09:53.410Z"
   },
   {
    "duration": 128,
    "start_time": "2024-04-03T07:09:54.699Z"
   },
   {
    "duration": 102,
    "start_time": "2024-04-03T07:09:54.828Z"
   },
   {
    "duration": 10,
    "start_time": "2024-04-03T07:09:54.932Z"
   },
   {
    "duration": 166,
    "start_time": "2024-04-03T07:09:54.944Z"
   },
   {
    "duration": 19,
    "start_time": "2024-04-03T07:09:55.112Z"
   },
   {
    "duration": 19,
    "start_time": "2024-04-03T07:09:55.132Z"
   },
   {
    "duration": 50,
    "start_time": "2024-04-03T07:09:55.153Z"
   },
   {
    "duration": 24,
    "start_time": "2024-04-03T07:09:55.205Z"
   },
   {
    "duration": 9,
    "start_time": "2024-04-03T07:09:55.230Z"
   },
   {
    "duration": 11,
    "start_time": "2024-04-03T07:09:55.241Z"
   },
   {
    "duration": 758,
    "start_time": "2024-04-03T07:09:55.253Z"
   },
   {
    "duration": 5,
    "start_time": "2024-04-03T07:09:56.013Z"
   },
   {
    "duration": 10,
    "start_time": "2024-04-03T07:09:56.020Z"
   },
   {
    "duration": 3029,
    "start_time": "2024-04-03T07:09:56.032Z"
   },
   {
    "duration": 1282,
    "start_time": "2024-04-03T07:09:59.063Z"
   },
   {
    "duration": 1794,
    "start_time": "2024-04-03T07:10:00.347Z"
   },
   {
    "duration": 4,
    "start_time": "2024-04-03T07:10:02.143Z"
   },
   {
    "duration": 117,
    "start_time": "2024-04-03T07:10:02.148Z"
   },
   {
    "duration": 4,
    "start_time": "2024-04-03T07:10:02.266Z"
   },
   {
    "duration": 32,
    "start_time": "2024-04-03T07:10:02.271Z"
   },
   {
    "duration": 19,
    "start_time": "2024-04-03T07:10:02.305Z"
   },
   {
    "duration": 409,
    "start_time": "2024-04-03T07:10:02.325Z"
   },
   {
    "duration": 5,
    "start_time": "2024-04-03T07:10:02.736Z"
   },
   {
    "duration": 26,
    "start_time": "2024-04-03T07:10:02.742Z"
   },
   {
    "duration": 13,
    "start_time": "2024-04-03T07:10:02.770Z"
   },
   {
    "duration": 15,
    "start_time": "2024-04-03T07:10:02.784Z"
   },
   {
    "duration": 51,
    "start_time": "2024-04-03T07:10:02.800Z"
   },
   {
    "duration": 5,
    "start_time": "2024-04-03T07:10:02.853Z"
   },
   {
    "duration": 18,
    "start_time": "2024-04-03T07:10:02.859Z"
   },
   {
    "duration": 205086,
    "start_time": "2024-04-03T07:10:02.879Z"
   },
   {
    "duration": 711306,
    "start_time": "2024-04-03T07:13:27.968Z"
   },
   {
    "duration": 26,
    "start_time": "2024-04-03T07:25:19.275Z"
   },
   {
    "duration": 7,
    "start_time": "2024-04-03T07:25:19.303Z"
   },
   {
    "duration": 3117,
    "start_time": "2024-04-03T07:25:19.312Z"
   },
   {
    "duration": 13,
    "start_time": "2024-04-03T07:25:22.431Z"
   },
   {
    "duration": 14,
    "start_time": "2024-04-03T07:25:22.446Z"
   },
   {
    "duration": 2521,
    "start_time": "2024-04-03T07:25:22.483Z"
   },
   {
    "duration": 1417,
    "start_time": "2024-04-03T07:25:25.006Z"
   },
   {
    "duration": 6,
    "start_time": "2024-04-03T07:25:26.424Z"
   },
   {
    "duration": 9,
    "start_time": "2024-04-03T07:25:26.432Z"
   },
   {
    "duration": 6,
    "start_time": "2024-04-03T07:25:26.443Z"
   },
   {
    "duration": 208812,
    "start_time": "2024-04-03T07:25:26.451Z"
   },
   {
    "duration": 23,
    "start_time": "2024-04-03T07:28:55.264Z"
   },
   {
    "duration": 52,
    "start_time": "2024-04-03T07:28:55.292Z"
   },
   {
    "duration": 10,
    "start_time": "2024-04-04T07:44:28.688Z"
   },
   {
    "duration": 4,
    "start_time": "2024-04-04T07:44:31.485Z"
   },
   {
    "duration": 234,
    "start_time": "2024-04-04T07:44:36.677Z"
   },
   {
    "duration": 4,
    "start_time": "2024-04-05T21:51:05.644Z"
   },
   {
    "duration": 5,
    "start_time": "2024-04-05T21:51:10.475Z"
   }
  ],
  "colab": {
   "provenance": []
  },
  "kernelspec": {
   "display_name": "Python 3 (ipykernel)",
   "language": "python",
   "name": "python3"
  },
  "language_info": {
   "codemirror_mode": {
    "name": "ipython",
    "version": 3
   },
   "file_extension": ".py",
   "mimetype": "text/x-python",
   "name": "python",
   "nbconvert_exporter": "python",
   "pygments_lexer": "ipython3",
   "version": "3.11.8"
  },
  "toc": {
   "base_numbering": 1,
   "nav_menu": {},
   "number_sections": true,
   "sideBar": true,
   "skip_h1_title": true,
   "title_cell": "Table of Contents",
   "title_sidebar": "Contents",
   "toc_cell": false,
   "toc_position": {
    "height": "calc(100% - 180px)",
    "left": "10px",
    "top": "150px",
    "width": "315px"
   },
   "toc_section_display": true,
   "toc_window_display": true
  }
 },
 "nbformat": 4,
 "nbformat_minor": 4
}
